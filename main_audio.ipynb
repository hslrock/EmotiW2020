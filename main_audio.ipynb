{
 "cells": [
  {
   "cell_type": "code",
   "execution_count": 1,
   "metadata": {},
   "outputs": [
    {
     "name": "stdout",
     "output_type": "stream",
     "text": [
      "3    932\n",
      "2    923\n",
      "1    806\n",
      "Name: Label, dtype: int64\n",
      "1    299\n",
      "2    281\n",
      "3    186\n",
      "Name: Label, dtype: int64\n"
     ]
    }
   ],
   "source": [
    "#Slef-made Function\n",
    "from Dataload import dataload\n",
    "#from module import transformer,video_model\n",
    "\n",
    "from module import video_model_attention\n",
    "from constant import EMOTIPATH,EMOTIFACEPATH,EMOTIAUDIOPATH\n",
    "from train import methods\n",
    "\n",
    "\n",
    "#Torch Library\n",
    "\n",
    "import torch\n",
    "import torch.nn as nn\n",
    "from torchsummary import summary\n",
    "from torch.utils.data import Dataset, DataLoader\n",
    "from torchvision import  utils\n",
    "\n",
    "#Sub tools\n",
    "import pandas as pd\n",
    "\n",
    "import os\n",
    "import matplotlib.pylab as plt\n",
    "\n",
    "#Util Library\n",
    "import time\n",
    "from tqdm.notebook import tqdm\n",
    "from mpl_toolkits.axes_grid1 import ImageGrid  \n",
    "\n",
    "Train_label=os.path.join(EMOTIPATH,\"Train_labels.txt\")\n",
    "Train_video_pt=os.path.join(EMOTIPATH,\"pt\",\"Train\")\n",
    "Train_face_pt=os.path.join(EMOTIFACEPATH,\"pt_stacked\",\"Train\")\n",
    "Audio_Train=os.path.join(EMOTIAUDIOPATH,\"training_audio_compare_filtered.csv\")\n",
    "\n",
    "Val_labels=os.path.join(EMOTIPATH,\"Val_labels.txt\")\n",
    "Val_video_pt=os.path.join(EMOTIPATH,\"pt\",\"Valid\")\n",
    "Val_face_pt=os.path.join(EMOTIFACEPATH,\"pt_stacked\",\"Valid\")\n",
    "Audio_Valid=os.path.join(EMOTIAUDIOPATH,\"validation_audio_compare_filtered.csv\")\n",
    "\n",
    "\n",
    "train_table = pd.read_csv(Train_label,delimiter=' ')\n",
    "val_table = pd.read_csv(Val_labels,delimiter=' ')\n",
    "print(train_table['Label'].value_counts())\n",
    "print(val_table['Label'].value_counts())\n",
    "\n",
    "\n",
    "\n",
    "device = torch.device(\"cuda:0\" if torch.cuda.is_available() else \"cpu\")\n",
    "torch.set_default_tensor_type(torch.cuda.FloatTensor)\n",
    "\n",
    "\n",
    "\n",
    "frame_num=10\n",
    "\n",
    "train_data_pt=dataload.Video_Frame_Data(Train_label,base_path_v=Train_video_pt,face_path=Train_face_pt,frame_num=frame_num,direct=True,audio_csv=Audio_Train)\n",
    "valid_data_pt=dataload.Video_Frame_Data(Val_labels,base_path_v=Val_video_pt,face_path=Val_face_pt,frame_num=frame_num,direct=True,audio_csv=Audio_Valid)\n",
    "\n",
    "\n",
    "\n",
    "\n",
    "\n",
    "def load_pretrained_model(pre_train):\n",
    "    face_model=torch.load(\"pre_trained_model/\" +\"pre_trained_resnet18_face.h\")\n",
    "    \n",
    "   # face_model=torch.load(\"pre_trained_model/\" +\"pre_trained_resnet18_facev2.h\")\n",
    "    audio_model=video_model_attention.AudioRecognition(softmax=pre_train)\n",
    "   # audio_model.load_state_dict(torch.load(\"pre_trained_model/pre_embedded_audio.pth\"),strict=False)\n",
    "    image_model=video_model_attention.Video_modeller(frame_num,face_model=face_model,pre_train=pre_train)\n",
    "   # image_model.load_state_dict(torch.load(\"saved_model_img/img_global_5.pth\"),strict=False)\n",
    "    return(image_model,audio_model)\n",
    "\n",
    "\n",
    "\n",
    "def show_img(dataset,index,frame):\n",
    "    x=dataset[index][0][frame].cpu().numpy()\n",
    "    plt.figure(1,(15,15))\n",
    "    plt.axis('off')\n",
    "    image = (x*0.5+0.5).transpose((1, 2, 0)).squeeze()\n",
    "    plt.imshow(image)\n",
    "    \n",
    "    fig = plt.figure(2,(15,15))\n",
    "   # plt.axis('off')\n",
    "    grid = ImageGrid(fig, 111,\n",
    "                     nrows_ncols=(1,5),\n",
    "                     axes_pad=0.1,\n",
    "                     )\n",
    "    for i in range(5):\n",
    "        face=dataset[index][1][frame].cpu().numpy()\n",
    "        image = (face[i,:]*0.5+0.5).transpose((1, 2, 0)).squeeze()\n",
    "        grid[i].imshow(image,cmap='gray',interpolation='none')\n",
    "        \n",
    "#img_model,audi=load_pretrained_model(True)\n",
    "audio_model=video_model_attention.AudioRecognition(softmax=True)\n"
   ]
  },
  {
   "cell_type": "code",
   "execution_count": 2,
   "metadata": {},
   "outputs": [],
   "source": [
    "df1=pd.read_csv(os.path.join(EMOTIAUDIOPATH,\"training_audio_compare.csv\"))"
   ]
  },
  {
   "cell_type": "code",
   "execution_count": 3,
   "metadata": {},
   "outputs": [
    {
     "data": {
      "text/html": [
       "<div>\n",
       "<style scoped>\n",
       "    .dataframe tbody tr th:only-of-type {\n",
       "        vertical-align: middle;\n",
       "    }\n",
       "\n",
       "    .dataframe tbody tr th {\n",
       "        vertical-align: top;\n",
       "    }\n",
       "\n",
       "    .dataframe thead th {\n",
       "        text-align: right;\n",
       "    }\n",
       "</style>\n",
       "<table border=\"1\" class=\"dataframe\">\n",
       "  <thead>\n",
       "    <tr style=\"text-align: right;\">\n",
       "      <th></th>\n",
       "      <th>Unnamed: 0</th>\n",
       "      <th>file_name</th>\n",
       "      <th>audspec_lengthL1norm_sma_maxPos</th>\n",
       "      <th>audspec_lengthL1norm_sma_minPos</th>\n",
       "      <th>audspec_lengthL1norm_sma_quartile1</th>\n",
       "      <th>audspec_lengthL1norm_sma_quartile2</th>\n",
       "      <th>audspec_lengthL1norm_sma_quartile3</th>\n",
       "      <th>audspec_lengthL1norm_sma_iqr1-2</th>\n",
       "      <th>audspec_lengthL1norm_sma_iqr2-3</th>\n",
       "      <th>audspec_lengthL1norm_sma_iqr1-3</th>\n",
       "      <th>...</th>\n",
       "      <th>mfcc_sma_de[14]_peakRangeAbs</th>\n",
       "      <th>mfcc_sma_de[14]_peakRangeRel</th>\n",
       "      <th>mfcc_sma_de[14]_peakMeanAbs</th>\n",
       "      <th>mfcc_sma_de[14]_peakMeanMeanDist</th>\n",
       "      <th>mfcc_sma_de[14]_peakMeanRel</th>\n",
       "      <th>mfcc_sma_de[14]_minRangeRel</th>\n",
       "      <th>mfcc_sma_de[14]_meanRisingSlope</th>\n",
       "      <th>mfcc_sma_de[14]_stddevRisingSlope</th>\n",
       "      <th>mfcc_sma_de[14]_meanFallingSlope</th>\n",
       "      <th>mfcc_sma_de[14]_stddevFallingSlope</th>\n",
       "    </tr>\n",
       "  </thead>\n",
       "  <tbody>\n",
       "    <tr>\n",
       "      <th>0</th>\n",
       "      <td>0</td>\n",
       "      <td>101_1.arff</td>\n",
       "      <td>0.820565</td>\n",
       "      <td>0.074597</td>\n",
       "      <td>1.533161</td>\n",
       "      <td>2.116676</td>\n",
       "      <td>2.989286</td>\n",
       "      <td>0.583515</td>\n",
       "      <td>0.872610</td>\n",
       "      <td>1.456125</td>\n",
       "      <td>...</td>\n",
       "      <td>11.437800</td>\n",
       "      <td>0.501672</td>\n",
       "      <td>2.920215</td>\n",
       "      <td>2.910282</td>\n",
       "      <td>294.00100</td>\n",
       "      <td>0.570569</td>\n",
       "      <td>112.7632</td>\n",
       "      <td>57.08240</td>\n",
       "      <td>128.33450</td>\n",
       "      <td>90.23294</td>\n",
       "    </tr>\n",
       "    <tr>\n",
       "      <th>1</th>\n",
       "      <td>0</td>\n",
       "      <td>101_10.arff</td>\n",
       "      <td>0.860887</td>\n",
       "      <td>0.000000</td>\n",
       "      <td>1.541169</td>\n",
       "      <td>2.171726</td>\n",
       "      <td>2.637154</td>\n",
       "      <td>0.630556</td>\n",
       "      <td>0.465429</td>\n",
       "      <td>1.095985</td>\n",
       "      <td>...</td>\n",
       "      <td>8.345563</td>\n",
       "      <td>0.612859</td>\n",
       "      <td>2.596471</td>\n",
       "      <td>2.602683</td>\n",
       "      <td>-418.00840</td>\n",
       "      <td>0.499175</td>\n",
       "      <td>126.8875</td>\n",
       "      <td>61.04508</td>\n",
       "      <td>123.18180</td>\n",
       "      <td>51.11492</td>\n",
       "    </tr>\n",
       "    <tr>\n",
       "      <th>2</th>\n",
       "      <td>0</td>\n",
       "      <td>101_11.arff</td>\n",
       "      <td>0.133065</td>\n",
       "      <td>0.820565</td>\n",
       "      <td>0.749147</td>\n",
       "      <td>1.447200</td>\n",
       "      <td>2.007862</td>\n",
       "      <td>0.698052</td>\n",
       "      <td>0.560662</td>\n",
       "      <td>1.258715</td>\n",
       "      <td>...</td>\n",
       "      <td>7.392002</td>\n",
       "      <td>0.444427</td>\n",
       "      <td>2.511684</td>\n",
       "      <td>2.542728</td>\n",
       "      <td>-80.90839</td>\n",
       "      <td>0.582766</td>\n",
       "      <td>124.6919</td>\n",
       "      <td>57.76358</td>\n",
       "      <td>123.43000</td>\n",
       "      <td>62.07063</td>\n",
       "    </tr>\n",
       "    <tr>\n",
       "      <th>3</th>\n",
       "      <td>0</td>\n",
       "      <td>101_12.arff</td>\n",
       "      <td>0.973790</td>\n",
       "      <td>0.260081</td>\n",
       "      <td>1.201816</td>\n",
       "      <td>1.745465</td>\n",
       "      <td>2.246745</td>\n",
       "      <td>0.543649</td>\n",
       "      <td>0.501280</td>\n",
       "      <td>1.044929</td>\n",
       "      <td>...</td>\n",
       "      <td>6.569743</td>\n",
       "      <td>0.450158</td>\n",
       "      <td>2.708047</td>\n",
       "      <td>2.713984</td>\n",
       "      <td>-456.18710</td>\n",
       "      <td>0.596681</td>\n",
       "      <td>119.6158</td>\n",
       "      <td>67.20280</td>\n",
       "      <td>118.46220</td>\n",
       "      <td>60.10581</td>\n",
       "    </tr>\n",
       "    <tr>\n",
       "      <th>4</th>\n",
       "      <td>0</td>\n",
       "      <td>101_13.arff</td>\n",
       "      <td>0.137097</td>\n",
       "      <td>0.877016</td>\n",
       "      <td>2.149037</td>\n",
       "      <td>2.760834</td>\n",
       "      <td>3.297577</td>\n",
       "      <td>0.611797</td>\n",
       "      <td>0.536744</td>\n",
       "      <td>1.148541</td>\n",
       "      <td>...</td>\n",
       "      <td>7.430662</td>\n",
       "      <td>0.501442</td>\n",
       "      <td>2.882833</td>\n",
       "      <td>2.897373</td>\n",
       "      <td>-198.26420</td>\n",
       "      <td>0.549199</td>\n",
       "      <td>125.5966</td>\n",
       "      <td>62.50634</td>\n",
       "      <td>134.31670</td>\n",
       "      <td>61.63183</td>\n",
       "    </tr>\n",
       "    <tr>\n",
       "      <th>...</th>\n",
       "      <td>...</td>\n",
       "      <td>...</td>\n",
       "      <td>...</td>\n",
       "      <td>...</td>\n",
       "      <td>...</td>\n",
       "      <td>...</td>\n",
       "      <td>...</td>\n",
       "      <td>...</td>\n",
       "      <td>...</td>\n",
       "      <td>...</td>\n",
       "      <td>...</td>\n",
       "      <td>...</td>\n",
       "      <td>...</td>\n",
       "      <td>...</td>\n",
       "      <td>...</td>\n",
       "      <td>...</td>\n",
       "      <td>...</td>\n",
       "      <td>...</td>\n",
       "      <td>...</td>\n",
       "      <td>...</td>\n",
       "      <td>...</td>\n",
       "    </tr>\n",
       "    <tr>\n",
       "      <th>2656</th>\n",
       "      <td>0</td>\n",
       "      <td>9_5.arff</td>\n",
       "      <td>0.520161</td>\n",
       "      <td>0.381048</td>\n",
       "      <td>0.329917</td>\n",
       "      <td>0.544102</td>\n",
       "      <td>0.764169</td>\n",
       "      <td>0.214186</td>\n",
       "      <td>0.220067</td>\n",
       "      <td>0.434253</td>\n",
       "      <td>...</td>\n",
       "      <td>5.151070</td>\n",
       "      <td>0.409382</td>\n",
       "      <td>2.392092</td>\n",
       "      <td>2.396713</td>\n",
       "      <td>-517.61520</td>\n",
       "      <td>0.687082</td>\n",
       "      <td>119.5502</td>\n",
       "      <td>59.00103</td>\n",
       "      <td>115.59010</td>\n",
       "      <td>62.14444</td>\n",
       "    </tr>\n",
       "    <tr>\n",
       "      <th>2657</th>\n",
       "      <td>0</td>\n",
       "      <td>9_6.arff</td>\n",
       "      <td>0.766129</td>\n",
       "      <td>0.614919</td>\n",
       "      <td>0.171487</td>\n",
       "      <td>0.404498</td>\n",
       "      <td>0.947121</td>\n",
       "      <td>0.233012</td>\n",
       "      <td>0.542622</td>\n",
       "      <td>0.775634</td>\n",
       "      <td>...</td>\n",
       "      <td>6.132486</td>\n",
       "      <td>0.531017</td>\n",
       "      <td>2.072510</td>\n",
       "      <td>2.096777</td>\n",
       "      <td>-85.40347</td>\n",
       "      <td>0.501981</td>\n",
       "      <td>106.8260</td>\n",
       "      <td>47.53175</td>\n",
       "      <td>103.10680</td>\n",
       "      <td>44.40643</td>\n",
       "    </tr>\n",
       "    <tr>\n",
       "      <th>2658</th>\n",
       "      <td>0</td>\n",
       "      <td>9_7.arff</td>\n",
       "      <td>0.451613</td>\n",
       "      <td>0.921371</td>\n",
       "      <td>0.001963</td>\n",
       "      <td>0.155606</td>\n",
       "      <td>0.561355</td>\n",
       "      <td>0.153643</td>\n",
       "      <td>0.405749</td>\n",
       "      <td>0.559392</td>\n",
       "      <td>...</td>\n",
       "      <td>5.070104</td>\n",
       "      <td>0.518415</td>\n",
       "      <td>1.717270</td>\n",
       "      <td>1.714476</td>\n",
       "      <td>614.52500</td>\n",
       "      <td>0.477875</td>\n",
       "      <td>88.2767</td>\n",
       "      <td>43.20261</td>\n",
       "      <td>89.59177</td>\n",
       "      <td>48.38278</td>\n",
       "    </tr>\n",
       "    <tr>\n",
       "      <th>2659</th>\n",
       "      <td>0</td>\n",
       "      <td>9_8.arff</td>\n",
       "      <td>0.616935</td>\n",
       "      <td>0.147177</td>\n",
       "      <td>0.793189</td>\n",
       "      <td>1.099609</td>\n",
       "      <td>1.490128</td>\n",
       "      <td>0.306420</td>\n",
       "      <td>0.390518</td>\n",
       "      <td>0.696939</td>\n",
       "      <td>...</td>\n",
       "      <td>5.669058</td>\n",
       "      <td>0.460134</td>\n",
       "      <td>2.504291</td>\n",
       "      <td>2.507518</td>\n",
       "      <td>-775.96900</td>\n",
       "      <td>0.595428</td>\n",
       "      <td>116.2459</td>\n",
       "      <td>55.57997</td>\n",
       "      <td>105.34260</td>\n",
       "      <td>40.21917</td>\n",
       "    </tr>\n",
       "    <tr>\n",
       "      <th>2660</th>\n",
       "      <td>0</td>\n",
       "      <td>9_9.arff</td>\n",
       "      <td>0.334677</td>\n",
       "      <td>0.000000</td>\n",
       "      <td>0.678349</td>\n",
       "      <td>0.988422</td>\n",
       "      <td>1.314713</td>\n",
       "      <td>0.310072</td>\n",
       "      <td>0.326292</td>\n",
       "      <td>0.636364</td>\n",
       "      <td>...</td>\n",
       "      <td>5.789974</td>\n",
       "      <td>0.557019</td>\n",
       "      <td>2.104522</td>\n",
       "      <td>2.118841</td>\n",
       "      <td>-146.97380</td>\n",
       "      <td>0.476062</td>\n",
       "      <td>111.1866</td>\n",
       "      <td>53.94710</td>\n",
       "      <td>96.96125</td>\n",
       "      <td>51.38073</td>\n",
       "    </tr>\n",
       "  </tbody>\n",
       "</table>\n",
       "<p>2661 rows × 6374 columns</p>\n",
       "</div>"
      ],
      "text/plain": [
       "      Unnamed: 0    file_name  audspec_lengthL1norm_sma_maxPos  \\\n",
       "0              0   101_1.arff                         0.820565   \n",
       "1              0  101_10.arff                         0.860887   \n",
       "2              0  101_11.arff                         0.133065   \n",
       "3              0  101_12.arff                         0.973790   \n",
       "4              0  101_13.arff                         0.137097   \n",
       "...          ...          ...                              ...   \n",
       "2656           0     9_5.arff                         0.520161   \n",
       "2657           0     9_6.arff                         0.766129   \n",
       "2658           0     9_7.arff                         0.451613   \n",
       "2659           0     9_8.arff                         0.616935   \n",
       "2660           0     9_9.arff                         0.334677   \n",
       "\n",
       "      audspec_lengthL1norm_sma_minPos  audspec_lengthL1norm_sma_quartile1  \\\n",
       "0                            0.074597                            1.533161   \n",
       "1                            0.000000                            1.541169   \n",
       "2                            0.820565                            0.749147   \n",
       "3                            0.260081                            1.201816   \n",
       "4                            0.877016                            2.149037   \n",
       "...                               ...                                 ...   \n",
       "2656                         0.381048                            0.329917   \n",
       "2657                         0.614919                            0.171487   \n",
       "2658                         0.921371                            0.001963   \n",
       "2659                         0.147177                            0.793189   \n",
       "2660                         0.000000                            0.678349   \n",
       "\n",
       "      audspec_lengthL1norm_sma_quartile2  audspec_lengthL1norm_sma_quartile3  \\\n",
       "0                               2.116676                            2.989286   \n",
       "1                               2.171726                            2.637154   \n",
       "2                               1.447200                            2.007862   \n",
       "3                               1.745465                            2.246745   \n",
       "4                               2.760834                            3.297577   \n",
       "...                                  ...                                 ...   \n",
       "2656                            0.544102                            0.764169   \n",
       "2657                            0.404498                            0.947121   \n",
       "2658                            0.155606                            0.561355   \n",
       "2659                            1.099609                            1.490128   \n",
       "2660                            0.988422                            1.314713   \n",
       "\n",
       "      audspec_lengthL1norm_sma_iqr1-2  audspec_lengthL1norm_sma_iqr2-3  \\\n",
       "0                            0.583515                         0.872610   \n",
       "1                            0.630556                         0.465429   \n",
       "2                            0.698052                         0.560662   \n",
       "3                            0.543649                         0.501280   \n",
       "4                            0.611797                         0.536744   \n",
       "...                               ...                              ...   \n",
       "2656                         0.214186                         0.220067   \n",
       "2657                         0.233012                         0.542622   \n",
       "2658                         0.153643                         0.405749   \n",
       "2659                         0.306420                         0.390518   \n",
       "2660                         0.310072                         0.326292   \n",
       "\n",
       "      audspec_lengthL1norm_sma_iqr1-3  ...  mfcc_sma_de[14]_peakRangeAbs  \\\n",
       "0                            1.456125  ...                     11.437800   \n",
       "1                            1.095985  ...                      8.345563   \n",
       "2                            1.258715  ...                      7.392002   \n",
       "3                            1.044929  ...                      6.569743   \n",
       "4                            1.148541  ...                      7.430662   \n",
       "...                               ...  ...                           ...   \n",
       "2656                         0.434253  ...                      5.151070   \n",
       "2657                         0.775634  ...                      6.132486   \n",
       "2658                         0.559392  ...                      5.070104   \n",
       "2659                         0.696939  ...                      5.669058   \n",
       "2660                         0.636364  ...                      5.789974   \n",
       "\n",
       "      mfcc_sma_de[14]_peakRangeRel  mfcc_sma_de[14]_peakMeanAbs  \\\n",
       "0                         0.501672                     2.920215   \n",
       "1                         0.612859                     2.596471   \n",
       "2                         0.444427                     2.511684   \n",
       "3                         0.450158                     2.708047   \n",
       "4                         0.501442                     2.882833   \n",
       "...                            ...                          ...   \n",
       "2656                      0.409382                     2.392092   \n",
       "2657                      0.531017                     2.072510   \n",
       "2658                      0.518415                     1.717270   \n",
       "2659                      0.460134                     2.504291   \n",
       "2660                      0.557019                     2.104522   \n",
       "\n",
       "      mfcc_sma_de[14]_peakMeanMeanDist  mfcc_sma_de[14]_peakMeanRel  \\\n",
       "0                             2.910282                    294.00100   \n",
       "1                             2.602683                   -418.00840   \n",
       "2                             2.542728                    -80.90839   \n",
       "3                             2.713984                   -456.18710   \n",
       "4                             2.897373                   -198.26420   \n",
       "...                                ...                          ...   \n",
       "2656                          2.396713                   -517.61520   \n",
       "2657                          2.096777                    -85.40347   \n",
       "2658                          1.714476                    614.52500   \n",
       "2659                          2.507518                   -775.96900   \n",
       "2660                          2.118841                   -146.97380   \n",
       "\n",
       "      mfcc_sma_de[14]_minRangeRel  mfcc_sma_de[14]_meanRisingSlope  \\\n",
       "0                        0.570569                         112.7632   \n",
       "1                        0.499175                         126.8875   \n",
       "2                        0.582766                         124.6919   \n",
       "3                        0.596681                         119.6158   \n",
       "4                        0.549199                         125.5966   \n",
       "...                           ...                              ...   \n",
       "2656                     0.687082                         119.5502   \n",
       "2657                     0.501981                         106.8260   \n",
       "2658                     0.477875                          88.2767   \n",
       "2659                     0.595428                         116.2459   \n",
       "2660                     0.476062                         111.1866   \n",
       "\n",
       "      mfcc_sma_de[14]_stddevRisingSlope  mfcc_sma_de[14]_meanFallingSlope  \\\n",
       "0                              57.08240                         128.33450   \n",
       "1                              61.04508                         123.18180   \n",
       "2                              57.76358                         123.43000   \n",
       "3                              67.20280                         118.46220   \n",
       "4                              62.50634                         134.31670   \n",
       "...                                 ...                               ...   \n",
       "2656                           59.00103                         115.59010   \n",
       "2657                           47.53175                         103.10680   \n",
       "2658                           43.20261                          89.59177   \n",
       "2659                           55.57997                         105.34260   \n",
       "2660                           53.94710                          96.96125   \n",
       "\n",
       "      mfcc_sma_de[14]_stddevFallingSlope  \n",
       "0                               90.23294  \n",
       "1                               51.11492  \n",
       "2                               62.07063  \n",
       "3                               60.10581  \n",
       "4                               61.63183  \n",
       "...                                  ...  \n",
       "2656                            62.14444  \n",
       "2657                            44.40643  \n",
       "2658                            48.38278  \n",
       "2659                            40.21917  \n",
       "2660                            51.38073  \n",
       "\n",
       "[2661 rows x 6374 columns]"
      ]
     },
     "execution_count": 3,
     "metadata": {},
     "output_type": "execute_result"
    }
   ],
   "source": [
    "df1"
   ]
  },
  {
   "cell_type": "code",
   "execution_count": 4,
   "metadata": {},
   "outputs": [],
   "source": [
    "list_na=df1.columns[df1.isna().any()].tolist()"
   ]
  },
  {
   "cell_type": "code",
   "execution_count": 5,
   "metadata": {},
   "outputs": [
    {
     "data": {
      "text/plain": [
       "['pcm_fftMag_spectralSlope_sma_de_lpgain',\n",
       " 'pcm_fftMag_spectralSlope_sma_de_lpc0',\n",
       " 'pcm_fftMag_spectralSlope_sma_de_lpc1',\n",
       " 'pcm_fftMag_spectralSlope_sma_de_lpc2',\n",
       " 'pcm_fftMag_spectralSlope_sma_de_lpc3',\n",
       " 'pcm_fftMag_spectralSlope_sma_de_lpc4']"
      ]
     },
     "execution_count": 5,
     "metadata": {},
     "output_type": "execute_result"
    }
   ],
   "source": [
    "list_na"
   ]
  },
  {
   "cell_type": "code",
   "execution_count": 6,
   "metadata": {},
   "outputs": [
    {
     "name": "stdout",
     "output_type": "stream",
     "text": [
      "fc1 is unfrozen\n",
      "fc2 is unfrozen\n",
      "fc3 is unfrozen\n",
      "relu is unfrozen\n",
      "tanh is unfrozen\n"
     ]
    }
   ],
   "source": [
    "\n",
    "\n",
    "weights=[932/932,932/923,932/806]\n",
    "class_weights = torch.FloatTensor(weights).to(device)\n",
    "\n",
    "train_dataloader = DataLoader(train_data_pt, batch_size=32\n",
    "                       , num_workers=0,shuffle=True)\n",
    "valid_dataloader = DataLoader(valid_data_pt, batch_size=32\n",
    "                   , num_workers=0)\n",
    "#model=video_model.video_transformer(img_model,audio_model)\n",
    "model=audio_model\n",
    "model=model.to(device)\n",
    "\n",
    "num_epochs=50\n",
    "criterion = nn.CrossEntropyLoss(weight=class_weights)  \n",
    "\n",
    "for name, child in model.named_children():\n",
    "    if not name in ['face_model','frame_model' ]:\n",
    "        print(name + ' is unfrozen')\n",
    "        for param in child.parameters():\n",
    "            param.requires_grad = True\n",
    "    else:\n",
    "        print(name + ' is frozen')\n",
    "        for param in child.parameters():\n",
    "               param.requires_grad = False"
   ]
  },
  {
   "cell_type": "code",
   "execution_count": 7,
   "metadata": {},
   "outputs": [
    {
     "data": {
      "text/plain": [
       "tensor([[0., 1., 0.]], grad_fn=<SoftmaxBackward>)"
      ]
     },
     "execution_count": 7,
     "metadata": {},
     "output_type": "execute_result"
    }
   ],
   "source": [
    "model(train_data_pt[8][2].unsqueeze(0).float().to(device))"
   ]
  },
  {
   "cell_type": "code",
   "execution_count": 8,
   "metadata": {},
   "outputs": [
    {
     "data": {
      "text/plain": [
       "tensor([ 0.5242,  0.5887,  0.5940,  ..., 50.9046, 95.2676, 45.5413],\n",
       "       device='cpu', dtype=torch.float64)"
      ]
     },
     "execution_count": 8,
     "metadata": {},
     "output_type": "execute_result"
    }
   ],
   "source": [
    "train_data_pt[6][2]"
   ]
  },
  {
   "cell_type": "code",
   "execution_count": 9,
   "metadata": {},
   "outputs": [
    {
     "name": "stdout",
     "output_type": "stream",
     "text": [
      "audio_train_v2\n",
      "Epoch:  1 \n",
      "\n",
      "Validation \n",
      "\n",
      "Validation Loss:  1.1905978148182232\n",
      "Validation Accuracy:  0.3668407310704961\n",
      "Confusion Matrix: \n",
      " [[  0 299   0]\n",
      " [  0 281   0]\n",
      " [  0 186   0]]\n"
     ]
    },
    {
     "data": {
      "application/vnd.jupyter.widget-view+json": {
       "model_id": "fd47760196fd42b4b2ffeb6dfcfabe7c",
       "version_major": 2,
       "version_minor": 0
      },
      "text/plain": [
       "HBox(children=(FloatProgress(value=1.0, bar_style='info', max=1.0), HTML(value='')))"
      ]
     },
     "metadata": {},
     "output_type": "display_data"
    },
    {
     "name": "stdout",
     "output_type": "stream",
     "text": [
      "Batch:  40 / 84\n",
      "Batch Recognition loss:  1.2826348543167114\n",
      "Batch:  80 / 84\n",
      "Batch Recognition loss:  1.3451135158538818\n",
      "\n",
      "Average_Loss:  1.2213762516067141\n",
      "Average_Accuracy:  0.34723788049605414\n",
      "Confusion Matrix: \n",
      " [[  2 803   1]\n",
      " [  0 922   1]\n",
      " [  0 932   0]]\n",
      "Epoch:  2 \n",
      "\n",
      "Validation \n",
      "\n",
      "Validation Loss:  1.1911175573865573\n",
      "Validation Accuracy:  0.3668407310704961\n",
      "Confusion Matrix: \n",
      " [[  0 299   0]\n",
      " [  0 281   0]\n",
      " [  0 186   0]]\n"
     ]
    },
    {
     "data": {
      "application/vnd.jupyter.widget-view+json": {
       "model_id": "f68839375bd84cabb054072d906f0cb8",
       "version_major": 2,
       "version_minor": 0
      },
      "text/plain": [
       "HBox(children=(FloatProgress(value=1.0, bar_style='info', max=1.0), HTML(value='')))"
      ]
     },
     "metadata": {},
     "output_type": "display_data"
    },
    {
     "name": "stdout",
     "output_type": "stream",
     "text": [
      "Batch:  40 / 84\n",
      "Batch Recognition loss:  1.2838720083236694\n",
      "Batch:  80 / 84\n",
      "Batch Recognition loss:  1.3753430843353271\n",
      "\n",
      "Average_Loss:  1.2189583381017048\n",
      "Average_Accuracy:  0.34723788049605414\n",
      "Confusion Matrix: \n",
      " [[  2 803   1]\n",
      " [  0 922   1]\n",
      " [  0 932   0]]\n",
      "Epoch:  3 \n",
      "\n",
      "Validation \n",
      "\n",
      "Validation Loss:  1.1911175573865573\n",
      "Validation Accuracy:  0.3668407310704961\n",
      "Confusion Matrix: \n",
      " [[  0 299   0]\n",
      " [  0 281   0]\n",
      " [  0 186   0]]\n"
     ]
    },
    {
     "data": {
      "application/vnd.jupyter.widget-view+json": {
       "model_id": "d121af4a90ac45b28d58c044160070e9",
       "version_major": 2,
       "version_minor": 0
      },
      "text/plain": [
       "HBox(children=(FloatProgress(value=1.0, bar_style='info', max=1.0), HTML(value='')))"
      ]
     },
     "metadata": {},
     "output_type": "display_data"
    },
    {
     "name": "stdout",
     "output_type": "stream",
     "text": [
      "Batch:  40 / 84\n",
      "Batch Recognition loss:  1.3712489604949951\n",
      "Batch:  80 / 84\n",
      "Batch Recognition loss:  1.3469796180725098\n",
      "\n",
      "Average_Loss:  1.2192763899053847\n",
      "Average_Accuracy:  0.34723788049605414\n",
      "Confusion Matrix: \n",
      " [[  2 803   1]\n",
      " [  0 922   1]\n",
      " [  0 932   0]]\n",
      "Epoch:  4 \n",
      "\n",
      "Validation \n",
      "\n",
      "Validation Loss:  1.1911175573865573\n",
      "Validation Accuracy:  0.3668407310704961\n",
      "Confusion Matrix: \n",
      " [[  0 299   0]\n",
      " [  0 281   0]\n",
      " [  0 186   0]]\n"
     ]
    },
    {
     "data": {
      "application/vnd.jupyter.widget-view+json": {
       "model_id": "802be59bf69148898e9617e6172cf84c",
       "version_major": 2,
       "version_minor": 0
      },
      "text/plain": [
       "HBox(children=(FloatProgress(value=1.0, bar_style='info', max=1.0), HTML(value='')))"
      ]
     },
     "metadata": {},
     "output_type": "display_data"
    },
    {
     "name": "stdout",
     "output_type": "stream",
     "text": [
      "Batch:  40 / 84\n",
      "Batch Recognition loss:  1.167160987854004\n",
      "Batch:  80 / 84\n",
      "Batch Recognition loss:  1.1653939485549927\n",
      "\n",
      "Average_Loss:  1.2210407767977034\n",
      "Average_Accuracy:  0.34723788049605414\n",
      "Confusion Matrix: \n",
      " [[  2 803   1]\n",
      " [  0 922   1]\n",
      " [  0 932   0]]\n",
      "Epoch:  5 \n",
      "\n",
      "Validation \n",
      "\n",
      "Validation Loss:  1.1911175573865573\n",
      "Validation Accuracy:  0.3668407310704961\n",
      "Confusion Matrix: \n",
      " [[  0 299   0]\n",
      " [  0 281   0]\n",
      " [  0 186   0]]\n"
     ]
    },
    {
     "data": {
      "application/vnd.jupyter.widget-view+json": {
       "model_id": "edfb0d362f444dd7aae2476f672bf5f5",
       "version_major": 2,
       "version_minor": 0
      },
      "text/plain": [
       "HBox(children=(FloatProgress(value=1.0, bar_style='info', max=1.0), HTML(value='')))"
      ]
     },
     "metadata": {},
     "output_type": "display_data"
    },
    {
     "name": "stdout",
     "output_type": "stream",
     "text": [
      "Batch:  40 / 84\n",
      "Batch Recognition loss:  1.1900014877319336\n",
      "Batch:  80 / 84\n",
      "Batch Recognition loss:  1.2839490175247192\n",
      "\n",
      "Average_Loss:  1.2229453594911666\n",
      "Average_Accuracy:  0.34723788049605414\n",
      "Confusion Matrix: \n",
      " [[  2 803   1]\n",
      " [  0 922   1]\n",
      " [  0 932   0]]\n",
      "Epoch:  6 \n",
      "\n",
      "Validation \n",
      "\n",
      "Validation Loss:  1.1911175573865573\n",
      "Validation Accuracy:  0.3668407310704961\n",
      "Confusion Matrix: \n",
      " [[  0 299   0]\n",
      " [  0 281   0]\n",
      " [  0 186   0]]\n"
     ]
    },
    {
     "data": {
      "application/vnd.jupyter.widget-view+json": {
       "model_id": "515d39532a3e4a3b8652e837ea6208c5",
       "version_major": 2,
       "version_minor": 0
      },
      "text/plain": [
       "HBox(children=(FloatProgress(value=1.0, bar_style='info', max=1.0), HTML(value='')))"
      ]
     },
     "metadata": {},
     "output_type": "display_data"
    },
    {
     "name": "stdout",
     "output_type": "stream",
     "text": [
      "Batch:  40 / 84\n",
      "Batch Recognition loss:  1.2528533935546875\n",
      "Batch:  80 / 84\n",
      "Batch Recognition loss:  1.2245991230010986\n",
      "\n",
      "Average_Loss:  1.2228876494226002\n",
      "Average_Accuracy:  0.34723788049605414\n",
      "Confusion Matrix: \n",
      " [[  2 803   1]\n",
      " [  0 922   1]\n",
      " [  0 932   0]]\n",
      "Epoch:  7 \n",
      "\n",
      "Validation \n",
      "\n",
      "Validation Loss:  1.1911175573865573\n",
      "Validation Accuracy:  0.3668407310704961\n",
      "Confusion Matrix: \n",
      " [[  0 299   0]\n",
      " [  0 281   0]\n",
      " [  0 186   0]]\n"
     ]
    },
    {
     "data": {
      "application/vnd.jupyter.widget-view+json": {
       "model_id": "40f21cbc64454228a4c893f62d2849ee",
       "version_major": 2,
       "version_minor": 0
      },
      "text/plain": [
       "HBox(children=(FloatProgress(value=1.0, bar_style='info', max=1.0), HTML(value='')))"
      ]
     },
     "metadata": {},
     "output_type": "display_data"
    },
    {
     "name": "stdout",
     "output_type": "stream",
     "text": [
      "Batch:  40 / 84\n",
      "Batch Recognition loss:  1.2230887413024902\n",
      "Batch:  80 / 84\n",
      "Batch Recognition loss:  1.2850980758666992\n",
      "\n",
      "Average_Loss:  1.219477375348409\n",
      "Average_Accuracy:  0.34723788049605414\n",
      "Confusion Matrix: \n",
      " [[  2 803   1]\n",
      " [  0 922   1]\n",
      " [  0 932   0]]\n",
      "Epoch:  8 \n",
      "\n",
      "Validation \n",
      "\n",
      "Validation Loss:  1.1911175573865573\n",
      "Validation Accuracy:  0.3668407310704961\n",
      "Confusion Matrix: \n",
      " [[  0 299   0]\n",
      " [  0 281   0]\n",
      " [  0 186   0]]\n"
     ]
    },
    {
     "data": {
      "application/vnd.jupyter.widget-view+json": {
       "model_id": "6d7e4ad0bf3b49f3a4249b3c2183bd94",
       "version_major": 2,
       "version_minor": 0
      },
      "text/plain": [
       "HBox(children=(FloatProgress(value=1.0, bar_style='info', max=1.0), HTML(value='')))"
      ]
     },
     "metadata": {},
     "output_type": "display_data"
    },
    {
     "name": "stdout",
     "output_type": "stream",
     "text": [
      "Batch:  40 / 84\n",
      "Batch Recognition loss:  1.1933413743972778\n",
      "Batch:  80 / 84\n",
      "Batch Recognition loss:  1.2230888605117798\n",
      "\n",
      "Average_Loss:  1.2191573154358637\n",
      "Average_Accuracy:  0.34723788049605414\n",
      "Confusion Matrix: \n",
      " [[  2 803   1]\n",
      " [  0 922   1]\n",
      " [  0 932   0]]\n",
      "Epoch:  9 \n",
      "\n",
      "Validation \n",
      "\n",
      "Validation Loss:  1.1911175573865573\n",
      "Validation Accuracy:  0.3668407310704961\n",
      "Confusion Matrix: \n",
      " [[  0 299   0]\n",
      " [  0 281   0]\n",
      " [  0 186   0]]\n"
     ]
    },
    {
     "data": {
      "application/vnd.jupyter.widget-view+json": {
       "model_id": "c763e4a5f93e439ba7c8fbfa0b35e761",
       "version_major": 2,
       "version_minor": 0
      },
      "text/plain": [
       "HBox(children=(FloatProgress(value=1.0, bar_style='info', max=1.0), HTML(value='')))"
      ]
     },
     "metadata": {},
     "output_type": "display_data"
    },
    {
     "name": "stdout",
     "output_type": "stream",
     "text": [
      "Batch:  40 / 84\n",
      "Batch Recognition loss:  1.1563111543655396\n",
      "Batch:  80 / 84\n",
      "Batch Recognition loss:  1.1816667318344116\n",
      "\n",
      "Average_Loss:  1.2212003739107222\n",
      "Average_Accuracy:  0.34723788049605414\n",
      "Confusion Matrix: \n",
      " [[  2 803   1]\n",
      " [  0 922   1]\n",
      " [  0 932   0]]\n",
      "Epoch:  10 \n",
      "\n",
      "Validation \n",
      "\n",
      "Validation Loss:  1.1911175573865573\n",
      "Validation Accuracy:  0.3668407310704961\n",
      "Confusion Matrix: \n",
      " [[  0 299   0]\n",
      " [  0 281   0]\n",
      " [  0 186   0]]\n"
     ]
    },
    {
     "data": {
      "application/vnd.jupyter.widget-view+json": {
       "model_id": "81e1e13be701447fb59ac6ce17e7afc0",
       "version_major": 2,
       "version_minor": 0
      },
      "text/plain": [
       "HBox(children=(FloatProgress(value=1.0, bar_style='info', max=1.0), HTML(value='')))"
      ]
     },
     "metadata": {},
     "output_type": "display_data"
    },
    {
     "name": "stdout",
     "output_type": "stream",
     "text": [
      "Batch:  40 / 84\n",
      "Batch Recognition loss:  1.1319609880447388\n",
      "Batch:  80 / 84\n",
      "Batch Recognition loss:  1.1966198682785034\n",
      "\n",
      "Average_Loss:  1.2154504507780075\n",
      "Average_Accuracy:  0.34723788049605414\n",
      "Confusion Matrix: \n",
      " [[  2 803   1]\n",
      " [  0 922   1]\n",
      " [  0 932   0]]\n",
      "Epoch:  11 \n",
      "\n",
      "Validation \n",
      "\n",
      "Validation Loss:  1.1911175573865573\n",
      "Validation Accuracy:  0.3668407310704961\n",
      "Confusion Matrix: \n",
      " [[  0 299   0]\n",
      " [  0 281   0]\n",
      " [  0 186   0]]\n"
     ]
    },
    {
     "data": {
      "application/vnd.jupyter.widget-view+json": {
       "model_id": "ed31700aa0ab4df2aea916ccffb30600",
       "version_major": 2,
       "version_minor": 0
      },
      "text/plain": [
       "HBox(children=(FloatProgress(value=1.0, bar_style='info', max=1.0), HTML(value='')))"
      ]
     },
     "metadata": {},
     "output_type": "display_data"
    },
    {
     "name": "stdout",
     "output_type": "stream",
     "text": [
      "Batch:  40 / 84\n",
      "Batch Recognition loss:  1.3469798564910889\n",
      "Batch:  80 / 84\n",
      "Batch Recognition loss:  1.1599953174591064\n",
      "\n",
      "Average_Loss:  1.2191288598946162\n",
      "Average_Accuracy:  0.34723788049605414\n",
      "Confusion Matrix: \n",
      " [[  2 803   1]\n",
      " [  0 922   1]\n",
      " [  0 932   0]]\n",
      "Epoch:  12 \n",
      "\n",
      "Validation \n",
      "\n",
      "Validation Loss:  1.1911175573865573\n",
      "Validation Accuracy:  0.3668407310704961\n",
      "Confusion Matrix: \n",
      " [[  0 299   0]\n",
      " [  0 281   0]\n",
      " [  0 186   0]]\n"
     ]
    },
    {
     "data": {
      "application/vnd.jupyter.widget-view+json": {
       "model_id": "c227dd9e162a49bf9ff969220be03aaa",
       "version_major": 2,
       "version_minor": 0
      },
      "text/plain": [
       "HBox(children=(FloatProgress(value=1.0, bar_style='info', max=1.0), HTML(value='')))"
      ]
     },
     "metadata": {},
     "output_type": "display_data"
    },
    {
     "name": "stdout",
     "output_type": "stream",
     "text": [
      "Batch:  40 / 84\n",
      "Batch Recognition loss:  1.194988489151001\n",
      "Batch:  80 / 84\n",
      "Batch Recognition loss:  1.2595986127853394\n",
      "\n",
      "Average_Loss:  1.219390652009419\n",
      "Average_Accuracy:  0.34723788049605414\n",
      "Confusion Matrix: \n",
      " [[  2 803   1]\n",
      " [  0 922   1]\n",
      " [  0 932   0]]\n",
      "Epoch:  13 \n",
      "\n",
      "Validation \n",
      "\n",
      "Validation Loss:  1.1911175573865573\n",
      "Validation Accuracy:  0.3668407310704961\n",
      "Confusion Matrix: \n",
      " [[  0 299   0]\n",
      " [  0 281   0]\n",
      " [  0 186   0]]\n"
     ]
    },
    {
     "data": {
      "application/vnd.jupyter.widget-view+json": {
       "model_id": "4e13d62918a146c4b8184bdc2ea7bdde",
       "version_major": 2,
       "version_minor": 0
      },
      "text/plain": [
       "HBox(children=(FloatProgress(value=1.0, bar_style='info', max=1.0), HTML(value='')))"
      ]
     },
     "metadata": {},
     "output_type": "display_data"
    },
    {
     "name": "stdout",
     "output_type": "stream",
     "text": [
      "Batch:  40 / 84\n",
      "Batch Recognition loss:  1.1933413743972778\n",
      "Batch:  80 / 84\n",
      "Batch Recognition loss:  1.3432132005691528\n",
      "\n",
      "Average_Loss:  1.2231564621130626\n",
      "Average_Accuracy:  0.34723788049605414\n",
      "Confusion Matrix: \n",
      " [[  2 803   1]\n",
      " [  0 922   1]\n",
      " [  0 932   0]]\n",
      "Epoch:  14 \n",
      "\n",
      "Validation \n",
      "\n",
      "Validation Loss:  1.1911175573865573\n",
      "Validation Accuracy:  0.3668407310704961\n",
      "Confusion Matrix: \n",
      " [[  0 299   0]\n",
      " [  0 281   0]\n",
      " [  0 186   0]]\n"
     ]
    },
    {
     "data": {
      "application/vnd.jupyter.widget-view+json": {
       "model_id": "8d36f62fba4545c2a2a171f2bd263424",
       "version_major": 2,
       "version_minor": 0
      },
      "text/plain": [
       "HBox(children=(FloatProgress(value=1.0, bar_style='info', max=1.0), HTML(value='')))"
      ]
     },
     "metadata": {},
     "output_type": "display_data"
    },
    {
     "ename": "RuntimeError",
     "evalue": "CUDA out of memory. Tried to allocate 150.00 MiB (GPU 0; 10.75 GiB total capacity; 6.07 GiB already allocated; 129.00 MiB free; 117.38 MiB cached)",
     "output_type": "error",
     "traceback": [
      "\u001b[0;31m---------------------------------------------------------------------------\u001b[0m",
      "\u001b[0;31mRuntimeError\u001b[0m                              Traceback (most recent call last)",
      "\u001b[0;32m<ipython-input-9-b2be63f452b7>\u001b[0m in \u001b[0;36m<module>\u001b[0;34m\u001b[0m\n\u001b[1;32m      6\u001b[0m \u001b[0mprint\u001b[0m\u001b[0;34m(\u001b[0m\u001b[0mmodel_name\u001b[0m\u001b[0;34m)\u001b[0m\u001b[0;34m\u001b[0m\u001b[0;34m\u001b[0m\u001b[0m\n\u001b[1;32m      7\u001b[0m \u001b[0;34m\u001b[0m\u001b[0m\n\u001b[0;32m----> 8\u001b[0;31m \u001b[0mmethods\u001b[0m\u001b[0;34m.\u001b[0m\u001b[0maudio_train\u001b[0m\u001b[0;34m(\u001b[0m\u001b[0;34m\"audio_train_v2\"\u001b[0m\u001b[0;34m,\u001b[0m\u001b[0mnum_epochs\u001b[0m\u001b[0;34m,\u001b[0m\u001b[0mmodel_name\u001b[0m\u001b[0;34m,\u001b[0m\u001b[0mmodel\u001b[0m\u001b[0;34m,\u001b[0m\u001b[0mtrain_dataloader\u001b[0m\u001b[0;34m,\u001b[0m\u001b[0mvalid_dataloader\u001b[0m\u001b[0;34m,\u001b[0m\u001b[0moptimizer\u001b[0m\u001b[0;34m,\u001b[0m\u001b[0mcriterion\u001b[0m\u001b[0;34m,\u001b[0m\u001b[0mdevice\u001b[0m\u001b[0;34m)\u001b[0m\u001b[0;34m\u001b[0m\u001b[0;34m\u001b[0m\u001b[0m\n\u001b[0m",
      "\u001b[0;32m/opt/notebooks/Github/EmotiW2020/train/methods.py\u001b[0m in \u001b[0;36maudio_train\u001b[0;34m(master_path, num_epochs, name, model, train_dataloader, valid_dataloader, optimizer, criterion, device)\u001b[0m\n\u001b[1;32m    320\u001b[0m         \u001b[0mavg_tloss\u001b[0m\u001b[0;34m=\u001b[0m\u001b[0;36m0\u001b[0m\u001b[0;34m\u001b[0m\u001b[0;34m\u001b[0m\u001b[0m\n\u001b[1;32m    321\u001b[0m         \u001b[0mfirst\u001b[0m\u001b[0;34m=\u001b[0m\u001b[0;32mTrue\u001b[0m\u001b[0;34m\u001b[0m\u001b[0;34m\u001b[0m\u001b[0m\n\u001b[0;32m--> 322\u001b[0;31m         \u001b[0;32mfor\u001b[0m \u001b[0mi_batch\u001b[0m\u001b[0;34m,\u001b[0m \u001b[0;34m(\u001b[0m\u001b[0m_\u001b[0m\u001b[0;34m,\u001b[0m\u001b[0m_\u001b[0m\u001b[0;34m,\u001b[0m\u001b[0maudio_feature\u001b[0m\u001b[0;34m,\u001b[0m\u001b[0mlabel\u001b[0m\u001b[0;34m)\u001b[0m \u001b[0;32min\u001b[0m \u001b[0mtqdm\u001b[0m\u001b[0;34m(\u001b[0m\u001b[0menumerate\u001b[0m\u001b[0;34m(\u001b[0m\u001b[0mtrain_dataloader\u001b[0m\u001b[0;34m)\u001b[0m\u001b[0;34m)\u001b[0m\u001b[0;34m:\u001b[0m\u001b[0;34m\u001b[0m\u001b[0;34m\u001b[0m\u001b[0m\n\u001b[0m\u001b[1;32m    323\u001b[0m \u001b[0;34m\u001b[0m\u001b[0m\n\u001b[1;32m    324\u001b[0m             \u001b[0mbatch_size\u001b[0m\u001b[0;34m=\u001b[0m\u001b[0maudio_feature\u001b[0m\u001b[0;34m.\u001b[0m\u001b[0msize\u001b[0m\u001b[0;34m(\u001b[0m\u001b[0;36m0\u001b[0m\u001b[0;34m)\u001b[0m\u001b[0;34m\u001b[0m\u001b[0;34m\u001b[0m\u001b[0m\n",
      "\u001b[0;32m/opt/conda/envs/torch/lib/python3.7/site-packages/tqdm/notebook.py\u001b[0m in \u001b[0;36m__iter__\u001b[0;34m(self, *args, **kwargs)\u001b[0m\n\u001b[1;32m    213\u001b[0m     \u001b[0;32mdef\u001b[0m \u001b[0m__iter__\u001b[0m\u001b[0;34m(\u001b[0m\u001b[0mself\u001b[0m\u001b[0;34m,\u001b[0m \u001b[0;34m*\u001b[0m\u001b[0margs\u001b[0m\u001b[0;34m,\u001b[0m \u001b[0;34m**\u001b[0m\u001b[0mkwargs\u001b[0m\u001b[0;34m)\u001b[0m\u001b[0;34m:\u001b[0m\u001b[0;34m\u001b[0m\u001b[0;34m\u001b[0m\u001b[0m\n\u001b[1;32m    214\u001b[0m         \u001b[0;32mtry\u001b[0m\u001b[0;34m:\u001b[0m\u001b[0;34m\u001b[0m\u001b[0;34m\u001b[0m\u001b[0m\n\u001b[0;32m--> 215\u001b[0;31m             \u001b[0;32mfor\u001b[0m \u001b[0mobj\u001b[0m \u001b[0;32min\u001b[0m \u001b[0msuper\u001b[0m\u001b[0;34m(\u001b[0m\u001b[0mtqdm_notebook\u001b[0m\u001b[0;34m,\u001b[0m \u001b[0mself\u001b[0m\u001b[0;34m)\u001b[0m\u001b[0;34m.\u001b[0m\u001b[0m__iter__\u001b[0m\u001b[0;34m(\u001b[0m\u001b[0;34m*\u001b[0m\u001b[0margs\u001b[0m\u001b[0;34m,\u001b[0m \u001b[0;34m**\u001b[0m\u001b[0mkwargs\u001b[0m\u001b[0;34m)\u001b[0m\u001b[0;34m:\u001b[0m\u001b[0;34m\u001b[0m\u001b[0;34m\u001b[0m\u001b[0m\n\u001b[0m\u001b[1;32m    216\u001b[0m                 \u001b[0;31m# return super(tqdm...) will not catch exception\u001b[0m\u001b[0;34m\u001b[0m\u001b[0;34m\u001b[0m\u001b[0;34m\u001b[0m\u001b[0m\n\u001b[1;32m    217\u001b[0m                 \u001b[0;32myield\u001b[0m \u001b[0mobj\u001b[0m\u001b[0;34m\u001b[0m\u001b[0;34m\u001b[0m\u001b[0m\n",
      "\u001b[0;32m/opt/conda/envs/torch/lib/python3.7/site-packages/tqdm/std.py\u001b[0m in \u001b[0;36m__iter__\u001b[0;34m(self)\u001b[0m\n\u001b[1;32m   1095\u001b[0m                 fp_write=getattr(self.fp, 'write', sys.stderr.write))\n\u001b[1;32m   1096\u001b[0m \u001b[0;34m\u001b[0m\u001b[0m\n\u001b[0;32m-> 1097\u001b[0;31m         \u001b[0;32mfor\u001b[0m \u001b[0mobj\u001b[0m \u001b[0;32min\u001b[0m \u001b[0miterable\u001b[0m\u001b[0;34m:\u001b[0m\u001b[0;34m\u001b[0m\u001b[0;34m\u001b[0m\u001b[0m\n\u001b[0m\u001b[1;32m   1098\u001b[0m             \u001b[0;32myield\u001b[0m \u001b[0mobj\u001b[0m\u001b[0;34m\u001b[0m\u001b[0;34m\u001b[0m\u001b[0m\n\u001b[1;32m   1099\u001b[0m             \u001b[0;31m# Update and possibly print the progressbar.\u001b[0m\u001b[0;34m\u001b[0m\u001b[0;34m\u001b[0m\u001b[0;34m\u001b[0m\u001b[0m\n",
      "\u001b[0;32m/opt/conda/envs/torch/lib/python3.7/site-packages/torch/utils/data/dataloader.py\u001b[0m in \u001b[0;36m__next__\u001b[0;34m(self)\u001b[0m\n\u001b[1;32m    344\u001b[0m     \u001b[0;32mdef\u001b[0m \u001b[0m__next__\u001b[0m\u001b[0;34m(\u001b[0m\u001b[0mself\u001b[0m\u001b[0;34m)\u001b[0m\u001b[0;34m:\u001b[0m\u001b[0;34m\u001b[0m\u001b[0;34m\u001b[0m\u001b[0m\n\u001b[1;32m    345\u001b[0m         \u001b[0mindex\u001b[0m \u001b[0;34m=\u001b[0m \u001b[0mself\u001b[0m\u001b[0;34m.\u001b[0m\u001b[0m_next_index\u001b[0m\u001b[0;34m(\u001b[0m\u001b[0;34m)\u001b[0m  \u001b[0;31m# may raise StopIteration\u001b[0m\u001b[0;34m\u001b[0m\u001b[0;34m\u001b[0m\u001b[0m\n\u001b[0;32m--> 346\u001b[0;31m         \u001b[0mdata\u001b[0m \u001b[0;34m=\u001b[0m \u001b[0mself\u001b[0m\u001b[0;34m.\u001b[0m\u001b[0m_dataset_fetcher\u001b[0m\u001b[0;34m.\u001b[0m\u001b[0mfetch\u001b[0m\u001b[0;34m(\u001b[0m\u001b[0mindex\u001b[0m\u001b[0;34m)\u001b[0m  \u001b[0;31m# may raise StopIteration\u001b[0m\u001b[0;34m\u001b[0m\u001b[0;34m\u001b[0m\u001b[0m\n\u001b[0m\u001b[1;32m    347\u001b[0m         \u001b[0;32mif\u001b[0m \u001b[0mself\u001b[0m\u001b[0;34m.\u001b[0m\u001b[0m_pin_memory\u001b[0m\u001b[0;34m:\u001b[0m\u001b[0;34m\u001b[0m\u001b[0;34m\u001b[0m\u001b[0m\n\u001b[1;32m    348\u001b[0m             \u001b[0mdata\u001b[0m \u001b[0;34m=\u001b[0m \u001b[0m_utils\u001b[0m\u001b[0;34m.\u001b[0m\u001b[0mpin_memory\u001b[0m\u001b[0;34m.\u001b[0m\u001b[0mpin_memory\u001b[0m\u001b[0;34m(\u001b[0m\u001b[0mdata\u001b[0m\u001b[0;34m)\u001b[0m\u001b[0;34m\u001b[0m\u001b[0;34m\u001b[0m\u001b[0m\n",
      "\u001b[0;32m/opt/conda/envs/torch/lib/python3.7/site-packages/torch/utils/data/_utils/fetch.py\u001b[0m in \u001b[0;36mfetch\u001b[0;34m(self, possibly_batched_index)\u001b[0m\n\u001b[1;32m     45\u001b[0m         \u001b[0;32melse\u001b[0m\u001b[0;34m:\u001b[0m\u001b[0;34m\u001b[0m\u001b[0;34m\u001b[0m\u001b[0m\n\u001b[1;32m     46\u001b[0m             \u001b[0mdata\u001b[0m \u001b[0;34m=\u001b[0m \u001b[0mself\u001b[0m\u001b[0;34m.\u001b[0m\u001b[0mdataset\u001b[0m\u001b[0;34m[\u001b[0m\u001b[0mpossibly_batched_index\u001b[0m\u001b[0;34m]\u001b[0m\u001b[0;34m\u001b[0m\u001b[0;34m\u001b[0m\u001b[0m\n\u001b[0;32m---> 47\u001b[0;31m         \u001b[0;32mreturn\u001b[0m \u001b[0mself\u001b[0m\u001b[0;34m.\u001b[0m\u001b[0mcollate_fn\u001b[0m\u001b[0;34m(\u001b[0m\u001b[0mdata\u001b[0m\u001b[0;34m)\u001b[0m\u001b[0;34m\u001b[0m\u001b[0;34m\u001b[0m\u001b[0m\n\u001b[0m",
      "\u001b[0;32m/opt/conda/envs/torch/lib/python3.7/site-packages/torch/utils/data/_utils/collate.py\u001b[0m in \u001b[0;36mdefault_collate\u001b[0;34m(batch)\u001b[0m\n\u001b[1;32m     77\u001b[0m     \u001b[0;32melif\u001b[0m \u001b[0misinstance\u001b[0m\u001b[0;34m(\u001b[0m\u001b[0melem\u001b[0m\u001b[0;34m,\u001b[0m \u001b[0mcontainer_abcs\u001b[0m\u001b[0;34m.\u001b[0m\u001b[0mSequence\u001b[0m\u001b[0;34m)\u001b[0m\u001b[0;34m:\u001b[0m\u001b[0;34m\u001b[0m\u001b[0;34m\u001b[0m\u001b[0m\n\u001b[1;32m     78\u001b[0m         \u001b[0mtransposed\u001b[0m \u001b[0;34m=\u001b[0m \u001b[0mzip\u001b[0m\u001b[0;34m(\u001b[0m\u001b[0;34m*\u001b[0m\u001b[0mbatch\u001b[0m\u001b[0;34m)\u001b[0m\u001b[0;34m\u001b[0m\u001b[0;34m\u001b[0m\u001b[0m\n\u001b[0;32m---> 79\u001b[0;31m         \u001b[0;32mreturn\u001b[0m \u001b[0;34m[\u001b[0m\u001b[0mdefault_collate\u001b[0m\u001b[0;34m(\u001b[0m\u001b[0msamples\u001b[0m\u001b[0;34m)\u001b[0m \u001b[0;32mfor\u001b[0m \u001b[0msamples\u001b[0m \u001b[0;32min\u001b[0m \u001b[0mtransposed\u001b[0m\u001b[0;34m]\u001b[0m\u001b[0;34m\u001b[0m\u001b[0;34m\u001b[0m\u001b[0m\n\u001b[0m\u001b[1;32m     80\u001b[0m \u001b[0;34m\u001b[0m\u001b[0m\n\u001b[1;32m     81\u001b[0m     \u001b[0;32mraise\u001b[0m \u001b[0mTypeError\u001b[0m\u001b[0;34m(\u001b[0m\u001b[0mdefault_collate_err_msg_format\u001b[0m\u001b[0;34m.\u001b[0m\u001b[0mformat\u001b[0m\u001b[0;34m(\u001b[0m\u001b[0melem_type\u001b[0m\u001b[0;34m)\u001b[0m\u001b[0;34m)\u001b[0m\u001b[0;34m\u001b[0m\u001b[0;34m\u001b[0m\u001b[0m\n",
      "\u001b[0;32m/opt/conda/envs/torch/lib/python3.7/site-packages/torch/utils/data/_utils/collate.py\u001b[0m in \u001b[0;36m<listcomp>\u001b[0;34m(.0)\u001b[0m\n\u001b[1;32m     77\u001b[0m     \u001b[0;32melif\u001b[0m \u001b[0misinstance\u001b[0m\u001b[0;34m(\u001b[0m\u001b[0melem\u001b[0m\u001b[0;34m,\u001b[0m \u001b[0mcontainer_abcs\u001b[0m\u001b[0;34m.\u001b[0m\u001b[0mSequence\u001b[0m\u001b[0;34m)\u001b[0m\u001b[0;34m:\u001b[0m\u001b[0;34m\u001b[0m\u001b[0;34m\u001b[0m\u001b[0m\n\u001b[1;32m     78\u001b[0m         \u001b[0mtransposed\u001b[0m \u001b[0;34m=\u001b[0m \u001b[0mzip\u001b[0m\u001b[0;34m(\u001b[0m\u001b[0;34m*\u001b[0m\u001b[0mbatch\u001b[0m\u001b[0;34m)\u001b[0m\u001b[0;34m\u001b[0m\u001b[0;34m\u001b[0m\u001b[0m\n\u001b[0;32m---> 79\u001b[0;31m         \u001b[0;32mreturn\u001b[0m \u001b[0;34m[\u001b[0m\u001b[0mdefault_collate\u001b[0m\u001b[0;34m(\u001b[0m\u001b[0msamples\u001b[0m\u001b[0;34m)\u001b[0m \u001b[0;32mfor\u001b[0m \u001b[0msamples\u001b[0m \u001b[0;32min\u001b[0m \u001b[0mtransposed\u001b[0m\u001b[0;34m]\u001b[0m\u001b[0;34m\u001b[0m\u001b[0;34m\u001b[0m\u001b[0m\n\u001b[0m\u001b[1;32m     80\u001b[0m \u001b[0;34m\u001b[0m\u001b[0m\n\u001b[1;32m     81\u001b[0m     \u001b[0;32mraise\u001b[0m \u001b[0mTypeError\u001b[0m\u001b[0;34m(\u001b[0m\u001b[0mdefault_collate_err_msg_format\u001b[0m\u001b[0;34m.\u001b[0m\u001b[0mformat\u001b[0m\u001b[0;34m(\u001b[0m\u001b[0melem_type\u001b[0m\u001b[0;34m)\u001b[0m\u001b[0;34m)\u001b[0m\u001b[0;34m\u001b[0m\u001b[0;34m\u001b[0m\u001b[0m\n",
      "\u001b[0;32m/opt/conda/envs/torch/lib/python3.7/site-packages/torch/utils/data/_utils/collate.py\u001b[0m in \u001b[0;36mdefault_collate\u001b[0;34m(batch)\u001b[0m\n\u001b[1;32m     53\u001b[0m             \u001b[0mstorage\u001b[0m \u001b[0;34m=\u001b[0m \u001b[0melem\u001b[0m\u001b[0;34m.\u001b[0m\u001b[0mstorage\u001b[0m\u001b[0;34m(\u001b[0m\u001b[0;34m)\u001b[0m\u001b[0;34m.\u001b[0m\u001b[0m_new_shared\u001b[0m\u001b[0;34m(\u001b[0m\u001b[0mnumel\u001b[0m\u001b[0;34m)\u001b[0m\u001b[0;34m\u001b[0m\u001b[0;34m\u001b[0m\u001b[0m\n\u001b[1;32m     54\u001b[0m             \u001b[0mout\u001b[0m \u001b[0;34m=\u001b[0m \u001b[0melem\u001b[0m\u001b[0;34m.\u001b[0m\u001b[0mnew\u001b[0m\u001b[0;34m(\u001b[0m\u001b[0mstorage\u001b[0m\u001b[0;34m)\u001b[0m\u001b[0;34m\u001b[0m\u001b[0;34m\u001b[0m\u001b[0m\n\u001b[0;32m---> 55\u001b[0;31m         \u001b[0;32mreturn\u001b[0m \u001b[0mtorch\u001b[0m\u001b[0;34m.\u001b[0m\u001b[0mstack\u001b[0m\u001b[0;34m(\u001b[0m\u001b[0mbatch\u001b[0m\u001b[0;34m,\u001b[0m \u001b[0;36m0\u001b[0m\u001b[0;34m,\u001b[0m \u001b[0mout\u001b[0m\u001b[0;34m=\u001b[0m\u001b[0mout\u001b[0m\u001b[0;34m)\u001b[0m\u001b[0;34m\u001b[0m\u001b[0;34m\u001b[0m\u001b[0m\n\u001b[0m\u001b[1;32m     56\u001b[0m     \u001b[0;32melif\u001b[0m \u001b[0melem_type\u001b[0m\u001b[0;34m.\u001b[0m\u001b[0m__module__\u001b[0m \u001b[0;34m==\u001b[0m \u001b[0;34m'numpy'\u001b[0m \u001b[0;32mand\u001b[0m \u001b[0melem_type\u001b[0m\u001b[0;34m.\u001b[0m\u001b[0m__name__\u001b[0m \u001b[0;34m!=\u001b[0m \u001b[0;34m'str_'\u001b[0m\u001b[0;31m \u001b[0m\u001b[0;31m\\\u001b[0m\u001b[0;34m\u001b[0m\u001b[0;34m\u001b[0m\u001b[0m\n\u001b[1;32m     57\u001b[0m             \u001b[0;32mand\u001b[0m \u001b[0melem_type\u001b[0m\u001b[0;34m.\u001b[0m\u001b[0m__name__\u001b[0m \u001b[0;34m!=\u001b[0m \u001b[0;34m'string_'\u001b[0m\u001b[0;34m:\u001b[0m\u001b[0;34m\u001b[0m\u001b[0;34m\u001b[0m\u001b[0m\n",
      "\u001b[0;31mRuntimeError\u001b[0m: CUDA out of memory. Tried to allocate 150.00 MiB (GPU 0; 10.75 GiB total capacity; 6.07 GiB already allocated; 129.00 MiB free; 117.38 MiB cached)"
     ]
    }
   ],
   "source": [
    "\n",
    "optimizer = torch.optim.Adam(filter(lambda p: p.requires_grad, model.parameters()), lr=0.0005, betas=(0.5, 0.999))\n",
    "\n",
    "\n",
    "model_name=\"audio_train_v2\"\n",
    "\n",
    "print(model_name)\n",
    "\n",
    "methods.audio_train(\"audio_train_v2\",num_epochs,model_name,model,train_dataloader,valid_dataloader,optimizer,criterion,device)\n"
   ]
  },
  {
   "cell_type": "code",
   "execution_count": null,
   "metadata": {},
   "outputs": [],
   "source": []
  },
  {
   "cell_type": "code",
   "execution_count": null,
   "metadata": {},
   "outputs": [],
   "source": []
  }
 ],
 "metadata": {
  "kernelspec": {
   "display_name": "Python 3",
   "language": "python",
   "name": "python3"
  },
  "language_info": {
   "codemirror_mode": {
    "name": "ipython",
    "version": 3
   },
   "file_extension": ".py",
   "mimetype": "text/x-python",
   "name": "python",
   "nbconvert_exporter": "python",
   "pygments_lexer": "ipython3",
   "version": "3.7.5"
  }
 },
 "nbformat": 4,
 "nbformat_minor": 4
}
