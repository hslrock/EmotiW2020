{
 "cells": [
  {
   "cell_type": "code",
   "execution_count": 239,
   "metadata": {},
   "outputs": [],
   "source": [
    "import pandas as pd\n",
    "import numpy as np\n",
    "from constant import EMOTIPATH"
   ]
  },
  {
   "cell_type": "code",
   "execution_count": 241,
   "metadata": {},
   "outputs": [],
   "source": [
    "Val_labels=os.path.join(EMOTIPATH,\"Val_labels.txt\")\n",
    "val_table = pd.read_csv(Val_labels,delimiter=' ')"
   ]
  },
  {
   "cell_type": "code",
   "execution_count": 265,
   "metadata": {},
   "outputs": [],
   "source": [
    "file_name=val_table[\"Vid_name\"].tolist()"
   ]
  },
  {
   "cell_type": "code",
   "execution_count": 267,
   "metadata": {},
   "outputs": [
    {
     "data": {
      "text/plain": [
       "766"
      ]
     },
     "execution_count": 267,
     "metadata": {},
     "output_type": "execute_result"
    }
   ],
   "source": [
    "len(file_name)"
   ]
  },
  {
   "cell_type": "code",
   "execution_count": 268,
   "metadata": {},
   "outputs": [
    {
     "data": {
      "text/plain": [
       "765"
      ]
     },
     "execution_count": 268,
     "metadata": {},
     "output_type": "execute_result"
    }
   ],
   "source": [
    "len(string_list)"
   ]
  },
  {
   "cell_type": "code",
   "execution_count": 272,
   "metadata": {},
   "outputs": [
    {
     "name": "stdout",
     "output_type": "stream",
     "text": [
      "['298_22']\n"
     ]
    }
   ],
   "source": [
    "list_difference = [item for item in file_name if item not in string_list]\n",
    "\n",
    "print(list_difference)"
   ]
  },
  {
   "cell_type": "code",
   "execution_count": 246,
   "metadata": {},
   "outputs": [
    {
     "data": {
      "text/plain": [
       "0         1_1\n",
       "1         1_2\n",
       "2         5_1\n",
       "3         5_2\n",
       "4         5_3\n",
       "        ...  \n",
       "761     335_8\n",
       "762     335_9\n",
       "763    335_10\n",
       "764     342_1\n",
       "765     346_1\n",
       "Name: Vid_name, Length: 766, dtype: object"
      ]
     },
     "execution_count": 246,
     "metadata": {},
     "output_type": "execute_result"
    }
   ],
   "source": [
    "file_name"
   ]
  },
  {
   "cell_type": "code",
   "execution_count": 274,
   "metadata": {},
   "outputs": [],
   "source": [
    "import re\n",
    "def trans_arff2csv(file_in, file_out):\n",
    "    \"\"\"trans *.arff file to *.csv file.\"\"\"\n",
    "\n",
    "    \n",
    "    \n",
    "    first=True\n",
    "    file_list=os.listdir(file_in)\n",
    "    file_list=sorted(file_list)\n",
    "    for i in (file_list):\n",
    "        if i.endswith(\".arff\"):\n",
    "            file_name=os.path.join(file_in,i)\n",
    "            \n",
    "            with open(file_name, 'r') as f:\n",
    "                data=[]\n",
    "                columns=[]\n",
    "\n",
    "                data_flag = 0 \n",
    "                for line in f:\n",
    "                    if line[:2] == '@a':\n",
    "                        # find indices\n",
    "                        indices = [i for i, x in enumerate(line) if x == ' ']\n",
    "                        columns.append(re.sub(r'^[\\'\\\"]|[\\'\\\"]$|\\\\+', '', line[indices[0] + 1:indices[-1]]))\n",
    "                    elif line[:2] == '@d':\n",
    "                        data_flag = 1\n",
    "                    elif data_flag == 1:\n",
    "                        data.append(line)\n",
    "            data=data[1].split(\",\")[2:-1]\n",
    "            data.insert(0, os.path.splitext(os.path.splitext(i)[0])[0]+'.arff') \n",
    "            data=np.array([data])\n",
    "            columns=columns[2:-1]\n",
    "\n",
    "            columns.insert(0, \"file_name\") \n",
    "           # content = ','.join(columns) + '\\n' + ''.join(data)\n",
    "            if first:\n",
    "                df1=pd.DataFrame(data=data,columns=columns)\n",
    "                first=False\n",
    "            else:\n",
    "                df=pd.DataFrame(data=data,columns=columns)    \n",
    "                df1=df1.append(df)\n",
    "    \n",
    "    return df1\n",
    "    # save to file\n",
    "#     with open(file_out, 'w') as f:\n",
    "#         f.write(content)\n"
   ]
  },
  {
   "cell_type": "code",
   "execution_count": 275,
   "metadata": {},
   "outputs": [],
   "source": [
    "\n",
    "train_dataframe=trans_arff2csv(os.path.join(EMOTIAUDIOPATH,'Train'),'output.csv')\n"
   ]
  },
  {
   "cell_type": "code",
   "execution_count": 276,
   "metadata": {},
   "outputs": [],
   "source": [
    "val_dataframe=trans_arff2csv(os.path.join(EMOTIAUDIOPATH,'Val'),'output.csv')\n",
    "            "
   ]
  },
  {
   "cell_type": "code",
   "execution_count": 278,
   "metadata": {},
   "outputs": [],
   "source": [
    "train_dataframe.to_csv(\"training_audio_compare.csv\")\n",
    "val_dataframe.to_csv(\"validation_audio_compare.csv\")"
   ]
  },
  {
   "cell_type": "code",
   "execution_count": null,
   "metadata": {},
   "outputs": [],
   "source": [
    "val_dataframe"
   ]
  },
  {
   "cell_type": "code",
   "execution_count": 224,
   "metadata": {},
   "outputs": [
    {
     "data": {
      "text/html": [
       "<div>\n",
       "<style scoped>\n",
       "    .dataframe tbody tr th:only-of-type {\n",
       "        vertical-align: middle;\n",
       "    }\n",
       "\n",
       "    .dataframe tbody tr th {\n",
       "        vertical-align: top;\n",
       "    }\n",
       "\n",
       "    .dataframe thead th {\n",
       "        text-align: right;\n",
       "    }\n",
       "</style>\n",
       "<table border=\"1\" class=\"dataframe\">\n",
       "  <thead>\n",
       "    <tr style=\"text-align: right;\">\n",
       "      <th></th>\n",
       "      <th>file_name</th>\n",
       "      <th>audspec_lengthL1norm_sma_maxPos</th>\n",
       "      <th>audspec_lengthL1norm_sma_minPos</th>\n",
       "      <th>audspec_lengthL1norm_sma_quartile1</th>\n",
       "      <th>audspec_lengthL1norm_sma_quartile2</th>\n",
       "      <th>audspec_lengthL1norm_sma_quartile3</th>\n",
       "      <th>audspec_lengthL1norm_sma_iqr1-2</th>\n",
       "      <th>audspec_lengthL1norm_sma_iqr2-3</th>\n",
       "      <th>audspec_lengthL1norm_sma_iqr1-3</th>\n",
       "      <th>audspec_lengthL1norm_sma_percentile1.0</th>\n",
       "      <th>...</th>\n",
       "      <th>mfcc_sma_de[14]_peakRangeAbs</th>\n",
       "      <th>mfcc_sma_de[14]_peakRangeRel</th>\n",
       "      <th>mfcc_sma_de[14]_peakMeanAbs</th>\n",
       "      <th>mfcc_sma_de[14]_peakMeanMeanDist</th>\n",
       "      <th>mfcc_sma_de[14]_peakMeanRel</th>\n",
       "      <th>mfcc_sma_de[14]_minRangeRel</th>\n",
       "      <th>mfcc_sma_de[14]_meanRisingSlope</th>\n",
       "      <th>mfcc_sma_de[14]_stddevRisingSlope</th>\n",
       "      <th>mfcc_sma_de[14]_meanFallingSlope</th>\n",
       "      <th>mfcc_sma_de[14]_stddevFallingSlope</th>\n",
       "    </tr>\n",
       "  </thead>\n",
       "  <tbody>\n",
       "    <tr>\n",
       "      <th>0</th>\n",
       "      <td>100_1.arff100_1.arff</td>\n",
       "      <td>6.451613e-026.451613e-02</td>\n",
       "      <td>0.000000e+000.000000e+00</td>\n",
       "      <td>5.099556e-015.099556e-01</td>\n",
       "      <td>5.661886e-015.661886e-01</td>\n",
       "      <td>6.651620e-016.651620e-01</td>\n",
       "      <td>5.623299e-025.623299e-02</td>\n",
       "      <td>9.897339e-029.897339e-02</td>\n",
       "      <td>1.552064e-011.552064e-01</td>\n",
       "      <td>4.169536e-014.169536e-01</td>\n",
       "      <td>...</td>\n",
       "      <td>6.863644e+006.863644e+00</td>\n",
       "      <td>5.327983e-015.327983e-01</td>\n",
       "      <td>1.979858e+001.979858e+00</td>\n",
       "      <td>1.975270e+001.975270e+00</td>\n",
       "      <td>4.314810e+024.314810e+02</td>\n",
       "      <td>6.573737e-016.573737e-01</td>\n",
       "      <td>1.003138e+021.003138e+02</td>\n",
       "      <td>6.199636e+016.199636e+01</td>\n",
       "      <td>9.722271e+019.722271e+01</td>\n",
       "      <td>4.321863e+014.321863e+01</td>\n",
       "    </tr>\n",
       "    <tr>\n",
       "      <th>0</th>\n",
       "      <td>100_3.arff100_3.arff</td>\n",
       "      <td>2.258064e-012.258064e-01</td>\n",
       "      <td>0.000000e+000.000000e+00</td>\n",
       "      <td>3.789085e-013.789085e-01</td>\n",
       "      <td>5.725809e-015.725809e-01</td>\n",
       "      <td>9.346936e-019.346936e-01</td>\n",
       "      <td>1.936724e-011.936724e-01</td>\n",
       "      <td>3.621126e-013.621126e-01</td>\n",
       "      <td>5.557851e-015.557851e-01</td>\n",
       "      <td>2.927418e-012.927418e-01</td>\n",
       "      <td>...</td>\n",
       "      <td>6.286416e+006.286416e+00</td>\n",
       "      <td>5.404690e-015.404690e-01</td>\n",
       "      <td>2.252677e+002.252677e+00</td>\n",
       "      <td>2.264438e+002.264438e+00</td>\n",
       "      <td>-1.915324e+02-1.915324e+02</td>\n",
       "      <td>5.768254e-015.768254e-01</td>\n",
       "      <td>1.117978e+021.117978e+02</td>\n",
       "      <td>5.020523e+015.020523e+01</td>\n",
       "      <td>1.139264e+021.139264e+02</td>\n",
       "      <td>5.736816e+015.736816e+01</td>\n",
       "    </tr>\n",
       "  </tbody>\n",
       "</table>\n",
       "<p>2 rows × 6373 columns</p>\n",
       "</div>"
      ],
      "text/plain": [
       "              file_name audspec_lengthL1norm_sma_maxPos  \\\n",
       "0  100_1.arff100_1.arff        6.451613e-026.451613e-02   \n",
       "0  100_3.arff100_3.arff        2.258064e-012.258064e-01   \n",
       "\n",
       "  audspec_lengthL1norm_sma_minPos audspec_lengthL1norm_sma_quartile1  \\\n",
       "0        0.000000e+000.000000e+00           5.099556e-015.099556e-01   \n",
       "0        0.000000e+000.000000e+00           3.789085e-013.789085e-01   \n",
       "\n",
       "  audspec_lengthL1norm_sma_quartile2 audspec_lengthL1norm_sma_quartile3  \\\n",
       "0           5.661886e-015.661886e-01           6.651620e-016.651620e-01   \n",
       "0           5.725809e-015.725809e-01           9.346936e-019.346936e-01   \n",
       "\n",
       "  audspec_lengthL1norm_sma_iqr1-2 audspec_lengthL1norm_sma_iqr2-3  \\\n",
       "0        5.623299e-025.623299e-02        9.897339e-029.897339e-02   \n",
       "0        1.936724e-011.936724e-01        3.621126e-013.621126e-01   \n",
       "\n",
       "  audspec_lengthL1norm_sma_iqr1-3 audspec_lengthL1norm_sma_percentile1.0  ...  \\\n",
       "0        1.552064e-011.552064e-01               4.169536e-014.169536e-01  ...   \n",
       "0        5.557851e-015.557851e-01               2.927418e-012.927418e-01  ...   \n",
       "\n",
       "  mfcc_sma_de[14]_peakRangeAbs mfcc_sma_de[14]_peakRangeRel  \\\n",
       "0     6.863644e+006.863644e+00     5.327983e-015.327983e-01   \n",
       "0     6.286416e+006.286416e+00     5.404690e-015.404690e-01   \n",
       "\n",
       "  mfcc_sma_de[14]_peakMeanAbs mfcc_sma_de[14]_peakMeanMeanDist  \\\n",
       "0    1.979858e+001.979858e+00         1.975270e+001.975270e+00   \n",
       "0    2.252677e+002.252677e+00         2.264438e+002.264438e+00   \n",
       "\n",
       "  mfcc_sma_de[14]_peakMeanRel mfcc_sma_de[14]_minRangeRel  \\\n",
       "0    4.314810e+024.314810e+02    6.573737e-016.573737e-01   \n",
       "0  -1.915324e+02-1.915324e+02    5.768254e-015.768254e-01   \n",
       "\n",
       "  mfcc_sma_de[14]_meanRisingSlope mfcc_sma_de[14]_stddevRisingSlope  \\\n",
       "0        1.003138e+021.003138e+02          6.199636e+016.199636e+01   \n",
       "0        1.117978e+021.117978e+02          5.020523e+015.020523e+01   \n",
       "\n",
       "  mfcc_sma_de[14]_meanFallingSlope mfcc_sma_de[14]_stddevFallingSlope  \n",
       "0         9.722271e+019.722271e+01           4.321863e+014.321863e+01  \n",
       "0         1.139264e+021.139264e+02           5.736816e+015.736816e+01  \n",
       "\n",
       "[2 rows x 6373 columns]"
      ]
     },
     "execution_count": 224,
     "metadata": {},
     "output_type": "execute_result"
    }
   ],
   "source": [
    "df2"
   ]
  },
  {
   "cell_type": "code",
   "execution_count": 156,
   "metadata": {},
   "outputs": [
    {
     "data": {
      "text/plain": [
       "'100_3.arff'"
      ]
     },
     "execution_count": 156,
     "metadata": {},
     "output_type": "execute_result"
    }
   ],
   "source": [
    "import os\n",
    "os.path.splitext(os.path.splitext('100_3.wav.arff')[0])[0]+'.arff'"
   ]
  },
  {
   "cell_type": "code",
   "execution_count": 143,
   "metadata": {},
   "outputs": [
    {
     "data": {
      "text/html": [
       "<div>\n",
       "<style scoped>\n",
       "    .dataframe tbody tr th:only-of-type {\n",
       "        vertical-align: middle;\n",
       "    }\n",
       "\n",
       "    .dataframe tbody tr th {\n",
       "        vertical-align: top;\n",
       "    }\n",
       "\n",
       "    .dataframe thead th {\n",
       "        text-align: right;\n",
       "    }\n",
       "</style>\n",
       "<table border=\"1\" class=\"dataframe\">\n",
       "  <thead>\n",
       "    <tr style=\"text-align: right;\">\n",
       "      <th></th>\n",
       "      <th>pcm_intensity_sma_max</th>\n",
       "      <th>pcm_intensity_sma_min</th>\n",
       "      <th>pcm_intensity_sma_range</th>\n",
       "      <th>pcm_intensity_sma_maxPos</th>\n",
       "      <th>pcm_intensity_sma_minPos</th>\n",
       "      <th>pcm_intensity_sma_amean</th>\n",
       "      <th>pcm_intensity_sma_linregc1</th>\n",
       "      <th>pcm_intensity_sma_linregc2</th>\n",
       "      <th>pcm_intensity_sma_linregerrA</th>\n",
       "      <th>pcm_intensity_sma_linregerrQ</th>\n",
       "      <th>...</th>\n",
       "      <th>F0env_sma_de_linregerrQ</th>\n",
       "      <th>F0env_sma_de_stddev</th>\n",
       "      <th>F0env_sma_de_skewness</th>\n",
       "      <th>F0env_sma_de_kurtosis</th>\n",
       "      <th>F0env_sma_de_quartile1</th>\n",
       "      <th>F0env_sma_de_quartile2</th>\n",
       "      <th>F0env_sma_de_quartile3</th>\n",
       "      <th>F0env_sma_de_iqr1-2</th>\n",
       "      <th>F0env_sma_de_iqr2-3</th>\n",
       "      <th>F0env_sma_de_iqr1-3</th>\n",
       "    </tr>\n",
       "  </thead>\n",
       "  <tbody>\n",
       "    <tr>\n",
       "      <th>0</th>\n",
       "      <td>4.957961e-06</td>\n",
       "      <td>0.000000e+00</td>\n",
       "      <td>4.957961e-06</td>\n",
       "      <td>4.090000e+02</td>\n",
       "      <td>0.000000e+00</td>\n",
       "      <td>3.186097e-07</td>\n",
       "      <td>1.591813e-10</td>\n",
       "      <td>2.788940e-07</td>\n",
       "      <td>3.624479e-07</td>\n",
       "      <td>3.319472e-13</td>\n",
       "      <td>...</td>\n",
       "      <td>6.363478e+00</td>\n",
       "      <td>2.548579e+00</td>\n",
       "      <td>2.588650e+00</td>\n",
       "      <td>1.446036e+01</td>\n",
       "      <td>-5.346413e-01</td>\n",
       "      <td>0.000000e+00</td>\n",
       "      <td>6.950135e-01</td>\n",
       "      <td>5.346413e-01</td>\n",
       "      <td>6.950135e-01</td>\n",
       "      <td>1.229655e+00</td>\n",
       "    </tr>\n",
       "  </tbody>\n",
       "</table>\n",
       "<p>1 rows × 988 columns</p>\n",
       "</div>"
      ],
      "text/plain": [
       "  pcm_intensity_sma_max pcm_intensity_sma_min pcm_intensity_sma_range  \\\n",
       "0          4.957961e-06          0.000000e+00            4.957961e-06   \n",
       "\n",
       "  pcm_intensity_sma_maxPos pcm_intensity_sma_minPos pcm_intensity_sma_amean  \\\n",
       "0             4.090000e+02             0.000000e+00            3.186097e-07   \n",
       "\n",
       "  pcm_intensity_sma_linregc1 pcm_intensity_sma_linregc2  \\\n",
       "0               1.591813e-10               2.788940e-07   \n",
       "\n",
       "  pcm_intensity_sma_linregerrA pcm_intensity_sma_linregerrQ  ...  \\\n",
       "0                 3.624479e-07                 3.319472e-13  ...   \n",
       "\n",
       "  F0env_sma_de_linregerrQ F0env_sma_de_stddev F0env_sma_de_skewness  \\\n",
       "0            6.363478e+00        2.548579e+00          2.588650e+00   \n",
       "\n",
       "  F0env_sma_de_kurtosis F0env_sma_de_quartile1 F0env_sma_de_quartile2  \\\n",
       "0          1.446036e+01          -5.346413e-01           0.000000e+00   \n",
       "\n",
       "  F0env_sma_de_quartile3 F0env_sma_de_iqr1-2 F0env_sma_de_iqr2-3  \\\n",
       "0           6.950135e-01        5.346413e-01        6.950135e-01   \n",
       "\n",
       "  F0env_sma_de_iqr1-3  \n",
       "0        1.229655e+00  \n",
       "\n",
       "[1 rows x 988 columns]"
      ]
     },
     "execution_count": 143,
     "metadata": {},
     "output_type": "execute_result"
    }
   ],
   "source": [
    "os.path.splitext(base)"
   ]
  },
  {
   "cell_type": "code",
   "execution_count": 144,
   "metadata": {},
   "outputs": [
    {
     "data": {
      "text/html": [
       "<div>\n",
       "<style scoped>\n",
       "    .dataframe tbody tr th:only-of-type {\n",
       "        vertical-align: middle;\n",
       "    }\n",
       "\n",
       "    .dataframe tbody tr th {\n",
       "        vertical-align: top;\n",
       "    }\n",
       "\n",
       "    .dataframe thead th {\n",
       "        text-align: right;\n",
       "    }\n",
       "</style>\n",
       "<table border=\"1\" class=\"dataframe\">\n",
       "  <thead>\n",
       "    <tr style=\"text-align: right;\">\n",
       "      <th></th>\n",
       "      <th>pcm_intensity_sma_max</th>\n",
       "      <th>pcm_intensity_sma_min</th>\n",
       "      <th>pcm_intensity_sma_range</th>\n",
       "      <th>pcm_intensity_sma_maxPos</th>\n",
       "      <th>pcm_intensity_sma_minPos</th>\n",
       "      <th>pcm_intensity_sma_amean</th>\n",
       "      <th>pcm_intensity_sma_linregc1</th>\n",
       "      <th>pcm_intensity_sma_linregc2</th>\n",
       "      <th>pcm_intensity_sma_linregerrA</th>\n",
       "      <th>pcm_intensity_sma_linregerrQ</th>\n",
       "      <th>...</th>\n",
       "      <th>F0env_sma_de_linregerrQ</th>\n",
       "      <th>F0env_sma_de_stddev</th>\n",
       "      <th>F0env_sma_de_skewness</th>\n",
       "      <th>F0env_sma_de_kurtosis</th>\n",
       "      <th>F0env_sma_de_quartile1</th>\n",
       "      <th>F0env_sma_de_quartile2</th>\n",
       "      <th>F0env_sma_de_quartile3</th>\n",
       "      <th>F0env_sma_de_iqr1-2</th>\n",
       "      <th>F0env_sma_de_iqr2-3</th>\n",
       "      <th>F0env_sma_de_iqr1-3</th>\n",
       "    </tr>\n",
       "  </thead>\n",
       "  <tbody>\n",
       "    <tr>\n",
       "      <th>0</th>\n",
       "      <td>4.957961e-06</td>\n",
       "      <td>0.000000e+00</td>\n",
       "      <td>4.957961e-06</td>\n",
       "      <td>4.090000e+02</td>\n",
       "      <td>0.000000e+00</td>\n",
       "      <td>3.186097e-07</td>\n",
       "      <td>1.591813e-10</td>\n",
       "      <td>2.788940e-07</td>\n",
       "      <td>3.624479e-07</td>\n",
       "      <td>3.319472e-13</td>\n",
       "      <td>...</td>\n",
       "      <td>6.363478e+00</td>\n",
       "      <td>2.548579e+00</td>\n",
       "      <td>2.588650e+00</td>\n",
       "      <td>1.446036e+01</td>\n",
       "      <td>-5.346413e-01</td>\n",
       "      <td>0.000000e+00</td>\n",
       "      <td>6.950135e-01</td>\n",
       "      <td>5.346413e-01</td>\n",
       "      <td>6.950135e-01</td>\n",
       "      <td>1.229655e+00</td>\n",
       "    </tr>\n",
       "    <tr>\n",
       "      <th>0</th>\n",
       "      <td>4.957961e-06</td>\n",
       "      <td>0.000000e+00</td>\n",
       "      <td>4.957961e-06</td>\n",
       "      <td>4.090000e+02</td>\n",
       "      <td>0.000000e+00</td>\n",
       "      <td>3.186097e-07</td>\n",
       "      <td>1.591813e-10</td>\n",
       "      <td>2.788940e-07</td>\n",
       "      <td>3.624479e-07</td>\n",
       "      <td>3.319472e-13</td>\n",
       "      <td>...</td>\n",
       "      <td>6.363478e+00</td>\n",
       "      <td>2.548579e+00</td>\n",
       "      <td>2.588650e+00</td>\n",
       "      <td>1.446036e+01</td>\n",
       "      <td>-5.346413e-01</td>\n",
       "      <td>0.000000e+00</td>\n",
       "      <td>6.950135e-01</td>\n",
       "      <td>5.346413e-01</td>\n",
       "      <td>6.950135e-01</td>\n",
       "      <td>1.229655e+00</td>\n",
       "    </tr>\n",
       "  </tbody>\n",
       "</table>\n",
       "<p>2 rows × 988 columns</p>\n",
       "</div>"
      ],
      "text/plain": [
       "  pcm_intensity_sma_max pcm_intensity_sma_min pcm_intensity_sma_range  \\\n",
       "0          4.957961e-06          0.000000e+00            4.957961e-06   \n",
       "0          4.957961e-06          0.000000e+00            4.957961e-06   \n",
       "\n",
       "  pcm_intensity_sma_maxPos pcm_intensity_sma_minPos pcm_intensity_sma_amean  \\\n",
       "0             4.090000e+02             0.000000e+00            3.186097e-07   \n",
       "0             4.090000e+02             0.000000e+00            3.186097e-07   \n",
       "\n",
       "  pcm_intensity_sma_linregc1 pcm_intensity_sma_linregc2  \\\n",
       "0               1.591813e-10               2.788940e-07   \n",
       "0               1.591813e-10               2.788940e-07   \n",
       "\n",
       "  pcm_intensity_sma_linregerrA pcm_intensity_sma_linregerrQ  ...  \\\n",
       "0                 3.624479e-07                 3.319472e-13  ...   \n",
       "0                 3.624479e-07                 3.319472e-13  ...   \n",
       "\n",
       "  F0env_sma_de_linregerrQ F0env_sma_de_stddev F0env_sma_de_skewness  \\\n",
       "0            6.363478e+00        2.548579e+00          2.588650e+00   \n",
       "0            6.363478e+00        2.548579e+00          2.588650e+00   \n",
       "\n",
       "  F0env_sma_de_kurtosis F0env_sma_de_quartile1 F0env_sma_de_quartile2  \\\n",
       "0          1.446036e+01          -5.346413e-01           0.000000e+00   \n",
       "0          1.446036e+01          -5.346413e-01           0.000000e+00   \n",
       "\n",
       "  F0env_sma_de_quartile3 F0env_sma_de_iqr1-2 F0env_sma_de_iqr2-3  \\\n",
       "0           6.950135e-01        5.346413e-01        6.950135e-01   \n",
       "0           6.950135e-01        5.346413e-01        6.950135e-01   \n",
       "\n",
       "  F0env_sma_de_iqr1-3  \n",
       "0        1.229655e+00  \n",
       "0        1.229655e+00  \n",
       "\n",
       "[2 rows x 988 columns]"
      ]
     },
     "execution_count": 144,
     "metadata": {},
     "output_type": "execute_result"
    }
   ],
   "source": [
    "c.append(d)"
   ]
  },
  {
   "cell_type": "code",
   "execution_count": null,
   "metadata": {},
   "outputs": [],
   "source": []
  }
 ],
 "metadata": {
  "kernelspec": {
   "display_name": "Python 3",
   "language": "python",
   "name": "python3"
  },
  "language_info": {
   "codemirror_mode": {
    "name": "ipython",
    "version": 3
   },
   "file_extension": ".py",
   "mimetype": "text/x-python",
   "name": "python",
   "nbconvert_exporter": "python",
   "pygments_lexer": "ipython3",
   "version": "3.7.5"
  }
 },
 "nbformat": 4,
 "nbformat_minor": 4
}
