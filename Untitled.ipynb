{
 "cells": [
  {
   "cell_type": "code",
   "execution_count": 1,
   "metadata": {},
   "outputs": [],
   "source": [
    "from Dataload import dataload\n",
    "#from module import transformer,video_model\n",
    "\n",
    "from module import video_model_attention\n",
    "from constant import EMOTIPATH,EMOTIFACEPATH,EMOTIAUDIOPATH\n",
    "from train import methods\n",
    "\n",
    "\n",
    "#Torch Library\n",
    "\n",
    "import torch\n",
    "import torch.nn as nn\n",
    "from torch.utils.data import Dataset, DataLoader\n",
    "from torchvision import  utils\n",
    "\n",
    "#Sub tools\n",
    "import pandas as pd\n",
    "\n",
    "import os\n"
   ]
  },
  {
   "cell_type": "code",
   "execution_count": 2,
   "metadata": {},
   "outputs": [
    {
     "name": "stdout",
     "output_type": "stream",
     "text": [
      "3    932\n",
      "2    923\n",
      "1    806\n",
      "Name: Label, dtype: int64\n",
      "1    299\n",
      "2    281\n",
      "3    186\n",
      "Name: Label, dtype: int64\n"
     ]
    }
   ],
   "source": [
    "\n",
    "\n",
    "Train_label=os.path.join(EMOTIPATH,\"Train_labels.txt\")\n",
    "Train_video_pt=os.path.join(EMOTIPATH,\"pt\",\"Train\")\n",
    "Train_face_pt=os.path.join(EMOTIFACEPATH,\"pt_stacked\",\"Train\")\n",
    "Audio_Train=os.path.join(EMOTIAUDIOPATH,\"Train_audio.csv\")\n",
    "\n",
    "Val_labels=os.path.join(EMOTIPATH,\"Val_labels.txt\")\n",
    "Val_video_pt=os.path.join(EMOTIPATH,\"pt\",\"Valid\")\n",
    "Val_face_pt=os.path.join(EMOTIFACEPATH,\"pt_stacked\",\"Valid\")\n",
    "Audio_Valid=os.path.join(EMOTIAUDIOPATH,\"Val_audio.csv\")\n",
    "\n",
    "\n",
    "train_table = pd.read_csv(Train_label,delimiter=' ')\n",
    "val_table = pd.read_csv(Val_labels,delimiter=' ')\n",
    "print(train_table['Label'].value_counts())\n",
    "print(val_table['Label'].value_counts())\n",
    "\n",
    "\n",
    "\n",
    "device = torch.device(\"cuda:0\" if torch.cuda.is_available() else \"cpu\")\n",
    "torch.set_default_tensor_type(torch.cuda.FloatTensor)\n",
    "\n",
    "\n",
    "\n",
    "frame_num=10\n",
    "train_data_pt=dataload.Video_Frame_Only_Data(Train_label,base_path_v=Train_video_pt,frame_num=frame_num,audio_csv=Audio_Train)\n",
    "valid_data_pt=dataload.Video_Frame_Only_Data(Val_labels,base_path_v=Val_video_pt,frame_num=frame_num,audio_csv=Audio_Valid)\n",
    "\n",
    "\n",
    "def load_pretrained_model(pre_train=False):\n",
    "\n",
    "    image_model=video_model_attention.Video_modeller_global_only(frame_num,pre_train=False)\n",
    "    image_model.load_state_dict(torch.load(\"global_image_train_v2/global_attetnion_8.pth\"),strict=False)\n",
    "    audio_model=video_model_attention.AudioRecognition(softmax=pre_train)\n",
    "    audio_model.load_state_dict(torch.load(\"pre_trained_model/pre_embedded_audio.pth\"),strict=False)\n",
    "    return(image_model,audio_model)#,audio_model)\n",
    "\n",
    "\n",
    "\n",
    "def show_img(dataset,index,frame):\n",
    "    x=dataset[index][0][frame].cpu().numpy()\n",
    "    plt.figure(1,(15,15))\n",
    "    plt.axis('off')\n",
    "    image = (x*0.5+0.5).transpose((1, 2, 0)).squeeze()\n",
    "    plt.imshow(image)\n",
    "    \n",
    "    fig = plt.figure(2,(15,15))\n",
    "   # plt.axis('off')\n",
    "    grid = ImageGrid(fig, 111,\n",
    "                     nrows_ncols=(1,5),\n",
    "                     axes_pad=0.1,\n",
    "                     )\n",
    "    for i in range(5):\n",
    "        face=dataset[index][1][frame].cpu().numpy()\n",
    "        image = (face[i,:]*0.5+0.5).transpose((1, 2, 0)).squeeze()\n",
    "        grid[i].imshow(image,cmap='gray',interpolation='none')\n",
    "        \n",
    "\n",
    "#audio_model=video_model_attention.AudioRecognition(softmax=True)"
   ]
  },
  {
   "cell_type": "code",
   "execution_count": 3,
   "metadata": {},
   "outputs": [],
   "source": [
    "img_model,audio_model=load_pretrained_model(False)\n",
    "model=video_model_attention.video_transformer_attention1(img_model,audio_model)"
   ]
  },
  {
   "cell_type": "code",
   "execution_count": 4,
   "metadata": {},
   "outputs": [
    {
     "name": "stdout",
     "output_type": "stream",
     "text": [
      "video_model is unfrozen\n",
      "audio_model is unfrozen\n",
      "fc1 is unfrozen\n",
      "fc2 is unfrozen\n",
      "relu is unfrozen\n",
      "v3\n"
     ]
    }
   ],
   "source": [
    "weights=[932/932,932/923,932/806]\n",
    "class_weights = torch.FloatTensor(weights).to(device)\n",
    "\n",
    "train_dataloader = DataLoader(train_data_pt, batch_size=32\n",
    "                       , num_workers=0,shuffle=True)\n",
    "valid_dataloader = DataLoader(valid_data_pt, batch_size=32\n",
    "                   , num_workers=0)\n",
    "#model=video_model.video_transformer(img_model,audio_model)\n",
    "model=model.to(device)\n",
    "\n",
    "num_epochs=50\n",
    "criterion = nn.CrossEntropyLoss(weight=class_weights)  \n",
    "\n",
    "for name, child in model.named_children():\n",
    "    if not name in ['face_model','frame_model' ]:\n",
    "        print(name + ' is unfrozen')\n",
    "        for param in child.parameters():\n",
    "            param.requires_grad = True\n",
    "    else:\n",
    "        print(name + ' is frozen')\n",
    "        for param in child.parameters():\n",
    "               param.requires_grad = False\n",
    "                \n",
    "optimizer = torch.optim.Adam(filter(lambda p: p.requires_grad, model.parameters()), lr=0.0005, betas=(0.5, 0.999))\n",
    "\n",
    "\n",
    "model_name=\"v3\"\n",
    "\n",
    "print(model_name)"
   ]
  },
  {
   "cell_type": "code",
   "execution_count": 5,
   "metadata": {},
   "outputs": [
    {
     "name": "stdout",
     "output_type": "stream",
     "text": [
      "Epoch:  1 \n",
      "\n",
      "Validation \n",
      "\n",
      "Validation Loss:  1.1164406339327495\n",
      "Validation Accuracy:  0.29765013054830286\n",
      "Confusion Matrix: \n",
      " [[149  71  79]\n",
      " [180  33  68]\n",
      " [ 50  90  46]]\n",
      "Train \n",
      "\n"
     ]
    },
    {
     "data": {
      "application/vnd.jupyter.widget-view+json": {
       "model_id": "419ec6a393434aba9c0ed9b066036a8d",
       "version_major": 2,
       "version_minor": 0
      },
      "text/plain": [
       "HBox(children=(FloatProgress(value=1.0, bar_style='info', max=1.0), HTML(value='')))"
      ]
     },
     "metadata": {},
     "output_type": "display_data"
    },
    {
     "name": "stdout",
     "output_type": "stream",
     "text": [
      "Batch:  40 / 84\n",
      "Batch Recognition loss:  0.9990871548652649\n",
      "Batch:  80 / 84\n",
      "Batch Recognition loss:  1.0087013244628906\n",
      "\n",
      "Average_Loss:  0.9387204150358835\n",
      "Average_Accuracy:  0.6178128523111612\n",
      "Confusion Matrix: \n",
      " [[477 169 160]\n",
      " [218 491 214]\n",
      " [125 131 676]]\n",
      "Epoch:  2 \n",
      "\n",
      "Validation \n",
      "\n",
      "Validation Loss:  0.9965696732203165\n",
      "Validation Accuracy:  0.5221932114882507\n",
      "Confusion Matrix: \n",
      " [[141  70  88]\n",
      " [ 94 142  45]\n",
      " [ 33  36 117]]\n",
      "Train \n",
      "\n"
     ]
    },
    {
     "data": {
      "application/vnd.jupyter.widget-view+json": {
       "model_id": "60618a7f944d43e2bafd28413ddc8d5d",
       "version_major": 2,
       "version_minor": 0
      },
      "text/plain": [
       "HBox(children=(FloatProgress(value=1.0, bar_style='info', max=1.0), HTML(value='')))"
      ]
     },
     "metadata": {},
     "output_type": "display_data"
    },
    {
     "name": "stdout",
     "output_type": "stream",
     "text": [
      "Batch:  40 / 84\n",
      "Batch Recognition loss:  0.8173470497131348\n",
      "Batch:  80 / 84\n",
      "Batch Recognition loss:  0.9510864615440369\n",
      "\n",
      "Average_Loss:  0.8706669005609694\n",
      "Average_Accuracy:  0.6816986095452837\n",
      "Confusion Matrix: \n",
      " [[484 167 155]\n",
      " [134 630 159]\n",
      " [104 128 700]]\n",
      "Epoch:  3 \n",
      "\n",
      "Validation \n",
      "\n",
      "Validation Loss:  1.0209828093647957\n",
      "Validation Accuracy:  0.4934725848563969\n",
      "Confusion Matrix: \n",
      " [[160  93  46]\n",
      " [105 151  25]\n",
      " [ 47  72  67]]\n",
      "Train \n",
      "\n"
     ]
    },
    {
     "data": {
      "application/vnd.jupyter.widget-view+json": {
       "model_id": "cdd9a98900c54e18ae1f0d53efd5f790",
       "version_major": 2,
       "version_minor": 0
      },
      "text/plain": [
       "HBox(children=(FloatProgress(value=1.0, bar_style='info', max=1.0), HTML(value='')))"
      ]
     },
     "metadata": {},
     "output_type": "display_data"
    },
    {
     "name": "stdout",
     "output_type": "stream",
     "text": [
      "Batch:  40 / 84\n",
      "Batch Recognition loss:  0.8452913165092468\n",
      "Batch:  80 / 84\n",
      "Batch Recognition loss:  0.9404921531677246\n",
      "\n",
      "Average_Loss:  0.845335624047688\n",
      "Average_Accuracy:  0.7091319052987599\n",
      "Confusion Matrix: \n",
      " [[514 164 128]\n",
      " [129 671 123]\n",
      " [100 130 702]]\n",
      "Epoch:  4 \n",
      "\n",
      "Validation \n",
      "\n",
      "Validation Loss:  1.028168539206187\n",
      "Validation Accuracy:  0.47389033942558745\n",
      "Confusion Matrix: \n",
      " [[ 80 101 118]\n",
      " [ 48 154  79]\n",
      " [ 14  43 129]]\n",
      "Train \n",
      "\n"
     ]
    },
    {
     "data": {
      "application/vnd.jupyter.widget-view+json": {
       "model_id": "88d800e85a63453cac7d58b401ad23c2",
       "version_major": 2,
       "version_minor": 0
      },
      "text/plain": [
       "HBox(children=(FloatProgress(value=1.0, bar_style='info', max=1.0), HTML(value='')))"
      ]
     },
     "metadata": {},
     "output_type": "display_data"
    },
    {
     "name": "stdout",
     "output_type": "stream",
     "text": [
      "Batch:  40 / 84\n",
      "Batch Recognition loss:  0.7185642719268799\n",
      "Batch:  80 / 84\n",
      "Batch Recognition loss:  0.9767007827758789\n",
      "\n",
      "Average_Loss:  0.8397198603266761\n",
      "Average_Accuracy:  0.7034949267192785\n",
      "Confusion Matrix: \n",
      " [[497 175 134]\n",
      " [123 660 140]\n",
      " [ 89 128 715]]\n",
      "Epoch:  5 \n",
      "\n",
      "Validation \n",
      "\n",
      "Validation Loss:  1.0162737915913265\n",
      "Validation Accuracy:  0.5026109660574413\n",
      "Confusion Matrix: \n",
      " [[124 104  71]\n",
      " [ 83 161  37]\n",
      " [ 30  56 100]]\n",
      "Train \n",
      "\n"
     ]
    },
    {
     "data": {
      "application/vnd.jupyter.widget-view+json": {
       "model_id": "ba00fca8a2ae4339957323a266ba0f0e",
       "version_major": 2,
       "version_minor": 0
      },
      "text/plain": [
       "HBox(children=(FloatProgress(value=1.0, bar_style='info', max=1.0), HTML(value='')))"
      ]
     },
     "metadata": {},
     "output_type": "display_data"
    },
    {
     "name": "stdout",
     "output_type": "stream",
     "text": [
      "Batch:  40 / 84\n",
      "Batch Recognition loss:  0.8432974815368652\n",
      "Batch:  80 / 84\n",
      "Batch Recognition loss:  0.8111380338668823\n",
      "\n",
      "Average_Loss:  0.8276474128166834\n",
      "Average_Accuracy:  0.7245396467493423\n",
      "Confusion Matrix: \n",
      " [[528 160 118]\n",
      " [127 669 127]\n",
      " [ 82 119 731]]\n",
      "Epoch:  6 \n",
      "\n",
      "Validation \n",
      "\n",
      "Validation Loss:  0.9945131167769432\n",
      "Validation Accuracy:  0.5300261096605744\n",
      "Confusion Matrix: \n",
      " [[160 109  30]\n",
      " [ 92 162  27]\n",
      " [ 52  50  84]]\n",
      "Train \n",
      "\n"
     ]
    },
    {
     "data": {
      "application/vnd.jupyter.widget-view+json": {
       "model_id": "65c065a313f64c5bb2156602a0ab1225",
       "version_major": 2,
       "version_minor": 0
      },
      "text/plain": [
       "HBox(children=(FloatProgress(value=1.0, bar_style='info', max=1.0), HTML(value='')))"
      ]
     },
     "metadata": {},
     "output_type": "display_data"
    },
    {
     "name": "stdout",
     "output_type": "stream",
     "text": [
      "Batch:  40 / 84\n",
      "Batch Recognition loss:  0.8951330184936523\n",
      "Batch:  80 / 84\n",
      "Batch Recognition loss:  0.7832995057106018\n",
      "\n",
      "Average_Loss:  0.8260702483710789\n",
      "Average_Accuracy:  0.7162720781661029\n",
      "Confusion Matrix: \n",
      " [[520 159 127]\n",
      " [129 657 137]\n",
      " [ 87 116 729]]\n",
      "Epoch:  7 \n",
      "\n",
      "Validation \n",
      "\n",
      "Validation Loss:  1.0094945927460988\n",
      "Validation Accuracy:  0.5130548302872062\n",
      "Confusion Matrix: \n",
      " [[140  82  77]\n",
      " [ 79 140  62]\n",
      " [ 29  44 113]]\n",
      "Train \n",
      "\n"
     ]
    },
    {
     "data": {
      "application/vnd.jupyter.widget-view+json": {
       "model_id": "e2d72b66ec294d9696c5b6e434d5592a",
       "version_major": 2,
       "version_minor": 0
      },
      "text/plain": [
       "HBox(children=(FloatProgress(value=1.0, bar_style='info', max=1.0), HTML(value='')))"
      ]
     },
     "metadata": {},
     "output_type": "display_data"
    },
    {
     "name": "stdout",
     "output_type": "stream",
     "text": [
      "Batch:  40 / 84\n",
      "Batch Recognition loss:  0.8630154132843018\n",
      "Batch:  80 / 84\n",
      "Batch Recognition loss:  0.7384477257728577\n",
      "\n",
      "Average_Loss:  0.8203788449366888\n",
      "Average_Accuracy:  0.7282976324689966\n",
      "Confusion Matrix: \n",
      " [[543 143 120]\n",
      " [127 662 134]\n",
      " [ 93 106 733]]\n",
      "Epoch:  8 \n",
      "\n",
      "Validation \n",
      "\n",
      "Validation Loss:  1.0192992786566417\n",
      "Validation Accuracy:  0.5039164490861618\n",
      "Confusion Matrix: \n",
      " [[131  91  77]\n",
      " [ 83 139  59]\n",
      " [ 31  39 116]]\n",
      "Train \n",
      "\n"
     ]
    },
    {
     "data": {
      "application/vnd.jupyter.widget-view+json": {
       "model_id": "57141dfd1a1b4e21a72b89d9701ccb20",
       "version_major": 2,
       "version_minor": 0
      },
      "text/plain": [
       "HBox(children=(FloatProgress(value=1.0, bar_style='info', max=1.0), HTML(value='')))"
      ]
     },
     "metadata": {},
     "output_type": "display_data"
    },
    {
     "name": "stdout",
     "output_type": "stream",
     "text": [
      "Batch:  40 / 84\n",
      "Batch Recognition loss:  0.7211637496948242\n",
      "Batch:  80 / 84\n",
      "Batch Recognition loss:  0.6915839910507202\n",
      "\n",
      "Average_Loss:  0.8154062224285943\n",
      "Average_Accuracy:  0.7331830139045472\n",
      "Confusion Matrix: \n",
      " [[545 150 111]\n",
      " [121 677 125]\n",
      " [ 81 122 729]]\n",
      "Epoch:  9 \n",
      "\n",
      "Validation \n",
      "\n",
      "Validation Loss:  0.9942255889376005\n",
      "Validation Accuracy:  0.5365535248041775\n",
      "Confusion Matrix: \n",
      " [[144  99  56]\n",
      " [ 82 165  34]\n",
      " [ 36  48 102]]\n",
      "Train \n",
      "\n"
     ]
    },
    {
     "data": {
      "application/vnd.jupyter.widget-view+json": {
       "model_id": "cf107d9f78f04fd1a9b09d519b833d6f",
       "version_major": 2,
       "version_minor": 0
      },
      "text/plain": [
       "HBox(children=(FloatProgress(value=1.0, bar_style='info', max=1.0), HTML(value='')))"
      ]
     },
     "metadata": {},
     "output_type": "display_data"
    },
    {
     "name": "stdout",
     "output_type": "stream",
     "text": [
      "Batch:  40 / 84\n",
      "Batch Recognition loss:  0.8031129837036133\n",
      "Batch:  80 / 84\n",
      "Batch Recognition loss:  0.7638938426971436\n",
      "\n",
      "Average_Loss:  0.8073552066371554\n",
      "Average_Accuracy:  0.736565201052236\n",
      "Confusion Matrix: \n",
      " [[546 152 108]\n",
      " [123 684 116]\n",
      " [ 79 123 730]]\n",
      "Epoch:  10 \n",
      "\n",
      "Validation \n",
      "\n",
      "Validation Loss:  1.0270429675777752\n",
      "Validation Accuracy:  0.489556135770235\n",
      "Confusion Matrix: \n",
      " [[131  52 116]\n",
      " [ 84 108  89]\n",
      " [ 29  21 136]]\n",
      "Train \n",
      "\n"
     ]
    },
    {
     "data": {
      "application/vnd.jupyter.widget-view+json": {
       "model_id": "302061ff6bbb43dbb312e285e6d5abf5",
       "version_major": 2,
       "version_minor": 0
      },
      "text/plain": [
       "HBox(children=(FloatProgress(value=1.0, bar_style='info', max=1.0), HTML(value='')))"
      ]
     },
     "metadata": {},
     "output_type": "display_data"
    },
    {
     "name": "stdout",
     "output_type": "stream",
     "text": [
      "Batch:  40 / 84\n",
      "Batch Recognition loss:  0.7841852903366089\n",
      "Batch:  80 / 84\n",
      "Batch Recognition loss:  0.8161671757698059\n",
      "\n",
      "Average_Loss:  0.8073677853459403\n",
      "Average_Accuracy:  0.7414505824877865\n",
      "Confusion Matrix: \n",
      " [[560 125 121]\n",
      " [123 656 144]\n",
      " [ 74 101 757]]\n",
      "Epoch:  11 \n",
      "\n",
      "Validation \n",
      "\n",
      "Validation Loss:  1.0313577502965927\n",
      "Validation Accuracy:  0.4934725848563969\n",
      "Confusion Matrix: \n",
      " [[ 95 114  90]\n",
      " [ 64 146  71]\n",
      " [ 18  31 137]]\n",
      "Train \n",
      "\n"
     ]
    },
    {
     "data": {
      "application/vnd.jupyter.widget-view+json": {
       "model_id": "7277aad54e2c4230852db19469b36e31",
       "version_major": 2,
       "version_minor": 0
      },
      "text/plain": [
       "HBox(children=(FloatProgress(value=1.0, bar_style='info', max=1.0), HTML(value='')))"
      ]
     },
     "metadata": {},
     "output_type": "display_data"
    },
    {
     "name": "stdout",
     "output_type": "stream",
     "text": [
      "Batch:  40 / 84\n",
      "Batch Recognition loss:  0.7454889416694641\n",
      "Batch:  80 / 84\n",
      "Batch Recognition loss:  0.806815505027771\n",
      "\n",
      "Average_Loss:  0.8097555481252217\n",
      "Average_Accuracy:  0.7305524239007892\n",
      "Confusion Matrix: \n",
      " [[531 158 117]\n",
      " [114 677 132]\n",
      " [ 76 120 736]]\n",
      "Epoch:  12 \n",
      "\n",
      "Validation \n",
      "\n",
      "Validation Loss:  1.0285685335596402\n",
      "Validation Accuracy:  0.5\n",
      "Confusion Matrix: \n",
      " [[108  75 116]\n",
      " [ 74 136  71]\n",
      " [ 17  30 139]]\n",
      "Train \n",
      "\n"
     ]
    },
    {
     "data": {
      "application/vnd.jupyter.widget-view+json": {
       "model_id": "30e7f52774374384a9b0b4a42ff476b0",
       "version_major": 2,
       "version_minor": 0
      },
      "text/plain": [
       "HBox(children=(FloatProgress(value=1.0, bar_style='info', max=1.0), HTML(value='')))"
      ]
     },
     "metadata": {},
     "output_type": "display_data"
    },
    {
     "name": "stdout",
     "output_type": "stream",
     "text": [
      "Batch:  40 / 84\n",
      "Batch Recognition loss:  0.7829574346542358\n",
      "Batch:  80 / 84\n",
      "Batch Recognition loss:  0.6584219336509705\n",
      "\n",
      "Average_Loss:  0.8025894243092764\n",
      "Average_Accuracy:  0.7474633596392334\n",
      "Confusion Matrix: \n",
      " [[557 142 107]\n",
      " [110 701 112]\n",
      " [ 87 114 731]]\n",
      "Epoch:  13 \n",
      "\n",
      "Validation \n",
      "\n",
      "Validation Loss:  1.015882817407449\n",
      "Validation Accuracy:  0.5078328981723238\n",
      "Confusion Matrix: \n",
      " [[137  65  97]\n",
      " [ 77 122  82]\n",
      " [ 27  29 130]]\n",
      "Train \n",
      "\n"
     ]
    },
    {
     "data": {
      "application/vnd.jupyter.widget-view+json": {
       "model_id": "bde4aca5cb40475ba345c3cd873c4659",
       "version_major": 2,
       "version_minor": 0
      },
      "text/plain": [
       "HBox(children=(FloatProgress(value=1.0, bar_style='info', max=1.0), HTML(value='')))"
      ]
     },
     "metadata": {},
     "output_type": "display_data"
    },
    {
     "name": "stdout",
     "output_type": "stream",
     "text": [
      "Batch:  40 / 84\n",
      "Batch Recognition loss:  0.7839925289154053\n",
      "Batch:  80 / 84\n",
      "Batch Recognition loss:  0.7878380417823792\n",
      "\n",
      "Average_Loss:  0.7993227172465551\n",
      "Average_Accuracy:  0.7534761367906802\n",
      "Confusion Matrix: \n",
      " [[559 141 106]\n",
      " [118 699 106]\n",
      " [ 92  93 747]]\n",
      "Epoch:  14 \n",
      "\n",
      "Validation \n",
      "\n",
      "Validation Loss:  1.000737411280473\n",
      "Validation Accuracy:  0.5143603133159269\n",
      "Confusion Matrix: \n",
      " [[136  97  66]\n",
      " [ 86 139  56]\n",
      " [ 36  31 119]]\n",
      "Train \n",
      "\n"
     ]
    },
    {
     "data": {
      "application/vnd.jupyter.widget-view+json": {
       "model_id": "88f0d01905404f2283e5c3cba01b8a39",
       "version_major": 2,
       "version_minor": 0
      },
      "text/plain": [
       "HBox(children=(FloatProgress(value=1.0, bar_style='info', max=1.0), HTML(value='')))"
      ]
     },
     "metadata": {},
     "output_type": "display_data"
    },
    {
     "name": "stdout",
     "output_type": "stream",
     "text": [
      "Batch:  40 / 84\n",
      "Batch Recognition loss:  0.8210806250572205\n",
      "Batch:  80 / 84\n",
      "Batch Recognition loss:  0.7949286103248596\n",
      "\n",
      "Average_Loss:  0.7950603387185505\n",
      "Average_Accuracy:  0.7572341225103345\n",
      "Confusion Matrix: \n",
      " [[556 144 106]\n",
      " [109 703 111]\n",
      " [ 71 105 756]]\n",
      "Epoch:  15 \n",
      "\n",
      "Validation \n",
      "\n",
      "Validation Loss:  1.0198195055127144\n",
      "Validation Accuracy:  0.5026109660574413\n",
      "Confusion Matrix: \n",
      " [[128  92  79]\n",
      " [ 90 135  56]\n",
      " [ 31  33 122]]\n",
      "Train \n",
      "\n"
     ]
    },
    {
     "data": {
      "application/vnd.jupyter.widget-view+json": {
       "model_id": "0fc33a9956684270be71158afbf9c7a3",
       "version_major": 2,
       "version_minor": 0
      },
      "text/plain": [
       "HBox(children=(FloatProgress(value=1.0, bar_style='info', max=1.0), HTML(value='')))"
      ]
     },
     "metadata": {},
     "output_type": "display_data"
    },
    {
     "name": "stdout",
     "output_type": "stream",
     "text": [
      "Batch:  40 / 84\n",
      "Batch Recognition loss:  0.7904207706451416\n",
      "Batch:  80 / 84\n",
      "Batch Recognition loss:  0.8069979548454285\n",
      "\n",
      "Average_Loss:  0.7913118203481039\n",
      "Average_Accuracy:  0.7553551296505073\n",
      "Confusion Matrix: \n",
      " [[578 126 102]\n",
      " [120 678 125]\n",
      " [ 78 100 754]]\n",
      "Epoch:  16 \n",
      "\n",
      "Validation \n",
      "\n",
      "Validation Loss:  1.0288659756382306\n",
      "Validation Accuracy:  0.48825065274151436\n",
      "Confusion Matrix: \n",
      " [[120  88  91]\n",
      " [ 85 121  75]\n",
      " [ 33  20 133]]\n",
      "Train \n",
      "\n"
     ]
    },
    {
     "data": {
      "application/vnd.jupyter.widget-view+json": {
       "model_id": "58977799e10944edb699b4a7a0f11587",
       "version_major": 2,
       "version_minor": 0
      },
      "text/plain": [
       "HBox(children=(FloatProgress(value=1.0, bar_style='info', max=1.0), HTML(value='')))"
      ]
     },
     "metadata": {},
     "output_type": "display_data"
    },
    {
     "name": "stdout",
     "output_type": "stream",
     "text": [
      "Batch:  40 / 84\n",
      "Batch Recognition loss:  0.8146830797195435\n",
      "Batch:  80 / 84\n",
      "Batch Recognition loss:  0.9235508441925049\n",
      "\n",
      "Average_Loss:  0.7871790102549961\n",
      "Average_Accuracy:  0.7666290868094702\n",
      "Confusion Matrix: \n",
      " [[575 119 112]\n",
      " [118 699 106]\n",
      " [ 69  97 766]]\n",
      "Epoch:  17 \n",
      "\n",
      "Validation \n",
      "\n",
      "Validation Loss:  1.0103183935085933\n",
      "Validation Accuracy:  0.5130548302872062\n",
      "Confusion Matrix: \n",
      " [[141  96  62]\n",
      " [ 97 145  39]\n",
      " [ 42  37 107]]\n",
      "Train \n",
      "\n"
     ]
    },
    {
     "data": {
      "application/vnd.jupyter.widget-view+json": {
       "model_id": "26a82fb40a2447918d5788a3d1cfa761",
       "version_major": 2,
       "version_minor": 0
      },
      "text/plain": [
       "HBox(children=(FloatProgress(value=1.0, bar_style='info', max=1.0), HTML(value='')))"
      ]
     },
     "metadata": {},
     "output_type": "display_data"
    },
    {
     "name": "stdout",
     "output_type": "stream",
     "text": [
      "Batch:  40 / 84\n",
      "Batch Recognition loss:  0.8014039993286133\n",
      "Batch:  80 / 84\n",
      "Batch Recognition loss:  0.9298834204673767\n",
      "\n",
      "Average_Loss:  0.8014438521294367\n",
      "Average_Accuracy:  0.7500939496429914\n",
      "Confusion Matrix: \n",
      " [[577 133  96]\n",
      " [121 688 114]\n",
      " [ 85 116 731]]\n",
      "Epoch:  18 \n",
      "\n",
      "Validation \n",
      "\n",
      "Validation Loss:  1.0055927683909733\n",
      "Validation Accuracy:  0.5234986945169713\n",
      "Confusion Matrix: \n",
      " [[132  97  70]\n",
      " [ 67 153  61]\n",
      " [ 32  38 116]]\n",
      "Train \n",
      "\n"
     ]
    },
    {
     "data": {
      "application/vnd.jupyter.widget-view+json": {
       "model_id": "ff5f7172b30244efb1c3c7c452bd0a6c",
       "version_major": 2,
       "version_minor": 0
      },
      "text/plain": [
       "HBox(children=(FloatProgress(value=1.0, bar_style='info', max=1.0), HTML(value='')))"
      ]
     },
     "metadata": {},
     "output_type": "display_data"
    },
    {
     "name": "stdout",
     "output_type": "stream",
     "text": [
      "Batch:  40 / 84\n",
      "Batch Recognition loss:  0.7996886372566223\n",
      "Batch:  80 / 84\n",
      "Batch Recognition loss:  0.8610031008720398\n",
      "\n",
      "Average_Loss:  0.7909822442701885\n",
      "Average_Accuracy:  0.7576099210822999\n",
      "Confusion Matrix: \n",
      " [[576 131  99]\n",
      " [119 694 110]\n",
      " [ 70 116 746]]\n",
      "Epoch:  19 \n",
      "\n",
      "Validation \n",
      "\n",
      "Validation Loss:  1.0235280369718869\n",
      "Validation Accuracy:  0.5065274151436031\n",
      "Confusion Matrix: \n",
      " [[ 79 132  88]\n",
      " [ 41 193  47]\n",
      " [ 17  53 116]]\n",
      "Train \n",
      "\n"
     ]
    },
    {
     "data": {
      "application/vnd.jupyter.widget-view+json": {
       "model_id": "30124f4018974c109ce7ffbb504d987d",
       "version_major": 2,
       "version_minor": 0
      },
      "text/plain": [
       "HBox(children=(FloatProgress(value=1.0, bar_style='info', max=1.0), HTML(value='')))"
      ]
     },
     "metadata": {},
     "output_type": "display_data"
    },
    {
     "name": "stdout",
     "output_type": "stream",
     "text": [
      "Batch:  40 / 84\n",
      "Batch Recognition loss:  0.7913024425506592\n",
      "Batch:  80 / 84\n",
      "Batch Recognition loss:  0.9309526681900024\n",
      "\n",
      "Average_Loss:  0.7930311056829634\n",
      "Average_Accuracy:  0.7542277339346111\n",
      "Confusion Matrix: \n",
      " [[560 140 106]\n",
      " [112 693 118]\n",
      " [ 67 111 754]]\n",
      "Epoch:  20 \n",
      "\n",
      "Validation \n",
      "\n",
      "Validation Loss:  1.0233735864361126\n",
      "Validation Accuracy:  0.49738903394255873\n",
      "Confusion Matrix: \n",
      " [[140  84  75]\n",
      " [ 90 136  55]\n",
      " [ 41  40 105]]\n",
      "Train \n",
      "\n"
     ]
    },
    {
     "data": {
      "application/vnd.jupyter.widget-view+json": {
       "model_id": "8d6b4c69a275416fb68b316d144b3a47",
       "version_major": 2,
       "version_minor": 0
      },
      "text/plain": [
       "HBox(children=(FloatProgress(value=1.0, bar_style='info', max=1.0), HTML(value='')))"
      ]
     },
     "metadata": {},
     "output_type": "display_data"
    },
    {
     "name": "stdout",
     "output_type": "stream",
     "text": [
      "Batch:  40 / 84\n",
      "Batch Recognition loss:  0.7973864078521729\n",
      "Batch:  80 / 84\n",
      "Batch Recognition loss:  0.8873481750488281\n",
      "\n",
      "Average_Loss:  0.7773701385373161\n",
      "Average_Accuracy:  0.7745208568207441\n",
      "Confusion Matrix: \n",
      " [[588 132  86]\n",
      " [ 99 706 118]\n",
      " [ 71  94 767]]\n",
      "Epoch:  21 \n",
      "\n",
      "Validation \n",
      "\n",
      "Validation Loss:  1.040991706152757\n",
      "Validation Accuracy:  0.47389033942558745\n",
      "Confusion Matrix: \n",
      " [[ 96  92 111]\n",
      " [ 69 133  79]\n",
      " [ 22  30 134]]\n",
      "Train \n",
      "\n"
     ]
    },
    {
     "data": {
      "application/vnd.jupyter.widget-view+json": {
       "model_id": "49dd9d28bd8d4bcdaf3661e385dcf1e3",
       "version_major": 2,
       "version_minor": 0
      },
      "text/plain": [
       "HBox(children=(FloatProgress(value=1.0, bar_style='info', max=1.0), HTML(value='')))"
      ]
     },
     "metadata": {},
     "output_type": "display_data"
    },
    {
     "name": "stdout",
     "output_type": "stream",
     "text": [
      "Batch:  40 / 84\n",
      "Batch Recognition loss:  0.7493061423301697\n",
      "Batch:  80 / 84\n",
      "Batch Recognition loss:  0.9194201231002808\n",
      "\n",
      "Average_Loss:  0.7819697991723106\n",
      "Average_Accuracy:  0.7692596768132282\n",
      "Confusion Matrix: \n",
      " [[574 126 106]\n",
      " [103 707 113]\n",
      " [ 79  87 766]]\n",
      "Epoch:  22 \n",
      "\n",
      "Validation \n",
      "\n",
      "Validation Loss:  1.0463931212822597\n",
      "Validation Accuracy:  0.47780678851174935\n",
      "Confusion Matrix: \n",
      " [[ 82 148  69]\n",
      " [ 55 183  43]\n",
      " [ 23  62 101]]\n",
      "Train \n",
      "\n"
     ]
    },
    {
     "data": {
      "application/vnd.jupyter.widget-view+json": {
       "model_id": "c4ad7432ed1c464aaa309f9d75380490",
       "version_major": 2,
       "version_minor": 0
      },
      "text/plain": [
       "HBox(children=(FloatProgress(value=1.0, bar_style='info', max=1.0), HTML(value='')))"
      ]
     },
     "metadata": {},
     "output_type": "display_data"
    },
    {
     "name": "stdout",
     "output_type": "stream",
     "text": [
      "Batch:  40 / 84\n",
      "Batch Recognition loss:  0.7481871247291565\n",
      "Batch:  80 / 84\n",
      "Batch Recognition loss:  0.7741062641143799\n",
      "\n",
      "Average_Loss:  0.7679673866147086\n",
      "Average_Accuracy:  0.7820368282600526\n",
      "Confusion Matrix: \n",
      " [[593 125  88]\n",
      " [ 98 715 110]\n",
      " [ 67  92 773]]\n",
      "Epoch:  23 \n",
      "\n",
      "Validation \n",
      "\n",
      "Validation Loss:  1.0526593228181202\n",
      "Validation Accuracy:  0.46736292428198434\n",
      "Confusion Matrix: \n",
      " [[ 99  82 118]\n",
      " [ 62 127  92]\n",
      " [ 22  32 132]]\n",
      "Train \n",
      "\n"
     ]
    },
    {
     "data": {
      "application/vnd.jupyter.widget-view+json": {
       "model_id": "a341c589645f4f028f141b2089df133f",
       "version_major": 2,
       "version_minor": 0
      },
      "text/plain": [
       "HBox(children=(FloatProgress(value=1.0, bar_style='info', max=1.0), HTML(value='')))"
      ]
     },
     "metadata": {},
     "output_type": "display_data"
    },
    {
     "name": "stdout",
     "output_type": "stream",
     "text": [
      "Batch:  40 / 84\n",
      "Batch Recognition loss:  0.8227142095565796\n",
      "Batch:  80 / 84\n",
      "Batch Recognition loss:  0.8894173502922058\n",
      "\n",
      "Average_Loss:  0.7720264153821128\n",
      "Average_Accuracy:  0.7730176625328824\n",
      "Confusion Matrix: \n",
      " [[574 136  96]\n",
      " [104 711 108]\n",
      " [ 60 100 772]]\n",
      "Epoch:  24 \n",
      "\n",
      "Validation \n",
      "\n",
      "Validation Loss:  1.064921202758948\n",
      "Validation Accuracy:  0.4556135770234987\n",
      "Confusion Matrix: \n",
      " [[101  55 143]\n",
      " [ 76 108  97]\n",
      " [ 25  21 140]]\n",
      "Train \n",
      "\n"
     ]
    },
    {
     "data": {
      "application/vnd.jupyter.widget-view+json": {
       "model_id": "acc50efa352e45e5a810dbe4f5b17a69",
       "version_major": 2,
       "version_minor": 0
      },
      "text/plain": [
       "HBox(children=(FloatProgress(value=1.0, bar_style='info', max=1.0), HTML(value='')))"
      ]
     },
     "metadata": {},
     "output_type": "display_data"
    },
    {
     "name": "stdout",
     "output_type": "stream",
     "text": [
      "Batch:  40 / 84\n",
      "Batch Recognition loss:  0.7045359015464783\n",
      "Batch:  80 / 84\n",
      "Batch Recognition loss:  0.7181111574172974\n",
      "\n",
      "Average_Loss:  0.7716357346091952\n",
      "Average_Accuracy:  0.7767756482525366\n",
      "Confusion Matrix: \n",
      " [[580 127  99]\n",
      " [101 720 102]\n",
      " [ 62 103 767]]\n",
      "Epoch:  25 \n",
      "\n",
      "Validation \n",
      "\n",
      "Validation Loss:  1.057633010049661\n",
      "Validation Accuracy:  0.4660574412532637\n",
      "Confusion Matrix: \n",
      " [[110 105  84]\n",
      " [ 75 149  57]\n",
      " [ 34  54  98]]\n",
      "Train \n",
      "\n"
     ]
    },
    {
     "data": {
      "application/vnd.jupyter.widget-view+json": {
       "model_id": "5788e110e6d34d0fbff00b32a050dfe7",
       "version_major": 2,
       "version_minor": 0
      },
      "text/plain": [
       "HBox(children=(FloatProgress(value=1.0, bar_style='info', max=1.0), HTML(value='')))"
      ]
     },
     "metadata": {},
     "output_type": "display_data"
    },
    {
     "name": "stdout",
     "output_type": "stream",
     "text": [
      "Batch:  40 / 84\n",
      "Batch Recognition loss:  0.6402069926261902\n",
      "Batch:  80 / 84\n",
      "Batch Recognition loss:  0.725729763507843\n",
      "\n",
      "Average_Loss:  0.7665695782218661\n",
      "Average_Accuracy:  0.7831642239759489\n",
      "Confusion Matrix: \n",
      " [[593 124  89]\n",
      " [ 97 718 108]\n",
      " [ 58 101 773]]\n",
      "Epoch:  26 \n",
      "\n",
      "Validation \n",
      "\n",
      "Validation Loss:  1.0370303268233936\n",
      "Validation Accuracy:  0.4869451697127937\n",
      "Confusion Matrix: \n",
      " [[ 82 105 112]\n",
      " [ 49 156  76]\n",
      " [ 11  40 135]]\n",
      "Train \n",
      "\n"
     ]
    },
    {
     "data": {
      "application/vnd.jupyter.widget-view+json": {
       "model_id": "547e00cbd5e74977981bd4336e9b9d5f",
       "version_major": 2,
       "version_minor": 0
      },
      "text/plain": [
       "HBox(children=(FloatProgress(value=1.0, bar_style='info', max=1.0), HTML(value='')))"
      ]
     },
     "metadata": {},
     "output_type": "display_data"
    },
    {
     "name": "stdout",
     "output_type": "stream",
     "text": [
      "Batch:  40 / 84\n",
      "Batch Recognition loss:  0.8716724514961243\n",
      "Batch:  80 / 84\n",
      "Batch Recognition loss:  0.7600439786911011\n",
      "\n",
      "Average_Loss:  0.7677741398413976\n",
      "Average_Accuracy:  0.7794062382562946\n",
      "Confusion Matrix: \n",
      " [[592 123  91]\n",
      " [106 720  97]\n",
      " [ 72  98 762]]\n",
      "Epoch:  27 \n",
      "\n",
      "Validation \n",
      "\n",
      "Validation Loss:  1.0173303534587224\n",
      "Validation Accuracy:  0.5065274151436031\n",
      "Confusion Matrix: \n",
      " [[108  78 113]\n",
      " [ 74 136  71]\n",
      " [ 17  25 144]]\n",
      "Train \n",
      "\n"
     ]
    },
    {
     "data": {
      "application/vnd.jupyter.widget-view+json": {
       "model_id": "7708bde65fea4e798221e6d362c767c1",
       "version_major": 2,
       "version_minor": 0
      },
      "text/plain": [
       "HBox(children=(FloatProgress(value=1.0, bar_style='info', max=1.0), HTML(value='')))"
      ]
     },
     "metadata": {},
     "output_type": "display_data"
    },
    {
     "name": "stdout",
     "output_type": "stream",
     "text": [
      "Batch:  40 / 84\n",
      "Batch Recognition loss:  0.8096206188201904\n",
      "Batch:  80 / 84\n",
      "Batch Recognition loss:  0.7535079121589661\n",
      "\n",
      "Average_Loss:  0.7611465411526817\n",
      "Average_Accuracy:  0.7865464111236378\n",
      "Confusion Matrix: \n",
      " [[603 113  90]\n",
      " [ 98 724 101]\n",
      " [ 72  94 766]]\n",
      "Epoch:  28 \n",
      "\n",
      "Validation \n",
      "\n",
      "Validation Loss:  1.0599357386430104\n",
      "Validation Accuracy:  0.4660574412532637\n",
      "Confusion Matrix: \n",
      " [[100  82 117]\n",
      " [ 70 122  89]\n",
      " [ 24  27 135]]\n",
      "Train \n",
      "\n"
     ]
    },
    {
     "data": {
      "application/vnd.jupyter.widget-view+json": {
       "model_id": "50b202d4967847a6a2381b59dde70036",
       "version_major": 2,
       "version_minor": 0
      },
      "text/plain": [
       "HBox(children=(FloatProgress(value=1.0, bar_style='info', max=1.0), HTML(value='')))"
      ]
     },
     "metadata": {},
     "output_type": "display_data"
    },
    {
     "name": "stdout",
     "output_type": "stream",
     "text": [
      "Batch:  40 / 84\n",
      "Batch Recognition loss:  0.8380460143089294\n",
      "Batch:  80 / 84\n",
      "Batch Recognition loss:  0.6499825119972229\n",
      "\n",
      "Average_Loss:  0.7745980698437918\n",
      "Average_Accuracy:  0.7760240511086058\n",
      "Confusion Matrix: \n",
      " [[580 130  96]\n",
      " [105 721  97]\n",
      " [ 66 102 764]]\n",
      "Epoch:  29 \n",
      "\n",
      "Validation \n",
      "\n",
      "Validation Loss:  1.090946964919567\n",
      "Validation Accuracy:  0.4412532637075718\n",
      "Confusion Matrix: \n",
      " [[ 58 121 120]\n",
      " [ 34 161  86]\n",
      " [ 19  48 119]]\n",
      "Train \n",
      "\n"
     ]
    },
    {
     "data": {
      "application/vnd.jupyter.widget-view+json": {
       "model_id": "386d86c9b7254dfea55e3b68eabf2f9b",
       "version_major": 2,
       "version_minor": 0
      },
      "text/plain": [
       "HBox(children=(FloatProgress(value=1.0, bar_style='info', max=1.0), HTML(value='')))"
      ]
     },
     "metadata": {},
     "output_type": "display_data"
    },
    {
     "name": "stdout",
     "output_type": "stream",
     "text": [
      "Batch:  40 / 84\n",
      "Batch Recognition loss:  0.7771998643875122\n",
      "Batch:  80 / 84\n",
      "Batch Recognition loss:  0.7246421575546265\n",
      "\n",
      "Average_Loss:  0.7671932280063629\n",
      "Average_Accuracy:  0.7782788425403984\n",
      "Confusion Matrix: \n",
      " [[566 143  97]\n",
      " [ 85 740  98]\n",
      " [ 65 102 765]]\n",
      "Epoch:  30 \n",
      "\n",
      "Validation \n",
      "\n",
      "Validation Loss:  1.026985766987006\n",
      "Validation Accuracy:  0.4934725848563969\n",
      "Confusion Matrix: \n",
      " [[131  76  92]\n",
      " [ 92 127  62]\n",
      " [ 33  33 120]]\n",
      "Train \n",
      "\n"
     ]
    },
    {
     "data": {
      "application/vnd.jupyter.widget-view+json": {
       "model_id": "96b1745e865844c2b0c12709455377b1",
       "version_major": 2,
       "version_minor": 0
      },
      "text/plain": [
       "HBox(children=(FloatProgress(value=1.0, bar_style='info', max=1.0), HTML(value='')))"
      ]
     },
     "metadata": {},
     "output_type": "display_data"
    },
    {
     "name": "stdout",
     "output_type": "stream",
     "text": [
      "Batch:  40 / 84\n",
      "Batch Recognition loss:  0.6804273128509521\n",
      "Batch:  80 / 84\n",
      "Batch Recognition loss:  0.8508486151695251\n",
      "\n",
      "Average_Loss:  0.7580193515334811\n",
      "Average_Accuracy:  0.795565576850808\n",
      "Confusion Matrix: \n",
      " [[600 112  94]\n",
      " [ 94 732  97]\n",
      " [ 54  93 785]]\n",
      "Epoch:  31 \n",
      "\n",
      "Validation \n",
      "\n",
      "Validation Loss:  1.0294646347562473\n",
      "Validation Accuracy:  0.49738903394255873\n",
      "Confusion Matrix: \n",
      " [[133  75  91]\n",
      " [ 85 123  73]\n",
      " [ 33  28 125]]\n",
      "Train \n",
      "\n"
     ]
    },
    {
     "data": {
      "application/vnd.jupyter.widget-view+json": {
       "model_id": "e7a2bbea35b24185888fae8a829d87b1",
       "version_major": 2,
       "version_minor": 0
      },
      "text/plain": [
       "HBox(children=(FloatProgress(value=1.0, bar_style='info', max=1.0), HTML(value='')))"
      ]
     },
     "metadata": {},
     "output_type": "display_data"
    },
    {
     "name": "stdout",
     "output_type": "stream",
     "text": [
      "Batch:  40 / 84\n",
      "Batch Recognition loss:  0.7390486001968384\n",
      "Batch:  80 / 84\n",
      "Batch Recognition loss:  0.8374013900756836\n",
      "\n",
      "Average_Loss:  0.7676794287704286\n",
      "Average_Accuracy:  0.7839158211198798\n",
      "Confusion Matrix: \n",
      " [[591 126  89]\n",
      " [101 719 103]\n",
      " [ 63  93 776]]\n",
      "Epoch:  32 \n",
      "\n",
      "Validation \n",
      "\n",
      "Validation Loss:  1.0574141790469487\n",
      "Validation Accuracy:  0.47127937336814624\n",
      "Confusion Matrix: \n",
      " [[ 96 106  97]\n",
      " [ 54 145  82]\n",
      " [ 27  39 120]]\n",
      "Train \n",
      "\n"
     ]
    },
    {
     "data": {
      "application/vnd.jupyter.widget-view+json": {
       "model_id": "aac589ad5872484babc5acbabc7ea2df",
       "version_major": 2,
       "version_minor": 0
      },
      "text/plain": [
       "HBox(children=(FloatProgress(value=1.0, bar_style='info', max=1.0), HTML(value='')))"
      ]
     },
     "metadata": {},
     "output_type": "display_data"
    },
    {
     "name": "stdout",
     "output_type": "stream",
     "text": [
      "Batch:  40 / 84\n",
      "Batch Recognition loss:  0.6576362252235413\n",
      "Batch:  80 / 84\n",
      "Batch Recognition loss:  0.6877452731132507\n",
      "\n",
      "Average_Loss:  0.7664253115653992\n",
      "Average_Accuracy:  0.7846674182638106\n",
      "Confusion Matrix: \n",
      " [[594 121  91]\n",
      " [ 94 720 109]\n",
      " [ 66  92 774]]\n",
      "Epoch:  33 \n",
      "\n",
      "Validation \n",
      "\n",
      "Validation Loss:  1.0269157414635022\n",
      "Validation Accuracy:  0.5065274151436031\n",
      "Confusion Matrix: \n",
      " [[138  82  79]\n",
      " [ 82 140  59]\n",
      " [ 33  43 110]]\n",
      "Train \n",
      "\n"
     ]
    },
    {
     "data": {
      "application/vnd.jupyter.widget-view+json": {
       "model_id": "f614a744398240d38ef78d5626060e71",
       "version_major": 2,
       "version_minor": 0
      },
      "text/plain": [
       "HBox(children=(FloatProgress(value=1.0, bar_style='info', max=1.0), HTML(value='')))"
      ]
     },
     "metadata": {},
     "output_type": "display_data"
    },
    {
     "name": "stdout",
     "output_type": "stream",
     "text": [
      "Batch:  40 / 84\n",
      "Batch Recognition loss:  0.8353685140609741\n",
      "Batch:  80 / 84\n",
      "Batch Recognition loss:  0.8363977670669556\n",
      "\n",
      "Average_Loss:  0.7614938928967431\n",
      "Average_Accuracy:  0.7865464111236378\n",
      "Confusion Matrix: \n",
      " [[595 109 102]\n",
      " [ 93 727 103]\n",
      " [ 61 100 771]]\n",
      "Epoch:  34 \n",
      "\n",
      "Validation \n",
      "\n",
      "Validation Loss:  1.0516473824779193\n",
      "Validation Accuracy:  0.4751958224543081\n",
      "Confusion Matrix: \n",
      " [[118  63 118]\n",
      " [ 81 109  91]\n",
      " [ 29  20 137]]\n",
      "Train \n",
      "\n"
     ]
    },
    {
     "data": {
      "application/vnd.jupyter.widget-view+json": {
       "model_id": "f36817ae69ce4a808cd33361f81bed74",
       "version_major": 2,
       "version_minor": 0
      },
      "text/plain": [
       "HBox(children=(FloatProgress(value=1.0, bar_style='info', max=1.0), HTML(value='')))"
      ]
     },
     "metadata": {},
     "output_type": "display_data"
    },
    {
     "name": "stdout",
     "output_type": "stream",
     "text": [
      "Batch:  40 / 84\n",
      "Batch Recognition loss:  0.795548677444458\n",
      "Batch:  80 / 84\n",
      "Batch Recognition loss:  0.7111027836799622\n",
      "\n",
      "Average_Loss:  0.7683146773349672\n",
      "Average_Accuracy:  0.7809094325441563\n",
      "Confusion Matrix: \n",
      " [[598 120  88]\n",
      " [103 705 115]\n",
      " [ 64  93 775]]\n",
      "Epoch:  35 \n",
      "\n",
      "Validation \n",
      "\n",
      "Validation Loss:  1.0159177506963413\n",
      "Validation Accuracy:  0.5143603133159269\n",
      "Confusion Matrix: \n",
      " [[153  66  80]\n",
      " [104 115  62]\n",
      " [ 37  23 126]]\n",
      "Train \n",
      "\n"
     ]
    },
    {
     "data": {
      "application/vnd.jupyter.widget-view+json": {
       "model_id": "bf1217355ffb4e16ba292ac46d07ffe6",
       "version_major": 2,
       "version_minor": 0
      },
      "text/plain": [
       "HBox(children=(FloatProgress(value=1.0, bar_style='info', max=1.0), HTML(value='')))"
      ]
     },
     "metadata": {},
     "output_type": "display_data"
    },
    {
     "name": "stdout",
     "output_type": "stream",
     "text": [
      "Batch:  40 / 84\n",
      "Batch Recognition loss:  0.7604746222496033\n",
      "Batch:  80 / 84\n",
      "Batch Recognition loss:  0.8246602416038513\n",
      "\n",
      "Average_Loss:  0.7719732906137194\n",
      "Average_Accuracy:  0.7809094325441563\n",
      "Confusion Matrix: \n",
      " [[594 111 101]\n",
      " [ 96 743  84]\n",
      " [ 80 111 741]]\n",
      "Epoch:  36 \n",
      "\n",
      "Validation \n",
      "\n",
      "Validation Loss:  1.0194265345732372\n",
      "Validation Accuracy:  0.5143603133159269\n",
      "Confusion Matrix: \n",
      " [[138  71  90]\n",
      " [ 85 140  56]\n",
      " [ 38  32 116]]\n",
      "Train \n",
      "\n"
     ]
    },
    {
     "data": {
      "application/vnd.jupyter.widget-view+json": {
       "model_id": "9bf462d2a15348af87f6ee753deab838",
       "version_major": 2,
       "version_minor": 0
      },
      "text/plain": [
       "HBox(children=(FloatProgress(value=1.0, bar_style='info', max=1.0), HTML(value='')))"
      ]
     },
     "metadata": {},
     "output_type": "display_data"
    },
    {
     "name": "stdout",
     "output_type": "stream",
     "text": [
      "Batch:  40 / 84\n",
      "Batch Recognition loss:  0.7368752360343933\n",
      "Batch:  80 / 84\n",
      "Batch Recognition loss:  0.8075789213180542\n",
      "\n",
      "Average_Loss:  0.7632439335187277\n",
      "Average_Accuracy:  0.7857948139797069\n",
      "Confusion Matrix: \n",
      " [[598 105 103]\n",
      " [ 99 723 101]\n",
      " [ 73  89 770]]\n",
      "Epoch:  37 \n",
      "\n",
      "Validation \n",
      "\n",
      "Validation Loss:  0.999480314552784\n",
      "Validation Accuracy:  0.5326370757180157\n",
      "Confusion Matrix: \n",
      " [[142  76  81]\n",
      " [ 89 141  51]\n",
      " [ 27  34 125]]\n",
      "Train \n",
      "\n"
     ]
    },
    {
     "data": {
      "application/vnd.jupyter.widget-view+json": {
       "model_id": "b5c025f63310496394e4f2ae64b29285",
       "version_major": 2,
       "version_minor": 0
      },
      "text/plain": [
       "HBox(children=(FloatProgress(value=1.0, bar_style='info', max=1.0), HTML(value='')))"
      ]
     },
     "metadata": {},
     "output_type": "display_data"
    },
    {
     "name": "stdout",
     "output_type": "stream",
     "text": [
      "Batch:  40 / 84\n",
      "Batch Recognition loss:  0.8026869893074036\n",
      "Batch:  80 / 84\n",
      "Batch Recognition loss:  0.7592054605484009\n",
      "\n",
      "Average_Loss:  0.7673006646689915\n",
      "Average_Accuracy:  0.7797820368282601\n",
      "Confusion Matrix: \n",
      " [[601 105 100]\n",
      " [106 711 106]\n",
      " [ 74  95 763]]\n",
      "Epoch:  38 \n",
      "\n",
      "Validation \n",
      "\n",
      "Validation Loss:  1.0096983835101128\n",
      "Validation Accuracy:  0.5274151436031331\n",
      "Confusion Matrix: \n",
      " [[122  79  98]\n",
      " [ 76 143  62]\n",
      " [ 18  29 139]]\n",
      "Train \n",
      "\n"
     ]
    },
    {
     "data": {
      "application/vnd.jupyter.widget-view+json": {
       "model_id": "6f65caf8e5ac4878ad7ef2e2a743f26f",
       "version_major": 2,
       "version_minor": 0
      },
      "text/plain": [
       "HBox(children=(FloatProgress(value=1.0, bar_style='info', max=1.0), HTML(value='')))"
      ]
     },
     "metadata": {},
     "output_type": "display_data"
    },
    {
     "name": "stdout",
     "output_type": "stream",
     "text": [
      "Batch:  40 / 84\n",
      "Batch Recognition loss:  0.7887389659881592\n",
      "Batch:  80 / 84\n",
      "Batch Recognition loss:  0.8041672706604004\n",
      "\n",
      "Average_Loss:  0.7632954475425539\n",
      "Average_Accuracy:  0.7880496054114995\n",
      "Confusion Matrix: \n",
      " [[608 109  89]\n",
      " [102 730  91]\n",
      " [ 65 108 759]]\n",
      "Epoch:  39 \n",
      "\n",
      "Validation \n",
      "\n",
      "Validation Loss:  1.0403408457835515\n",
      "Validation Accuracy:  0.49216710182767626\n",
      "Confusion Matrix: \n",
      " [[ 69 129 101]\n",
      " [ 53 174  54]\n",
      " [ 15  37 134]]\n",
      "Train \n",
      "\n"
     ]
    },
    {
     "data": {
      "application/vnd.jupyter.widget-view+json": {
       "model_id": "713431466a8249668ab4047be194def2",
       "version_major": 2,
       "version_minor": 0
      },
      "text/plain": [
       "HBox(children=(FloatProgress(value=1.0, bar_style='info', max=1.0), HTML(value='')))"
      ]
     },
     "metadata": {},
     "output_type": "display_data"
    },
    {
     "name": "stdout",
     "output_type": "stream",
     "text": [
      "Batch:  40 / 84\n",
      "Batch Recognition loss:  0.8452546000480652\n",
      "Batch:  80 / 84\n",
      "Batch Recognition loss:  0.8085362315177917\n",
      "\n",
      "Average_Loss:  0.7546332506906419\n",
      "Average_Accuracy:  0.7933107854190155\n",
      "Confusion Matrix: \n",
      " [[590 117  99]\n",
      " [ 91 734  98]\n",
      " [ 56  89 787]]\n",
      "Epoch:  40 \n",
      "\n",
      "Validation \n",
      "\n",
      "Validation Loss:  1.0583568637569745\n",
      "Validation Accuracy:  0.4751958224543081\n",
      "Confusion Matrix: \n",
      " [[ 94  71 134]\n",
      " [ 69 122  90]\n",
      " [ 16  22 148]]\n",
      "Train \n",
      "\n"
     ]
    },
    {
     "data": {
      "application/vnd.jupyter.widget-view+json": {
       "model_id": "efe3470bf377465aad69cecb8332b209",
       "version_major": 2,
       "version_minor": 0
      },
      "text/plain": [
       "HBox(children=(FloatProgress(value=1.0, bar_style='info', max=1.0), HTML(value='')))"
      ]
     },
     "metadata": {},
     "output_type": "display_data"
    },
    {
     "name": "stdout",
     "output_type": "stream",
     "text": [
      "Batch:  40 / 84\n",
      "Batch Recognition loss:  0.6431453227996826\n",
      "Batch:  80 / 84\n",
      "Batch Recognition loss:  0.6962931752204895\n",
      "\n",
      "Average_Loss:  0.7494495170457023\n",
      "Average_Accuracy:  0.7989477639984968\n",
      "Confusion Matrix: \n",
      " [[611 106  89]\n",
      " [ 97 735  91]\n",
      " [ 53  99 780]]\n",
      "Epoch:  41 \n",
      "\n",
      "Validation \n",
      "\n",
      "Validation Loss:  1.0325397203365962\n",
      "Validation Accuracy:  0.5013054830287206\n",
      "Confusion Matrix: \n",
      " [[172  53  74]\n",
      " [116  97  68]\n",
      " [ 38  33 115]]\n",
      "Train \n",
      "\n"
     ]
    },
    {
     "data": {
      "application/vnd.jupyter.widget-view+json": {
       "model_id": "44d487ecc9f3471398fdf0e8b7ffa329",
       "version_major": 2,
       "version_minor": 0
      },
      "text/plain": [
       "HBox(children=(FloatProgress(value=1.0, bar_style='info', max=1.0), HTML(value='')))"
      ]
     },
     "metadata": {},
     "output_type": "display_data"
    },
    {
     "name": "stdout",
     "output_type": "stream",
     "text": [
      "Batch:  40 / 84\n",
      "Batch Recognition loss:  0.8849989175796509\n",
      "Batch:  80 / 84\n",
      "Batch Recognition loss:  0.6608872413635254\n",
      "\n",
      "Average_Loss:  0.7618008334012258\n",
      "Average_Accuracy:  0.7925591882750845\n",
      "Confusion Matrix: \n",
      " [[604 117  85]\n",
      " [ 95 733  95]\n",
      " [ 67  93 772]]\n",
      "Epoch:  42 \n",
      "\n",
      "Validation \n",
      "\n",
      "Validation Loss:  1.018854908645153\n",
      "Validation Accuracy:  0.5143603133159269\n",
      "Confusion Matrix: \n",
      " [[151  80  68]\n",
      " [ 93 126  62]\n",
      " [ 44  25 117]]\n",
      "Train \n",
      "\n"
     ]
    },
    {
     "data": {
      "application/vnd.jupyter.widget-view+json": {
       "model_id": "5611c842c2b14844b301ffffc2440ff4",
       "version_major": 2,
       "version_minor": 0
      },
      "text/plain": [
       "HBox(children=(FloatProgress(value=1.0, bar_style='info', max=1.0), HTML(value='')))"
      ]
     },
     "metadata": {},
     "output_type": "display_data"
    },
    {
     "name": "stdout",
     "output_type": "stream",
     "text": [
      "Batch:  40 / 84\n",
      "Batch Recognition loss:  0.723909854888916\n",
      "Batch:  80 / 84\n",
      "Batch Recognition loss:  0.848727822303772\n",
      "\n",
      "Average_Loss:  0.767212919536091\n",
      "Average_Accuracy:  0.7782788425403984\n",
      "Confusion Matrix: \n",
      " [[586 123  97]\n",
      " [ 91 728 104]\n",
      " [ 90  85 757]]\n",
      "Epoch:  43 \n",
      "\n",
      "Validation \n",
      "\n",
      "Validation Loss:  1.0387112970153491\n",
      "Validation Accuracy:  0.4830287206266319\n",
      "Confusion Matrix: \n",
      " [[111  71 117]\n",
      " [ 83 127  71]\n",
      " [ 22  32 132]]\n",
      "Train \n",
      "\n"
     ]
    },
    {
     "data": {
      "application/vnd.jupyter.widget-view+json": {
       "model_id": "b5491952d40443e29b8a386d9ce42c93",
       "version_major": 2,
       "version_minor": 0
      },
      "text/plain": [
       "HBox(children=(FloatProgress(value=1.0, bar_style='info', max=1.0), HTML(value='')))"
      ]
     },
     "metadata": {},
     "output_type": "display_data"
    },
    {
     "name": "stdout",
     "output_type": "stream",
     "text": [
      "Batch:  40 / 84\n",
      "Batch Recognition loss:  0.8117297291755676\n",
      "Batch:  80 / 84\n",
      "Batch Recognition loss:  0.7589747905731201\n",
      "\n",
      "Average_Loss:  0.7606884759096872\n",
      "Average_Accuracy:  0.7839158211198798\n",
      "Confusion Matrix: \n",
      " [[589 125  92]\n",
      " [ 94 723 106]\n",
      " [ 66  92 774]]\n",
      "Epoch:  44 \n",
      "\n",
      "Validation \n",
      "\n",
      "Validation Loss:  1.066520760456721\n",
      "Validation Accuracy:  0.4621409921671018\n",
      "Confusion Matrix: \n",
      " [[104  74 121]\n",
      " [ 79 113  89]\n",
      " [ 24  25 137]]\n",
      "Train \n",
      "\n"
     ]
    },
    {
     "data": {
      "application/vnd.jupyter.widget-view+json": {
       "model_id": "fccf62829e1242cb99631688471c0278",
       "version_major": 2,
       "version_minor": 0
      },
      "text/plain": [
       "HBox(children=(FloatProgress(value=1.0, bar_style='info', max=1.0), HTML(value='')))"
      ]
     },
     "metadata": {},
     "output_type": "display_data"
    },
    {
     "name": "stdout",
     "output_type": "stream",
     "text": [
      "Batch:  40 / 84\n",
      "Batch Recognition loss:  0.7815055251121521\n",
      "Batch:  80 / 84\n",
      "Batch Recognition loss:  0.754497230052948\n",
      "\n",
      "Average_Loss:  0.7632562191713423\n",
      "Average_Accuracy:  0.7835400225479143\n",
      "Confusion Matrix: \n",
      " [[592 124  90]\n",
      " [106 716 101]\n",
      " [ 65  90 777]]\n",
      "Epoch:  45 \n",
      "\n",
      "Validation \n",
      "\n",
      "Validation Loss:  1.0339422896504402\n",
      "Validation Accuracy:  0.49216710182767626\n",
      "Confusion Matrix: \n",
      " [[139  69  91]\n",
      " [ 93 120  68]\n",
      " [ 41  27 118]]\n",
      "Train \n",
      "\n"
     ]
    },
    {
     "data": {
      "application/vnd.jupyter.widget-view+json": {
       "model_id": "807f4fdcc0574a1784d7c306920c8652",
       "version_major": 2,
       "version_minor": 0
      },
      "text/plain": [
       "HBox(children=(FloatProgress(value=1.0, bar_style='info', max=1.0), HTML(value='')))"
      ]
     },
     "metadata": {},
     "output_type": "display_data"
    },
    {
     "name": "stdout",
     "output_type": "stream",
     "text": [
      "Batch:  40 / 84\n",
      "Batch Recognition loss:  0.7825076580047607\n",
      "Batch:  80 / 84\n",
      "Batch Recognition loss:  0.744206964969635\n",
      "\n",
      "Average_Loss:  0.7666609443369365\n",
      "Average_Accuracy:  0.7771514468245021\n",
      "Confusion Matrix: \n",
      " [[602 122  82]\n",
      " [120 691 112]\n",
      " [ 78  79 775]]\n",
      "Epoch:  46 \n",
      "\n",
      "Validation \n",
      "\n",
      "Validation Loss:  1.0112637703617413\n",
      "Validation Accuracy:  0.5143603133159269\n",
      "Confusion Matrix: \n",
      " [[149  79  71]\n",
      " [ 91 132  58]\n",
      " [ 44  29 113]]\n",
      "Train \n",
      "\n"
     ]
    },
    {
     "data": {
      "application/vnd.jupyter.widget-view+json": {
       "model_id": "72ff4116cb224df6a95c4c5166af625a",
       "version_major": 2,
       "version_minor": 0
      },
      "text/plain": [
       "HBox(children=(FloatProgress(value=1.0, bar_style='info', max=1.0), HTML(value='')))"
      ]
     },
     "metadata": {},
     "output_type": "display_data"
    },
    {
     "name": "stdout",
     "output_type": "stream",
     "text": [
      "Batch:  40 / 84\n",
      "Batch Recognition loss:  0.7180072665214539\n",
      "Batch:  80 / 84\n",
      "Batch Recognition loss:  0.8015037178993225\n",
      "\n",
      "Average_Loss:  0.7605938826288495\n",
      "Average_Accuracy:  0.7910559939872228\n",
      "Confusion Matrix: \n",
      " [[591 121  94]\n",
      " [ 90 733 100]\n",
      " [ 66  85 781]]\n",
      "Epoch:  47 \n",
      "\n",
      "Validation \n",
      "\n",
      "Validation Loss:  1.0481885150074959\n",
      "Validation Accuracy:  0.4830287206266319\n",
      "Confusion Matrix: \n",
      " [[108  77 114]\n",
      " [ 80 127  74]\n",
      " [ 22  29 135]]\n",
      "Train \n",
      "\n"
     ]
    },
    {
     "data": {
      "application/vnd.jupyter.widget-view+json": {
       "model_id": "4a3ed171613d45ffbf5bbb001e7a16f1",
       "version_major": 2,
       "version_minor": 0
      },
      "text/plain": [
       "HBox(children=(FloatProgress(value=1.0, bar_style='info', max=1.0), HTML(value='')))"
      ]
     },
     "metadata": {},
     "output_type": "display_data"
    },
    {
     "name": "stdout",
     "output_type": "stream",
     "text": [
      "Batch:  40 / 84\n",
      "Batch Recognition loss:  0.7717722654342651\n",
      "Batch:  80 / 84\n",
      "Batch Recognition loss:  0.7536978125572205\n",
      "\n",
      "Average_Loss:  0.7606784942604247\n",
      "Average_Accuracy:  0.7918075911311537\n",
      "Confusion Matrix: \n",
      " [[596 121  89]\n",
      " [ 90 730 103]\n",
      " [ 76  75 781]]\n",
      "Epoch:  48 \n",
      "\n",
      "Validation \n",
      "\n",
      "Validation Loss:  1.0217899853984516\n",
      "Validation Accuracy:  0.5130548302872062\n",
      "Confusion Matrix: \n",
      " [[150  86  63]\n",
      " [ 95 137  49]\n",
      " [ 33  47 106]]\n",
      "Train \n",
      "\n"
     ]
    },
    {
     "data": {
      "application/vnd.jupyter.widget-view+json": {
       "model_id": "80bae87ca7ae4ea8bf2c1fb2cb8039f7",
       "version_major": 2,
       "version_minor": 0
      },
      "text/plain": [
       "HBox(children=(FloatProgress(value=1.0, bar_style='info', max=1.0), HTML(value='')))"
      ]
     },
     "metadata": {},
     "output_type": "display_data"
    },
    {
     "name": "stdout",
     "output_type": "stream",
     "text": [
      "Batch:  40 / 84\n",
      "Batch Recognition loss:  0.7258176803588867\n",
      "Batch:  80 / 84\n",
      "Batch Recognition loss:  0.7670062780380249\n",
      "\n",
      "Average_Loss:  0.7656795865013486\n",
      "Average_Accuracy:  0.7797820368282601\n",
      "Confusion Matrix: \n",
      " [[581 115 110]\n",
      " [ 99 706 118]\n",
      " [ 62  82 788]]\n",
      "Epoch:  49 \n",
      "\n",
      "Validation \n",
      "\n",
      "Validation Loss:  1.0332635020216305\n",
      "Validation Accuracy:  0.5039164490861618\n",
      "Confusion Matrix: \n",
      " [[118  79 102]\n",
      " [ 76 140  65]\n",
      " [ 22  36 128]]\n",
      "Train \n",
      "\n"
     ]
    },
    {
     "data": {
      "application/vnd.jupyter.widget-view+json": {
       "model_id": "0fd78c8dd15c420687feb11c1512be3e",
       "version_major": 2,
       "version_minor": 0
      },
      "text/plain": [
       "HBox(children=(FloatProgress(value=1.0, bar_style='info', max=1.0), HTML(value='')))"
      ]
     },
     "metadata": {},
     "output_type": "display_data"
    },
    {
     "name": "stdout",
     "output_type": "stream",
     "text": [
      "Batch:  40 / 84\n",
      "Batch Recognition loss:  0.7912564277648926\n",
      "Batch:  80 / 84\n",
      "Batch Recognition loss:  0.6842007040977478\n",
      "\n",
      "Average_Loss:  0.7541338396923882\n",
      "Average_Accuracy:  0.7891770011273957\n",
      "Confusion Matrix: \n",
      " [[588 120  98]\n",
      " [ 87 729 107]\n",
      " [ 62  87 783]]\n",
      "Epoch:  50 \n",
      "\n",
      "Validation \n",
      "\n",
      "Validation Loss:  1.0632716119289398\n",
      "Validation Accuracy:  0.4608355091383812\n",
      "Confusion Matrix: \n",
      " [[ 84  74 141]\n",
      " [ 66 114 101]\n",
      " [ 16  15 155]]\n",
      "Train \n",
      "\n"
     ]
    },
    {
     "data": {
      "application/vnd.jupyter.widget-view+json": {
       "model_id": "66eb9d904fe3446e82b55c9e8a6a9656",
       "version_major": 2,
       "version_minor": 0
      },
      "text/plain": [
       "HBox(children=(FloatProgress(value=1.0, bar_style='info', max=1.0), HTML(value='')))"
      ]
     },
     "metadata": {},
     "output_type": "display_data"
    },
    {
     "name": "stdout",
     "output_type": "stream",
     "text": [
      "Batch:  40 / 84\n",
      "Batch Recognition loss:  0.6844123601913452\n",
      "Batch:  80 / 84\n",
      "Batch Recognition loss:  0.7902411222457886\n",
      "\n",
      "Average_Loss:  0.7632391353448232\n",
      "Average_Accuracy:  0.7865464111236378\n",
      "Confusion Matrix: \n",
      " [[591 117  98]\n",
      " [ 96 717 110]\n",
      " [ 57  90 785]]\n"
     ]
    }
   ],
   "source": [
    "\n",
    "methods.full_train_global(\"v3_model\",num_epochs,model_name,model,train_dataloader,valid_dataloader,optimizer,criterion,device)\n"
   ]
  },
  {
   "cell_type": "code",
   "execution_count": 6,
   "metadata": {},
   "outputs": [
    {
     "data": {
      "text/plain": [
       "torch.Size([10, 3, 256, 256])"
      ]
     },
     "execution_count": 6,
     "metadata": {},
     "output_type": "execute_result"
    }
   ],
   "source": [
    "train_data_pt[0][1].shape"
   ]
  },
  {
   "cell_type": "code",
   "execution_count": null,
   "metadata": {},
   "outputs": [],
   "source": []
  }
 ],
 "metadata": {
  "kernelspec": {
   "display_name": "Python 3",
   "language": "python",
   "name": "python3"
  },
  "language_info": {
   "codemirror_mode": {
    "name": "ipython",
    "version": 3
   },
   "file_extension": ".py",
   "mimetype": "text/x-python",
   "name": "python",
   "nbconvert_exporter": "python",
   "pygments_lexer": "ipython3",
   "version": "3.7.5"
  }
 },
 "nbformat": 4,
 "nbformat_minor": 4
}
