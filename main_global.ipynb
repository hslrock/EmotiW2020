{
 "cells": [
  {
   "cell_type": "code",
   "execution_count": 1,
   "metadata": {},
   "outputs": [
    {
     "name": "stdout",
     "output_type": "stream",
     "text": [
      "3    932\n",
      "2    923\n",
      "1    806\n",
      "Name: Label, dtype: int64\n",
      "1    299\n",
      "2    281\n",
      "3    186\n",
      "Name: Label, dtype: int64\n"
     ]
    }
   ],
   "source": [
    "#Slef-made Function\n",
    "from Dataload import dataload\n",
    "#from module import transformer,video_model\n",
    "\n",
    "from module import video_model_attention\n",
    "from constant import EMOTIPATH,EMOTIFACEPATH,EMOTIAUDIOPATH\n",
    "from train import methods\n",
    "\n",
    "\n",
    "#Torch Library\n",
    "\n",
    "import torch\n",
    "import torch.nn as nn\n",
    "from torchsummary import summary\n",
    "from torch.utils.data import Dataset, DataLoader\n",
    "from torchvision import  utils\n",
    "\n",
    "#Sub tools\n",
    "import pandas as pd\n",
    "\n",
    "import os\n",
    "import matplotlib.pylab as plt\n",
    "\n",
    "#Util Library\n",
    "import time\n",
    "from tqdm.notebook import tqdm\n",
    "from mpl_toolkits.axes_grid1 import ImageGrid  \n",
    "\n",
    "Train_label=os.path.join(EMOTIPATH,\"Train_labels.txt\")\n",
    "Train_video_pt=os.path.join(EMOTIPATH,\"pt\",\"Train\")\n",
    "Train_face_pt=os.path.join(EMOTIFACEPATH,\"pt_stacked\",\"Train\")\n",
    "Audio_Train=os.path.join(EMOTIAUDIOPATH,\"training_audio_compare.csv\")\n",
    "\n",
    "Val_labels=os.path.join(EMOTIPATH,\"Val_labels.txt\")\n",
    "Val_video_pt=os.path.join(EMOTIPATH,\"pt\",\"Valid\")\n",
    "Val_face_pt=os.path.join(EMOTIFACEPATH,\"pt_stacked\",\"Valid\")\n",
    "Audio_Valid=os.path.join(EMOTIAUDIOPATH,\"validation_audio_compare.csv\")\n",
    "\n",
    "\n",
    "train_table = pd.read_csv(Train_label,delimiter=' ')\n",
    "val_table = pd.read_csv(Val_labels,delimiter=' ')\n",
    "print(train_table['Label'].value_counts())\n",
    "print(val_table['Label'].value_counts())\n",
    "\n",
    "\n",
    "\n",
    "device = torch.device(\"cuda:0\" if torch.cuda.is_available() else \"cpu\")\n",
    "torch.set_default_tensor_type(torch.cuda.FloatTensor)\n",
    "\n",
    "\n",
    "\n",
    "frame_num=10\n",
    "\n",
    "train_data_pt=dataload.Video_Frame_Data(Train_label,base_path_v=Train_video_pt,face_path=Train_face_pt,frame_num=frame_num,direct=True,audio_csv=Audio_Train)\n",
    "valid_data_pt=dataload.Video_Frame_Data(Val_labels,base_path_v=Val_video_pt,face_path=Val_face_pt,frame_num=frame_num,direct=True,audio_csv=Audio_Valid)\n",
    "\n",
    "\n",
    "\n",
    "\n",
    "\n",
    "def load_pretrained_model(pre_train):\n",
    "    \n",
    "    face_model=torch.load(\"pre_trained_model/\" +\"pre_trained_resnet18_facev2.h\")\n",
    "   # audio_model=video_model_attention.AudioRecognition(softmax=pre_train)\n",
    "   # audio_model.load_state_dict(torch.load(\"pre_trained_model/pre_embedded_audio.pth\"),strict=False)\n",
    "    image_model=video_model_attention.Video_modeller(frame_num,face_model=face_model,pre_train=pre_train)\n",
    "   # image_model.load_state_dict(torch.load(\"saved_model_img/img_global_5.pth\"),strict=False)\n",
    "    return(image_model)#,audio_model)\n",
    "\n",
    "\n",
    "\n",
    "def show_img(dataset,index,frame):\n",
    "    x=dataset[index][0][frame].cpu().numpy()\n",
    "    plt.figure(1,(15,15))\n",
    "    plt.axis('off')\n",
    "    image = (x*0.5+0.5).transpose((1, 2, 0)).squeeze()\n",
    "    plt.imshow(image)\n",
    "    \n",
    "    fig = plt.figure(2,(15,15))\n",
    "   # plt.axis('off')\n",
    "    grid = ImageGrid(fig, 111,\n",
    "                     nrows_ncols=(1,5),\n",
    "                     axes_pad=0.1,\n",
    "                     )\n",
    "    for i in range(5):\n",
    "        face=dataset[index][1][frame].cpu().numpy()\n",
    "        image = (face[i,:]*0.5+0.5).transpose((1, 2, 0)).squeeze()\n",
    "        grid[i].imshow(image,cmap='gray',interpolation='none')\n",
    "        \n",
    "img_model=load_pretrained_model(True)\n",
    "#audio_model=video_model_attention.AudioRecognition(softmax=True)\n"
   ]
  },
  {
   "cell_type": "code",
   "execution_count": 2,
   "metadata": {},
   "outputs": [
    {
     "name": "stdout",
     "output_type": "stream",
     "text": [
      "frame_model is frozen\n",
      "face_model is frozen\n",
      "en1 is unfrozen\n",
      "en2 is unfrozen\n",
      "fc1 is unfrozen\n",
      "fc2 is unfrozen\n",
      "fc3 is unfrozen\n",
      "dropout is unfrozen\n"
     ]
    }
   ],
   "source": [
    "\n",
    "\n",
    "weights=[932/932,932/923,932/806]\n",
    "class_weights = torch.FloatTensor(weights).to(device)\n",
    "\n",
    "train_dataloader = DataLoader(train_data_pt, batch_size=32\n",
    "                       , num_workers=0,shuffle=True)\n",
    "valid_dataloader = DataLoader(valid_data_pt, batch_size=32\n",
    "                   , num_workers=0)\n",
    "#model=video_model.video_transformer(img_model,audio_model)\n",
    "model=img_model\n",
    "model=model.to(device)\n",
    "\n",
    "num_epochs=50\n",
    "criterion = nn.CrossEntropyLoss(weight=class_weights)  \n",
    "\n",
    "for name, child in model.named_children():\n",
    "    if not name in ['face_model','frame_model' ]:\n",
    "        print(name + ' is unfrozen')\n",
    "        for param in child.parameters():\n",
    "            param.requires_grad = True\n",
    "    else:\n",
    "        print(name + ' is frozen')\n",
    "        for param in child.parameters():\n",
    "               param.requires_grad = False"
   ]
  },
  {
   "cell_type": "code",
   "execution_count": 3,
   "metadata": {},
   "outputs": [
    {
     "data": {
      "text/plain": [
       "tensor([[0.1466, 0.3838, 0.4696]], grad_fn=<SoftmaxBackward>)"
      ]
     },
     "execution_count": 3,
     "metadata": {},
     "output_type": "execute_result"
    }
   ],
   "source": [
    "model(train_data_pt[6][0].unsqueeze(0).float().to(device),None)"
   ]
  },
  {
   "cell_type": "code",
   "execution_count": 4,
   "metadata": {},
   "outputs": [
    {
     "data": {
      "text/plain": [
       "tensor([[0.9290, 0.0690, 0.0020]], grad_fn=<SoftmaxBackward>)"
      ]
     },
     "execution_count": 4,
     "metadata": {},
     "output_type": "execute_result"
    }
   ],
   "source": [
    "model(None,train_data_pt[0][1].unsqueeze(0).float().to(device))"
   ]
  },
  {
   "cell_type": "code",
   "execution_count": 5,
   "metadata": {},
   "outputs": [
    {
     "name": "stdout",
     "output_type": "stream",
     "text": [
      "global_attetnion\n",
      "Epoch:  1 \n",
      "\n",
      "Validation \n",
      "\n",
      "Validation Loss:  1.122681496044\n",
      "Validation Accuracy:  0.3968668407310705\n",
      "Confusion Matrix: \n",
      " [[  0 292   7]\n",
      " [  0 267  14]\n",
      " [  0 149  37]]\n"
     ]
    },
    {
     "data": {
      "application/vnd.jupyter.widget-view+json": {
       "model_id": "24f804f0f9954925a1d9a3f5d97e2b0e",
       "version_major": 2,
       "version_minor": 0
      },
      "text/plain": [
       "HBox(children=(FloatProgress(value=1.0, bar_style='info', max=1.0), HTML(value='')))"
      ]
     },
     "metadata": {},
     "output_type": "display_data"
    },
    {
     "name": "stdout",
     "output_type": "stream",
     "text": [
      "Batch:  40 / 84\n",
      "Batch Recognition loss:  1.067987084388733\n",
      "Batch:  80 / 84\n",
      "Batch Recognition loss:  1.0076818466186523\n",
      "\n",
      "Average_Loss:  0.978890468676885\n",
      "Average_Accuracy:  0.5377677564825254\n",
      "Confusion Matrix: \n",
      " [[304 261 241]\n",
      " [203 480 240]\n",
      " [112 173 647]]\n",
      "Epoch:  2 \n",
      "\n",
      "Validation \n",
      "\n",
      "Validation Loss:  1.0212591538826625\n",
      "Validation Accuracy:  0.4960835509138381\n",
      "Confusion Matrix: \n",
      " [[164  39  96]\n",
      " [140  97  44]\n",
      " [ 23  44 119]]\n"
     ]
    },
    {
     "data": {
      "application/vnd.jupyter.widget-view+json": {
       "model_id": "7aabb2c6d66b4bf884c135846df78075",
       "version_major": 2,
       "version_minor": 0
      },
      "text/plain": [
       "HBox(children=(FloatProgress(value=1.0, bar_style='info', max=1.0), HTML(value='')))"
      ]
     },
     "metadata": {},
     "output_type": "display_data"
    },
    {
     "name": "stdout",
     "output_type": "stream",
     "text": [
      "Batch:  40 / 84\n",
      "Batch Recognition loss:  0.8937707543373108\n",
      "Batch:  80 / 84\n",
      "Batch Recognition loss:  1.0243604183197021\n",
      "\n",
      "Average_Loss:  0.9255925913651785\n",
      "Average_Accuracy:  0.608793686583991\n",
      "Confusion Matrix: \n",
      " [[391 228 187]\n",
      " [171 552 200]\n",
      " [ 88 167 677]]\n",
      "Epoch:  3 \n",
      "\n",
      "Validation \n",
      "\n",
      "Validation Loss:  1.0105154166618984\n",
      "Validation Accuracy:  0.5052219321148825\n",
      "Confusion Matrix: \n",
      " [[174  55  70]\n",
      " [114 138  29]\n",
      " [ 47  64  75]]\n"
     ]
    },
    {
     "data": {
      "application/vnd.jupyter.widget-view+json": {
       "model_id": "334156fd49074e26975674502ddfc2b4",
       "version_major": 2,
       "version_minor": 0
      },
      "text/plain": [
       "HBox(children=(FloatProgress(value=1.0, bar_style='info', max=1.0), HTML(value='')))"
      ]
     },
     "metadata": {},
     "output_type": "display_data"
    },
    {
     "name": "stdout",
     "output_type": "stream",
     "text": [
      "Batch:  40 / 84\n",
      "Batch Recognition loss:  0.8208170533180237\n",
      "Batch:  80 / 84\n",
      "Batch Recognition loss:  0.9051774740219116\n",
      "\n",
      "Average_Loss:  0.8968622407742909\n",
      "Average_Accuracy:  0.6366027809094326\n",
      "Confusion Matrix: \n",
      " [[417 218 171]\n",
      " [177 584 162]\n",
      " [ 87 152 693]]\n",
      "Epoch:  4 \n",
      "\n",
      "Validation \n",
      "\n",
      "Validation Loss:  0.9821802228689194\n",
      "Validation Accuracy:  0.5339425587467362\n",
      "Confusion Matrix: \n",
      " [[126  70 103]\n",
      " [ 63 138  80]\n",
      " [ 20  21 145]]\n"
     ]
    },
    {
     "data": {
      "application/vnd.jupyter.widget-view+json": {
       "model_id": "44cb8a33cdca48cbab3a8200702a9ccf",
       "version_major": 2,
       "version_minor": 0
      },
      "text/plain": [
       "HBox(children=(FloatProgress(value=1.0, bar_style='info', max=1.0), HTML(value='')))"
      ]
     },
     "metadata": {},
     "output_type": "display_data"
    },
    {
     "name": "stdout",
     "output_type": "stream",
     "text": [
      "Batch:  40 / 84\n",
      "Batch Recognition loss:  0.8362656831741333\n",
      "Batch:  80 / 84\n",
      "Batch Recognition loss:  0.9653229713439941\n",
      "\n",
      "Average_Loss:  0.876470535283997\n",
      "Average_Accuracy:  0.6557685080796692\n",
      "Confusion Matrix: \n",
      " [[459 184 163]\n",
      " [173 575 175]\n",
      " [ 98 123 711]]\n",
      "Epoch:  5 \n",
      "\n",
      "Validation \n",
      "\n",
      "Validation Loss:  1.001938745379448\n",
      "Validation Accuracy:  0.5078328981723238\n",
      "Confusion Matrix: \n",
      " [[119  76 104]\n",
      " [ 87 134  60]\n",
      " [ 28  22 136]]\n"
     ]
    },
    {
     "data": {
      "application/vnd.jupyter.widget-view+json": {
       "model_id": "bfdd04f383244733a1d32573c6e75ec5",
       "version_major": 2,
       "version_minor": 0
      },
      "text/plain": [
       "HBox(children=(FloatProgress(value=1.0, bar_style='info', max=1.0), HTML(value='')))"
      ]
     },
     "metadata": {},
     "output_type": "display_data"
    },
    {
     "name": "stdout",
     "output_type": "stream",
     "text": [
      "Batch:  40 / 84\n",
      "Batch Recognition loss:  1.0016796588897705\n",
      "Batch:  80 / 84\n",
      "Batch Recognition loss:  0.8131349682807922\n",
      "\n",
      "Average_Loss:  0.8697719737177804\n",
      "Average_Accuracy:  0.6677940623825629\n",
      "Confusion Matrix: \n",
      " [[456 195 155]\n",
      " [165 584 174]\n",
      " [ 85 110 737]]\n",
      "Epoch:  6 \n",
      "\n",
      "Validation \n",
      "\n",
      "Validation Loss:  0.9879389926791191\n",
      "Validation Accuracy:  0.5469973890339426\n",
      "Confusion Matrix: \n",
      " [[146 117  36]\n",
      " [ 78 189  14]\n",
      " [ 50  52  84]]\n"
     ]
    },
    {
     "data": {
      "application/vnd.jupyter.widget-view+json": {
       "model_id": "964a212494ec48acbd3b8f628ffd2659",
       "version_major": 2,
       "version_minor": 0
      },
      "text/plain": [
       "HBox(children=(FloatProgress(value=1.0, bar_style='info', max=1.0), HTML(value='')))"
      ]
     },
     "metadata": {},
     "output_type": "display_data"
    },
    {
     "name": "stdout",
     "output_type": "stream",
     "text": [
      "Batch:  40 / 84\n",
      "Batch Recognition loss:  0.9247068762779236\n",
      "Batch:  80 / 84\n",
      "Batch Recognition loss:  0.9670823812484741\n",
      "\n",
      "Average_Loss:  0.8634782043241319\n",
      "Average_Accuracy:  0.6753100338218715\n",
      "Confusion Matrix: \n",
      " [[461 199 146]\n",
      " [143 612 168]\n",
      " [ 85 123 724]]\n",
      "Epoch:  7 \n",
      "\n",
      "Validation \n",
      "\n",
      "Validation Loss:  0.9952866559227308\n",
      "Validation Accuracy:  0.5143603133159269\n",
      "Confusion Matrix: \n",
      " [[183  44  72]\n",
      " [135  91  55]\n",
      " [ 53  13 120]]\n"
     ]
    },
    {
     "data": {
      "application/vnd.jupyter.widget-view+json": {
       "model_id": "bb2f2574b3314c6fb796f61a8055f32e",
       "version_major": 2,
       "version_minor": 0
      },
      "text/plain": [
       "HBox(children=(FloatProgress(value=1.0, bar_style='info', max=1.0), HTML(value='')))"
      ]
     },
     "metadata": {},
     "output_type": "display_data"
    },
    {
     "name": "stdout",
     "output_type": "stream",
     "text": [
      "Batch:  40 / 84\n",
      "Batch Recognition loss:  0.8637521862983704\n",
      "Batch:  80 / 84\n",
      "Batch Recognition loss:  0.8911202549934387\n",
      "\n",
      "Average_Loss:  0.8546858032544454\n",
      "Average_Accuracy:  0.6907177752724539\n",
      "Confusion Matrix: \n",
      " [[481 196 129]\n",
      " [145 626 152]\n",
      " [ 82 119 731]]\n",
      "Epoch:  8 \n",
      "\n",
      "Validation \n",
      "\n",
      "Validation Loss:  0.997890534500281\n",
      "Validation Accuracy:  0.5300261096605744\n",
      "Confusion Matrix: \n",
      " [[207  44  48]\n",
      " [147  90  44]\n",
      " [ 70   7 109]]\n"
     ]
    },
    {
     "data": {
      "application/vnd.jupyter.widget-view+json": {
       "model_id": "5f784e97ac38448e8429e04733c60b69",
       "version_major": 2,
       "version_minor": 0
      },
      "text/plain": [
       "HBox(children=(FloatProgress(value=1.0, bar_style='info', max=1.0), HTML(value='')))"
      ]
     },
     "metadata": {},
     "output_type": "display_data"
    },
    {
     "name": "stdout",
     "output_type": "stream",
     "text": [
      "Batch:  40 / 84\n",
      "Batch Recognition loss:  0.73744797706604\n",
      "Batch:  80 / 84\n",
      "Batch Recognition loss:  0.7017444372177124\n",
      "\n",
      "Average_Loss:  0.8410401599747794\n",
      "Average_Accuracy:  0.6997369409996242\n",
      "Confusion Matrix: \n",
      " [[515 172 119]\n",
      " [155 613 155]\n",
      " [ 76 122 734]]\n",
      "Epoch:  9 \n",
      "\n",
      "Validation \n",
      "\n",
      "Validation Loss:  1.0017687504490216\n",
      "Validation Accuracy:  0.5287206266318538\n",
      "Confusion Matrix: \n",
      " [[159  93  47]\n",
      " [100 152  29]\n",
      " [ 75  17  94]]\n"
     ]
    },
    {
     "data": {
      "application/vnd.jupyter.widget-view+json": {
       "model_id": "b59adace83d5472ea568a3faf5697785",
       "version_major": 2,
       "version_minor": 0
      },
      "text/plain": [
       "HBox(children=(FloatProgress(value=1.0, bar_style='info', max=1.0), HTML(value='')))"
      ]
     },
     "metadata": {},
     "output_type": "display_data"
    },
    {
     "name": "stdout",
     "output_type": "stream",
     "text": [
      "Batch:  40 / 84\n",
      "Batch Recognition loss:  0.9425851702690125\n",
      "Batch:  80 / 84\n",
      "Batch Recognition loss:  0.8114534616470337\n",
      "\n",
      "Average_Loss:  0.8378681320519674\n",
      "Average_Accuracy:  0.703870725291244\n",
      "Confusion Matrix: \n",
      " [[521 164 121]\n",
      " [151 617 155]\n",
      " [ 93 104 735]]\n",
      "Epoch:  10 \n",
      "\n",
      "Validation \n",
      "\n",
      "Validation Loss:  1.037238302330176\n",
      "Validation Accuracy:  0.47389033942558745\n",
      "Confusion Matrix: \n",
      " [[ 71 104 124]\n",
      " [ 45 154  82]\n",
      " [ 22  26 138]]\n"
     ]
    },
    {
     "data": {
      "application/vnd.jupyter.widget-view+json": {
       "model_id": "188c0febf6244b9d8e7570fd40b80c0d",
       "version_major": 2,
       "version_minor": 0
      },
      "text/plain": [
       "HBox(children=(FloatProgress(value=1.0, bar_style='info', max=1.0), HTML(value='')))"
      ]
     },
     "metadata": {},
     "output_type": "display_data"
    },
    {
     "name": "stdout",
     "output_type": "stream",
     "text": [
      "Batch:  40 / 84\n",
      "Batch Recognition loss:  0.8506784439086914\n",
      "Batch:  80 / 84\n",
      "Batch Recognition loss:  0.8821864724159241\n",
      "\n",
      "Average_Loss:  0.8266832644031161\n",
      "Average_Accuracy:  0.7177752724539647\n",
      "Confusion Matrix: \n",
      " [[502 183 121]\n",
      " [123 649 151]\n",
      " [ 65 108 759]]\n",
      "Epoch:  11 \n",
      "\n",
      "Validation \n",
      "\n",
      "Validation Loss:  1.058776470522086\n",
      "Validation Accuracy:  0.4451697127937337\n",
      "Confusion Matrix: \n",
      " [[ 41 145 113]\n",
      " [ 47 182  52]\n",
      " [ 40  28 118]]\n"
     ]
    },
    {
     "data": {
      "application/vnd.jupyter.widget-view+json": {
       "model_id": "51faa34e2a0448549a0e4ac382633e79",
       "version_major": 2,
       "version_minor": 0
      },
      "text/plain": [
       "HBox(children=(FloatProgress(value=1.0, bar_style='info', max=1.0), HTML(value='')))"
      ]
     },
     "metadata": {},
     "output_type": "display_data"
    },
    {
     "name": "stdout",
     "output_type": "stream",
     "text": [
      "Batch:  40 / 84\n",
      "Batch Recognition loss:  0.7425724267959595\n",
      "Batch:  80 / 84\n",
      "Batch Recognition loss:  0.7960951924324036\n",
      "\n",
      "Average_Loss:  0.8238337359258107\n",
      "Average_Accuracy:  0.7113866967305524\n",
      "Confusion Matrix: \n",
      " [[496 197 113]\n",
      " [148 641 134]\n",
      " [ 57 119 756]]\n",
      "Epoch:  12 \n",
      "\n",
      "Validation \n",
      "\n",
      "Validation Loss:  1.066548151274522\n",
      "Validation Accuracy:  0.4516971279373368\n",
      "Confusion Matrix: \n",
      " [[108  47 144]\n",
      " [ 99  93  89]\n",
      " [ 37   4 145]]\n"
     ]
    },
    {
     "data": {
      "application/vnd.jupyter.widget-view+json": {
       "model_id": "577d40a765b54c29aaa827d8e4ca00a2",
       "version_major": 2,
       "version_minor": 0
      },
      "text/plain": [
       "HBox(children=(FloatProgress(value=1.0, bar_style='info', max=1.0), HTML(value='')))"
      ]
     },
     "metadata": {},
     "output_type": "display_data"
    },
    {
     "name": "stdout",
     "output_type": "stream",
     "text": [
      "Batch:  40 / 84\n",
      "Batch Recognition loss:  0.9009593725204468\n",
      "Batch:  80 / 84\n",
      "Batch Recognition loss:  0.6980078816413879\n",
      "\n",
      "Average_Loss:  0.8141272791794368\n",
      "Average_Accuracy:  0.7234122510334461\n",
      "Confusion Matrix: \n",
      " [[522 178 106]\n",
      " [140 654 129]\n",
      " [ 66 117 749]]\n",
      "Epoch:  13 \n",
      "\n",
      "Validation \n",
      "\n",
      "Validation Loss:  0.9636167958378792\n",
      "Validation Accuracy:  0.5704960835509139\n",
      "Confusion Matrix: \n",
      " [[139 111  49]\n",
      " [ 77 170  34]\n",
      " [ 31  27 128]]\n"
     ]
    },
    {
     "data": {
      "application/vnd.jupyter.widget-view+json": {
       "model_id": "51542c51f1444df9ad95b4259ca7ad07",
       "version_major": 2,
       "version_minor": 0
      },
      "text/plain": [
       "HBox(children=(FloatProgress(value=1.0, bar_style='info', max=1.0), HTML(value='')))"
      ]
     },
     "metadata": {},
     "output_type": "display_data"
    },
    {
     "name": "stdout",
     "output_type": "stream",
     "text": [
      "Batch:  40 / 84\n",
      "Batch Recognition loss:  0.797113299369812\n",
      "Batch:  80 / 84\n",
      "Batch Recognition loss:  0.8831629753112793\n",
      "\n",
      "Average_Loss:  0.8044029303959438\n",
      "Average_Accuracy:  0.7380683953400977\n",
      "Confusion Matrix: \n",
      " [[539 144 123]\n",
      " [132 653 138]\n",
      " [ 62  98 772]]\n",
      "Epoch:  14 \n",
      "\n",
      "Validation \n",
      "\n",
      "Validation Loss:  1.0173350845774014\n",
      "Validation Accuracy:  0.5078328981723238\n",
      "Confusion Matrix: \n",
      " [[144  88  67]\n",
      " [ 91 154  36]\n",
      " [ 72  23  91]]\n"
     ]
    },
    {
     "data": {
      "application/vnd.jupyter.widget-view+json": {
       "model_id": "74850c5c8c954ffdaee47a77cf21b831",
       "version_major": 2,
       "version_minor": 0
      },
      "text/plain": [
       "HBox(children=(FloatProgress(value=1.0, bar_style='info', max=1.0), HTML(value='')))"
      ]
     },
     "metadata": {},
     "output_type": "display_data"
    },
    {
     "name": "stdout",
     "output_type": "stream",
     "text": [
      "Batch:  40 / 84\n",
      "Batch Recognition loss:  0.70585036277771\n",
      "Batch:  80 / 84\n",
      "Batch Recognition loss:  0.778419017791748\n",
      "\n",
      "Average_Loss:  0.7935718397299448\n",
      "Average_Accuracy:  0.7474633596392334\n",
      "Confusion Matrix: \n",
      " [[540 165 101]\n",
      " [130 661 132]\n",
      " [ 52  92 788]]\n",
      "Epoch:  15 \n",
      "\n",
      "Validation \n",
      "\n",
      "Validation Loss:  1.0626370410124462\n",
      "Validation Accuracy:  0.4595300261096606\n",
      "Confusion Matrix: \n",
      " [[113  80 106]\n",
      " [113 114  54]\n",
      " [ 53   8 125]]\n"
     ]
    },
    {
     "data": {
      "application/vnd.jupyter.widget-view+json": {
       "model_id": "3acb0b3863ba48429fd86f2caca2bafd",
       "version_major": 2,
       "version_minor": 0
      },
      "text/plain": [
       "HBox(children=(FloatProgress(value=1.0, bar_style='info', max=1.0), HTML(value='')))"
      ]
     },
     "metadata": {},
     "output_type": "display_data"
    },
    {
     "name": "stdout",
     "output_type": "stream",
     "text": [
      "Batch:  40 / 84\n",
      "Batch Recognition loss:  0.758033812046051\n",
      "Batch:  80 / 84\n",
      "Batch Recognition loss:  0.8746766448020935\n",
      "\n",
      "Average_Loss:  0.7904762568927947\n",
      "Average_Accuracy:  0.7564825253664036\n",
      "Confusion Matrix: \n",
      " [[543 160 103]\n",
      " [110 676 137]\n",
      " [ 53  85 794]]\n",
      "Epoch:  16 \n",
      "\n",
      "Validation \n",
      "\n",
      "Validation Loss:  1.0584629277388256\n",
      "Validation Accuracy:  0.4516971279373368\n",
      "Confusion Matrix: \n",
      " [[ 88  63 148]\n",
      " [ 62 110 109]\n",
      " [ 27  11 148]]\n"
     ]
    },
    {
     "data": {
      "application/vnd.jupyter.widget-view+json": {
       "model_id": "e3dd3411066844028fa4a7688840b7a1",
       "version_major": 2,
       "version_minor": 0
      },
      "text/plain": [
       "HBox(children=(FloatProgress(value=1.0, bar_style='info', max=1.0), HTML(value='')))"
      ]
     },
     "metadata": {},
     "output_type": "display_data"
    },
    {
     "name": "stdout",
     "output_type": "stream",
     "text": [
      "Batch:  40 / 84\n",
      "Batch Recognition loss:  0.7736694812774658\n",
      "Batch:  80 / 84\n",
      "Batch Recognition loss:  0.9468644261360168\n",
      "\n",
      "Average_Loss:  0.7950658635014579\n",
      "Average_Accuracy:  0.7485907553551296\n",
      "Confusion Matrix: \n",
      " [[549 153 104]\n",
      " [120 682 121]\n",
      " [ 62 109 761]]\n",
      "Epoch:  17 \n",
      "\n",
      "Validation \n",
      "\n",
      "Validation Loss:  1.0705550263325374\n",
      "Validation Accuracy:  0.4386422976501306\n",
      "Confusion Matrix: \n",
      " [[ 67  61 171]\n",
      " [ 39 107 135]\n",
      " [ 12  12 162]]\n"
     ]
    },
    {
     "data": {
      "application/vnd.jupyter.widget-view+json": {
       "model_id": "f67988023f5d4bc9a5074c924f822f99",
       "version_major": 2,
       "version_minor": 0
      },
      "text/plain": [
       "HBox(children=(FloatProgress(value=1.0, bar_style='info', max=1.0), HTML(value='')))"
      ]
     },
     "metadata": {},
     "output_type": "display_data"
    },
    {
     "name": "stdout",
     "output_type": "stream",
     "text": [
      "Batch:  40 / 84\n",
      "Batch Recognition loss:  0.7546444535255432\n",
      "Batch:  80 / 84\n",
      "Batch Recognition loss:  0.9195698499679565\n",
      "\n",
      "Average_Loss:  0.8081545531749725\n",
      "Average_Accuracy:  0.736565201052236\n",
      "Confusion Matrix: \n",
      " [[515 167 124]\n",
      " [122 663 138]\n",
      " [ 51  99 782]]\n",
      "Epoch:  18 \n",
      "\n",
      "Validation \n",
      "\n",
      "Validation Loss:  1.0287384018301964\n",
      "Validation Accuracy:  0.5\n",
      "Confusion Matrix: \n",
      " [[131  56 112]\n",
      " [ 84 123  74]\n",
      " [ 44  13 129]]\n"
     ]
    },
    {
     "data": {
      "application/vnd.jupyter.widget-view+json": {
       "model_id": "be87816f9e6a49c9b9daa29ab92371de",
       "version_major": 2,
       "version_minor": 0
      },
      "text/plain": [
       "HBox(children=(FloatProgress(value=1.0, bar_style='info', max=1.0), HTML(value='')))"
      ]
     },
     "metadata": {},
     "output_type": "display_data"
    },
    {
     "name": "stdout",
     "output_type": "stream",
     "text": [
      "Batch:  40 / 84\n",
      "Batch Recognition loss:  0.762041449546814\n",
      "Batch:  80 / 84\n",
      "Batch Recognition loss:  0.9293917417526245\n",
      "\n",
      "Average_Loss:  0.7922396787575313\n",
      "Average_Accuracy:  0.7515971439308531\n",
      "Confusion Matrix: \n",
      " [[558 131 117]\n",
      " [120 659 144]\n",
      " [ 61  88 783]]\n",
      "Epoch:  19 \n",
      "\n",
      "Validation \n",
      "\n",
      "Validation Loss:  1.0288551275928814\n",
      "Validation Accuracy:  0.49477806788511747\n",
      "Confusion Matrix: \n",
      " [[106  89 104]\n",
      " [ 55 141  85]\n",
      " [ 35  19 132]]\n"
     ]
    },
    {
     "data": {
      "application/vnd.jupyter.widget-view+json": {
       "model_id": "725396141a524d1fa8dc3be7cde3a21a",
       "version_major": 2,
       "version_minor": 0
      },
      "text/plain": [
       "HBox(children=(FloatProgress(value=1.0, bar_style='info', max=1.0), HTML(value='')))"
      ]
     },
     "metadata": {},
     "output_type": "display_data"
    },
    {
     "name": "stdout",
     "output_type": "stream",
     "text": [
      "Batch:  40 / 84\n",
      "Batch Recognition loss:  0.8310390710830688\n",
      "Batch:  80 / 84\n",
      "Batch Recognition loss:  0.7911831736564636\n",
      "\n",
      "Average_Loss:  0.7916889836390814\n",
      "Average_Accuracy:  0.756858323938369\n",
      "Confusion Matrix: \n",
      " [[554 147 105]\n",
      " [117 670 136]\n",
      " [ 51  91 790]]\n",
      "Epoch:  20 \n",
      "\n",
      "Validation \n",
      "\n",
      "Validation Loss:  1.0611255690455437\n",
      "Validation Accuracy:  0.46736292428198434\n",
      "Confusion Matrix: \n",
      " [[131  78  90]\n",
      " [ 95 120  66]\n",
      " [ 63  16 107]]\n"
     ]
    },
    {
     "data": {
      "application/vnd.jupyter.widget-view+json": {
       "model_id": "b05e15b390c04551b1a4cbc52c17b6a3",
       "version_major": 2,
       "version_minor": 0
      },
      "text/plain": [
       "HBox(children=(FloatProgress(value=1.0, bar_style='info', max=1.0), HTML(value='')))"
      ]
     },
     "metadata": {},
     "output_type": "display_data"
    },
    {
     "name": "stdout",
     "output_type": "stream",
     "text": [
      "Batch:  40 / 84\n",
      "Batch Recognition loss:  0.8926702737808228\n",
      "Batch:  80 / 84\n",
      "Batch Recognition loss:  0.8033366203308105\n",
      "\n",
      "Average_Loss:  0.7875565602665856\n",
      "Average_Accuracy:  0.7549793310785419\n",
      "Confusion Matrix: \n",
      " [[551 153 102]\n",
      " [118 665 140]\n",
      " [ 55  84 793]]\n",
      "Epoch:  21 \n",
      "\n",
      "Validation \n",
      "\n",
      "Validation Loss:  1.0852429841955502\n",
      "Validation Accuracy:  0.42297650130548303\n",
      "Confusion Matrix: \n",
      " [[ 64  87 148]\n",
      " [ 52 119 110]\n",
      " [ 24  21 141]]\n"
     ]
    },
    {
     "data": {
      "application/vnd.jupyter.widget-view+json": {
       "model_id": "16f117e7680f486aa51fd65864218212",
       "version_major": 2,
       "version_minor": 0
      },
      "text/plain": [
       "HBox(children=(FloatProgress(value=1.0, bar_style='info', max=1.0), HTML(value='')))"
      ]
     },
     "metadata": {},
     "output_type": "display_data"
    },
    {
     "name": "stdout",
     "output_type": "stream",
     "text": [
      "Batch:  40 / 84\n",
      "Batch Recognition loss:  0.7483181357383728\n",
      "Batch:  80 / 84\n",
      "Batch Recognition loss:  0.7398842573165894\n",
      "\n",
      "Average_Loss:  0.7754607519933155\n",
      "Average_Accuracy:  0.7711386696730552\n",
      "Confusion Matrix: \n",
      " [[569 137 100]\n",
      " [115 680 128]\n",
      " [ 51  78 803]]\n",
      "Epoch:  22 \n",
      "\n",
      "Validation \n",
      "\n",
      "Validation Loss:  1.035183345278104\n",
      "Validation Accuracy:  0.48825065274151436\n",
      "Confusion Matrix: \n",
      " [[103 125  71]\n",
      " [ 66 167  48]\n",
      " [ 34  48 104]]\n"
     ]
    },
    {
     "data": {
      "application/vnd.jupyter.widget-view+json": {
       "model_id": "4044fc1772ea422d86ca9d3ebbedd570",
       "version_major": 2,
       "version_minor": 0
      },
      "text/plain": [
       "HBox(children=(FloatProgress(value=1.0, bar_style='info', max=1.0), HTML(value='')))"
      ]
     },
     "metadata": {},
     "output_type": "display_data"
    },
    {
     "name": "stdout",
     "output_type": "stream",
     "text": [
      "Batch:  40 / 84\n",
      "Batch Recognition loss:  0.747097909450531\n",
      "Batch:  80 / 84\n",
      "Batch Recognition loss:  0.7500240802764893\n",
      "\n",
      "Average_Loss:  0.7770761861687615\n",
      "Average_Accuracy:  0.764750093949643\n",
      "Confusion Matrix: \n",
      " [[557 154  95]\n",
      " [109 672 142]\n",
      " [ 47  79 806]]\n",
      "Epoch:  23 \n",
      "\n",
      "Validation \n",
      "\n",
      "Validation Loss:  1.0742604260643323\n",
      "Validation Accuracy:  0.45039164490861616\n",
      "Confusion Matrix: \n",
      " [[104  58 137]\n",
      " [ 49 100 132]\n",
      " [ 32  13 141]]\n"
     ]
    },
    {
     "data": {
      "application/vnd.jupyter.widget-view+json": {
       "model_id": "3c3691f9d45441ed9591e254c669b600",
       "version_major": 2,
       "version_minor": 0
      },
      "text/plain": [
       "HBox(children=(FloatProgress(value=1.0, bar_style='info', max=1.0), HTML(value='')))"
      ]
     },
     "metadata": {},
     "output_type": "display_data"
    },
    {
     "name": "stdout",
     "output_type": "stream",
     "text": [
      "Batch:  40 / 84\n",
      "Batch Recognition loss:  0.7557105422019958\n",
      "Batch:  80 / 84\n",
      "Batch Recognition loss:  0.8103845119476318\n",
      "\n",
      "Average_Loss:  0.7731569480328333\n",
      "Average_Accuracy:  0.7726418639609169\n",
      "Confusion Matrix: \n",
      " [[586 128  92]\n",
      " [116 667 140]\n",
      " [ 47  82 803]]\n",
      "Epoch:  24 \n",
      "\n",
      "Validation \n",
      "\n",
      "Validation Loss:  1.1110618561506271\n",
      "Validation Accuracy:  0.42036553524804177\n",
      "Confusion Matrix: \n",
      " [[ 98  28 173]\n",
      " [ 83  72 126]\n",
      " [ 30   4 152]]\n"
     ]
    },
    {
     "data": {
      "application/vnd.jupyter.widget-view+json": {
       "model_id": "9ff995925003426dbe159a1363674951",
       "version_major": 2,
       "version_minor": 0
      },
      "text/plain": [
       "HBox(children=(FloatProgress(value=1.0, bar_style='info', max=1.0), HTML(value='')))"
      ]
     },
     "metadata": {},
     "output_type": "display_data"
    },
    {
     "name": "stdout",
     "output_type": "stream",
     "text": [
      "Batch:  40 / 84\n",
      "Batch Recognition loss:  0.69477778673172\n",
      "Batch:  80 / 84\n",
      "Batch Recognition loss:  0.6909003257751465\n",
      "\n",
      "Average_Loss:  0.7762069169964109\n",
      "Average_Accuracy:  0.7685080796692972\n",
      "Confusion Matrix: \n",
      " [[579 147  80]\n",
      " [104 676 143]\n",
      " [ 57  85 790]]\n",
      "Epoch:  25 \n",
      "\n",
      "Validation \n",
      "\n",
      "Validation Loss:  1.090078592300415\n",
      "Validation Accuracy:  0.4281984334203655\n",
      "Confusion Matrix: \n",
      " [[ 86 102 111]\n",
      " [ 42 128 111]\n",
      " [ 43  29 114]]\n"
     ]
    },
    {
     "data": {
      "application/vnd.jupyter.widget-view+json": {
       "model_id": "47940bf4c84746b0bac2632ccc56fa0d",
       "version_major": 2,
       "version_minor": 0
      },
      "text/plain": [
       "HBox(children=(FloatProgress(value=1.0, bar_style='info', max=1.0), HTML(value='')))"
      ]
     },
     "metadata": {},
     "output_type": "display_data"
    },
    {
     "name": "stdout",
     "output_type": "stream",
     "text": [
      "Batch:  40 / 84\n",
      "Batch Recognition loss:  0.6080363988876343\n",
      "Batch:  80 / 84\n",
      "Batch Recognition loss:  0.7105266451835632\n",
      "\n",
      "Average_Loss:  0.7722867379585902\n",
      "Average_Accuracy:  0.7715144682450207\n",
      "Confusion Matrix: \n",
      " [[573 143  90]\n",
      " [116 680 127]\n",
      " [ 49  83 800]]\n",
      "Epoch:  26 \n",
      "\n",
      "Validation \n",
      "\n",
      "Validation Loss:  1.0408327902356784\n",
      "Validation Accuracy:  0.47780678851174935\n",
      "Confusion Matrix: \n",
      " [[123  84  92]\n",
      " [ 92 133  56]\n",
      " [ 54  22 110]]\n"
     ]
    },
    {
     "data": {
      "application/vnd.jupyter.widget-view+json": {
       "model_id": "f49ab5a1056f47a8bdad027c805025b2",
       "version_major": 2,
       "version_minor": 0
      },
      "text/plain": [
       "HBox(children=(FloatProgress(value=1.0, bar_style='info', max=1.0), HTML(value='')))"
      ]
     },
     "metadata": {},
     "output_type": "display_data"
    },
    {
     "name": "stdout",
     "output_type": "stream",
     "text": [
      "Batch:  40 / 84\n",
      "Batch Recognition loss:  0.772824764251709\n",
      "Batch:  80 / 84\n",
      "Batch Recognition loss:  0.839616596698761\n",
      "\n",
      "Average_Loss:  0.762459954335576\n",
      "Average_Accuracy:  0.787673806839534\n",
      "Confusion Matrix: \n",
      " [[585 132  89]\n",
      " [101 697 125]\n",
      " [ 37  81 814]]\n",
      "Epoch:  27 \n",
      "\n",
      "Validation \n",
      "\n",
      "Validation Loss:  1.0393400291601818\n",
      "Validation Accuracy:  0.46866840731070497\n",
      "Confusion Matrix: \n",
      " [[ 82 100 117]\n",
      " [ 61 148  72]\n",
      " [ 34  23 129]]\n"
     ]
    },
    {
     "data": {
      "application/vnd.jupyter.widget-view+json": {
       "model_id": "36dc18693b0e4580ac977d65133c2c08",
       "version_major": 2,
       "version_minor": 0
      },
      "text/plain": [
       "HBox(children=(FloatProgress(value=1.0, bar_style='info', max=1.0), HTML(value='')))"
      ]
     },
     "metadata": {},
     "output_type": "display_data"
    },
    {
     "name": "stdout",
     "output_type": "stream",
     "text": [
      "Batch:  40 / 84\n",
      "Batch Recognition loss:  0.7893446087837219\n",
      "Batch:  80 / 84\n",
      "Batch Recognition loss:  0.7379740476608276\n",
      "\n",
      "Average_Loss:  0.7545410650117057\n",
      "Average_Accuracy:  0.7936865839909808\n",
      "Confusion Matrix: \n",
      " [[586 143  77]\n",
      " [ 99 704 120]\n",
      " [ 32  78 822]]\n",
      "Epoch:  28 \n",
      "\n",
      "Validation \n",
      "\n",
      "Validation Loss:  1.089212216436863\n",
      "Validation Accuracy:  0.4360313315926893\n",
      "Confusion Matrix: \n",
      " [[104  80 115]\n",
      " [ 58 121 102]\n",
      " [ 54  23 109]]\n"
     ]
    },
    {
     "data": {
      "application/vnd.jupyter.widget-view+json": {
       "model_id": "bbd1c7032d104d688a9eb66f0ac10429",
       "version_major": 2,
       "version_minor": 0
      },
      "text/plain": [
       "HBox(children=(FloatProgress(value=1.0, bar_style='info', max=1.0), HTML(value='')))"
      ]
     },
     "metadata": {},
     "output_type": "display_data"
    },
    {
     "name": "stdout",
     "output_type": "stream",
     "text": [
      "Batch:  40 / 84\n",
      "Batch Recognition loss:  0.765021562576294\n",
      "Batch:  80 / 84\n",
      "Batch Recognition loss:  0.6771499514579773\n",
      "\n",
      "Average_Loss:  0.7627193012407848\n",
      "Average_Accuracy:  0.7906801954152575\n",
      "Confusion Matrix: \n",
      " [[592 134  80]\n",
      " [106 692 125]\n",
      " [ 39  73 820]]\n",
      "Epoch:  29 \n",
      "\n",
      "Validation \n",
      "\n",
      "Validation Loss:  1.065958025554816\n",
      "Validation Accuracy:  0.4595300261096606\n",
      "Confusion Matrix: \n",
      " [[ 64 114 121]\n",
      " [ 42 162  77]\n",
      " [ 25  35 126]]\n"
     ]
    },
    {
     "data": {
      "application/vnd.jupyter.widget-view+json": {
       "model_id": "35b7b87a48c3485b9c36401e6345b802",
       "version_major": 2,
       "version_minor": 0
      },
      "text/plain": [
       "HBox(children=(FloatProgress(value=1.0, bar_style='info', max=1.0), HTML(value='')))"
      ]
     },
     "metadata": {},
     "output_type": "display_data"
    },
    {
     "name": "stdout",
     "output_type": "stream",
     "text": [
      "Batch:  40 / 84\n",
      "Batch Recognition loss:  0.7863268852233887\n",
      "Batch:  80 / 84\n",
      "Batch Recognition loss:  0.7562845945358276\n",
      "\n",
      "Average_Loss:  0.7589113393000194\n",
      "Average_Accuracy:  0.7914317925591883\n",
      "Confusion Matrix: \n",
      " [[593 136  77]\n",
      " [106 691 126]\n",
      " [ 41  69 822]]\n",
      "Epoch:  30 \n",
      "\n",
      "Validation \n",
      "\n",
      "Validation Loss:  1.0588952451944351\n",
      "Validation Accuracy:  0.4608355091383812\n",
      "Confusion Matrix: \n",
      " [[ 89  92 118]\n",
      " [ 37 135 109]\n",
      " [ 39  18 129]]\n"
     ]
    },
    {
     "data": {
      "application/vnd.jupyter.widget-view+json": {
       "model_id": "a7fcc994db2d45f8bd329e48cd378e62",
       "version_major": 2,
       "version_minor": 0
      },
      "text/plain": [
       "HBox(children=(FloatProgress(value=1.0, bar_style='info', max=1.0), HTML(value='')))"
      ]
     },
     "metadata": {},
     "output_type": "display_data"
    },
    {
     "name": "stdout",
     "output_type": "stream",
     "text": [
      "Batch:  40 / 84\n",
      "Batch Recognition loss:  0.6716517210006714\n",
      "Batch:  80 / 84\n",
      "Batch Recognition loss:  0.8133718967437744\n",
      "\n",
      "Average_Loss:  0.7557517389456431\n",
      "Average_Accuracy:  0.7940623825629463\n",
      "Confusion Matrix: \n",
      " [[584 133  89]\n",
      " [ 87 714 122]\n",
      " [ 41  76 815]]\n",
      "Epoch:  31 \n",
      "\n",
      "Validation \n",
      "\n",
      "Validation Loss:  1.0532334819436073\n",
      "Validation Accuracy:  0.46866840731070497\n",
      "Confusion Matrix: \n",
      " [[147  27 125]\n",
      " [115  79  87]\n",
      " [ 43  10 133]]\n"
     ]
    },
    {
     "data": {
      "application/vnd.jupyter.widget-view+json": {
       "model_id": "a69d7e64f77d4f13b1b4b4fd4e4ce56b",
       "version_major": 2,
       "version_minor": 0
      },
      "text/plain": [
       "HBox(children=(FloatProgress(value=1.0, bar_style='info', max=1.0), HTML(value='')))"
      ]
     },
     "metadata": {},
     "output_type": "display_data"
    },
    {
     "name": "stdout",
     "output_type": "stream",
     "text": [
      "Batch:  40 / 84\n",
      "Batch Recognition loss:  0.7512689828872681\n",
      "Batch:  80 / 84\n",
      "Batch Recognition loss:  0.7693846225738525\n",
      "\n",
      "Average_Loss:  0.7545173870665687\n",
      "Average_Accuracy:  0.7899285982713266\n",
      "Confusion Matrix: \n",
      " [[584 138  84]\n",
      " [ 98 696 129]\n",
      " [ 38  72 822]]\n",
      "Epoch:  32 \n",
      "\n",
      "Validation \n",
      "\n",
      "Validation Loss:  1.0690325399239857\n",
      "Validation Accuracy:  0.4595300261096606\n",
      "Confusion Matrix: \n",
      " [[161  19 119]\n",
      " [119  71  91]\n",
      " [ 56  10 120]]\n"
     ]
    },
    {
     "data": {
      "application/vnd.jupyter.widget-view+json": {
       "model_id": "214e5857d6e94484bd4e4efd64178fbe",
       "version_major": 2,
       "version_minor": 0
      },
      "text/plain": [
       "HBox(children=(FloatProgress(value=1.0, bar_style='info', max=1.0), HTML(value='')))"
      ]
     },
     "metadata": {},
     "output_type": "display_data"
    },
    {
     "name": "stdout",
     "output_type": "stream",
     "text": [
      "Batch:  40 / 84\n",
      "Batch Recognition loss:  0.7003239393234253\n",
      "Batch:  80 / 84\n",
      "Batch Recognition loss:  0.6709669828414917\n",
      "\n",
      "Average_Loss:  0.7577942758798599\n",
      "Average_Accuracy:  0.7865464111236378\n",
      "Confusion Matrix: \n",
      " [[588 130  88]\n",
      " [112 699 112]\n",
      " [ 50  76 806]]\n",
      "Epoch:  33 \n",
      "\n",
      "Validation \n",
      "\n",
      "Validation Loss:  1.0782332867383957\n",
      "Validation Accuracy:  0.4347258485639687\n",
      "Confusion Matrix: \n",
      " [[ 85 112 102]\n",
      " [ 70 152  59]\n",
      " [ 62  28  96]]\n"
     ]
    },
    {
     "data": {
      "application/vnd.jupyter.widget-view+json": {
       "model_id": "3eeb9b774dd14844b42d96cfe74902b5",
       "version_major": 2,
       "version_minor": 0
      },
      "text/plain": [
       "HBox(children=(FloatProgress(value=1.0, bar_style='info', max=1.0), HTML(value='')))"
      ]
     },
     "metadata": {},
     "output_type": "display_data"
    },
    {
     "name": "stdout",
     "output_type": "stream",
     "text": [
      "Batch:  40 / 84\n",
      "Batch Recognition loss:  0.7790758013725281\n",
      "Batch:  80 / 84\n",
      "Batch Recognition loss:  0.8344433307647705\n",
      "\n",
      "Average_Loss:  0.7412414905570802\n",
      "Average_Accuracy:  0.8072153325817362\n",
      "Confusion Matrix: \n",
      " [[607 121  78]\n",
      " [ 92 717 114]\n",
      " [ 38  70 824]]\n",
      "Epoch:  34 \n",
      "\n",
      "Validation \n",
      "\n",
      "Validation Loss:  1.108785331249237\n",
      "Validation Accuracy:  0.4151436031331593\n",
      "Confusion Matrix: \n",
      " [[ 91  50 158]\n",
      " [ 72  94 115]\n",
      " [ 40  13 133]]\n"
     ]
    },
    {
     "data": {
      "application/vnd.jupyter.widget-view+json": {
       "model_id": "bbf55a9036ac40858a74864c49fc745b",
       "version_major": 2,
       "version_minor": 0
      },
      "text/plain": [
       "HBox(children=(FloatProgress(value=1.0, bar_style='info', max=1.0), HTML(value='')))"
      ]
     },
     "metadata": {},
     "output_type": "display_data"
    },
    {
     "name": "stdout",
     "output_type": "stream",
     "text": [
      "Batch:  40 / 84\n",
      "Batch Recognition loss:  0.862923264503479\n",
      "Batch:  80 / 84\n",
      "Batch Recognition loss:  0.7549375891685486\n",
      "\n",
      "Average_Loss:  0.751252545487313\n",
      "Average_Accuracy:  0.7944381811349117\n",
      "Confusion Matrix: \n",
      " [[584 124  98]\n",
      " [ 94 712 117]\n",
      " [ 42  72 818]]\n",
      "Epoch:  35 \n",
      "\n",
      "Validation \n",
      "\n",
      "Validation Loss:  1.1044451196988423\n",
      "Validation Accuracy:  0.42036553524804177\n",
      "Confusion Matrix: \n",
      " [[120  74 105]\n",
      " [124  76  81]\n",
      " [ 44  16 126]]\n"
     ]
    },
    {
     "data": {
      "application/vnd.jupyter.widget-view+json": {
       "model_id": "ac4ed37f19c240d1915ebcaa3baadba6",
       "version_major": 2,
       "version_minor": 0
      },
      "text/plain": [
       "HBox(children=(FloatProgress(value=1.0, bar_style='info', max=1.0), HTML(value='')))"
      ]
     },
     "metadata": {},
     "output_type": "display_data"
    },
    {
     "name": "stdout",
     "output_type": "stream",
     "text": [
      "Batch:  40 / 84\n",
      "Batch Recognition loss:  0.7279576063156128\n",
      "Batch:  80 / 84\n",
      "Batch Recognition loss:  0.9155505895614624\n",
      "\n",
      "Average_Loss:  0.762708258770761\n",
      "Average_Accuracy:  0.787673806839534\n",
      "Confusion Matrix: \n",
      " [[598 127  81]\n",
      " [ 99 705 119]\n",
      " [ 49  90 793]]\n",
      "Epoch:  36 \n",
      "\n",
      "Validation \n",
      "\n",
      "Validation Loss:  1.0841882924238841\n",
      "Validation Accuracy:  0.4347258485639687\n",
      "Confusion Matrix: \n",
      " [[ 60  89 150]\n",
      " [ 53 126 102]\n",
      " [ 23  16 147]]\n"
     ]
    },
    {
     "data": {
      "application/vnd.jupyter.widget-view+json": {
       "model_id": "c57df2c9c93c4be7a812337d832c2049",
       "version_major": 2,
       "version_minor": 0
      },
      "text/plain": [
       "HBox(children=(FloatProgress(value=1.0, bar_style='info', max=1.0), HTML(value='')))"
      ]
     },
     "metadata": {},
     "output_type": "display_data"
    },
    {
     "name": "stdout",
     "output_type": "stream",
     "text": [
      "Batch:  40 / 84\n",
      "Batch Recognition loss:  0.7252464294433594\n",
      "Batch:  80 / 84\n",
      "Batch Recognition loss:  0.9327033162117004\n",
      "\n",
      "Average_Loss:  0.7520926147699356\n",
      "Average_Accuracy:  0.7951897782788425\n",
      "Confusion Matrix: \n",
      " [[577 140  89]\n",
      " [ 98 707 118]\n",
      " [ 32  68 832]]\n",
      "Epoch:  37 \n",
      "\n",
      "Validation \n",
      "\n",
      "Validation Loss:  1.0239996785918872\n",
      "Validation Accuracy:  0.5\n",
      "Confusion Matrix: \n",
      " [[156  47  96]\n",
      " [105 125  51]\n",
      " [ 55  29 102]]\n"
     ]
    },
    {
     "data": {
      "application/vnd.jupyter.widget-view+json": {
       "model_id": "1f1043da782e44d4b46da6fc8d9d933e",
       "version_major": 2,
       "version_minor": 0
      },
      "text/plain": [
       "HBox(children=(FloatProgress(value=1.0, bar_style='info', max=1.0), HTML(value='')))"
      ]
     },
     "metadata": {},
     "output_type": "display_data"
    },
    {
     "name": "stdout",
     "output_type": "stream",
     "text": [
      "Batch:  40 / 84\n",
      "Batch Recognition loss:  0.7227847576141357\n",
      "Batch:  80 / 84\n",
      "Batch Recognition loss:  0.7545055150985718\n",
      "\n",
      "Average_Loss:  0.7611850343999409\n",
      "Average_Accuracy:  0.7869222096956031\n",
      "Confusion Matrix: \n",
      " [[599 120  87]\n",
      " [120 696 107]\n",
      " [ 46  87 799]]\n",
      "Epoch:  38 \n",
      "\n",
      "Validation \n",
      "\n"
     ]
    },
    {
     "ename": "KeyboardInterrupt",
     "evalue": "",
     "output_type": "error",
     "traceback": [
      "\u001b[0;31m---------------------------------------------------------------------------\u001b[0m",
      "\u001b[0;31mKeyboardInterrupt\u001b[0m                         Traceback (most recent call last)",
      "\u001b[0;32m<ipython-input-5-ecaa81700cf1>\u001b[0m in \u001b[0;36m<module>\u001b[0;34m\u001b[0m\n\u001b[1;32m      6\u001b[0m \u001b[0mprint\u001b[0m\u001b[0;34m(\u001b[0m\u001b[0mmodel_name\u001b[0m\u001b[0;34m)\u001b[0m\u001b[0;34m\u001b[0m\u001b[0;34m\u001b[0m\u001b[0m\n\u001b[1;32m      7\u001b[0m \u001b[0;34m\u001b[0m\u001b[0m\n\u001b[0;32m----> 8\u001b[0;31m \u001b[0mmethods\u001b[0m\u001b[0;34m.\u001b[0m\u001b[0mframe_train\u001b[0m\u001b[0;34m(\u001b[0m\u001b[0;34m\"global_image_train_v2\"\u001b[0m\u001b[0;34m,\u001b[0m\u001b[0mnum_epochs\u001b[0m\u001b[0;34m,\u001b[0m\u001b[0mmodel_name\u001b[0m\u001b[0;34m,\u001b[0m\u001b[0mmodel\u001b[0m\u001b[0;34m,\u001b[0m\u001b[0mtrain_dataloader\u001b[0m\u001b[0;34m,\u001b[0m\u001b[0mvalid_dataloader\u001b[0m\u001b[0;34m,\u001b[0m\u001b[0moptimizer\u001b[0m\u001b[0;34m,\u001b[0m\u001b[0mcriterion\u001b[0m\u001b[0;34m,\u001b[0m\u001b[0mdevice\u001b[0m\u001b[0;34m)\u001b[0m\u001b[0;34m\u001b[0m\u001b[0;34m\u001b[0m\u001b[0m\n\u001b[0m",
      "\u001b[0;32m/opt/notebooks/Github/EmotiW2020/train/methods.py\u001b[0m in \u001b[0;36mframe_train\u001b[0;34m(master_path, num_epochs, name, model, train_dataloader, valid_dataloader, optimizer, criterion, device)\u001b[0m\n\u001b[1;32m    112\u001b[0m \u001b[0;34m\u001b[0m\u001b[0m\n\u001b[1;32m    113\u001b[0m         \u001b[0mprint\u001b[0m\u001b[0;34m(\u001b[0m\u001b[0;34m\"Validation \\n\"\u001b[0m\u001b[0;34m)\u001b[0m\u001b[0;34m\u001b[0m\u001b[0;34m\u001b[0m\u001b[0m\n\u001b[0;32m--> 114\u001b[0;31m         \u001b[0;32mfor\u001b[0m \u001b[0mi_batch\u001b[0m\u001b[0;34m,\u001b[0m \u001b[0;34m(\u001b[0m\u001b[0mframe_batch\u001b[0m\u001b[0;34m,\u001b[0m\u001b[0m_\u001b[0m\u001b[0;34m,\u001b[0m\u001b[0m_\u001b[0m\u001b[0;34m,\u001b[0m\u001b[0mlabel\u001b[0m\u001b[0;34m)\u001b[0m \u001b[0;32min\u001b[0m \u001b[0menumerate\u001b[0m\u001b[0;34m(\u001b[0m\u001b[0mvalid_dataloader\u001b[0m\u001b[0;34m)\u001b[0m\u001b[0;34m:\u001b[0m\u001b[0;34m\u001b[0m\u001b[0;34m\u001b[0m\u001b[0m\n\u001b[0m\u001b[1;32m    115\u001b[0m             \u001b[0mbatch_size\u001b[0m\u001b[0;34m=\u001b[0m\u001b[0mframe_batch\u001b[0m\u001b[0;34m.\u001b[0m\u001b[0msize\u001b[0m\u001b[0;34m(\u001b[0m\u001b[0;36m0\u001b[0m\u001b[0;34m)\u001b[0m\u001b[0;34m\u001b[0m\u001b[0;34m\u001b[0m\u001b[0m\n\u001b[1;32m    116\u001b[0m             \u001b[0mframe_batch\u001b[0m\u001b[0;34m=\u001b[0m\u001b[0mframe_batch\u001b[0m\u001b[0;34m.\u001b[0m\u001b[0mfloat\u001b[0m\u001b[0;34m(\u001b[0m\u001b[0;34m)\u001b[0m\u001b[0;34m.\u001b[0m\u001b[0mto\u001b[0m\u001b[0;34m(\u001b[0m\u001b[0mdevice\u001b[0m\u001b[0;34m)\u001b[0m\u001b[0;34m\u001b[0m\u001b[0;34m\u001b[0m\u001b[0m\n",
      "\u001b[0;32m/opt/conda/envs/torch/lib/python3.7/site-packages/torch/utils/data/dataloader.py\u001b[0m in \u001b[0;36m__next__\u001b[0;34m(self)\u001b[0m\n\u001b[1;32m    344\u001b[0m     \u001b[0;32mdef\u001b[0m \u001b[0m__next__\u001b[0m\u001b[0;34m(\u001b[0m\u001b[0mself\u001b[0m\u001b[0;34m)\u001b[0m\u001b[0;34m:\u001b[0m\u001b[0;34m\u001b[0m\u001b[0;34m\u001b[0m\u001b[0m\n\u001b[1;32m    345\u001b[0m         \u001b[0mindex\u001b[0m \u001b[0;34m=\u001b[0m \u001b[0mself\u001b[0m\u001b[0;34m.\u001b[0m\u001b[0m_next_index\u001b[0m\u001b[0;34m(\u001b[0m\u001b[0;34m)\u001b[0m  \u001b[0;31m# may raise StopIteration\u001b[0m\u001b[0;34m\u001b[0m\u001b[0;34m\u001b[0m\u001b[0m\n\u001b[0;32m--> 346\u001b[0;31m         \u001b[0mdata\u001b[0m \u001b[0;34m=\u001b[0m \u001b[0mself\u001b[0m\u001b[0;34m.\u001b[0m\u001b[0m_dataset_fetcher\u001b[0m\u001b[0;34m.\u001b[0m\u001b[0mfetch\u001b[0m\u001b[0;34m(\u001b[0m\u001b[0mindex\u001b[0m\u001b[0;34m)\u001b[0m  \u001b[0;31m# may raise StopIteration\u001b[0m\u001b[0;34m\u001b[0m\u001b[0;34m\u001b[0m\u001b[0m\n\u001b[0m\u001b[1;32m    347\u001b[0m         \u001b[0;32mif\u001b[0m \u001b[0mself\u001b[0m\u001b[0;34m.\u001b[0m\u001b[0m_pin_memory\u001b[0m\u001b[0;34m:\u001b[0m\u001b[0;34m\u001b[0m\u001b[0;34m\u001b[0m\u001b[0m\n\u001b[1;32m    348\u001b[0m             \u001b[0mdata\u001b[0m \u001b[0;34m=\u001b[0m \u001b[0m_utils\u001b[0m\u001b[0;34m.\u001b[0m\u001b[0mpin_memory\u001b[0m\u001b[0;34m.\u001b[0m\u001b[0mpin_memory\u001b[0m\u001b[0;34m(\u001b[0m\u001b[0mdata\u001b[0m\u001b[0;34m)\u001b[0m\u001b[0;34m\u001b[0m\u001b[0;34m\u001b[0m\u001b[0m\n",
      "\u001b[0;32m/opt/conda/envs/torch/lib/python3.7/site-packages/torch/utils/data/_utils/fetch.py\u001b[0m in \u001b[0;36mfetch\u001b[0;34m(self, possibly_batched_index)\u001b[0m\n\u001b[1;32m     42\u001b[0m     \u001b[0;32mdef\u001b[0m \u001b[0mfetch\u001b[0m\u001b[0;34m(\u001b[0m\u001b[0mself\u001b[0m\u001b[0;34m,\u001b[0m \u001b[0mpossibly_batched_index\u001b[0m\u001b[0;34m)\u001b[0m\u001b[0;34m:\u001b[0m\u001b[0;34m\u001b[0m\u001b[0;34m\u001b[0m\u001b[0m\n\u001b[1;32m     43\u001b[0m         \u001b[0;32mif\u001b[0m \u001b[0mself\u001b[0m\u001b[0;34m.\u001b[0m\u001b[0mauto_collation\u001b[0m\u001b[0;34m:\u001b[0m\u001b[0;34m\u001b[0m\u001b[0;34m\u001b[0m\u001b[0m\n\u001b[0;32m---> 44\u001b[0;31m             \u001b[0mdata\u001b[0m \u001b[0;34m=\u001b[0m \u001b[0;34m[\u001b[0m\u001b[0mself\u001b[0m\u001b[0;34m.\u001b[0m\u001b[0mdataset\u001b[0m\u001b[0;34m[\u001b[0m\u001b[0midx\u001b[0m\u001b[0;34m]\u001b[0m \u001b[0;32mfor\u001b[0m \u001b[0midx\u001b[0m \u001b[0;32min\u001b[0m \u001b[0mpossibly_batched_index\u001b[0m\u001b[0;34m]\u001b[0m\u001b[0;34m\u001b[0m\u001b[0;34m\u001b[0m\u001b[0m\n\u001b[0m\u001b[1;32m     45\u001b[0m         \u001b[0;32melse\u001b[0m\u001b[0;34m:\u001b[0m\u001b[0;34m\u001b[0m\u001b[0;34m\u001b[0m\u001b[0m\n\u001b[1;32m     46\u001b[0m             \u001b[0mdata\u001b[0m \u001b[0;34m=\u001b[0m \u001b[0mself\u001b[0m\u001b[0;34m.\u001b[0m\u001b[0mdataset\u001b[0m\u001b[0;34m[\u001b[0m\u001b[0mpossibly_batched_index\u001b[0m\u001b[0;34m]\u001b[0m\u001b[0;34m\u001b[0m\u001b[0;34m\u001b[0m\u001b[0m\n",
      "\u001b[0;32m/opt/conda/envs/torch/lib/python3.7/site-packages/torch/utils/data/_utils/fetch.py\u001b[0m in \u001b[0;36m<listcomp>\u001b[0;34m(.0)\u001b[0m\n\u001b[1;32m     42\u001b[0m     \u001b[0;32mdef\u001b[0m \u001b[0mfetch\u001b[0m\u001b[0;34m(\u001b[0m\u001b[0mself\u001b[0m\u001b[0;34m,\u001b[0m \u001b[0mpossibly_batched_index\u001b[0m\u001b[0;34m)\u001b[0m\u001b[0;34m:\u001b[0m\u001b[0;34m\u001b[0m\u001b[0;34m\u001b[0m\u001b[0m\n\u001b[1;32m     43\u001b[0m         \u001b[0;32mif\u001b[0m \u001b[0mself\u001b[0m\u001b[0;34m.\u001b[0m\u001b[0mauto_collation\u001b[0m\u001b[0;34m:\u001b[0m\u001b[0;34m\u001b[0m\u001b[0;34m\u001b[0m\u001b[0m\n\u001b[0;32m---> 44\u001b[0;31m             \u001b[0mdata\u001b[0m \u001b[0;34m=\u001b[0m \u001b[0;34m[\u001b[0m\u001b[0mself\u001b[0m\u001b[0;34m.\u001b[0m\u001b[0mdataset\u001b[0m\u001b[0;34m[\u001b[0m\u001b[0midx\u001b[0m\u001b[0;34m]\u001b[0m \u001b[0;32mfor\u001b[0m \u001b[0midx\u001b[0m \u001b[0;32min\u001b[0m \u001b[0mpossibly_batched_index\u001b[0m\u001b[0;34m]\u001b[0m\u001b[0;34m\u001b[0m\u001b[0;34m\u001b[0m\u001b[0m\n\u001b[0m\u001b[1;32m     45\u001b[0m         \u001b[0;32melse\u001b[0m\u001b[0;34m:\u001b[0m\u001b[0;34m\u001b[0m\u001b[0;34m\u001b[0m\u001b[0m\n\u001b[1;32m     46\u001b[0m             \u001b[0mdata\u001b[0m \u001b[0;34m=\u001b[0m \u001b[0mself\u001b[0m\u001b[0;34m.\u001b[0m\u001b[0mdataset\u001b[0m\u001b[0;34m[\u001b[0m\u001b[0mpossibly_batched_index\u001b[0m\u001b[0;34m]\u001b[0m\u001b[0;34m\u001b[0m\u001b[0;34m\u001b[0m\u001b[0m\n",
      "\u001b[0;32m/opt/notebooks/Github/EmotiW2020/Dataload/dataload.py\u001b[0m in \u001b[0;36m__getitem__\u001b[0;34m(self, idx)\u001b[0m\n\u001b[1;32m     79\u001b[0m             \u001b[0mvideo_path\u001b[0m\u001b[0;34m=\u001b[0m\u001b[0mfolder_name\u001b[0m\u001b[0;34m+\u001b[0m\u001b[0;34m'.pt'\u001b[0m\u001b[0;34m\u001b[0m\u001b[0;34m\u001b[0m\u001b[0m\n\u001b[1;32m     80\u001b[0m \u001b[0;34m\u001b[0m\u001b[0m\n\u001b[0;32m---> 81\u001b[0;31m             \u001b[0mtemp_frame_data\u001b[0m\u001b[0;34m=\u001b[0m\u001b[0mtorch\u001b[0m\u001b[0;34m.\u001b[0m\u001b[0mload\u001b[0m\u001b[0;34m(\u001b[0m\u001b[0mvideo_path\u001b[0m\u001b[0;34m)\u001b[0m\u001b[0;34m\u001b[0m\u001b[0;34m\u001b[0m\u001b[0m\n\u001b[0m\u001b[1;32m     82\u001b[0m \u001b[0;34m\u001b[0m\u001b[0m\n\u001b[1;32m     83\u001b[0m             \u001b[0;32mif\u001b[0m \u001b[0mself\u001b[0m\u001b[0;34m.\u001b[0m\u001b[0mframe_num\u001b[0m\u001b[0;34m<\u001b[0m\u001b[0mself\u001b[0m\u001b[0;34m.\u001b[0m\u001b[0mmax_frame_num\u001b[0m\u001b[0;34m:\u001b[0m\u001b[0;34m\u001b[0m\u001b[0;34m\u001b[0m\u001b[0m\n",
      "\u001b[0;32m/opt/conda/envs/torch/lib/python3.7/site-packages/torch/serialization.py\u001b[0m in \u001b[0;36mload\u001b[0;34m(f, map_location, pickle_module, **pickle_load_args)\u001b[0m\n\u001b[1;32m    424\u001b[0m         \u001b[0;32mif\u001b[0m \u001b[0msys\u001b[0m\u001b[0;34m.\u001b[0m\u001b[0mversion_info\u001b[0m \u001b[0;34m>=\u001b[0m \u001b[0;34m(\u001b[0m\u001b[0;36m3\u001b[0m\u001b[0;34m,\u001b[0m \u001b[0;36m0\u001b[0m\u001b[0;34m)\u001b[0m \u001b[0;32mand\u001b[0m \u001b[0;34m'encoding'\u001b[0m \u001b[0;32mnot\u001b[0m \u001b[0;32min\u001b[0m \u001b[0mpickle_load_args\u001b[0m\u001b[0;34m.\u001b[0m\u001b[0mkeys\u001b[0m\u001b[0;34m(\u001b[0m\u001b[0;34m)\u001b[0m\u001b[0;34m:\u001b[0m\u001b[0;34m\u001b[0m\u001b[0;34m\u001b[0m\u001b[0m\n\u001b[1;32m    425\u001b[0m             \u001b[0mpickle_load_args\u001b[0m\u001b[0;34m[\u001b[0m\u001b[0;34m'encoding'\u001b[0m\u001b[0;34m]\u001b[0m \u001b[0;34m=\u001b[0m \u001b[0;34m'utf-8'\u001b[0m\u001b[0;34m\u001b[0m\u001b[0;34m\u001b[0m\u001b[0m\n\u001b[0;32m--> 426\u001b[0;31m         \u001b[0;32mreturn\u001b[0m \u001b[0m_load\u001b[0m\u001b[0;34m(\u001b[0m\u001b[0mf\u001b[0m\u001b[0;34m,\u001b[0m \u001b[0mmap_location\u001b[0m\u001b[0;34m,\u001b[0m \u001b[0mpickle_module\u001b[0m\u001b[0;34m,\u001b[0m \u001b[0;34m**\u001b[0m\u001b[0mpickle_load_args\u001b[0m\u001b[0;34m)\u001b[0m\u001b[0;34m\u001b[0m\u001b[0;34m\u001b[0m\u001b[0m\n\u001b[0m\u001b[1;32m    427\u001b[0m     \u001b[0;32mfinally\u001b[0m\u001b[0;34m:\u001b[0m\u001b[0;34m\u001b[0m\u001b[0;34m\u001b[0m\u001b[0m\n\u001b[1;32m    428\u001b[0m         \u001b[0;32mif\u001b[0m \u001b[0mnew_fd\u001b[0m\u001b[0;34m:\u001b[0m\u001b[0;34m\u001b[0m\u001b[0;34m\u001b[0m\u001b[0m\n",
      "\u001b[0;32m/opt/conda/envs/torch/lib/python3.7/site-packages/torch/serialization.py\u001b[0m in \u001b[0;36m_load\u001b[0;34m(f, map_location, pickle_module, **pickle_load_args)\u001b[0m\n\u001b[1;32m    618\u001b[0m     \u001b[0;32mfor\u001b[0m \u001b[0mkey\u001b[0m \u001b[0;32min\u001b[0m \u001b[0mdeserialized_storage_keys\u001b[0m\u001b[0;34m:\u001b[0m\u001b[0;34m\u001b[0m\u001b[0;34m\u001b[0m\u001b[0m\n\u001b[1;32m    619\u001b[0m         \u001b[0;32massert\u001b[0m \u001b[0mkey\u001b[0m \u001b[0;32min\u001b[0m \u001b[0mdeserialized_objects\u001b[0m\u001b[0;34m\u001b[0m\u001b[0;34m\u001b[0m\u001b[0m\n\u001b[0;32m--> 620\u001b[0;31m         \u001b[0mdeserialized_objects\u001b[0m\u001b[0;34m[\u001b[0m\u001b[0mkey\u001b[0m\u001b[0;34m]\u001b[0m\u001b[0;34m.\u001b[0m\u001b[0m_set_from_file\u001b[0m\u001b[0;34m(\u001b[0m\u001b[0mf\u001b[0m\u001b[0;34m,\u001b[0m \u001b[0moffset\u001b[0m\u001b[0;34m,\u001b[0m \u001b[0mf_should_read_directly\u001b[0m\u001b[0;34m)\u001b[0m\u001b[0;34m\u001b[0m\u001b[0;34m\u001b[0m\u001b[0m\n\u001b[0m\u001b[1;32m    621\u001b[0m         \u001b[0;32mif\u001b[0m \u001b[0moffset\u001b[0m \u001b[0;32mis\u001b[0m \u001b[0;32mnot\u001b[0m \u001b[0;32mNone\u001b[0m\u001b[0;34m:\u001b[0m\u001b[0;34m\u001b[0m\u001b[0;34m\u001b[0m\u001b[0m\n\u001b[1;32m    622\u001b[0m             \u001b[0moffset\u001b[0m \u001b[0;34m=\u001b[0m \u001b[0mf\u001b[0m\u001b[0;34m.\u001b[0m\u001b[0mtell\u001b[0m\u001b[0;34m(\u001b[0m\u001b[0;34m)\u001b[0m\u001b[0;34m\u001b[0m\u001b[0;34m\u001b[0m\u001b[0m\n",
      "\u001b[0;31mKeyboardInterrupt\u001b[0m: "
     ]
    }
   ],
   "source": [
    "\n",
    "optimizer = torch.optim.Adam(filter(lambda p: p.requires_grad, model.parameters()), lr=0.0005, betas=(0.5, 0.999))\n",
    "\n",
    "\n",
    "model_name=\"global_attetnion\"\n",
    "\n",
    "print(model_name)\n",
    "\n",
    "methods.frame_train(\"global_image_train_v2\",num_epochs,model_name,model,train_dataloader,valid_dataloader,optimizer,criterion,device)\n"
   ]
  },
  {
   "cell_type": "code",
   "execution_count": null,
   "metadata": {},
   "outputs": [],
   "source": []
  },
  {
   "cell_type": "code",
   "execution_count": null,
   "metadata": {},
   "outputs": [],
   "source": []
  }
 ],
 "metadata": {
  "kernelspec": {
   "display_name": "Python 3",
   "language": "python",
   "name": "python3"
  },
  "language_info": {
   "codemirror_mode": {
    "name": "ipython",
    "version": 3
   },
   "file_extension": ".py",
   "mimetype": "text/x-python",
   "name": "python",
   "nbconvert_exporter": "python",
   "pygments_lexer": "ipython3",
   "version": "3.7.5"
  }
 },
 "nbformat": 4,
 "nbformat_minor": 4
}
