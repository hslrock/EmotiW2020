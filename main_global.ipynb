{
 "cells": [
  {
   "cell_type": "code",
   "execution_count": 1,
   "metadata": {},
   "outputs": [
    {
     "name": "stdout",
     "output_type": "stream",
     "text": [
      "3    932\n",
      "2    923\n",
      "1    806\n",
      "Name: Label, dtype: int64\n",
      "1    299\n",
      "2    281\n",
      "3    186\n",
      "Name: Label, dtype: int64\n"
     ]
    }
   ],
   "source": [
    "#Slef-made Function\n",
    "from Dataload import dataload\n",
    "#from module import transformer,video_model\n",
    "\n",
    "from module import video_model_attention\n",
    "from constant import EMOTIPATH,EMOTIFACEPATH,EMOTIAUDIOPATH\n",
    "from train import methods\n",
    "\n",
    "\n",
    "#Torch Library\n",
    "\n",
    "import torch\n",
    "import torch.nn as nn\n",
    "from torchsummary import summary\n",
    "from torch.utils.data import Dataset, DataLoader\n",
    "from torchvision import  utils\n",
    "\n",
    "#Sub tools\n",
    "import pandas as pd\n",
    "\n",
    "import os\n",
    "import matplotlib.pylab as plt\n",
    "\n",
    "#Util Library\n",
    "import time\n",
    "from tqdm.notebook import tqdm\n",
    "from mpl_toolkits.axes_grid1 import ImageGrid  \n",
    "\n",
    "Train_label=os.path.join(EMOTIPATH,\"Train_labels.txt\")\n",
    "Train_video_pt=os.path.join(EMOTIPATH,\"pt\",\"Train\")\n",
    "Train_face_pt=os.path.join(EMOTIFACEPATH,\"pt_stacked\",\"Train\")\n",
    "Audio_Train=os.path.join(EMOTIAUDIOPATH,\"Train_audio.csv\")\n",
    "\n",
    "Val_labels=os.path.join(EMOTIPATH,\"Val_labels.txt\")\n",
    "Val_video_pt=os.path.join(EMOTIPATH,\"pt\",\"Valid\")\n",
    "Val_face_pt=os.path.join(EMOTIFACEPATH,\"pt_stacked\",\"Valid\")\n",
    "Audio_Valid=os.path.join(EMOTIAUDIOPATH,\"Val_audio.csv\")\n",
    "\n",
    "\n",
    "train_table = pd.read_csv(Train_label,delimiter=' ')\n",
    "val_table = pd.read_csv(Val_labels,delimiter=' ')\n",
    "print(train_table['Label'].value_counts())\n",
    "print(val_table['Label'].value_counts())\n",
    "\n",
    "\n",
    "\n",
    "device = torch.device(\"cuda:0\" if torch.cuda.is_available() else \"cpu\")\n",
    "torch.set_default_tensor_type(torch.cuda.FloatTensor)\n",
    "\n",
    "\n",
    "\n",
    "frame_num=10\n",
    "\n",
    "train_data_pt=dataload.Video_Frame_Data(Train_label,base_path_v=Train_video_pt,face_path=Train_face_pt,frame_num=frame_num,direct=True,audio_csv=Audio_Train)\n",
    "valid_data_pt=dataload.Video_Frame_Data(Val_labels,base_path_v=Val_video_pt,face_path=Val_face_pt,frame_num=frame_num,direct=True,audio_csv=Audio_Valid)\n",
    "\n",
    "\n",
    "\n",
    "\n",
    "\n",
    "def load_pretrained_model(pre_train):\n",
    "    face_model=torch.load(\"pre_trained_model/\" +\"pre_trained_resnet18_face.h\")\n",
    "    \n",
    "   # face_model=torch.load(\"pre_trained_model/\" +\"pre_trained_resnet18_facev2.h\")\n",
    "    audio_model=video_model_attention.AudioRecognition(softmax=pre_train)\n",
    "    audio_model.load_state_dict(torch.load(\"pre_trained_model/pre_embedded_audio.pth\"),strict=False)\n",
    "    image_model=video_model_attention.Video_modeller(frame_num,face_model=face_model,pre_train=pre_train)\n",
    "    image_model.load_state_dict(torch.load(\"image_train_v2/image_train_15.pth\"),strict=False)\n",
    "    return(image_model,audio_model)\n",
    "\n",
    "\n",
    "\n",
    "def show_img(dataset,index,frame):\n",
    "    x=dataset[index][0][frame].cpu().numpy()\n",
    "    plt.figure(1,(15,15))\n",
    "    plt.axis('off')\n",
    "    image = (x*0.5+0.5).transpose((1, 2, 0)).squeeze()\n",
    "    plt.imshow(image)\n",
    "    \n",
    "    fig = plt.figure(2,(15,15))\n",
    "   # plt.axis('off')\n",
    "    grid = ImageGrid(fig, 111,\n",
    "                     nrows_ncols=(1,5),\n",
    "                     axes_pad=0.1,\n",
    "                     )\n",
    "    for i in range(5):\n",
    "        face=dataset[index][1][frame].cpu().numpy()\n",
    "        image = (face[i,:]*0.5+0.5).transpose((1, 2, 0)).squeeze()\n",
    "        grid[i].imshow(image,cmap='gray',interpolation='none')\n",
    "        \n",
    "img_model,audio_model=load_pretrained_model(False)\n",
    "model=video_model_attention.video_transformer(img_model,audio_model)\n"
   ]
  },
  {
   "cell_type": "code",
   "execution_count": 2,
   "metadata": {},
   "outputs": [
    {
     "name": "stdout",
     "output_type": "stream",
     "text": [
      "video_model is unfrozen\n",
      "audio_model is unfrozen\n",
      "fc1 is unfrozen\n",
      "fc2 is unfrozen\n",
      "relu is unfrozen\n"
     ]
    }
   ],
   "source": [
    "\n",
    "\n",
    "weights=[932/932,932/923,932/806]\n",
    "class_weights = torch.FloatTensor(weights).to(device)\n",
    "\n",
    "train_dataloader = DataLoader(train_data_pt, batch_size=32\n",
    "                       , num_workers=0,shuffle=True)\n",
    "valid_dataloader = DataLoader(valid_data_pt, batch_size=32\n",
    "                   , num_workers=0)\n",
    "#model=video_model.video_transformer(img_model,audio_model)\n",
    "model=model.to(device)\n",
    "\n",
    "num_epochs=50\n",
    "criterion = nn.CrossEntropyLoss(weight=class_weights)  \n",
    "\n",
    "for name, child in model.named_children():\n",
    "    if not name in ['face_model','frame_model' ]:\n",
    "        print(name + ' is unfrozen')\n",
    "        for param in child.parameters():\n",
    "            param.requires_grad = True\n",
    "    else:\n",
    "        print(name + ' is frozen')\n",
    "        for param in child.parameters():\n",
    "               param.requires_grad = False"
   ]
  },
  {
   "cell_type": "code",
   "execution_count": null,
   "metadata": {},
   "outputs": [
    {
     "name": "stdout",
     "output_type": "stream",
     "text": [
      "v4_attention\n",
      "Epoch:  1 \n",
      "\n",
      "Validation \n",
      "\n",
      "Validation Loss:  1.0965209652980168\n",
      "Validation Accuracy:  0.381201044386423\n",
      "Confusion Matrix: \n",
      " [[145 120  34]\n",
      " [140 117  24]\n",
      " [124  32  30]]\n",
      "Train \n",
      "\n"
     ]
    },
    {
     "data": {
      "application/vnd.jupyter.widget-view+json": {
       "model_id": "981a93383b49422a83ad18be2410813e",
       "version_major": 2,
       "version_minor": 0
      },
      "text/plain": [
       "HBox(children=(FloatProgress(value=1.0, bar_style='info', max=1.0), HTML(value='')))"
      ]
     },
     "metadata": {},
     "output_type": "display_data"
    },
    {
     "name": "stdout",
     "output_type": "stream",
     "text": [
      "Batch:  40 / 84\n",
      "Batch Recognition loss:  0.9153034090995789\n",
      "Batch:  80 / 84\n",
      "Batch Recognition loss:  1.0066038370132446\n",
      "\n",
      "Average_Loss:  0.9368950447865895\n",
      "Average_Accuracy:  0.6279594137542277\n",
      "Confusion Matrix: \n",
      " [[394 205 207]\n",
      " [128 645 150]\n",
      " [133 167 632]]\n",
      "Epoch:  2 \n",
      "\n",
      "Validation \n",
      "\n",
      "Validation Loss:  1.0538938790559769\n",
      "Validation Accuracy:  0.46866840731070497\n",
      "Confusion Matrix: \n",
      " [[ 98 114  87]\n",
      " [ 72 160  49]\n",
      " [ 31  54 101]]\n",
      "Train \n",
      "\n"
     ]
    },
    {
     "data": {
      "application/vnd.jupyter.widget-view+json": {
       "model_id": "11ac46d1c00941c7874674f4e0204c5d",
       "version_major": 2,
       "version_minor": 0
      },
      "text/plain": [
       "HBox(children=(FloatProgress(value=1.0, bar_style='info', max=1.0), HTML(value='')))"
      ]
     },
     "metadata": {},
     "output_type": "display_data"
    },
    {
     "name": "stdout",
     "output_type": "stream",
     "text": [
      "Batch:  40 / 84\n",
      "Batch Recognition loss:  0.8597193360328674\n",
      "Batch:  80 / 84\n",
      "Batch Recognition loss:  0.9309583902359009\n",
      "\n",
      "Average_Loss:  0.89076138819967\n",
      "Average_Accuracy:  0.6565201052236002\n",
      "Confusion Matrix: \n",
      " [[438 180 188]\n",
      " [135 644 144]\n",
      " [130 137 665]]\n",
      "Epoch:  3 \n",
      "\n",
      "Validation \n",
      "\n",
      "Validation Loss:  1.0587230895956357\n",
      "Validation Accuracy:  0.46736292428198434\n",
      "Confusion Matrix: \n",
      " [[102 104  93]\n",
      " [ 72 152  57]\n",
      " [ 31  51 104]]\n",
      "Train \n",
      "\n"
     ]
    },
    {
     "data": {
      "application/vnd.jupyter.widget-view+json": {
       "model_id": "64ef1e31480f479ba4f3ac2d482b6dba",
       "version_major": 2,
       "version_minor": 0
      },
      "text/plain": [
       "HBox(children=(FloatProgress(value=1.0, bar_style='info', max=1.0), HTML(value='')))"
      ]
     },
     "metadata": {},
     "output_type": "display_data"
    },
    {
     "name": "stdout",
     "output_type": "stream",
     "text": [
      "Batch:  40 / 84\n",
      "Batch Recognition loss:  0.8649159669876099\n",
      "Batch:  80 / 84\n",
      "Batch Recognition loss:  1.0439327955245972\n",
      "\n",
      "Average_Loss:  0.8753661335933776\n",
      "Average_Accuracy:  0.6621570838030816\n",
      "Confusion Matrix: \n",
      " [[457 182 167]\n",
      " [142 650 131]\n",
      " [132 145 655]]\n",
      "Epoch:  4 \n",
      "\n",
      "Validation \n",
      "\n",
      "Validation Loss:  1.0528745080033939\n",
      "Validation Accuracy:  0.47389033942558745\n",
      "Confusion Matrix: \n",
      " [[105 114  80]\n",
      " [ 69 158  54]\n",
      " [ 32  54 100]]\n",
      "Train \n",
      "\n"
     ]
    },
    {
     "data": {
      "application/vnd.jupyter.widget-view+json": {
       "model_id": "9af1f3b730b84e45972927504e0a054c",
       "version_major": 2,
       "version_minor": 0
      },
      "text/plain": [
       "HBox(children=(FloatProgress(value=1.0, bar_style='info', max=1.0), HTML(value='')))"
      ]
     },
     "metadata": {},
     "output_type": "display_data"
    },
    {
     "name": "stdout",
     "output_type": "stream",
     "text": [
      "Batch:  40 / 84\n",
      "Batch Recognition loss:  0.8312543034553528\n",
      "Batch:  80 / 84\n",
      "Batch Recognition loss:  1.0222537517547607\n",
      "\n",
      "Average_Loss:  0.8730565522398267\n",
      "Average_Accuracy:  0.6700488538143555\n",
      "Confusion Matrix: \n",
      " [[469 169 168]\n",
      " [135 640 148]\n",
      " [111 147 674]]\n",
      "Epoch:  5 \n",
      "\n",
      "Validation \n",
      "\n",
      "Validation Loss:  1.0494604880611103\n",
      "Validation Accuracy:  0.4804177545691906\n",
      "Confusion Matrix: \n",
      " [[102 115  82]\n",
      " [ 66 161  54]\n",
      " [ 29  52 105]]\n",
      "Train \n",
      "\n"
     ]
    },
    {
     "data": {
      "application/vnd.jupyter.widget-view+json": {
       "model_id": "1ab724a94d1946dda21b73d38ef2ca87",
       "version_major": 2,
       "version_minor": 0
      },
      "text/plain": [
       "HBox(children=(FloatProgress(value=1.0, bar_style='info', max=1.0), HTML(value='')))"
      ]
     },
     "metadata": {},
     "output_type": "display_data"
    },
    {
     "name": "stdout",
     "output_type": "stream",
     "text": [
      "Batch:  40 / 84\n",
      "Batch Recognition loss:  0.8264645934104919\n",
      "Batch:  80 / 84\n",
      "Batch Recognition loss:  0.8521234393119812\n",
      "\n",
      "Average_Loss:  0.8691498800402596\n",
      "Average_Accuracy:  0.670424652386321\n",
      "Confusion Matrix: \n",
      " [[455 179 172]\n",
      " [125 646 152]\n",
      " [ 99 150 683]]\n",
      "Epoch:  6 \n",
      "\n",
      "Validation \n",
      "\n",
      "Validation Loss:  1.0433305601278942\n",
      "Validation Accuracy:  0.4869451697127937\n",
      "Confusion Matrix: \n",
      " [[112 112  75]\n",
      " [ 74 155  52]\n",
      " [ 40  40 106]]\n",
      "Train \n",
      "\n"
     ]
    },
    {
     "data": {
      "application/vnd.jupyter.widget-view+json": {
       "model_id": "26ed1f48e6034c2f8fed67797cba9eba",
       "version_major": 2,
       "version_minor": 0
      },
      "text/plain": [
       "HBox(children=(FloatProgress(value=1.0, bar_style='info', max=1.0), HTML(value='')))"
      ]
     },
     "metadata": {},
     "output_type": "display_data"
    },
    {
     "name": "stdout",
     "output_type": "stream",
     "text": [
      "Batch:  40 / 84\n",
      "Batch Recognition loss:  0.8812375068664551\n",
      "Batch:  80 / 84\n",
      "Batch Recognition loss:  0.7900131940841675\n",
      "\n",
      "Average_Loss:  0.871400909054847\n",
      "Average_Accuracy:  0.6685456595264938\n",
      "Confusion Matrix: \n",
      " [[459 164 183]\n",
      " [135 624 164]\n",
      " [100 136 696]]\n",
      "Epoch:  7 \n",
      "\n",
      "Validation \n",
      "\n",
      "Validation Loss:  1.0506364777684212\n",
      "Validation Accuracy:  0.47780678851174935\n",
      "Confusion Matrix: \n",
      " [[100 103  96]\n",
      " [ 67 144  70]\n",
      " [ 26  38 122]]\n",
      "Train \n",
      "\n"
     ]
    },
    {
     "data": {
      "application/vnd.jupyter.widget-view+json": {
       "model_id": "fa9eddab031b48abb6e40eaa1015bb15",
       "version_major": 2,
       "version_minor": 0
      },
      "text/plain": [
       "HBox(children=(FloatProgress(value=1.0, bar_style='info', max=1.0), HTML(value='')))"
      ]
     },
     "metadata": {},
     "output_type": "display_data"
    },
    {
     "name": "stdout",
     "output_type": "stream",
     "text": [
      "Batch:  40 / 84\n",
      "Batch Recognition loss:  0.8187997341156006\n",
      "Batch:  80 / 84\n",
      "Batch Recognition loss:  0.7827755212783813\n",
      "\n",
      "Average_Loss:  0.8664833165350414\n",
      "Average_Accuracy:  0.677564825253664\n",
      "Confusion Matrix: \n",
      " [[472 164 170]\n",
      " [132 649 142]\n",
      " [117 133 682]]\n",
      "Epoch:  8 \n",
      "\n",
      "Validation \n",
      "\n",
      "Validation Loss:  1.058984450995922\n",
      "Validation Accuracy:  0.4595300261096606\n",
      "Confusion Matrix: \n",
      " [[100 125  74]\n",
      " [ 70 158  53]\n",
      " [ 33  59  94]]\n",
      "Train \n",
      "\n"
     ]
    },
    {
     "data": {
      "application/vnd.jupyter.widget-view+json": {
       "model_id": "ef7ae7f7deff46a6abab8a6dfafe42d1",
       "version_major": 2,
       "version_minor": 0
      },
      "text/plain": [
       "HBox(children=(FloatProgress(value=1.0, bar_style='info', max=1.0), HTML(value='')))"
      ]
     },
     "metadata": {},
     "output_type": "display_data"
    },
    {
     "name": "stdout",
     "output_type": "stream",
     "text": [
      "Batch:  40 / 84\n",
      "Batch Recognition loss:  0.9213515520095825\n",
      "Batch:  80 / 84\n",
      "Batch Recognition loss:  0.845168948173523\n",
      "\n",
      "Average_Loss:  0.8666806071996689\n",
      "Average_Accuracy:  0.6768132281097332\n",
      "Confusion Matrix: \n",
      " [[485 149 172]\n",
      " [147 635 141]\n",
      " [122 129 681]]\n",
      "Epoch:  9 \n",
      "\n",
      "Validation \n",
      "\n",
      "Validation Loss:  1.0431747982899349\n",
      "Validation Accuracy:  0.48433420365535246\n",
      "Confusion Matrix: \n",
      " [[110  99  90]\n",
      " [ 74 144  63]\n",
      " [ 32  37 117]]\n",
      "Train \n",
      "\n"
     ]
    },
    {
     "data": {
      "application/vnd.jupyter.widget-view+json": {
       "model_id": "f6d1a07cb1a841d483fd32ceac69d139",
       "version_major": 2,
       "version_minor": 0
      },
      "text/plain": [
       "HBox(children=(FloatProgress(value=1.0, bar_style='info', max=1.0), HTML(value='')))"
      ]
     },
     "metadata": {},
     "output_type": "display_data"
    },
    {
     "name": "stdout",
     "output_type": "stream",
     "text": [
      "Batch:  40 / 84\n",
      "Batch Recognition loss:  0.777309238910675\n",
      "Batch:  80 / 84\n",
      "Batch Recognition loss:  0.8695876598358154\n",
      "\n",
      "Average_Loss:  0.8598603627511433\n",
      "Average_Accuracy:  0.6798196166854565\n",
      "Confusion Matrix: \n",
      " [[483 166 157]\n",
      " [142 639 142]\n",
      " [109 136 687]]\n",
      "Epoch:  10 \n",
      "\n",
      "Validation \n",
      "\n",
      "Validation Loss:  1.0456963578859966\n",
      "Validation Accuracy:  0.47389033942558745\n",
      "Confusion Matrix: \n",
      " [[118 109  72]\n",
      " [ 77 150  54]\n",
      " [ 42  49  95]]\n",
      "Train \n",
      "\n"
     ]
    },
    {
     "data": {
      "application/vnd.jupyter.widget-view+json": {
       "model_id": "3fc7b911520c485c9c229816b05b5042",
       "version_major": 2,
       "version_minor": 0
      },
      "text/plain": [
       "HBox(children=(FloatProgress(value=1.0, bar_style='info', max=1.0), HTML(value='')))"
      ]
     },
     "metadata": {},
     "output_type": "display_data"
    },
    {
     "name": "stdout",
     "output_type": "stream",
     "text": [
      "Batch:  40 / 84\n",
      "Batch Recognition loss:  0.7726246118545532\n",
      "Batch:  80 / 84\n",
      "Batch Recognition loss:  0.831669807434082\n",
      "\n",
      "Average_Loss:  0.857273838349751\n",
      "Average_Accuracy:  0.6888387824126269\n",
      "Confusion Matrix: \n",
      " [[500 141 165]\n",
      " [144 630 149]\n",
      " [109 120 703]]\n",
      "Epoch:  11 \n",
      "\n",
      "Validation \n",
      "\n",
      "Validation Loss:  1.0366044665376346\n",
      "Validation Accuracy:  0.48433420365535246\n",
      "Confusion Matrix: \n",
      " [[107 105  87]\n",
      " [ 70 148  63]\n",
      " [ 27  43 116]]\n",
      "Train \n",
      "\n"
     ]
    },
    {
     "data": {
      "application/vnd.jupyter.widget-view+json": {
       "model_id": "77932682688d4a358cfdb6a57d4e0cc6",
       "version_major": 2,
       "version_minor": 0
      },
      "text/plain": [
       "HBox(children=(FloatProgress(value=1.0, bar_style='info', max=1.0), HTML(value='')))"
      ]
     },
     "metadata": {},
     "output_type": "display_data"
    },
    {
     "name": "stdout",
     "output_type": "stream",
     "text": [
      "Batch:  40 / 84\n",
      "Batch Recognition loss:  0.8301806449890137\n",
      "Batch:  80 / 84\n",
      "Batch Recognition loss:  0.8506730198860168\n",
      "\n",
      "Average_Loss:  0.8550065734556743\n",
      "Average_Accuracy:  0.6884629838406614\n",
      "Confusion Matrix: \n",
      " [[514 141 151]\n",
      " [151 633 139]\n",
      " [114 133 685]]\n",
      "Epoch:  12 \n",
      "\n",
      "Validation \n",
      "\n",
      "Validation Loss:  1.0348349958658218\n",
      "Validation Accuracy:  0.49216710182767626\n",
      "Confusion Matrix: \n",
      " [[118 106  75]\n",
      " [ 74 146  61]\n",
      " [ 31  42 113]]\n",
      "Train \n",
      "\n"
     ]
    },
    {
     "data": {
      "application/vnd.jupyter.widget-view+json": {
       "model_id": "6d663df5b39b45b392bd4157826ad9a7",
       "version_major": 2,
       "version_minor": 0
      },
      "text/plain": [
       "HBox(children=(FloatProgress(value=1.0, bar_style='info', max=1.0), HTML(value='')))"
      ]
     },
     "metadata": {},
     "output_type": "display_data"
    },
    {
     "name": "stdout",
     "output_type": "stream",
     "text": [
      "Batch:  40 / 84\n",
      "Batch Recognition loss:  0.6637961864471436\n",
      "Batch:  80 / 84\n",
      "Batch Recognition loss:  0.7566700577735901\n",
      "\n",
      "Average_Loss:  0.8571194530952544\n",
      "Average_Accuracy:  0.6858323938369034\n",
      "Confusion Matrix: \n",
      " [[492 161 153]\n",
      " [143 634 146]\n",
      " [103 130 699]]\n",
      "Epoch:  13 \n",
      "\n",
      "Validation \n",
      "\n",
      "Validation Loss:  1.0311979874968529\n",
      "Validation Accuracy:  0.49869451697127937\n",
      "Confusion Matrix: \n",
      " [[125  99  75]\n",
      " [ 81 139  61]\n",
      " [ 32  36 118]]\n",
      "Train \n",
      "\n"
     ]
    },
    {
     "data": {
      "application/vnd.jupyter.widget-view+json": {
       "model_id": "942de33e265d4850b75e7653eeb5ed86",
       "version_major": 2,
       "version_minor": 0
      },
      "text/plain": [
       "HBox(children=(FloatProgress(value=1.0, bar_style='info', max=1.0), HTML(value='')))"
      ]
     },
     "metadata": {},
     "output_type": "display_data"
    },
    {
     "name": "stdout",
     "output_type": "stream",
     "text": [
      "Batch:  40 / 84\n",
      "Batch Recognition loss:  0.9487319588661194\n",
      "Batch:  80 / 84\n",
      "Batch Recognition loss:  0.8737961053848267\n",
      "\n",
      "Average_Loss:  0.8554764780260268\n",
      "Average_Accuracy:  0.6907177752724539\n",
      "Confusion Matrix: \n",
      " [[514 144 148]\n",
      " [144 644 135]\n",
      " [111 141 680]]\n",
      "Epoch:  14 \n",
      "\n",
      "Validation \n",
      "\n",
      "Validation Loss:  1.034984938800335\n",
      "Validation Accuracy:  0.49216710182767626\n",
      "Confusion Matrix: \n",
      " [[116 113  70]\n",
      " [ 78 157  46]\n",
      " [ 35  47 104]]\n",
      "Train \n",
      "\n"
     ]
    },
    {
     "data": {
      "application/vnd.jupyter.widget-view+json": {
       "model_id": "29f0b1d02fed497dbcd8d8d1243a3fc8",
       "version_major": 2,
       "version_minor": 0
      },
      "text/plain": [
       "HBox(children=(FloatProgress(value=1.0, bar_style='info', max=1.0), HTML(value='')))"
      ]
     },
     "metadata": {},
     "output_type": "display_data"
    },
    {
     "name": "stdout",
     "output_type": "stream",
     "text": [
      "Batch:  40 / 84\n",
      "Batch Recognition loss:  0.8973655104637146\n",
      "Batch:  80 / 84\n",
      "Batch Recognition loss:  0.867968738079071\n",
      "\n",
      "Average_Loss:  0.8591932377644947\n",
      "Average_Accuracy:  0.6843291995490417\n",
      "Confusion Matrix: \n",
      " [[523 138 145]\n",
      " [151 619 153]\n",
      " [124 129 679]]\n",
      "Epoch:  15 \n",
      "\n",
      "Validation \n",
      "\n",
      "Validation Loss:  1.027729871372382\n",
      "Validation Accuracy:  0.5026109660574413\n",
      "Confusion Matrix: \n",
      " [[150 115  34]\n",
      " [ 99 154  28]\n",
      " [ 56  49  81]]\n",
      "Train \n",
      "\n"
     ]
    },
    {
     "data": {
      "application/vnd.jupyter.widget-view+json": {
       "model_id": "9cc81d4cd30248d0bf3e3b4b8284edff",
       "version_major": 2,
       "version_minor": 0
      },
      "text/plain": [
       "HBox(children=(FloatProgress(value=1.0, bar_style='info', max=1.0), HTML(value='')))"
      ]
     },
     "metadata": {},
     "output_type": "display_data"
    },
    {
     "name": "stdout",
     "output_type": "stream",
     "text": [
      "Batch:  40 / 84\n",
      "Batch Recognition loss:  0.8058121800422668\n",
      "Batch:  80 / 84\n",
      "Batch Recognition loss:  0.8470134139060974\n",
      "\n",
      "Average_Loss:  0.8592638146309626\n",
      "Average_Accuracy:  0.6910935738444194\n",
      "Confusion Matrix: \n",
      " [[533 133 140]\n",
      " [153 637 133]\n",
      " [136 127 669]]\n",
      "Epoch:  16 \n",
      "\n",
      "Validation \n",
      "\n",
      "Validation Loss:  1.0518681928515434\n",
      "Validation Accuracy:  0.47127937336814624\n",
      "Confusion Matrix: \n",
      " [[ 83 123  93]\n",
      " [ 52 167  62]\n",
      " [ 18  57 111]]\n",
      "Train \n",
      "\n"
     ]
    },
    {
     "data": {
      "application/vnd.jupyter.widget-view+json": {
       "model_id": "c73049bd4fe840edb82b72f9faf35a35",
       "version_major": 2,
       "version_minor": 0
      },
      "text/plain": [
       "HBox(children=(FloatProgress(value=1.0, bar_style='info', max=1.0), HTML(value='')))"
      ]
     },
     "metadata": {},
     "output_type": "display_data"
    },
    {
     "name": "stdout",
     "output_type": "stream",
     "text": [
      "Batch:  40 / 84\n",
      "Batch Recognition loss:  0.8285945653915405\n",
      "Batch:  80 / 84\n",
      "Batch Recognition loss:  0.8552040457725525\n",
      "\n",
      "Average_Loss:  0.8538700562147867\n",
      "Average_Accuracy:  0.6899661781285231\n",
      "Confusion Matrix: \n",
      " [[510 153 143]\n",
      " [148 647 128]\n",
      " [124 129 679]]\n",
      "Epoch:  17 \n",
      "\n",
      "Validation \n",
      "\n",
      "Validation Loss:  1.0346844121813774\n",
      "Validation Accuracy:  0.5\n",
      "Confusion Matrix: \n",
      " [[112 113  74]\n",
      " [ 67 154  60]\n",
      " [ 24  45 117]]\n",
      "Train \n",
      "\n"
     ]
    },
    {
     "data": {
      "application/vnd.jupyter.widget-view+json": {
       "model_id": "b5f6311d78bf493cb3ee1653f1ec7756",
       "version_major": 2,
       "version_minor": 0
      },
      "text/plain": [
       "HBox(children=(FloatProgress(value=1.0, bar_style='info', max=1.0), HTML(value='')))"
      ]
     },
     "metadata": {},
     "output_type": "display_data"
    },
    {
     "name": "stdout",
     "output_type": "stream",
     "text": [
      "Batch:  40 / 84\n",
      "Batch Recognition loss:  0.8176689743995667\n",
      "Batch:  80 / 84\n",
      "Batch Recognition loss:  0.9854987859725952\n",
      "\n",
      "Average_Loss:  0.8573466411658696\n",
      "Average_Accuracy:  0.6816986095452837\n",
      "Confusion Matrix: \n",
      " [[489 150 167]\n",
      " [134 642 147]\n",
      " [109 140 683]]\n",
      "Epoch:  18 \n",
      "\n",
      "Validation \n",
      "\n",
      "Validation Loss:  1.047927553455035\n",
      "Validation Accuracy:  0.47389033942558745\n",
      "Confusion Matrix: \n",
      " [[116 101  82]\n",
      " [ 77 148  56]\n",
      " [ 40  47  99]]\n",
      "Train \n",
      "\n"
     ]
    },
    {
     "data": {
      "application/vnd.jupyter.widget-view+json": {
       "model_id": "476ec6d99aba4b6a965bbcda7fa0eee8",
       "version_major": 2,
       "version_minor": 0
      },
      "text/plain": [
       "HBox(children=(FloatProgress(value=1.0, bar_style='info', max=1.0), HTML(value='')))"
      ]
     },
     "metadata": {},
     "output_type": "display_data"
    },
    {
     "name": "stdout",
     "output_type": "stream",
     "text": [
      "Batch:  40 / 84\n",
      "Batch Recognition loss:  0.7643409371376038\n",
      "Batch:  80 / 84\n",
      "Batch Recognition loss:  0.8754440546035767\n",
      "\n",
      "Average_Loss:  0.8510584213903972\n",
      "Average_Accuracy:  0.6918451709883502\n",
      "Confusion Matrix: \n",
      " [[531 144 131]\n",
      " [157 625 141]\n",
      " [121 126 685]]\n",
      "Epoch:  19 \n",
      "\n",
      "Validation \n",
      "\n",
      "Validation Loss:  1.0611195812622707\n",
      "Validation Accuracy:  0.4595300261096606\n",
      "Confusion Matrix: \n",
      " [[ 87 104 108]\n",
      " [ 60 151  70]\n",
      " [ 23  49 114]]\n",
      "Train \n",
      "\n"
     ]
    },
    {
     "data": {
      "application/vnd.jupyter.widget-view+json": {
       "model_id": "e1e59777399c44619ae4c2c5a6cc107e",
       "version_major": 2,
       "version_minor": 0
      },
      "text/plain": [
       "HBox(children=(FloatProgress(value=1.0, bar_style='info', max=1.0), HTML(value='')))"
      ]
     },
     "metadata": {},
     "output_type": "display_data"
    },
    {
     "name": "stdout",
     "output_type": "stream",
     "text": [
      "Batch:  40 / 84\n",
      "Batch Recognition loss:  0.8418298363685608\n",
      "Batch:  80 / 84\n",
      "Batch Recognition loss:  0.9211898446083069\n",
      "\n",
      "Average_Loss:  0.8542213141918182\n",
      "Average_Accuracy:  0.6933483652762119\n",
      "Confusion Matrix: \n",
      " [[506 153 147]\n",
      " [148 642 133]\n",
      " [106 129 697]]\n",
      "Epoch:  20 \n",
      "\n",
      "Validation \n",
      "\n",
      "Validation Loss:  1.0419714177648227\n",
      "Validation Accuracy:  0.4856396866840731\n",
      "Confusion Matrix: \n",
      " [[121  99  79]\n",
      " [ 81 142  58]\n",
      " [ 40  37 109]]\n",
      "Train \n",
      "\n"
     ]
    },
    {
     "data": {
      "application/vnd.jupyter.widget-view+json": {
       "model_id": "1f030e2fc3b546d7b3f1f7325bc0e54a",
       "version_major": 2,
       "version_minor": 0
      },
      "text/plain": [
       "HBox(children=(FloatProgress(value=1.0, bar_style='info', max=1.0), HTML(value='')))"
      ]
     },
     "metadata": {},
     "output_type": "display_data"
    },
    {
     "name": "stdout",
     "output_type": "stream",
     "text": [
      "Batch:  40 / 84\n",
      "Batch Recognition loss:  0.919960618019104\n",
      "Batch:  80 / 84\n",
      "Batch Recognition loss:  0.9131171107292175\n",
      "\n",
      "Average_Loss:  0.8464809869016919\n",
      "Average_Accuracy:  0.6982337467117625\n",
      "Confusion Matrix: \n",
      " [[533 153 120]\n",
      " [147 639 137]\n",
      " [121 125 686]]\n",
      "Epoch:  21 \n",
      "\n",
      "Validation \n",
      "\n",
      "Validation Loss:  1.065378745396932\n",
      "Validation Accuracy:  0.45691906005221933\n",
      "Confusion Matrix: \n",
      " [[ 85  96 118]\n",
      " [ 64 142  75]\n",
      " [ 24  39 123]]\n",
      "Train \n",
      "\n"
     ]
    },
    {
     "data": {
      "application/vnd.jupyter.widget-view+json": {
       "model_id": "669f6c10e4d14e46a02b2441219aed37",
       "version_major": 2,
       "version_minor": 0
      },
      "text/plain": [
       "HBox(children=(FloatProgress(value=1.0, bar_style='info', max=1.0), HTML(value='')))"
      ]
     },
     "metadata": {},
     "output_type": "display_data"
    },
    {
     "name": "stdout",
     "output_type": "stream",
     "text": [
      "Batch:  40 / 84\n",
      "Batch Recognition loss:  0.7978535294532776\n",
      "Batch:  80 / 84\n",
      "Batch Recognition loss:  1.0273592472076416\n",
      "\n",
      "Average_Loss:  0.8494418178285871\n",
      "Average_Accuracy:  0.6933483652762119\n",
      "Confusion Matrix: \n",
      " [[523 148 135]\n",
      " [146 637 140]\n",
      " [115 132 685]]\n",
      "Epoch:  22 \n",
      "\n",
      "Validation \n",
      "\n",
      "Validation Loss:  1.0484611814220746\n",
      "Validation Accuracy:  0.4765013054830287\n",
      "Confusion Matrix: \n",
      " [[ 98 116  85]\n",
      " [ 67 159  55]\n",
      " [ 28  50 108]]\n",
      "Train \n",
      "\n"
     ]
    },
    {
     "data": {
      "application/vnd.jupyter.widget-view+json": {
       "model_id": "12ecb627bb0942478ba55926b8fa6980",
       "version_major": 2,
       "version_minor": 0
      },
      "text/plain": [
       "HBox(children=(FloatProgress(value=1.0, bar_style='info', max=1.0), HTML(value='')))"
      ]
     },
     "metadata": {},
     "output_type": "display_data"
    },
    {
     "name": "stdout",
     "output_type": "stream",
     "text": [
      "Batch:  40 / 84\n",
      "Batch Recognition loss:  0.8208186626434326\n",
      "Batch:  80 / 84\n",
      "Batch Recognition loss:  0.8895208835601807\n",
      "\n",
      "Average_Loss:  0.8387816988286518\n",
      "Average_Accuracy:  0.700488538143555\n",
      "Confusion Matrix: \n",
      " [[540 138 128]\n",
      " [156 638 129]\n",
      " [117 129 686]]\n",
      "Epoch:  23 \n",
      "\n",
      "Validation \n",
      "\n",
      "Validation Loss:  1.0567192509770393\n",
      "Validation Accuracy:  0.4699738903394256\n",
      "Confusion Matrix: \n",
      " [[ 89 118  92]\n",
      " [ 59 163  59]\n",
      " [ 28  50 108]]\n",
      "Train \n",
      "\n"
     ]
    },
    {
     "data": {
      "application/vnd.jupyter.widget-view+json": {
       "model_id": "6ce8a0de15d64c508cdb85083a8e42a5",
       "version_major": 2,
       "version_minor": 0
      },
      "text/plain": [
       "HBox(children=(FloatProgress(value=1.0, bar_style='info', max=1.0), HTML(value='')))"
      ]
     },
     "metadata": {},
     "output_type": "display_data"
    },
    {
     "name": "stdout",
     "output_type": "stream",
     "text": [
      "Batch:  40 / 84\n",
      "Batch Recognition loss:  0.8512193560600281\n",
      "Batch:  80 / 84\n",
      "Batch Recognition loss:  0.9215249419212341\n",
      "\n",
      "Average_Loss:  0.8508020156905765\n",
      "Average_Accuracy:  0.6914693724163848\n",
      "Confusion Matrix: \n",
      " [[515 158 133]\n",
      " [145 640 138]\n",
      " [112 135 685]]\n",
      "Epoch:  24 \n",
      "\n",
      "Validation \n",
      "\n",
      "Validation Loss:  1.0792188743750255\n",
      "Validation Accuracy:  0.4451697127937337\n",
      "Confusion Matrix: \n",
      " [[ 68  85 146]\n",
      " [ 55 138  88]\n",
      " [ 14  37 135]]\n",
      "Train \n",
      "\n"
     ]
    },
    {
     "data": {
      "application/vnd.jupyter.widget-view+json": {
       "model_id": "93db189452574f168e4d9e2bdbfc74bb",
       "version_major": 2,
       "version_minor": 0
      },
      "text/plain": [
       "HBox(children=(FloatProgress(value=1.0, bar_style='info', max=1.0), HTML(value='')))"
      ]
     },
     "metadata": {},
     "output_type": "display_data"
    },
    {
     "name": "stdout",
     "output_type": "stream",
     "text": [
      "Batch:  40 / 84\n",
      "Batch Recognition loss:  0.7344244718551636\n",
      "Batch:  80 / 84\n",
      "Batch Recognition loss:  0.7774284482002258\n",
      "\n",
      "Average_Loss:  0.8559054590406872\n",
      "Average_Accuracy:  0.6910935738444194\n",
      "Confusion Matrix: \n",
      " [[512 155 139]\n",
      " [151 638 134]\n",
      " [126 117 689]]\n",
      "Epoch:  25 \n",
      "\n",
      "Validation \n",
      "\n",
      "Validation Loss:  1.0419583121935527\n",
      "Validation Accuracy:  0.4869451697127937\n",
      "Confusion Matrix: \n",
      " [[118 107  74]\n",
      " [ 78 149  54]\n",
      " [ 36  44 106]]\n",
      "Train \n",
      "\n"
     ]
    },
    {
     "data": {
      "application/vnd.jupyter.widget-view+json": {
       "model_id": "c287889afd2844f2b6b2249427c2aa20",
       "version_major": 2,
       "version_minor": 0
      },
      "text/plain": [
       "HBox(children=(FloatProgress(value=1.0, bar_style='info', max=1.0), HTML(value='')))"
      ]
     },
     "metadata": {},
     "output_type": "display_data"
    },
    {
     "name": "stdout",
     "output_type": "stream",
     "text": [
      "Batch:  40 / 84\n",
      "Batch Recognition loss:  0.7394565343856812\n",
      "Batch:  80 / 84\n",
      "Batch Recognition loss:  0.7508354783058167\n",
      "\n",
      "Average_Loss:  0.8398755426917758\n",
      "Average_Accuracy:  0.7049981210071402\n",
      "Confusion Matrix: \n",
      " [[537 150 119]\n",
      " [155 642 126]\n",
      " [114 121 697]]\n",
      "Epoch:  26 \n",
      "\n",
      "Validation \n",
      "\n",
      "Validation Loss:  1.0418142726023991\n",
      "Validation Accuracy:  0.48172323759791125\n",
      "Confusion Matrix: \n",
      " [[102 104  93]\n",
      " [ 72 158  51]\n",
      " [ 29  48 109]]\n",
      "Train \n",
      "\n"
     ]
    },
    {
     "data": {
      "application/vnd.jupyter.widget-view+json": {
       "model_id": "12cf0f3225634d709570006410dc5098",
       "version_major": 2,
       "version_minor": 0
      },
      "text/plain": [
       "HBox(children=(FloatProgress(value=1.0, bar_style='info', max=1.0), HTML(value='')))"
      ]
     },
     "metadata": {},
     "output_type": "display_data"
    },
    {
     "name": "stdout",
     "output_type": "stream",
     "text": [
      "Batch:  40 / 84\n",
      "Batch Recognition loss:  0.8617422580718994\n",
      "Batch:  80 / 84\n",
      "Batch Recognition loss:  0.8241968154907227\n",
      "\n",
      "Average_Loss:  0.8426915031103861\n",
      "Average_Accuracy:  0.7034949267192785\n",
      "Confusion Matrix: \n",
      " [[514 152 140]\n",
      " [127 657 139]\n",
      " [106 125 701]]\n",
      "Epoch:  27 \n",
      "\n",
      "Validation \n",
      "\n",
      "Validation Loss:  1.047117494046688\n",
      "Validation Accuracy:  0.47389033942558745\n",
      "Confusion Matrix: \n",
      " [[ 91 101 107]\n",
      " [ 61 150  70]\n",
      " [ 24  40 122]]\n",
      "Train \n",
      "\n"
     ]
    },
    {
     "data": {
      "application/vnd.jupyter.widget-view+json": {
       "model_id": "6b6c43f71c9f4a6493747c1b258aa6b5",
       "version_major": 2,
       "version_minor": 0
      },
      "text/plain": [
       "HBox(children=(FloatProgress(value=1.0, bar_style='info', max=1.0), HTML(value='')))"
      ]
     },
     "metadata": {},
     "output_type": "display_data"
    },
    {
     "name": "stdout",
     "output_type": "stream",
     "text": [
      "Batch:  40 / 84\n",
      "Batch Recognition loss:  0.892154335975647\n",
      "Batch:  80 / 84\n",
      "Batch Recognition loss:  0.8868499994277954\n",
      "\n",
      "Average_Loss:  0.8444286081052962\n",
      "Average_Accuracy:  0.6993611424276588\n",
      "Confusion Matrix: \n",
      " [[521 154 131]\n",
      " [128 658 137]\n",
      " [121 129 682]]\n",
      "Epoch:  28 \n",
      "\n",
      "Validation \n",
      "\n",
      "Validation Loss:  1.0603405435880024\n",
      "Validation Accuracy:  0.46475195822454307\n",
      "Confusion Matrix: \n",
      " [[ 84 103 112]\n",
      " [ 62 150  69]\n",
      " [ 22  42 122]]\n",
      "Train \n",
      "\n"
     ]
    },
    {
     "data": {
      "application/vnd.jupyter.widget-view+json": {
       "model_id": "2dfd037023a04e5c90f43d9e66d808f9",
       "version_major": 2,
       "version_minor": 0
      },
      "text/plain": [
       "HBox(children=(FloatProgress(value=1.0, bar_style='info', max=1.0), HTML(value='')))"
      ]
     },
     "metadata": {},
     "output_type": "display_data"
    },
    {
     "name": "stdout",
     "output_type": "stream",
     "text": [
      "Batch:  40 / 84\n",
      "Batch Recognition loss:  0.8232200741767883\n",
      "Batch:  80 / 84\n",
      "Batch Recognition loss:  0.7545556426048279\n",
      "\n",
      "Average_Loss:  0.8579754055965514\n",
      "Average_Accuracy:  0.6907177752724539\n",
      "Confusion Matrix: \n",
      " [[498 158 150]\n",
      " [134 661 128]\n",
      " [123 130 679]]\n",
      "Epoch:  29 \n",
      "\n",
      "Validation \n",
      "\n",
      "Validation Loss:  1.04794442653656\n",
      "Validation Accuracy:  0.48433420365535246\n",
      "Confusion Matrix: \n",
      " [[111 103  85]\n",
      " [ 74 149  58]\n",
      " [ 32  43 111]]\n",
      "Train \n",
      "\n"
     ]
    },
    {
     "data": {
      "application/vnd.jupyter.widget-view+json": {
       "model_id": "65c1904e558b4c4189adfb5eb5124c5e",
       "version_major": 2,
       "version_minor": 0
      },
      "text/plain": [
       "HBox(children=(FloatProgress(value=1.0, bar_style='info', max=1.0), HTML(value='')))"
      ]
     },
     "metadata": {},
     "output_type": "display_data"
    },
    {
     "name": "stdout",
     "output_type": "stream",
     "text": [
      "Batch:  40 / 84\n",
      "Batch Recognition loss:  0.9167807698249817\n",
      "Batch:  80 / 84\n",
      "Batch Recognition loss:  0.7913594841957092\n",
      "\n",
      "Average_Loss:  0.8480708279779979\n",
      "Average_Accuracy:  0.6899661781285231\n",
      "Confusion Matrix: \n",
      " [[497 157 152]\n",
      " [137 650 136]\n",
      " [119 124 689]]\n",
      "Epoch:  30 \n",
      "\n",
      "Validation \n",
      "\n",
      "Validation Loss:  1.0411730607350667\n",
      "Validation Accuracy:  0.489556135770235\n",
      "Confusion Matrix: \n",
      " [[107 103  89]\n",
      " [ 66 157  58]\n",
      " [ 26  49 111]]\n",
      "Train \n",
      "\n"
     ]
    },
    {
     "data": {
      "application/vnd.jupyter.widget-view+json": {
       "model_id": "1a69425fa5a64081bf6dada3d1c8d936",
       "version_major": 2,
       "version_minor": 0
      },
      "text/plain": [
       "HBox(children=(FloatProgress(value=1.0, bar_style='info', max=1.0), HTML(value='')))"
      ]
     },
     "metadata": {},
     "output_type": "display_data"
    },
    {
     "name": "stdout",
     "output_type": "stream",
     "text": [
      "Batch:  40 / 84\n",
      "Batch Recognition loss:  0.8838581442832947\n",
      "Batch:  80 / 84\n",
      "Batch Recognition loss:  1.0248360633850098\n",
      "\n",
      "Average_Loss:  0.8501716412249065\n",
      "Average_Accuracy:  0.6903419767004886\n",
      "Confusion Matrix: \n",
      " [[501 157 148]\n",
      " [139 654 130]\n",
      " [125 125 682]]\n",
      "Epoch:  31 \n",
      "\n",
      "Validation \n",
      "\n",
      "Validation Loss:  1.042866160472234\n",
      "Validation Accuracy:  0.489556135770235\n",
      "Confusion Matrix: \n",
      " [[111 103  85]\n",
      " [ 74 152  55]\n",
      " [ 28  46 112]]\n",
      "Train \n",
      "\n"
     ]
    },
    {
     "data": {
      "application/vnd.jupyter.widget-view+json": {
       "model_id": "45031350eaa24f4980067a1ca07d5d6d",
       "version_major": 2,
       "version_minor": 0
      },
      "text/plain": [
       "HBox(children=(FloatProgress(value=1.0, bar_style='info', max=1.0), HTML(value='')))"
      ]
     },
     "metadata": {},
     "output_type": "display_data"
    },
    {
     "name": "stdout",
     "output_type": "stream",
     "text": [
      "Batch:  40 / 84\n",
      "Batch Recognition loss:  0.8067657947540283\n",
      "Batch:  80 / 84\n",
      "Batch Recognition loss:  0.9426125884056091\n",
      "\n",
      "Average_Loss:  0.8545809068850109\n",
      "Average_Accuracy:  0.685456595264938\n",
      "Confusion Matrix: \n",
      " [[495 153 158]\n",
      " [149 639 135]\n",
      " [114 128 690]]\n",
      "Epoch:  32 \n",
      "\n",
      "Validation \n",
      "\n",
      "Validation Loss:  1.0421347866455715\n",
      "Validation Accuracy:  0.49216710182767626\n",
      "Confusion Matrix: \n",
      " [[ 94 116  89]\n",
      " [ 57 168  56]\n",
      " [ 26  45 115]]\n",
      "Train \n",
      "\n"
     ]
    },
    {
     "data": {
      "application/vnd.jupyter.widget-view+json": {
       "model_id": "4d804e5a886a4860a7f710c2d7edd77d",
       "version_major": 2,
       "version_minor": 0
      },
      "text/plain": [
       "HBox(children=(FloatProgress(value=1.0, bar_style='info', max=1.0), HTML(value='')))"
      ]
     },
     "metadata": {},
     "output_type": "display_data"
    },
    {
     "name": "stdout",
     "output_type": "stream",
     "text": [
      "Batch:  40 / 84\n",
      "Batch Recognition loss:  0.7909013628959656\n",
      "Batch:  80 / 84\n",
      "Batch Recognition loss:  0.7839218378067017\n",
      "\n",
      "Average_Loss:  0.853480359628087\n",
      "Average_Accuracy:  0.6922209695603156\n",
      "Confusion Matrix: \n",
      " [[511 148 147]\n",
      " [131 644 148]\n",
      " [120 125 687]]\n",
      "Epoch:  33 \n",
      "\n",
      "Validation \n",
      "\n",
      "Validation Loss:  1.0381359482804935\n",
      "Validation Accuracy:  0.4908616187989556\n",
      "Confusion Matrix: \n",
      " [[114 100  85]\n",
      " [ 76 152  53]\n",
      " [ 32  44 110]]\n",
      "Train \n",
      "\n"
     ]
    },
    {
     "data": {
      "application/vnd.jupyter.widget-view+json": {
       "model_id": "042f5b3e9db9417caacbc9cff1a7be6d",
       "version_major": 2,
       "version_minor": 0
      },
      "text/plain": [
       "HBox(children=(FloatProgress(value=1.0, bar_style='info', max=1.0), HTML(value='')))"
      ]
     },
     "metadata": {},
     "output_type": "display_data"
    },
    {
     "name": "stdout",
     "output_type": "stream",
     "text": [
      "Batch:  40 / 84\n",
      "Batch Recognition loss:  0.9427602291107178\n"
     ]
    }
   ],
   "source": [
    "\n",
    "optimizer = torch.optim.Adam(filter(lambda p: p.requires_grad, model.parameters()), lr=0.0005, betas=(0.5, 0.999))\n",
    "\n",
    "\n",
    "model_name=\"v4_attention\"\n",
    "\n",
    "print(model_name)\n",
    "\n",
    "methods.full_train(\"v4_model\",num_epochs,model_name,model,train_dataloader,valid_dataloader,optimizer,criterion,device)\n"
   ]
  },
  {
   "cell_type": "code",
   "execution_count": null,
   "metadata": {},
   "outputs": [],
   "source": []
  }
 ],
 "metadata": {
  "kernelspec": {
   "display_name": "Python 3",
   "language": "python",
   "name": "python3"
  },
  "language_info": {
   "codemirror_mode": {
    "name": "ipython",
    "version": 3
   },
   "file_extension": ".py",
   "mimetype": "text/x-python",
   "name": "python",
   "nbconvert_exporter": "python",
   "pygments_lexer": "ipython3",
   "version": "3.7.5"
  }
 },
 "nbformat": 4,
 "nbformat_minor": 4
}
