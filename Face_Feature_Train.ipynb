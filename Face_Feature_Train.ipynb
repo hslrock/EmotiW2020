{
 "cells": [
  {
   "cell_type": "code",
   "execution_count": 1,
   "metadata": {},
   "outputs": [],
   "source": [
    "import pandas as pd\n",
    "import os\n",
    "from PIL import Image\n",
    "from torch.utils.data import Dataset, DataLoader\n",
    "from torchvision import transforms\n",
    "import torch\n",
    "import numpy as np\n",
    "from constant import AFFECTNETPATH"
   ]
  },
  {
   "cell_type": "code",
   "execution_count": 2,
   "metadata": {},
   "outputs": [],
   "source": [
    "class ImageDataset(Dataset):\n",
    "    def __init__(self, csv_file,base_path,transform=None):\n",
    "        self.fields = ['subDirectory_filePath', 'expression','valence','arousal']\n",
    "        self._table = pd.read_csv(csv_file,usecols=self.fields)\n",
    "        \n",
    "        self._table=self._table[self._table['expression'] <8]\n",
    "\n",
    "        self._table=self._table.reset_index(drop=True)\n",
    "\n",
    "        self._base_path=base_path\n",
    "   \n",
    "\n",
    "\n",
    "\n",
    "        self.transform=transforms.Compose([\n",
    "                     transforms.Resize((32,32)),\n",
    "                     transforms.ToTensor(),   \n",
    "                     transforms.Normalize((0.5,0.5,0.5 ), (0.5, 0.5,0.5))])\n",
    "\n",
    "    def __len__(self):\n",
    "        return len(self._table)\n",
    "\n",
    "    def __getitem__(self, idx):\n",
    "        folder_name = os.path.join(self._base_path,self._table.subDirectory_filePath[idx])\n",
    "        img=Image.open(folder_name)\n",
    "        img=self.transform(img)\n",
    "        valence = torch.from_numpy(np.array(self._table.valence[idx]))\n",
    "        return (img,valence.float())\n",
    "            \n",
    "        "
   ]
  },
  {
   "cell_type": "code",
   "execution_count": 3,
   "metadata": {},
   "outputs": [],
   "source": [
    "Affect_Train=ImageDataset('training.csv',AFFECTNETPATH)\n",
    "Affect_Valid=ImageDataset('validation.csv',AFFECTNETPATH)"
   ]
  },
  {
   "cell_type": "code",
   "execution_count": 4,
   "metadata": {},
   "outputs": [],
   "source": [
    "import csv\n",
    "def import_data(filename):\n",
    "    \"\"\"Import data in the second column of the supplied filename as floats.\"\"\"\n",
    "    with open(filename, 'r') as inf:\n",
    "        inf.readline()\n",
    "        return [float(row[2]) for row in csv.reader(inf)]"
   ]
  },
  {
   "cell_type": "code",
   "execution_count": 5,
   "metadata": {},
   "outputs": [
    {
     "data": {
      "text/plain": [
       "287652"
      ]
     },
     "execution_count": 5,
     "metadata": {},
     "output_type": "execute_result"
    }
   ],
   "source": [
    "len(Affect_Train)"
   ]
  },
  {
   "cell_type": "code",
   "execution_count": 6,
   "metadata": {},
   "outputs": [],
   "source": [
    "train_dataloader = DataLoader(Affect_Train, batch_size=64\n",
    "                       , num_workers=0,shuffle=True)\n",
    "\n",
    "valid_dataloader = DataLoader(Affect_Valid, batch_size=64\n",
    "                       , num_workers=0)    "
   ]
  },
  {
   "cell_type": "code",
   "execution_count": 7,
   "metadata": {},
   "outputs": [
    {
     "data": {
      "text/plain": [
       "4495"
      ]
     },
     "execution_count": 7,
     "metadata": {},
     "output_type": "execute_result"
    }
   ],
   "source": [
    "len(train_dataloader)"
   ]
  },
  {
   "cell_type": "code",
   "execution_count": 8,
   "metadata": {},
   "outputs": [
    {
     "data": {
      "text/plain": [
       "torch.Size([3, 32, 32])"
      ]
     },
     "execution_count": 8,
     "metadata": {},
     "output_type": "execute_result"
    }
   ],
   "source": [
    "Affect_Train[26][0].shape\n",
    "\n"
   ]
  },
  {
   "cell_type": "code",
   "execution_count": 9,
   "metadata": {},
   "outputs": [
    {
     "data": {
      "image/png": "[encoded data removed]",
      "text/plain": [
       "<PIL.Image.Image image mode=RGB size=32x32 at 0x7F8B92FA6E90>"
      ]
     },
     "execution_count": 9,
     "metadata": {},
     "output_type": "execute_result"
    }
   ],
   "source": [
    "img=transforms.ToPILImage()(Affect_Train[26][0]*0.5+0.5)\n",
    "img\n"
   ]
  },
  {
   "cell_type": "code",
   "execution_count": 10,
   "metadata": {},
   "outputs": [],
   "source": [
    "from module import face_feature"
   ]
  },
  {
   "cell_type": "code",
   "execution_count": 11,
   "metadata": {},
   "outputs": [],
   "source": [
    "device = torch.device(\"cuda:0\" if torch.cuda.is_available() else \"cpu\")\n",
    "torch.set_default_tensor_type(torch.cuda.FloatTensor)\n",
    "\n",
    "model=face_feature.Face_Feature()\n",
    "model=model.to(device)"
   ]
  },
  {
   "cell_type": "code",
   "execution_count": 12,
   "metadata": {},
   "outputs": [
    {
     "data": {
      "text/plain": [
       "device(type='cuda', index=0)"
      ]
     },
     "execution_count": 12,
     "metadata": {},
     "output_type": "execute_result"
    }
   ],
   "source": [
    "device"
   ]
  },
  {
   "cell_type": "code",
   "execution_count": 13,
   "metadata": {},
   "outputs": [
    {
     "name": "stdout",
     "output_type": "stream",
     "text": [
      "----------------------------------------------------------------\n",
      "        Layer (type)               Output Shape         Param #\n",
      "================================================================\n",
      "            Conv2d-1           [-1, 64, 16, 16]           9,408\n",
      "       BatchNorm2d-2           [-1, 64, 16, 16]             128\n",
      "              ReLU-3           [-1, 64, 16, 16]               0\n",
      "         MaxPool2d-4             [-1, 64, 8, 8]               0\n",
      "            Conv2d-5             [-1, 64, 8, 8]          36,864\n",
      "       BatchNorm2d-6             [-1, 64, 8, 8]             128\n",
      "              ReLU-7             [-1, 64, 8, 8]               0\n",
      "            Conv2d-8             [-1, 64, 8, 8]          36,864\n",
      "       BatchNorm2d-9             [-1, 64, 8, 8]             128\n",
      "             ReLU-10             [-1, 64, 8, 8]               0\n",
      "       BasicBlock-11             [-1, 64, 8, 8]               0\n",
      "           Conv2d-12             [-1, 64, 8, 8]          36,864\n",
      "      BatchNorm2d-13             [-1, 64, 8, 8]             128\n",
      "             ReLU-14             [-1, 64, 8, 8]               0\n",
      "           Conv2d-15             [-1, 64, 8, 8]          36,864\n",
      "      BatchNorm2d-16             [-1, 64, 8, 8]             128\n",
      "             ReLU-17             [-1, 64, 8, 8]               0\n",
      "       BasicBlock-18             [-1, 64, 8, 8]               0\n",
      "           Conv2d-19            [-1, 128, 4, 4]          73,728\n",
      "      BatchNorm2d-20            [-1, 128, 4, 4]             256\n",
      "             ReLU-21            [-1, 128, 4, 4]               0\n",
      "           Conv2d-22            [-1, 128, 4, 4]         147,456\n",
      "      BatchNorm2d-23            [-1, 128, 4, 4]             256\n",
      "           Conv2d-24            [-1, 128, 4, 4]           8,192\n",
      "      BatchNorm2d-25            [-1, 128, 4, 4]             256\n",
      "             ReLU-26            [-1, 128, 4, 4]               0\n",
      "       BasicBlock-27            [-1, 128, 4, 4]               0\n",
      "           Conv2d-28            [-1, 128, 4, 4]         147,456\n",
      "      BatchNorm2d-29            [-1, 128, 4, 4]             256\n",
      "             ReLU-30            [-1, 128, 4, 4]               0\n",
      "           Conv2d-31            [-1, 128, 4, 4]         147,456\n",
      "      BatchNorm2d-32            [-1, 128, 4, 4]             256\n",
      "             ReLU-33            [-1, 128, 4, 4]               0\n",
      "       BasicBlock-34            [-1, 128, 4, 4]               0\n",
      "           Conv2d-35            [-1, 512, 2, 2]         589,824\n",
      "      BatchNorm2d-36            [-1, 512, 2, 2]           1,024\n",
      "             ReLU-37            [-1, 512, 2, 2]               0\n",
      "           Conv2d-38            [-1, 512, 2, 2]       2,359,296\n",
      "      BatchNorm2d-39            [-1, 512, 2, 2]           1,024\n",
      "           Conv2d-40            [-1, 512, 2, 2]          65,536\n",
      "      BatchNorm2d-41            [-1, 512, 2, 2]           1,024\n",
      "             ReLU-42            [-1, 512, 2, 2]               0\n",
      "       BasicBlock-43            [-1, 512, 2, 2]               0\n",
      "           Conv2d-44            [-1, 512, 2, 2]       2,359,296\n",
      "      BatchNorm2d-45            [-1, 512, 2, 2]           1,024\n",
      "             ReLU-46            [-1, 512, 2, 2]               0\n",
      "           Conv2d-47            [-1, 512, 2, 2]       2,359,296\n",
      "      BatchNorm2d-48            [-1, 512, 2, 2]           1,024\n",
      "             ReLU-49            [-1, 512, 2, 2]               0\n",
      "       BasicBlock-50            [-1, 512, 2, 2]               0\n",
      "AdaptiveAvgPool2d-51            [-1, 512, 1, 1]               0\n",
      "           Linear-52                  [-1, 100]          51,300\n",
      "           ResNet-53                  [-1, 100]               0\n",
      "           Linear-54                    [-1, 1]             101\n",
      "             Tanh-55                    [-1, 1]               0\n",
      "================================================================\n",
      "Total params: 8,472,841\n",
      "Trainable params: 8,472,841\n",
      "Non-trainable params: 0\n",
      "----------------------------------------------------------------\n",
      "Input size (MB): 0.01\n",
      "Forward/backward pass size (MB): 1.35\n",
      "Params size (MB): 32.32\n",
      "Estimated Total Size (MB): 33.68\n",
      "----------------------------------------------------------------\n"
     ]
    }
   ],
   "source": [
    "from torchsummary import summary\n",
    "summary(model,(3,32,32))"
   ]
  },
  {
   "cell_type": "code",
   "execution_count": 14,
   "metadata": {},
   "outputs": [
    {
     "data": {
      "text/plain": [
       "tensor([[0.3613]], grad_fn=<TanhBackward>)"
      ]
     },
     "execution_count": 14,
     "metadata": {},
     "output_type": "execute_result"
    }
   ],
   "source": [
    "model(Affect_Train[0][0].unsqueeze(0).to(device))"
   ]
  },
  {
   "cell_type": "code",
   "execution_count": 15,
   "metadata": {},
   "outputs": [],
   "source": [
    "loss_func = torch.nn.MSELoss()\n",
    "optimizer = torch.optim.Adam(filter(lambda p: p.requires_grad, model.parameters()), lr=0.0005, betas=(0.5, 0.999))"
   ]
  },
  {
   "cell_type": "code",
   "execution_count": 16,
   "metadata": {},
   "outputs": [],
   "source": [
    "from tqdm.notebook import tqdm"
   ]
  },
  {
   "cell_type": "code",
   "execution_count": 17,
   "metadata": {},
   "outputs": [
    {
     "name": "stdout",
     "output_type": "stream",
     "text": [
      "Training Epoch:  1 \n",
      "\n"
     ]
    },
    {
     "data": {
      "application/vnd.jupyter.widget-view+json": {
       "model_id": "7b0a8318eed14e7086b60d9848075623",
       "version_major": 2,
       "version_minor": 0
      },
      "text/plain": [
       "HBox(children=(FloatProgress(value=1.0, bar_style='info', max=1.0), HTML(value='')))"
      ]
     },
     "metadata": {},
     "output_type": "display_data"
    },
    {
     "name": "stderr",
     "output_type": "stream",
     "text": [
      "/opt/conda/envs/torch/lib/python3.7/site-packages/torch/nn/modules/loss.py:431: UserWarning: Using a target size (torch.Size([64])) that is different to the input size (torch.Size([64, 1])). This will likely lead to incorrect results due to broadcasting. Please ensure they have the same size.\n",
      "  return F.mse_loss(input, target, reduction=self.reduction)\n"
     ]
    },
    {
     "name": "stdout",
     "output_type": "stream",
     "text": [
      "Batch:  1 / 4495\n",
      "MSE loss:  0.2616032361984253\n",
      "Batch:  251 / 4495\n",
      "MSE loss:  0.2894498407840729\n",
      "Batch:  501 / 4495\n",
      "MSE loss:  0.29474470019340515\n",
      "Batch:  751 / 4495\n",
      "MSE loss:  0.2834385633468628\n",
      "Batch:  1001 / 4495\n",
      "MSE loss:  0.24670641124248505\n",
      "Batch:  1251 / 4495\n",
      "MSE loss:  0.3150092661380768\n",
      "Batch:  1501 / 4495\n",
      "MSE loss:  0.29874780774116516\n",
      "Batch:  1751 / 4495\n",
      "MSE loss:  0.23826083540916443\n",
      "Batch:  2001 / 4495\n",
      "MSE loss:  0.33283182978630066\n",
      "Batch:  2251 / 4495\n",
      "MSE loss:  0.2320093959569931\n",
      "Batch:  2501 / 4495\n",
      "MSE loss:  0.2953333556652069\n",
      "Batch:  2751 / 4495\n",
      "MSE loss:  0.27640900015830994\n",
      "Batch:  3001 / 4495\n",
      "MSE loss:  0.29040369391441345\n",
      "Batch:  3251 / 4495\n",
      "MSE loss:  0.2682853937149048\n",
      "Batch:  3501 / 4495\n",
      "MSE loss:  0.23518404364585876\n",
      "Batch:  3751 / 4495\n",
      "MSE loss:  0.2803976833820343\n",
      "Batch:  4001 / 4495\n",
      "MSE loss:  0.279130756855011\n",
      "Batch:  4251 / 4495\n",
      "MSE loss:  0.2473221719264984\n"
     ]
    },
    {
     "name": "stderr",
     "output_type": "stream",
     "text": [
      "/opt/conda/envs/torch/lib/python3.7/site-packages/torch/nn/modules/loss.py:431: UserWarning: Using a target size (torch.Size([36])) that is different to the input size (torch.Size([36, 1])). This will likely lead to incorrect results due to broadcasting. Please ensure they have the same size.\n",
      "  return F.mse_loss(input, target, reduction=self.reduction)\n"
     ]
    },
    {
     "name": "stdout",
     "output_type": "stream",
     "text": [
      "\n",
      "ValidationLoss:  0.3586247061926221\n",
      "Training Epoch:  2 \n",
      "\n"
     ]
    },
    {
     "name": "stderr",
     "output_type": "stream",
     "text": [
      "/opt/conda/envs/torch/lib/python3.7/site-packages/torch/nn/modules/loss.py:431: UserWarning: Using a target size (torch.Size([32])) that is different to the input size (torch.Size([32, 1])). This will likely lead to incorrect results due to broadcasting. Please ensure they have the same size.\n",
      "  return F.mse_loss(input, target, reduction=self.reduction)\n"
     ]
    },
    {
     "data": {
      "application/vnd.jupyter.widget-view+json": {
       "model_id": "0d32daa0380a4e4396cc772022cb92a1",
       "version_major": 2,
       "version_minor": 0
      },
      "text/plain": [
       "HBox(children=(FloatProgress(value=1.0, bar_style='info', max=1.0), HTML(value='')))"
      ]
     },
     "metadata": {},
     "output_type": "display_data"
    },
    {
     "name": "stdout",
     "output_type": "stream",
     "text": [
      "Batch:  1 / 4495\n",
      "MSE loss:  0.2544076442718506\n",
      "Batch:  251 / 4495\n",
      "MSE loss:  0.3091084957122803\n",
      "Batch:  501 / 4495\n",
      "MSE loss:  0.2346215844154358\n",
      "Batch:  751 / 4495\n",
      "MSE loss:  0.29820215702056885\n",
      "Batch:  1001 / 4495\n",
      "MSE loss:  0.2542441487312317\n",
      "Batch:  1251 / 4495\n",
      "MSE loss:  0.24393805861473083\n",
      "Batch:  1501 / 4495\n",
      "MSE loss:  0.258212685585022\n",
      "Batch:  1751 / 4495\n",
      "MSE loss:  0.2889578938484192\n",
      "Batch:  2001 / 4495\n",
      "MSE loss:  0.26300787925720215\n",
      "Batch:  2251 / 4495\n",
      "MSE loss:  0.2597668766975403\n",
      "Batch:  2501 / 4495\n",
      "MSE loss:  0.26610711216926575\n",
      "Batch:  2751 / 4495\n",
      "MSE loss:  0.2652439475059509\n",
      "Batch:  3001 / 4495\n",
      "MSE loss:  0.22981859743595123\n",
      "Batch:  3251 / 4495\n",
      "MSE loss:  0.27491411566734314\n",
      "Batch:  3501 / 4495\n",
      "MSE loss:  0.3416329026222229\n",
      "Batch:  3751 / 4495\n",
      "MSE loss:  0.3093251883983612\n",
      "Batch:  4001 / 4495\n",
      "MSE loss:  0.29336774349212646\n",
      "Batch:  4251 / 4495\n",
      "MSE loss:  0.24237269163131714\n",
      "\n",
      "ValidationLoss:  0.3608336302023085\n",
      "Training Epoch:  3 \n",
      "\n"
     ]
    },
    {
     "data": {
      "application/vnd.jupyter.widget-view+json": {
       "model_id": "50e594d1d3964f55b8e270681f08a7d3",
       "version_major": 2,
       "version_minor": 0
      },
      "text/plain": [
       "HBox(children=(FloatProgress(value=1.0, bar_style='info', max=1.0), HTML(value='')))"
      ]
     },
     "metadata": {},
     "output_type": "display_data"
    },
    {
     "name": "stdout",
     "output_type": "stream",
     "text": [
      "Batch:  1 / 4495\n",
      "MSE loss:  0.21995413303375244\n",
      "Batch:  251 / 4495\n",
      "MSE loss:  0.2805308401584625\n",
      "Batch:  501 / 4495\n",
      "MSE loss:  0.24412541091442108\n",
      "Batch:  751 / 4495\n",
      "MSE loss:  0.30088257789611816\n",
      "Batch:  1001 / 4495\n",
      "MSE loss:  0.274685800075531\n",
      "Batch:  1251 / 4495\n",
      "MSE loss:  0.2532743215560913\n",
      "Batch:  1501 / 4495\n",
      "MSE loss:  0.2910417914390564\n",
      "Batch:  1751 / 4495\n",
      "MSE loss:  0.2350074201822281\n",
      "Batch:  2001 / 4495\n",
      "MSE loss:  0.23949529230594635\n",
      "Batch:  2251 / 4495\n",
      "MSE loss:  0.2416316717863083\n",
      "Batch:  2501 / 4495\n",
      "MSE loss:  0.2821786403656006\n",
      "Batch:  2751 / 4495\n",
      "MSE loss:  0.2382018268108368\n",
      "Batch:  3001 / 4495\n",
      "MSE loss:  0.32062387466430664\n",
      "Batch:  3251 / 4495\n",
      "MSE loss:  0.21797537803649902\n",
      "Batch:  3501 / 4495\n",
      "MSE loss:  0.22326627373695374\n",
      "Batch:  3751 / 4495\n",
      "MSE loss:  0.24357451498508453\n",
      "Batch:  4001 / 4495\n",
      "MSE loss:  0.23959022760391235\n",
      "Batch:  4251 / 4495\n",
      "MSE loss:  0.2915809154510498\n",
      "\n",
      "ValidationLoss:  0.36655757824579877\n",
      "Training Epoch:  4 \n",
      "\n"
     ]
    },
    {
     "data": {
      "application/vnd.jupyter.widget-view+json": {
       "model_id": "463272e28ef54884a0d2d642a458cc80",
       "version_major": 2,
       "version_minor": 0
      },
      "text/plain": [
       "HBox(children=(FloatProgress(value=1.0, bar_style='info', max=1.0), HTML(value='')))"
      ]
     },
     "metadata": {},
     "output_type": "display_data"
    },
    {
     "name": "stdout",
     "output_type": "stream",
     "text": [
      "Batch:  1 / 4495\n",
      "MSE loss:  0.2856583595275879\n",
      "Batch:  251 / 4495\n",
      "MSE loss:  0.28489604592323303\n",
      "Batch:  501 / 4495\n",
      "MSE loss:  0.22230035066604614\n",
      "Batch:  751 / 4495\n",
      "MSE loss:  0.28413140773773193\n",
      "Batch:  1001 / 4495\n",
      "MSE loss:  0.28254279494285583\n",
      "Batch:  1251 / 4495\n",
      "MSE loss:  0.28924256563186646\n",
      "Batch:  1501 / 4495\n",
      "MSE loss:  0.2563042640686035\n",
      "Batch:  1751 / 4495\n",
      "MSE loss:  0.21894042193889618\n",
      "Batch:  2001 / 4495\n",
      "MSE loss:  0.25870662927627563\n",
      "Batch:  2251 / 4495\n",
      "MSE loss:  0.2488671839237213\n",
      "Batch:  2501 / 4495\n",
      "MSE loss:  0.30272579193115234\n",
      "Batch:  2751 / 4495\n",
      "MSE loss:  0.23705367743968964\n",
      "Batch:  3001 / 4495\n",
      "MSE loss:  0.224333256483078\n",
      "Batch:  3251 / 4495\n",
      "MSE loss:  0.2950679659843445\n",
      "Batch:  3501 / 4495\n",
      "MSE loss:  0.2775559425354004\n",
      "Batch:  3751 / 4495\n",
      "MSE loss:  0.36434614658355713\n",
      "Batch:  4001 / 4495\n",
      "MSE loss:  0.21654391288757324\n",
      "Batch:  4251 / 4495\n",
      "MSE loss:  0.20772352814674377\n",
      "\n",
      "ValidationLoss:  0.37002621094385785\n",
      "Training Epoch:  5 \n",
      "\n"
     ]
    },
    {
     "data": {
      "application/vnd.jupyter.widget-view+json": {
       "model_id": "b42b721c65aa4ed09ce3f363abf77aae",
       "version_major": 2,
       "version_minor": 0
      },
      "text/plain": [
       "HBox(children=(FloatProgress(value=1.0, bar_style='info', max=1.0), HTML(value='')))"
      ]
     },
     "metadata": {},
     "output_type": "display_data"
    },
    {
     "name": "stdout",
     "output_type": "stream",
     "text": [
      "Batch:  1 / 4495\n",
      "MSE loss:  0.309796005487442\n",
      "Batch:  251 / 4495\n",
      "MSE loss:  0.24300655722618103\n",
      "Batch:  501 / 4495\n",
      "MSE loss:  0.21483848989009857\n",
      "Batch:  751 / 4495\n",
      "MSE loss:  0.2785455286502838\n",
      "Batch:  1001 / 4495\n",
      "MSE loss:  0.21939687430858612\n",
      "Batch:  1251 / 4495\n",
      "MSE loss:  0.26988548040390015\n",
      "Batch:  1501 / 4495\n",
      "MSE loss:  0.27663809061050415\n",
      "Batch:  1751 / 4495\n",
      "MSE loss:  0.2467995434999466\n",
      "Batch:  2001 / 4495\n",
      "MSE loss:  0.29350724816322327\n",
      "Batch:  2251 / 4495\n",
      "MSE loss:  0.22819727659225464\n",
      "Batch:  2501 / 4495\n",
      "MSE loss:  0.23908989131450653\n",
      "Batch:  2751 / 4495\n",
      "MSE loss:  0.2982200086116791\n",
      "Batch:  3001 / 4495\n",
      "MSE loss:  0.2905721664428711\n",
      "Batch:  3251 / 4495\n",
      "MSE loss:  0.22590923309326172\n",
      "Batch:  3501 / 4495\n",
      "MSE loss:  0.2538495361804962\n",
      "Batch:  3751 / 4495\n",
      "MSE loss:  0.2577786147594452\n",
      "Batch:  4001 / 4495\n",
      "MSE loss:  0.34533125162124634\n",
      "Batch:  4251 / 4495\n",
      "MSE loss:  0.21729756891727448\n",
      "\n",
      "ValidationLoss:  0.35671529741514296\n",
      "Training Epoch:  6 \n",
      "\n"
     ]
    },
    {
     "data": {
      "application/vnd.jupyter.widget-view+json": {
       "model_id": "e9a45cc7454b45aa8ee53dfb58c81bd4",
       "version_major": 2,
       "version_minor": 0
      },
      "text/plain": [
       "HBox(children=(FloatProgress(value=1.0, bar_style='info', max=1.0), HTML(value='')))"
      ]
     },
     "metadata": {},
     "output_type": "display_data"
    },
    {
     "name": "stdout",
     "output_type": "stream",
     "text": [
      "Batch:  1 / 4495\n",
      "MSE loss:  0.2628100514411926\n",
      "Batch:  251 / 4495\n",
      "MSE loss:  0.21488633751869202\n",
      "Batch:  501 / 4495\n",
      "MSE loss:  0.22854852676391602\n",
      "Batch:  751 / 4495\n",
      "MSE loss:  0.2634750306606293\n",
      "Batch:  1001 / 4495\n",
      "MSE loss:  0.2710864245891571\n",
      "Batch:  1251 / 4495\n",
      "MSE loss:  0.3060791492462158\n",
      "Batch:  1501 / 4495\n",
      "MSE loss:  0.281310111284256\n",
      "Batch:  1751 / 4495\n",
      "MSE loss:  0.29024580121040344\n",
      "Batch:  2001 / 4495\n",
      "MSE loss:  0.2875324487686157\n",
      "Batch:  2251 / 4495\n",
      "MSE loss:  0.2469840943813324\n",
      "Batch:  2501 / 4495\n",
      "MSE loss:  0.2834532856941223\n",
      "Batch:  2751 / 4495\n",
      "MSE loss:  0.23345708847045898\n",
      "Batch:  3001 / 4495\n",
      "MSE loss:  0.24086375534534454\n",
      "Batch:  3251 / 4495\n",
      "MSE loss:  0.25908368825912476\n",
      "Batch:  3501 / 4495\n",
      "MSE loss:  0.24264998733997345\n",
      "Batch:  3751 / 4495\n",
      "MSE loss:  0.2701762616634369\n",
      "Batch:  4001 / 4495\n",
      "MSE loss:  0.2622821629047394\n",
      "Batch:  4251 / 4495\n",
      "MSE loss:  0.26278796792030334\n",
      "\n",
      "ValidationLoss:  0.3638691433838436\n",
      "Training Epoch:  7 \n",
      "\n"
     ]
    },
    {
     "data": {
      "application/vnd.jupyter.widget-view+json": {
       "model_id": "d759fcc0c19644399e27a222ceb242e0",
       "version_major": 2,
       "version_minor": 0
      },
      "text/plain": [
       "HBox(children=(FloatProgress(value=1.0, bar_style='info', max=1.0), HTML(value='')))"
      ]
     },
     "metadata": {},
     "output_type": "display_data"
    },
    {
     "name": "stdout",
     "output_type": "stream",
     "text": [
      "Batch:  1 / 4495\n",
      "MSE loss:  0.25175613164901733\n",
      "Batch:  251 / 4495\n",
      "MSE loss:  0.22717517614364624\n",
      "Batch:  501 / 4495\n",
      "MSE loss:  0.29078367352485657\n",
      "Batch:  751 / 4495\n",
      "MSE loss:  0.2980148494243622\n",
      "Batch:  1001 / 4495\n",
      "MSE loss:  0.25383633375167847\n",
      "Batch:  1251 / 4495\n",
      "MSE loss:  0.28812143206596375\n",
      "Batch:  1501 / 4495\n",
      "MSE loss:  0.28753331303596497\n",
      "Batch:  1751 / 4495\n",
      "MSE loss:  0.273676335811615\n",
      "Batch:  2001 / 4495\n",
      "MSE loss:  0.21975301206111908\n",
      "Batch:  2251 / 4495\n",
      "MSE loss:  0.30539581179618835\n",
      "Batch:  2501 / 4495\n",
      "MSE loss:  0.302015095949173\n",
      "Batch:  2751 / 4495\n",
      "MSE loss:  0.23888736963272095\n",
      "Batch:  3001 / 4495\n",
      "MSE loss:  0.21443703770637512\n",
      "Batch:  3251 / 4495\n",
      "MSE loss:  0.23537509143352509\n",
      "Batch:  3501 / 4495\n",
      "MSE loss:  0.2700815796852112\n",
      "Batch:  3751 / 4495\n",
      "MSE loss:  0.2629227638244629\n",
      "Batch:  4001 / 4495\n",
      "MSE loss:  0.3019091486930847\n",
      "Batch:  4251 / 4495\n",
      "MSE loss:  0.2508099377155304\n",
      "\n",
      "ValidationLoss:  0.363874363047736\n",
      "Training Epoch:  8 \n",
      "\n"
     ]
    },
    {
     "data": {
      "application/vnd.jupyter.widget-view+json": {
       "model_id": "a270ddf54766407f9f1b0ba6f0ec7e4a",
       "version_major": 2,
       "version_minor": 0
      },
      "text/plain": [
       "HBox(children=(FloatProgress(value=1.0, bar_style='info', max=1.0), HTML(value='')))"
      ]
     },
     "metadata": {},
     "output_type": "display_data"
    },
    {
     "name": "stdout",
     "output_type": "stream",
     "text": [
      "Batch:  1 / 4495\n",
      "MSE loss:  0.28992581367492676\n",
      "Batch:  251 / 4495\n",
      "MSE loss:  0.30760836601257324\n",
      "Batch:  501 / 4495\n",
      "MSE loss:  0.2462511658668518\n",
      "Batch:  751 / 4495\n",
      "MSE loss:  0.35622310638427734\n",
      "Batch:  1001 / 4495\n",
      "MSE loss:  0.3019132614135742\n",
      "Batch:  1251 / 4495\n",
      "MSE loss:  0.26492637395858765\n",
      "Batch:  1501 / 4495\n",
      "MSE loss:  0.2539123594760895\n",
      "Batch:  1751 / 4495\n",
      "MSE loss:  0.21688009798526764\n",
      "Batch:  2001 / 4495\n",
      "MSE loss:  0.2775091528892517\n",
      "Batch:  2251 / 4495\n",
      "MSE loss:  0.2998894453048706\n",
      "Batch:  2501 / 4495\n",
      "MSE loss:  0.31058162450790405\n",
      "Batch:  2751 / 4495\n",
      "MSE loss:  0.301958829164505\n",
      "Batch:  3001 / 4495\n",
      "MSE loss:  0.289069265127182\n",
      "Batch:  3251 / 4495\n",
      "MSE loss:  0.24923372268676758\n",
      "Batch:  3501 / 4495\n",
      "MSE loss:  0.24804750084877014\n",
      "Batch:  3751 / 4495\n",
      "MSE loss:  0.29286015033721924\n",
      "Batch:  4001 / 4495\n",
      "MSE loss:  0.2623721659183502\n",
      "Batch:  4251 / 4495\n",
      "MSE loss:  0.2965948283672333\n",
      "\n",
      "ValidationLoss:  0.3584743198894319\n",
      "Training Epoch:  9 \n",
      "\n"
     ]
    },
    {
     "data": {
      "application/vnd.jupyter.widget-view+json": {
       "model_id": "c756be008203430ea93b17d6774163c2",
       "version_major": 2,
       "version_minor": 0
      },
      "text/plain": [
       "HBox(children=(FloatProgress(value=1.0, bar_style='info', max=1.0), HTML(value='')))"
      ]
     },
     "metadata": {},
     "output_type": "display_data"
    },
    {
     "name": "stdout",
     "output_type": "stream",
     "text": [
      "Batch:  1 / 4495\n",
      "MSE loss:  0.23599642515182495\n",
      "Batch:  251 / 4495\n",
      "MSE loss:  0.22131964564323425\n",
      "Batch:  501 / 4495\n",
      "MSE loss:  0.3107152283191681\n",
      "Batch:  751 / 4495\n",
      "MSE loss:  0.28403669595718384\n",
      "Batch:  1001 / 4495\n",
      "MSE loss:  0.2424640953540802\n",
      "Batch:  1251 / 4495\n",
      "MSE loss:  0.22711247205734253\n",
      "Batch:  1501 / 4495\n",
      "MSE loss:  0.2859644591808319\n",
      "Batch:  1751 / 4495\n",
      "MSE loss:  0.3018537163734436\n",
      "Batch:  2001 / 4495\n",
      "MSE loss:  0.31711113452911377\n",
      "Batch:  2251 / 4495\n",
      "MSE loss:  0.26733240485191345\n",
      "Batch:  2501 / 4495\n",
      "MSE loss:  0.262451708316803\n",
      "Batch:  2751 / 4495\n",
      "MSE loss:  0.264941930770874\n",
      "Batch:  3001 / 4495\n",
      "MSE loss:  0.29487019777297974\n",
      "Batch:  3251 / 4495\n",
      "MSE loss:  0.2771269977092743\n",
      "Batch:  3501 / 4495\n",
      "MSE loss:  0.2738010883331299\n",
      "Batch:  3751 / 4495\n",
      "MSE loss:  0.2253684103488922\n",
      "Batch:  4001 / 4495\n",
      "MSE loss:  0.2596566081047058\n",
      "Batch:  4251 / 4495\n",
      "MSE loss:  0.25543922185897827\n",
      "\n",
      "ValidationLoss:  0.36400678517326474\n",
      "Training Epoch:  10 \n",
      "\n"
     ]
    },
    {
     "data": {
      "application/vnd.jupyter.widget-view+json": {
       "model_id": "583231528d354a4bbff4080c45d2b1d3",
       "version_major": 2,
       "version_minor": 0
      },
      "text/plain": [
       "HBox(children=(FloatProgress(value=1.0, bar_style='info', max=1.0), HTML(value='')))"
      ]
     },
     "metadata": {},
     "output_type": "display_data"
    },
    {
     "name": "stdout",
     "output_type": "stream",
     "text": [
      "Batch:  1 / 4495\n",
      "MSE loss:  0.22890877723693848\n",
      "Batch:  251 / 4495\n",
      "MSE loss:  0.24043215811252594\n",
      "Batch:  501 / 4495\n",
      "MSE loss:  0.27552545070648193\n",
      "Batch:  751 / 4495\n",
      "MSE loss:  0.26519134640693665\n",
      "Batch:  1001 / 4495\n",
      "MSE loss:  0.26032429933547974\n",
      "Batch:  1251 / 4495\n",
      "MSE loss:  0.2324829399585724\n",
      "Batch:  1501 / 4495\n",
      "MSE loss:  0.2701457440853119\n",
      "Batch:  1751 / 4495\n",
      "MSE loss:  0.232914999127388\n",
      "Batch:  2001 / 4495\n",
      "MSE loss:  0.2661180794239044\n",
      "Batch:  2251 / 4495\n",
      "MSE loss:  0.2266695648431778\n",
      "Batch:  2501 / 4495\n",
      "MSE loss:  0.304159939289093\n",
      "Batch:  2751 / 4495\n",
      "MSE loss:  0.2856813371181488\n",
      "Batch:  3001 / 4495\n",
      "MSE loss:  0.2604008615016937\n",
      "Batch:  3251 / 4495\n",
      "MSE loss:  0.2432796061038971\n",
      "Batch:  3501 / 4495\n",
      "MSE loss:  0.291564017534256\n",
      "Batch:  3751 / 4495\n",
      "MSE loss:  0.29550135135650635\n",
      "Batch:  4001 / 4495\n",
      "MSE loss:  0.21055328845977783\n",
      "Batch:  4251 / 4495\n",
      "MSE loss:  0.3054041564464569\n",
      "\n",
      "ValidationLoss:  0.3679795265197754\n",
      "Training Epoch:  11 \n",
      "\n"
     ]
    },
    {
     "data": {
      "application/vnd.jupyter.widget-view+json": {
       "model_id": "c82e30558ded44d5925a786e3c3c3048",
       "version_major": 2,
       "version_minor": 0
      },
      "text/plain": [
       "HBox(children=(FloatProgress(value=1.0, bar_style='info', max=1.0), HTML(value='')))"
      ]
     },
     "metadata": {},
     "output_type": "display_data"
    },
    {
     "name": "stdout",
     "output_type": "stream",
     "text": [
      "Batch:  1 / 4495\n",
      "MSE loss:  0.2435947209596634\n",
      "Batch:  251 / 4495\n",
      "MSE loss:  0.2781248688697815\n",
      "Batch:  501 / 4495\n",
      "MSE loss:  0.28281185030937195\n",
      "Batch:  751 / 4495\n",
      "MSE loss:  0.23605625331401825\n",
      "Batch:  1001 / 4495\n",
      "MSE loss:  0.2571215331554413\n",
      "Batch:  1251 / 4495\n",
      "MSE loss:  0.2681638300418854\n",
      "Batch:  1501 / 4495\n",
      "MSE loss:  0.2952759563922882\n",
      "Batch:  1751 / 4495\n",
      "MSE loss:  0.2521822452545166\n",
      "Batch:  2001 / 4495\n",
      "MSE loss:  0.24227264523506165\n",
      "Batch:  2251 / 4495\n",
      "MSE loss:  0.31659621000289917\n",
      "Batch:  2501 / 4495\n",
      "MSE loss:  0.24381625652313232\n",
      "Batch:  2751 / 4495\n",
      "MSE loss:  0.25050079822540283\n",
      "Batch:  3001 / 4495\n",
      "MSE loss:  0.2810208201408386\n",
      "Batch:  3251 / 4495\n",
      "MSE loss:  0.21359682083129883\n",
      "Batch:  3501 / 4495\n",
      "MSE loss:  0.2674649655818939\n",
      "Batch:  3751 / 4495\n",
      "MSE loss:  0.23591318726539612\n",
      "Batch:  4001 / 4495\n",
      "MSE loss:  0.25173768401145935\n",
      "Batch:  4251 / 4495\n",
      "MSE loss:  0.2579847276210785\n",
      "\n",
      "ValidationLoss:  0.36476912526857286\n",
      "Training Epoch:  12 \n",
      "\n"
     ]
    },
    {
     "data": {
      "application/vnd.jupyter.widget-view+json": {
       "model_id": "37a221cf4641484a9f9cf81ba0492c4d",
       "version_major": 2,
       "version_minor": 0
      },
      "text/plain": [
       "HBox(children=(FloatProgress(value=1.0, bar_style='info', max=1.0), HTML(value='')))"
      ]
     },
     "metadata": {},
     "output_type": "display_data"
    },
    {
     "name": "stdout",
     "output_type": "stream",
     "text": [
      "Batch:  1 / 4495\n",
      "MSE loss:  0.2271188199520111\n",
      "Batch:  251 / 4495\n",
      "MSE loss:  0.3002868890762329\n",
      "Batch:  501 / 4495\n",
      "MSE loss:  0.27250221371650696\n",
      "Batch:  751 / 4495\n",
      "MSE loss:  0.3066633939743042\n",
      "Batch:  1001 / 4495\n",
      "MSE loss:  0.26680663228034973\n",
      "Batch:  1251 / 4495\n",
      "MSE loss:  0.33015161752700806\n",
      "Batch:  1501 / 4495\n",
      "MSE loss:  0.2606930732727051\n",
      "Batch:  1751 / 4495\n",
      "MSE loss:  0.36241763830184937\n",
      "Batch:  2001 / 4495\n",
      "MSE loss:  0.24852360785007477\n",
      "Batch:  2251 / 4495\n",
      "MSE loss:  0.23056428134441376\n",
      "Batch:  2501 / 4495\n",
      "MSE loss:  0.20750795304775238\n",
      "Batch:  2751 / 4495\n",
      "MSE loss:  0.2924427390098572\n",
      "Batch:  3001 / 4495\n",
      "MSE loss:  0.23541410267353058\n",
      "Batch:  3251 / 4495\n",
      "MSE loss:  0.22066447138786316\n",
      "Batch:  3501 / 4495\n",
      "MSE loss:  0.2583231031894684\n",
      "Batch:  3751 / 4495\n",
      "MSE loss:  0.29221227765083313\n",
      "Batch:  4001 / 4495\n",
      "MSE loss:  0.2492993175983429\n",
      "Batch:  4251 / 4495\n",
      "MSE loss:  0.2732778489589691\n",
      "\n",
      "ValidationLoss:  0.36603513076191857\n",
      "Training Epoch:  13 \n",
      "\n"
     ]
    },
    {
     "data": {
      "application/vnd.jupyter.widget-view+json": {
       "model_id": "6a91fa1349be4e008fc5a7bef64d8453",
       "version_major": 2,
       "version_minor": 0
      },
      "text/plain": [
       "HBox(children=(FloatProgress(value=1.0, bar_style='info', max=1.0), HTML(value='')))"
      ]
     },
     "metadata": {},
     "output_type": "display_data"
    },
    {
     "name": "stdout",
     "output_type": "stream",
     "text": [
      "Batch:  1 / 4495\n",
      "MSE loss:  0.301667183637619\n",
      "Batch:  251 / 4495\n",
      "MSE loss:  0.27182161808013916\n",
      "Batch:  501 / 4495\n",
      "MSE loss:  0.24813717603683472\n",
      "Batch:  751 / 4495\n",
      "MSE loss:  0.26439717411994934\n",
      "Batch:  1001 / 4495\n",
      "MSE loss:  0.2710326910018921\n",
      "Batch:  1251 / 4495\n",
      "MSE loss:  0.278982013463974\n",
      "Batch:  1501 / 4495\n",
      "MSE loss:  0.2562887668609619\n",
      "Batch:  1751 / 4495\n",
      "MSE loss:  0.25635823607444763\n",
      "Batch:  2001 / 4495\n",
      "MSE loss:  0.22309096157550812\n",
      "Batch:  2251 / 4495\n",
      "MSE loss:  0.25668543577194214\n",
      "Batch:  2501 / 4495\n",
      "MSE loss:  0.2752002775669098\n",
      "Batch:  2751 / 4495\n",
      "MSE loss:  0.23043178021907806\n",
      "Batch:  3001 / 4495\n",
      "MSE loss:  0.26162639260292053\n",
      "Batch:  3251 / 4495\n",
      "MSE loss:  0.22808344662189484\n",
      "Batch:  3501 / 4495\n",
      "MSE loss:  0.2560046911239624\n",
      "Batch:  3751 / 4495\n",
      "MSE loss:  0.357707679271698\n",
      "Batch:  4001 / 4495\n",
      "MSE loss:  0.26000139117240906\n",
      "Batch:  4251 / 4495\n",
      "MSE loss:  0.28678011894226074\n",
      "\n",
      "ValidationLoss:  0.36912151981913854\n",
      "Training Epoch:  14 \n",
      "\n"
     ]
    },
    {
     "data": {
      "application/vnd.jupyter.widget-view+json": {
       "model_id": "6cfc8dc6f712443fb69982ddd72f5a20",
       "version_major": 2,
       "version_minor": 0
      },
      "text/plain": [
       "HBox(children=(FloatProgress(value=1.0, bar_style='info', max=1.0), HTML(value='')))"
      ]
     },
     "metadata": {},
     "output_type": "display_data"
    },
    {
     "name": "stdout",
     "output_type": "stream",
     "text": [
      "Batch:  1 / 4495\n",
      "MSE loss:  0.33719268441200256\n",
      "Batch:  251 / 4495\n",
      "MSE loss:  0.311206191778183\n",
      "Batch:  501 / 4495\n",
      "MSE loss:  0.287871390581131\n",
      "Batch:  751 / 4495\n",
      "MSE loss:  0.325888991355896\n",
      "Batch:  1001 / 4495\n",
      "MSE loss:  0.30498045682907104\n",
      "Batch:  1251 / 4495\n",
      "MSE loss:  0.24063292145729065\n",
      "Batch:  1501 / 4495\n",
      "MSE loss:  0.2685384154319763\n",
      "Batch:  1751 / 4495\n",
      "MSE loss:  0.275663822889328\n",
      "Batch:  2001 / 4495\n",
      "MSE loss:  0.29823392629623413\n",
      "Batch:  2251 / 4495\n",
      "MSE loss:  0.3162981867790222\n",
      "Batch:  2501 / 4495\n",
      "MSE loss:  0.29733896255493164\n",
      "Batch:  2751 / 4495\n",
      "MSE loss:  0.23724591732025146\n",
      "Batch:  3001 / 4495\n",
      "MSE loss:  0.2966912090778351\n",
      "Batch:  3251 / 4495\n",
      "MSE loss:  0.3193581700325012\n",
      "Batch:  3501 / 4495\n",
      "MSE loss:  0.2191992849111557\n",
      "Batch:  3751 / 4495\n",
      "MSE loss:  0.23256053030490875\n",
      "Batch:  4001 / 4495\n",
      "MSE loss:  0.26471370458602905\n",
      "Batch:  4251 / 4495\n",
      "MSE loss:  0.3603721857070923\n",
      "\n",
      "ValidationLoss:  0.36252986675217036\n",
      "Training Epoch:  15 \n",
      "\n"
     ]
    },
    {
     "data": {
      "application/vnd.jupyter.widget-view+json": {
       "model_id": "c2cdf36ab7dc42ca82280a979616110f",
       "version_major": 2,
       "version_minor": 0
      },
      "text/plain": [
       "HBox(children=(FloatProgress(value=1.0, bar_style='info', max=1.0), HTML(value='')))"
      ]
     },
     "metadata": {},
     "output_type": "display_data"
    },
    {
     "name": "stdout",
     "output_type": "stream",
     "text": [
      "Batch:  1 / 4495\n",
      "MSE loss:  0.2653856575489044\n",
      "Batch:  251 / 4495\n",
      "MSE loss:  0.2509768605232239\n",
      "Batch:  501 / 4495\n",
      "MSE loss:  0.2744523584842682\n",
      "Batch:  751 / 4495\n",
      "MSE loss:  0.2475866824388504\n",
      "Batch:  1001 / 4495\n",
      "MSE loss:  0.20784330368041992\n",
      "Batch:  1251 / 4495\n",
      "MSE loss:  0.26657435297966003\n",
      "Batch:  1501 / 4495\n",
      "MSE loss:  0.30896076560020447\n",
      "Batch:  1751 / 4495\n",
      "MSE loss:  0.25710028409957886\n",
      "Batch:  2001 / 4495\n",
      "MSE loss:  0.2894873023033142\n",
      "Batch:  2251 / 4495\n",
      "MSE loss:  0.2591668367385864\n",
      "Batch:  2501 / 4495\n",
      "MSE loss:  0.28452426195144653\n",
      "Batch:  2751 / 4495\n",
      "MSE loss:  0.23437324166297913\n",
      "Batch:  3001 / 4495\n",
      "MSE loss:  0.254718542098999\n",
      "Batch:  3251 / 4495\n",
      "MSE loss:  0.19658944010734558\n",
      "Batch:  3501 / 4495\n",
      "MSE loss:  0.2141839861869812\n",
      "Batch:  3751 / 4495\n",
      "MSE loss:  0.2911771833896637\n",
      "Batch:  4001 / 4495\n",
      "MSE loss:  0.31654632091522217\n",
      "Batch:  4251 / 4495\n",
      "MSE loss:  0.25937771797180176\n",
      "\n",
      "ValidationLoss:  0.36039879445045714\n",
      "Training Epoch:  16 \n",
      "\n"
     ]
    },
    {
     "data": {
      "application/vnd.jupyter.widget-view+json": {
       "model_id": "21130151db2f4c2d95479501ef74328d",
       "version_major": 2,
       "version_minor": 0
      },
      "text/plain": [
       "HBox(children=(FloatProgress(value=1.0, bar_style='info', max=1.0), HTML(value='')))"
      ]
     },
     "metadata": {},
     "output_type": "display_data"
    },
    {
     "name": "stdout",
     "output_type": "stream",
     "text": [
      "Batch:  1 / 4495\n",
      "MSE loss:  0.28278982639312744\n",
      "Batch:  251 / 4495\n",
      "MSE loss:  0.29914402961730957\n",
      "Batch:  501 / 4495\n",
      "MSE loss:  0.3130379021167755\n",
      "Batch:  751 / 4495\n",
      "MSE loss:  0.31589657068252563\n",
      "Batch:  1001 / 4495\n",
      "MSE loss:  0.24478401243686676\n",
      "Batch:  1251 / 4495\n",
      "MSE loss:  0.2939109802246094\n",
      "Batch:  1501 / 4495\n",
      "MSE loss:  0.2663170099258423\n",
      "Batch:  1751 / 4495\n",
      "MSE loss:  0.2535628378391266\n",
      "Batch:  2001 / 4495\n",
      "MSE loss:  0.31766611337661743\n",
      "Batch:  2251 / 4495\n",
      "MSE loss:  0.2914877235889435\n",
      "Batch:  2501 / 4495\n",
      "MSE loss:  0.23784154653549194\n",
      "Batch:  2751 / 4495\n",
      "MSE loss:  0.2614079713821411\n",
      "Batch:  3001 / 4495\n",
      "MSE loss:  0.23520620167255402\n",
      "Batch:  3251 / 4495\n",
      "MSE loss:  0.24972273409366608\n",
      "Batch:  3501 / 4495\n",
      "MSE loss:  0.2584947645664215\n",
      "Batch:  3751 / 4495\n",
      "MSE loss:  0.24788840115070343\n",
      "Batch:  4001 / 4495\n",
      "MSE loss:  0.24753530323505402\n"
     ]
    },
    {
     "name": "stderr",
     "output_type": "stream",
     "text": [
      "ERROR:root:Internal Python error in the inspect module.\n",
      "Below is the traceback from this internal error.\n",
      "\n"
     ]
    },
    {
     "name": "stdout",
     "output_type": "stream",
     "text": [
      "Traceback (most recent call last):\n",
      "  File \"/opt/conda/envs/torch/lib/python3.7/site-packages/IPython/core/interactiveshell.py\", line 3319, in run_code\n",
      "    exec(code_obj, self.user_global_ns, self.user_ns)\n",
      "  File \"<ipython-input-17-0bc5fb04f6fc>\", line 9, in <module>\n",
      "    for i_batch, (img,valence) in tqdm(enumerate(train_dataloader)):\n",
      "  File \"/opt/conda/envs/torch/lib/python3.7/site-packages/tqdm/notebook.py\", line 215, in __iter__\n",
      "    for obj in super(tqdm_notebook, self).__iter__(*args, **kwargs):\n",
      "  File \"/opt/conda/envs/torch/lib/python3.7/site-packages/tqdm/std.py\", line 1097, in __iter__\n",
      "    for obj in iterable:\n",
      "  File \"/opt/conda/envs/torch/lib/python3.7/site-packages/torch/utils/data/dataloader.py\", line 346, in __next__\n",
      "    data = self._dataset_fetcher.fetch(index)  # may raise StopIteration\n",
      "  File \"/opt/conda/envs/torch/lib/python3.7/site-packages/torch/utils/data/_utils/fetch.py\", line 44, in fetch\n",
      "    data = [self.dataset[idx] for idx in possibly_batched_index]\n",
      "  File \"/opt/conda/envs/torch/lib/python3.7/site-packages/torch/utils/data/_utils/fetch.py\", line 44, in <listcomp>\n",
      "    data = [self.dataset[idx] for idx in possibly_batched_index]\n",
      "  File \"<ipython-input-2-59017d368a7f>\", line 26, in __getitem__\n",
      "    img=self.transform(img)\n",
      "  File \"/opt/conda/envs/torch/lib/python3.7/site-packages/torchvision/transforms/transforms.py\", line 70, in __call__\n",
      "    img = t(img)\n",
      "  File \"/opt/conda/envs/torch/lib/python3.7/site-packages/torchvision/transforms/transforms.py\", line 207, in __call__\n",
      "    return F.resize(img, self.size, self.interpolation)\n",
      "  File \"/opt/conda/envs/torch/lib/python3.7/site-packages/torchvision/transforms/functional.py\", line 255, in resize\n",
      "    return img.resize(size[::-1], interpolation)\n",
      "  File \"/opt/conda/envs/torch/lib/python3.7/site-packages/PIL/Image.py\", line 1886, in resize\n",
      "    self.load()\n",
      "  File \"/opt/conda/envs/torch/lib/python3.7/site-packages/PIL/ImageFile.py\", line 253, in load\n",
      "    n, err_code = decoder.decode(b)\n",
      "KeyboardInterrupt\n",
      "\n",
      "During handling of the above exception, another exception occurred:\n",
      "\n",
      "Traceback (most recent call last):\n",
      "  File \"/opt/conda/envs/torch/lib/python3.7/site-packages/IPython/core/interactiveshell.py\", line 2034, in showtraceback\n",
      "    stb = value._render_traceback_()\n",
      "AttributeError: 'KeyboardInterrupt' object has no attribute '_render_traceback_'\n",
      "\n",
      "During handling of the above exception, another exception occurred:\n",
      "\n",
      "Traceback (most recent call last):\n",
      "  File \"/opt/conda/envs/torch/lib/python3.7/site-packages/IPython/core/ultratb.py\", line 1101, in get_records\n",
      "    return _fixed_getinnerframes(etb, number_of_lines_of_context, tb_offset)\n",
      "  File \"/opt/conda/envs/torch/lib/python3.7/site-packages/IPython/core/ultratb.py\", line 319, in wrapped\n",
      "    return f(*args, **kwargs)\n",
      "  File \"/opt/conda/envs/torch/lib/python3.7/site-packages/IPython/core/ultratb.py\", line 353, in _fixed_getinnerframes\n",
      "    records = fix_frame_records_filenames(inspect.getinnerframes(etb, context))\n",
      "  File \"/opt/conda/envs/torch/lib/python3.7/inspect.py\", line 1502, in getinnerframes\n",
      "    frameinfo = (tb.tb_frame,) + getframeinfo(tb, context)\n",
      "  File \"/opt/conda/envs/torch/lib/python3.7/inspect.py\", line 1460, in getframeinfo\n",
      "    filename = getsourcefile(frame) or getfile(frame)\n",
      "  File \"/opt/conda/envs/torch/lib/python3.7/inspect.py\", line 696, in getsourcefile\n",
      "    if getattr(getmodule(object, filename), '__loader__', None) is not None:\n",
      "  File \"/opt/conda/envs/torch/lib/python3.7/inspect.py\", line 739, in getmodule\n",
      "    f = getabsfile(module)\n",
      "  File \"/opt/conda/envs/torch/lib/python3.7/inspect.py\", line 708, in getabsfile\n",
      "    _filename = getsourcefile(object) or getfile(object)\n",
      "  File \"/opt/conda/envs/torch/lib/python3.7/inspect.py\", line 693, in getsourcefile\n",
      "    if os.path.exists(filename):\n",
      "  File \"/opt/conda/envs/torch/lib/python3.7/genericpath.py\", line 19, in exists\n",
      "    os.stat(path)\n",
      "KeyboardInterrupt\n"
     ]
    },
    {
     "ename": "KeyboardInterrupt",
     "evalue": "",
     "output_type": "error",
     "traceback": [
      "\u001b[0;31m---------------------------------------------------------------------------\u001b[0m"
     ]
    }
   ],
   "source": [
    "train_loss=[]\n",
    "val_loss=[]\n",
    "num_epochs=50\n",
    "\n",
    "for epochs in (range(0,num_epochs)):\n",
    "    model.train()\n",
    "    print(\"Training Epoch: \", epochs+1,\"\\n\")\n",
    "   \n",
    "    for i_batch, (img,valence) in tqdm(enumerate(train_dataloader)):\n",
    "        batch_size=img.size(0)\n",
    "        optimizer.zero_grad()\n",
    "        img=img.to(device)\n",
    "        val_output=model(img)\n",
    "        loss1=loss_func(val_output,valence.to(device))\n",
    "        loss=loss1\n",
    "        loss.backward()\n",
    "        optimizer.step()\n",
    "        if i_batch%250==0:\n",
    "            print(\"Batch: \",i_batch+1,\"/\",len(train_dataloader))\n",
    "            print(\"MSE loss: \", loss.item())\n",
    "            train_loss.append(loss.item())\n",
    "    model.eval()\n",
    "    avg_loss=1e-6\n",
    "    temp_loss=0\n",
    "    for i_batch, (img,valence) in enumerate(valid_dataloader):\n",
    "        \n",
    "        batch_size=img.size(0)\n",
    "\n",
    "        img=img.to(device)\n",
    "        val_output=model(img)\n",
    "        loss1=loss_func(val_output,valence.to(device))\n",
    "        #loss2=loss_func(arou_output,valence.to(device))\n",
    "        loss=loss1\n",
    "        temp_loss+=loss.item()\n",
    "    print(\"ValidationLoss: \",temp_loss/len(valid_dataloader))\n",
    "    val_loss.append(temp_loss/len(valid_dataloader))\n",
    "    if temp_loss<avg_loss:\n",
    "        avg_loss=temp_loss\n",
    "        torch.save(model,\"face_feature.h\")\n",
    "    \n",
    "\n",
    "    \n",
    "\n",
    "    \n",
    "        "
   ]
  },
  {
   "cell_type": "code",
   "execution_count": null,
   "metadata": {},
   "outputs": [],
   "source": [
    "avg_loss=1e6"
   ]
  },
  {
   "cell_type": "code",
   "execution_count": null,
   "metadata": {},
   "outputs": [],
   "source": [
    "avg_loss"
   ]
  },
  {
   "cell_type": "code",
   "execution_count": null,
   "metadata": {},
   "outputs": [],
   "source": [
    "print(\"hu\")"
   ]
  },
  {
   "cell_type": "code",
   "execution_count": null,
   "metadata": {},
   "outputs": [],
   "source": []
  }
 ],
 "metadata": {
  "kernelspec": {
   "display_name": "Python 3",
   "language": "python",
   "name": "python3"
  },
  "language_info": {
   "codemirror_mode": {
    "name": "ipython",
    "version": 3
   },
   "file_extension": ".py",
   "mimetype": "text/x-python",
   "name": "python",
   "nbconvert_exporter": "python",
   "pygments_lexer": "ipython3",
   "version": "3.7.5"
  }
 },
 "nbformat": 4,
 "nbformat_minor": 4
}
