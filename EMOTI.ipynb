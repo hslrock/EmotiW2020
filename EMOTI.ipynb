{
 "cells": [
  {
   "cell_type": "code",
   "execution_count": 1,
   "metadata": {},
   "outputs": [],
   "source": [
    "from Dataload import dataload\n",
    "\n",
    "from module import transformer,video_model,invres\n",
    "\n",
    "import torch\n",
    "import torch.nn as nn\n",
    "from torchsummary import summary\n",
    "from sklearn.metrics import confusion_matrix\n",
    "from torch.utils.data import Dataset, DataLoader\n",
    "import matplotlib.pylab as plt\n",
    "from torchvision import  utils\n",
    "import os\n",
    "from constant import EMOTIPATH\n",
    "import time\n",
    "from tqdm.notebook import tqdm\n"
   ]
  },
  {
   "cell_type": "code",
   "execution_count": 2,
   "metadata": {},
   "outputs": [
    {
     "data": {
      "text/plain": [
       "2661"
      ]
     },
     "execution_count": 2,
     "metadata": {},
     "output_type": "execute_result"
    }
   ],
   "source": [
    "#Batchfy\n",
    "#Counts number of correct label\n",
    "def num_correct(prediction,labels):\n",
    "    correct=0\n",
    "    for i,(pred_label,label) in enumerate(zip(prediction,labels)):\n",
    "        if (pred_label.item()==label.item()):\n",
    "            correct +=1\n",
    "    return correct\n",
    "\n",
    "Train_label=os.path.join(EMOTIPATH,\"Train_labels.txt\")\n",
    "Train_video=os.path.join(EMOTIPATH,\"Train\")\n",
    "Val_labels=os.path.join(EMOTIPATH,\"Val_labels.txt\")\n",
    "Val_video=os.path.join(EMOTIPATH,\"Val\")\n",
    "\n",
    "frame_num=5\n",
    "train_data=dataload.Video_Frame_Data(Train_label,\"train.csv\",base_path_v=Train_video,frame_num=frame_num)\n",
    "valid_data=dataload.Video_Frame_Data(Val_labels,\"valid.csv\",base_path_v=Val_video,frame_num=frame_num)\n",
    "\n",
    "#train_data1=dataload.Video_Embedding_Data(\"train.csv\",Train_label)\n",
    "#valid_data=dataload.Video_Embedding_Data(\"valid.csv\",Val_labels)\n",
    "            \n",
    "train_dataloader = DataLoader(train_data, batch_size=32\n",
    "                       , num_workers=0,shuffle=True)\n",
    "#valid_data=dataload.Video_Frame_Data(Val_labels,base_path_v=Val_video,strict_num=26)\n",
    "\n",
    "valid_dataloader = DataLoader(valid_data, batch_size=32\n",
    "                       , num_workers=0)\n",
    "\n",
    "\n",
    "\n",
    "len(train_data)"
   ]
  },
  {
   "cell_type": "code",
   "execution_count": 3,
   "metadata": {},
   "outputs": [
    {
     "data": {
      "text/plain": [
       "torch.float64"
      ]
     },
     "execution_count": 3,
     "metadata": {},
     "output_type": "execute_result"
    }
   ],
   "source": [
    "valid_data[60][0].dtype"
   ]
  },
  {
   "cell_type": "code",
   "execution_count": 4,
   "metadata": {},
   "outputs": [
    {
     "name": "stdout",
     "output_type": "stream",
     "text": [
      "densenet is frozen\n",
      "fc2 is unfrozen\n",
      "fc3 is unfrozen\n",
      "posencoding is unfrozen\n",
      "transformer is unfrozen\n"
     ]
    }
   ],
   "source": [
    "device = torch.device(\"cuda:0\" if torch.cuda.is_available() else \"cpu\")\n",
    "torch.set_default_tensor_type(torch.cuda.FloatTensor)\n",
    "model=video_model.Video_Feature(joint=False,grayscale=False,classfication=True,frame=frame_num)\n",
    "for name, child in model.named_children():\n",
    "   if not name in ['densenet']:\n",
    "       print(name + ' is unfrozen')\n",
    "       for param in child.parameters():\n",
    "           param.requires_grad = True\n",
    "   else:\n",
    "       print(name + ' is frozen')\n",
    "       for param in child.parameters():\n",
    "           param.requires_grad = False\n",
    "#model=model.to(device)  \n",
    "model=model.double().to(device)\n",
    "#model=model.float()\n",
    "criterion = nn.CrossEntropyLoss()  \n",
    "loss_func = torch.nn.MSELoss()\n",
    "\n",
    "optimizer = torch.optim.Adam(filter(lambda p: p.requires_grad, model.parameters()), lr=0.0002, betas=(0.5, 0.999))\n"
   ]
  },
  {
   "cell_type": "code",
   "execution_count": 6,
   "metadata": {},
   "outputs": [],
   "source": [
    "def train(num_epochs,name,model):\n",
    "    f = open(name+\".txt\",'a')\n",
    "    start = time.time()\n",
    "    #Triaining\n",
    "    train_loss=[]\n",
    "    valid_accuracy=[]\n",
    "    model.train()\n",
    "    for epochs in range(0,num_epochs):\n",
    "        first=True\n",
    "        model.train()\n",
    "        correct=0\n",
    "        total_samples=0\n",
    "        avg_tloss=0\n",
    "        print(\"Training Epoch: \", epochs+1,\"\\n\")\n",
    "        for i_batch, (sample_batched,_,label) in tqdm(enumerate(train_dataloader)):\n",
    "           # sample_batched=sample_batched.frames\n",
    "            batch_size=sample_batched.size(0)\n",
    "            optimizer.zero_grad()\n",
    "            sample_batched=sample_batched.to(device)\n",
    "            output=model(sample_batched)\n",
    "            loss=criterion(output,label.to(device))\n",
    "            loss.backward()\n",
    "            predicted = torch.max(output, 1)\n",
    "            prediction=predicted.indices.detach().cpu()\n",
    "            correct +=num_correct(prediction,label)\n",
    "            total_samples+=batch_size\n",
    "            accuracy=correct/(total_samples)\n",
    "            optimizer.step()\n",
    "            true_label=label.detach().cpu()\n",
    "            avg_tloss+=loss.item()\n",
    "            if first:\n",
    "                first=False\n",
    "                conf_mat=confusion_matrix( true_label,prediction,labels=[0,1,2])\n",
    "            else:\n",
    "                conf_mat+=confusion_matrix(true_label,prediction,labels=[0,1,2])\n",
    "            if i_batch%20==0:\n",
    "               # print(label)\n",
    "                print(\"Batch: \",i_batch+1,\"/\",len(train_dataloader))\n",
    "                print(\"Batch Recognition loss: \", loss.item())\n",
    "\n",
    "        print(conf_mat)\n",
    "        avg_tloss=avg_tloss/len(train_dataloader)\n",
    "        avg_taccuracy=correct/total_samples\n",
    "        print(\"Average_Loss: \",avg_tloss)\n",
    "        print(\"Average_Accuracy: \",avg_taccuracy)\n",
    "\n",
    "        torch.save(model.state_dict(),name)\n",
    "        print(\"Validation\\n\")\n",
    "        model.eval()   \n",
    "        correct=0\n",
    "        total_samples=0\n",
    "        avg_vloss=0\n",
    "        first=True\n",
    "\n",
    "        for i_batch, (sample_batched,_,label) in enumerate(valid_dataloader):\n",
    "            batch_size=sample_batched.size(0)\n",
    "            sample_batched=sample_batched.to(device)\n",
    "            output=model(sample_batched)\n",
    "            loss=criterion(output,label.to(device))\n",
    "            avg_vloss+=loss.item()\n",
    "            predicted = torch.max(output, 1)\n",
    "            prediction=predicted.indices.detach().cpu()\n",
    "            correct +=num_correct(prediction,label)\n",
    "            total_samples+=batch_size\n",
    "\n",
    "            true_label=label.detach().cpu()\n",
    "            if first:\n",
    "                first=False\n",
    "                conf_mat=confusion_matrix( true_label,prediction,labels=[0,1,2])\n",
    "            else:\n",
    "                conf_mat+=confusion_matrix(true_label,prediction,labels=[0,1,2])\n",
    "        print(conf_mat)\n",
    "        avg_vloss=avg_vloss/len(valid_dataloader)\n",
    "        print(avg_vloss)\n",
    "        avg_vaccuracy=correct/(total_samples)\n",
    "        print(\"Accuracy: \", avg_vaccuracy)\n",
    "\n",
    "       # data = \" %d,%d,%d,%d \\n\" % (avg_tloss,avg_taccuracy,avg_vloss,avg_vaccuracy)\n",
    "\n",
    "\n",
    "\n",
    "    f.close()\n"
   ]
  },
  {
   "cell_type": "code",
   "execution_count": 7,
   "metadata": {},
   "outputs": [
    {
     "name": "stdout",
     "output_type": "stream",
     "text": [
      "Training Epoch:  1 \n",
      "\n"
     ]
    },
    {
     "data": {
      "application/vnd.jupyter.widget-view+json": {
       "model_id": "c47ee0e27cf14c7a92a82e55e10b829e",
       "version_major": 2,
       "version_minor": 0
      },
      "text/plain": [
       "HBox(children=(FloatProgress(value=1.0, bar_style='info', max=1.0), HTML(value='')))"
      ]
     },
     "metadata": {},
     "output_type": "display_data"
    },
    {
     "name": "stdout",
     "output_type": "stream",
     "text": [
      "Batch:  1 / 84\n",
      "Batch Recognition loss:  1.09314688594941\n",
      "Batch:  21 / 84\n",
      "Batch Recognition loss:  1.0191039765275929\n",
      "Batch:  41 / 84\n",
      "Batch Recognition loss:  1.0166374573876193\n",
      "Batch:  61 / 84\n",
      "Batch Recognition loss:  1.0508648426365186\n",
      "Batch:  81 / 84\n",
      "Batch Recognition loss:  1.0672927621313324\n",
      "\n",
      "[[522   0 284]\n",
      " [604   0 319]\n",
      " [285   0 647]]\n",
      "Average_Loss:  1.048527383433934\n",
      "Average_Accuracy:  0.4393085306275836\n",
      "Validation\n",
      "\n",
      "[[189   0 110]\n",
      " [214   0  67]\n",
      " [ 38   0 148]]\n",
      "1.0846347214347585\n",
      "Accuracy:  0.43994778067885115\n",
      "Training Epoch:  2 \n",
      "\n"
     ]
    },
    {
     "data": {
      "application/vnd.jupyter.widget-view+json": {
       "model_id": "9f402769a7154da3a35fd4b91cc4fa2e",
       "version_major": 2,
       "version_minor": 0
      },
      "text/plain": [
       "HBox(children=(FloatProgress(value=1.0, bar_style='info', max=1.0), HTML(value='')))"
      ]
     },
     "metadata": {},
     "output_type": "display_data"
    },
    {
     "name": "stdout",
     "output_type": "stream",
     "text": [
      "Batch:  1 / 84\n",
      "Batch Recognition loss:  1.0000864147496322\n",
      "Batch:  21 / 84\n",
      "Batch Recognition loss:  1.0209347529964132\n",
      "Batch:  41 / 84\n",
      "Batch Recognition loss:  0.9015418986115982\n",
      "Batch:  61 / 84\n",
      "Batch Recognition loss:  1.0098727011112965\n",
      "Batch:  81 / 84\n",
      "Batch Recognition loss:  0.9832591385183491\n",
      "\n",
      "[[589   1 216]\n",
      " [675   0 248]\n",
      " [238   0 694]]\n",
      "Average_Loss:  1.008436632755505\n",
      "Average_Accuracy:  0.48214956783164226\n",
      "Validation\n",
      "\n",
      "[[245   0  54]\n",
      " [234   0  47]\n",
      " [ 61   0 125]]\n",
      "1.018902190132702\n",
      "Accuracy:  0.4830287206266319\n",
      "Training Epoch:  3 \n",
      "\n"
     ]
    },
    {
     "data": {
      "application/vnd.jupyter.widget-view+json": {
       "model_id": "c3471fad13c7448bb996228ba4ae3cde",
       "version_major": 2,
       "version_minor": 0
      },
      "text/plain": [
       "HBox(children=(FloatProgress(value=1.0, bar_style='info', max=1.0), HTML(value='')))"
      ]
     },
     "metadata": {},
     "output_type": "display_data"
    },
    {
     "name": "stdout",
     "output_type": "stream",
     "text": [
      "Batch:  1 / 84\n",
      "Batch Recognition loss:  1.047266420082255\n",
      "Batch:  21 / 84\n",
      "Batch Recognition loss:  0.9388785280071814\n",
      "Batch:  41 / 84\n",
      "Batch Recognition loss:  0.9548855153158153\n",
      "Batch:  61 / 84\n",
      "Batch Recognition loss:  0.9996705107195986\n",
      "Batch:  81 / 84\n",
      "Batch Recognition loss:  0.9285935915907997\n",
      "\n",
      "[[652   0 154]\n",
      " [692   0 231]\n",
      " [223   0 709]]\n",
      "Average_Loss:  0.9746558872055214\n",
      "Average_Accuracy:  0.5114618564449455\n",
      "Validation\n",
      "\n",
      "[[247   0  52]\n",
      " [237   0  44]\n",
      " [101   0  85]]\n",
      "1.058910591147364\n",
      "Accuracy:  0.43342036553524804\n",
      "Training Epoch:  4 \n",
      "\n"
     ]
    },
    {
     "data": {
      "application/vnd.jupyter.widget-view+json": {
       "model_id": "e531e9079e324d00a1c0eeb756252234",
       "version_major": 2,
       "version_minor": 0
      },
      "text/plain": [
       "HBox(children=(FloatProgress(value=1.0, bar_style='info', max=1.0), HTML(value='')))"
      ]
     },
     "metadata": {},
     "output_type": "display_data"
    },
    {
     "name": "stdout",
     "output_type": "stream",
     "text": [
      "Batch:  1 / 84\n",
      "Batch Recognition loss:  1.026489743145249\n",
      "Batch:  21 / 84\n",
      "Batch Recognition loss:  0.8469583821396199\n",
      "Batch:  41 / 84\n",
      "Batch Recognition loss:  1.0274250328917895\n",
      "Batch:  61 / 84\n",
      "Batch Recognition loss:  1.0595961593510763\n",
      "Batch:  81 / 84\n",
      "Batch Recognition loss:  0.9140614708289088\n",
      "\n",
      "[[660   0 146]\n",
      " [693   0 230]\n",
      " [215   0 717]]\n",
      "Average_Loss:  0.9639896135000893\n",
      "Average_Accuracy:  0.5174746335963923\n",
      "Validation\n",
      "\n",
      "[[207   0  92]\n",
      " [208   0  73]\n",
      " [ 45   0 141]]\n",
      "1.0474229801325727\n",
      "Accuracy:  0.45430809399477806\n",
      "Training Epoch:  5 \n",
      "\n"
     ]
    },
    {
     "data": {
      "application/vnd.jupyter.widget-view+json": {
       "model_id": "c72fe1ad26034950a89e6c7078d947e8",
       "version_major": 2,
       "version_minor": 0
      },
      "text/plain": [
       "HBox(children=(FloatProgress(value=1.0, bar_style='info', max=1.0), HTML(value='')))"
      ]
     },
     "metadata": {},
     "output_type": "display_data"
    },
    {
     "name": "stdout",
     "output_type": "stream",
     "text": [
      "Batch:  1 / 84\n",
      "Batch Recognition loss:  0.9256727977331123\n",
      "Batch:  21 / 84\n",
      "Batch Recognition loss:  0.9116917800852125\n",
      "Batch:  41 / 84\n",
      "Batch Recognition loss:  1.0269162998919275\n",
      "Batch:  61 / 84\n",
      "Batch Recognition loss:  0.9611550192717886\n",
      "Batch:  81 / 84\n",
      "Batch Recognition loss:  1.1320435198231245\n",
      "\n",
      "[[671   0 135]\n",
      " [720   0 203]\n",
      " [203   0 729]]\n",
      "Average_Loss:  0.9495208474130589\n",
      "Average_Accuracy:  0.5261180007515971\n",
      "Validation\n",
      "\n",
      "[[181   0 118]\n",
      " [174   0 107]\n",
      " [ 27   0 159]]\n",
      "1.049334444962392\n",
      "Accuracy:  0.44386422976501305\n",
      "Training Epoch:  6 \n",
      "\n"
     ]
    },
    {
     "data": {
      "application/vnd.jupyter.widget-view+json": {
       "model_id": "bdbdeecfbf8c4c39a1dbb9c3a5ca650b",
       "version_major": 2,
       "version_minor": 0
      },
      "text/plain": [
       "HBox(children=(FloatProgress(value=1.0, bar_style='info', max=1.0), HTML(value='')))"
      ]
     },
     "metadata": {},
     "output_type": "display_data"
    },
    {
     "name": "stdout",
     "output_type": "stream",
     "text": [
      "Batch:  1 / 84\n",
      "Batch Recognition loss:  0.9003138203052481\n",
      "Batch:  21 / 84\n",
      "Batch Recognition loss:  1.0409565943724168\n",
      "Batch:  41 / 84\n",
      "Batch Recognition loss:  0.911407110747953\n",
      "Batch:  61 / 84\n",
      "Batch Recognition loss:  0.9309459925864598\n",
      "Batch:  81 / 84\n",
      "Batch Recognition loss:  0.8879755704332736\n",
      "\n",
      "[[673   0 133]\n",
      " [733   0 190]\n",
      " [189   0 743]]\n",
      "Average_Loss:  0.9369179982984716\n",
      "Average_Accuracy:  0.532130777903044\n",
      "Validation\n",
      "\n",
      "[[198   0 101]\n",
      " [204   0  77]\n",
      " [ 51   0 135]]\n",
      "1.0765651171054504\n",
      "Accuracy:  0.4347258485639687\n",
      "Training Epoch:  7 \n",
      "\n"
     ]
    },
    {
     "data": {
      "application/vnd.jupyter.widget-view+json": {
       "model_id": "22bf1074f7b7456f86da4c8113a9bc92",
       "version_major": 2,
       "version_minor": 0
      },
      "text/plain": [
       "HBox(children=(FloatProgress(value=1.0, bar_style='info', max=1.0), HTML(value='')))"
      ]
     },
     "metadata": {},
     "output_type": "display_data"
    },
    {
     "name": "stdout",
     "output_type": "stream",
     "text": [
      "Batch:  1 / 84\n",
      "Batch Recognition loss:  1.0597134654881661\n",
      "Batch:  21 / 84\n",
      "Batch Recognition loss:  0.8945761120807364\n",
      "Batch:  41 / 84\n",
      "Batch Recognition loss:  0.9761726898333064\n",
      "Batch:  61 / 84\n",
      "Batch Recognition loss:  0.9318221127965529\n",
      "Batch:  81 / 84\n",
      "Batch Recognition loss:  1.0098172445147895\n",
      "\n",
      "[[669   0 137]\n",
      " [718   0 205]\n",
      " [192   0 740]]\n",
      "Average_Loss:  0.9455757527316757\n",
      "Average_Accuracy:  0.529500187899286\n",
      "Validation\n",
      "\n",
      "[[213   0  86]\n",
      " [219   0  62]\n",
      " [ 38   0 148]]\n",
      "1.042550999948711\n",
      "Accuracy:  0.47127937336814624\n",
      "Training Epoch:  8 \n",
      "\n"
     ]
    },
    {
     "data": {
      "application/vnd.jupyter.widget-view+json": {
       "model_id": "61710825881142d1bfce83a64fe43745",
       "version_major": 2,
       "version_minor": 0
      },
      "text/plain": [
       "HBox(children=(FloatProgress(value=1.0, bar_style='info', max=1.0), HTML(value='')))"
      ]
     },
     "metadata": {},
     "output_type": "display_data"
    },
    {
     "name": "stdout",
     "output_type": "stream",
     "text": [
      "Batch:  1 / 84\n",
      "Batch Recognition loss:  0.8442387538754934\n",
      "Batch:  21 / 84\n",
      "Batch Recognition loss:  1.0368368146307165\n",
      "Batch:  41 / 84\n",
      "Batch Recognition loss:  0.9563012001164395\n",
      "Batch:  61 / 84\n",
      "Batch Recognition loss:  0.8489801411723368\n",
      "Batch:  81 / 84\n",
      "Batch Recognition loss:  0.8406144571830764\n",
      "\n",
      "[[701   0 105]\n",
      " [723   0 200]\n",
      " [186   0 746]]\n",
      "Average_Loss:  0.9275518424624563\n",
      "Average_Accuracy:  0.5437805336339722\n",
      "Validation\n",
      "\n",
      "[[265   0  34]\n",
      " [245   0  36]\n",
      " [106   0  80]]\n",
      "1.0507666655018655\n",
      "Accuracy:  0.45039164490861616\n",
      "Training Epoch:  9 \n",
      "\n"
     ]
    },
    {
     "data": {
      "application/vnd.jupyter.widget-view+json": {
       "model_id": "03b712eb4e9a42a29c2a9995288a7af0",
       "version_major": 2,
       "version_minor": 0
      },
      "text/plain": [
       "HBox(children=(FloatProgress(value=1.0, bar_style='info', max=1.0), HTML(value='')))"
      ]
     },
     "metadata": {},
     "output_type": "display_data"
    },
    {
     "name": "stdout",
     "output_type": "stream",
     "text": [
      "Batch:  1 / 84\n",
      "Batch Recognition loss:  0.9483152454590745\n",
      "Batch:  21 / 84\n",
      "Batch Recognition loss:  0.8685416650357516\n",
      "Batch:  41 / 84\n",
      "Batch Recognition loss:  0.9116131578857448\n",
      "Batch:  61 / 84\n",
      "Batch Recognition loss:  0.9070087330132747\n",
      "Batch:  81 / 84\n",
      "Batch Recognition loss:  0.918290148378285\n",
      "\n",
      "[[699   0 107]\n",
      " [735   0 188]\n",
      " [172   0 760]]\n",
      "Average_Loss:  0.9209167272721582\n",
      "Average_Accuracy:  0.5482901164975573\n",
      "Validation\n",
      "\n",
      "[[216   0  83]\n",
      " [211   0  70]\n",
      " [ 43   0 143]]\n",
      "1.035991594654747\n",
      "Accuracy:  0.46866840731070497\n",
      "Training Epoch:  10 \n",
      "\n"
     ]
    },
    {
     "data": {
      "application/vnd.jupyter.widget-view+json": {
       "model_id": "9e700bca8ca1465e852d43fcc21a0287",
       "version_major": 2,
       "version_minor": 0
      },
      "text/plain": [
       "HBox(children=(FloatProgress(value=1.0, bar_style='info', max=1.0), HTML(value='')))"
      ]
     },
     "metadata": {},
     "output_type": "display_data"
    },
    {
     "name": "stdout",
     "output_type": "stream",
     "text": [
      "Batch:  1 / 84\n",
      "Batch Recognition loss:  1.0059769183741605\n",
      "Batch:  21 / 84\n",
      "Batch Recognition loss:  0.8740405183975731\n",
      "Batch:  41 / 84\n",
      "Batch Recognition loss:  0.9354955618685769\n",
      "Batch:  61 / 84\n",
      "Batch Recognition loss:  0.8848182761964919\n",
      "Batch:  81 / 84\n",
      "Batch Recognition loss:  0.9019424834662773\n",
      "\n",
      "[[698   0 108]\n",
      " [740   0 183]\n",
      " [184   0 748]]\n",
      "Average_Loss:  0.923366215479727\n",
      "Average_Accuracy:  0.5434047350620068\n",
      "Validation\n",
      "\n",
      "[[245   0  54]\n",
      " [231   0  50]\n",
      " [ 69   0 117]]\n",
      "1.0389594656159156\n",
      "Accuracy:  0.4725848563968668\n",
      "Training Epoch:  11 \n",
      "\n"
     ]
    },
    {
     "data": {
      "application/vnd.jupyter.widget-view+json": {
       "model_id": "b4e73f483e784e12bd9ad1314d7c7acb",
       "version_major": 2,
       "version_minor": 0
      },
      "text/plain": [
       "HBox(children=(FloatProgress(value=1.0, bar_style='info', max=1.0), HTML(value='')))"
      ]
     },
     "metadata": {},
     "output_type": "display_data"
    },
    {
     "name": "stdout",
     "output_type": "stream",
     "text": [
      "Batch:  1 / 84\n",
      "Batch Recognition loss:  0.8726108721658359\n",
      "Batch:  21 / 84\n",
      "Batch Recognition loss:  0.9231616809834325\n",
      "Batch:  41 / 84\n",
      "Batch Recognition loss:  0.9716981956905032\n",
      "Batch:  61 / 84\n",
      "Batch Recognition loss:  0.7950367068137705\n",
      "Batch:  81 / 84\n",
      "Batch Recognition loss:  0.7998117713662636\n",
      "\n",
      "[[715   0  91]\n",
      " [748   0 175]\n",
      " [175   0 757]]\n",
      "Average_Loss:  0.9088130310981418\n",
      "Average_Accuracy:  0.5531754979331078\n",
      "Validation\n",
      "\n",
      "[[210   0  89]\n",
      " [196   0  85]\n",
      " [ 67   0 119]]\n",
      "1.0587408964418936\n",
      "Accuracy:  0.42950391644908614\n",
      "Training Epoch:  12 \n",
      "\n"
     ]
    },
    {
     "data": {
      "application/vnd.jupyter.widget-view+json": {
       "model_id": "a2d33617088543daa56fe6dcc283e25d",
       "version_major": 2,
       "version_minor": 0
      },
      "text/plain": [
       "HBox(children=(FloatProgress(value=1.0, bar_style='info', max=1.0), HTML(value='')))"
      ]
     },
     "metadata": {},
     "output_type": "display_data"
    },
    {
     "name": "stdout",
     "output_type": "stream",
     "text": [
      "Batch:  1 / 84\n",
      "Batch Recognition loss:  0.9946031244880039\n",
      "Batch:  21 / 84\n",
      "Batch Recognition loss:  0.8851227499331992\n",
      "Batch:  41 / 84\n",
      "Batch Recognition loss:  0.9449776538554235\n",
      "Batch:  61 / 84\n",
      "Batch Recognition loss:  0.8254388970996416\n",
      "Batch:  81 / 84\n",
      "Batch Recognition loss:  0.8655509592398005\n",
      "\n",
      "[[706   0 100]\n",
      " [759   0 164]\n",
      " [182   0 750]]\n",
      "Average_Loss:  0.9079300008990416\n",
      "Average_Accuracy:  0.5471627207816611\n",
      "Validation\n",
      "\n",
      "[[194   0 105]\n",
      " [206   0  75]\n",
      " [ 41   0 145]]\n",
      "1.0536114909254042\n",
      "Accuracy:  0.4425587467362924\n",
      "Training Epoch:  13 \n",
      "\n"
     ]
    },
    {
     "data": {
      "application/vnd.jupyter.widget-view+json": {
       "model_id": "5fdf08ed547a4268bc6df7d3b599f5dc",
       "version_major": 2,
       "version_minor": 0
      },
      "text/plain": [
       "HBox(children=(FloatProgress(value=1.0, bar_style='info', max=1.0), HTML(value='')))"
      ]
     },
     "metadata": {},
     "output_type": "display_data"
    },
    {
     "name": "stdout",
     "output_type": "stream",
     "text": [
      "Batch:  1 / 84\n",
      "Batch Recognition loss:  0.8863900184682058\n",
      "Batch:  21 / 84\n",
      "Batch Recognition loss:  0.8156612295423743\n",
      "Batch:  41 / 84\n",
      "Batch Recognition loss:  0.9843141423109739\n",
      "Batch:  61 / 84\n",
      "Batch Recognition loss:  0.8919456038024788\n",
      "Batch:  81 / 84\n",
      "Batch Recognition loss:  0.8535005063103597\n",
      "\n",
      "[[723   0  83]\n",
      " [766   0 157]\n",
      " [167   0 765]]\n",
      "Average_Loss:  0.8939750152882129\n",
      "Average_Accuracy:  0.5591882750845547\n",
      "Validation\n",
      "\n",
      "[[208   0  91]\n",
      " [226   0  55]\n",
      " [ 62   0 124]]\n",
      "1.0445013631893978\n",
      "Accuracy:  0.43342036553524804\n",
      "Training Epoch:  14 \n",
      "\n"
     ]
    },
    {
     "data": {
      "application/vnd.jupyter.widget-view+json": {
       "model_id": "d634bc6802d747cc9e2834ae52134a79",
       "version_major": 2,
       "version_minor": 0
      },
      "text/plain": [
       "HBox(children=(FloatProgress(value=1.0, bar_style='info', max=1.0), HTML(value='')))"
      ]
     },
     "metadata": {},
     "output_type": "display_data"
    },
    {
     "name": "stdout",
     "output_type": "stream",
     "text": [
      "Batch:  1 / 84\n",
      "Batch Recognition loss:  0.909366541787817\n",
      "Batch:  21 / 84\n",
      "Batch Recognition loss:  0.8353261197779879\n",
      "Batch:  41 / 84\n",
      "Batch Recognition loss:  0.8551336448785885\n",
      "Batch:  61 / 84\n",
      "Batch Recognition loss:  0.9382439470875125\n",
      "Batch:  81 / 84\n",
      "Batch Recognition loss:  0.8324444848222434\n",
      "\n",
      "[[719   0  87]\n",
      " [767   0 156]\n",
      " [157   0 775]]\n",
      "Average_Loss:  0.8956919840987587\n",
      "Average_Accuracy:  0.5614430665163472\n",
      "Validation\n",
      "\n",
      "[[207   0  92]\n",
      " [205   0  76]\n",
      " [ 48   0 138]]\n",
      "1.0525050571792405\n",
      "Accuracy:  0.45039164490861616\n",
      "Training Epoch:  15 \n",
      "\n"
     ]
    },
    {
     "data": {
      "application/vnd.jupyter.widget-view+json": {
       "model_id": "d6af5570076e4f708bfd119f504025e0",
       "version_major": 2,
       "version_minor": 0
      },
      "text/plain": [
       "HBox(children=(FloatProgress(value=1.0, bar_style='info', max=1.0), HTML(value='')))"
      ]
     },
     "metadata": {},
     "output_type": "display_data"
    },
    {
     "name": "stdout",
     "output_type": "stream",
     "text": [
      "Batch:  1 / 84\n",
      "Batch Recognition loss:  0.9774938140349605\n",
      "Batch:  21 / 84\n",
      "Batch Recognition loss:  0.9059156596920236\n",
      "Batch:  41 / 84\n",
      "Batch Recognition loss:  0.832036786102751\n",
      "Batch:  61 / 84\n",
      "Batch Recognition loss:  0.8170114555504836\n",
      "Batch:  81 / 84\n",
      "Batch Recognition loss:  0.8753863924002638\n",
      "\n",
      "[[726   0  80]\n",
      " [748   0 175]\n",
      " [167   0 765]]\n",
      "Average_Loss:  0.9027103079422323\n",
      "Average_Accuracy:  0.560315670800451\n",
      "Validation\n",
      "\n",
      "[[217   0  82]\n",
      " [206   0  75]\n",
      " [ 62   0 124]]\n",
      "1.047002638736521\n",
      "Accuracy:  0.4451697127937337\n",
      "Training Epoch:  16 \n",
      "\n"
     ]
    },
    {
     "data": {
      "application/vnd.jupyter.widget-view+json": {
       "model_id": "debe8e26eda149ca83f353ed8b6f58ee",
       "version_major": 2,
       "version_minor": 0
      },
      "text/plain": [
       "HBox(children=(FloatProgress(value=1.0, bar_style='info', max=1.0), HTML(value='')))"
      ]
     },
     "metadata": {},
     "output_type": "display_data"
    },
    {
     "name": "stdout",
     "output_type": "stream",
     "text": [
      "Batch:  1 / 84\n",
      "Batch Recognition loss:  0.7896489650483478\n",
      "Batch:  21 / 84\n",
      "Batch Recognition loss:  0.8315218353133731\n",
      "Batch:  41 / 84\n",
      "Batch Recognition loss:  0.829845972246387\n",
      "Batch:  61 / 84\n",
      "Batch Recognition loss:  0.903336709874529\n",
      "Batch:  81 / 84\n",
      "Batch Recognition loss:  0.9473607848934534\n",
      "\n",
      "[[736   0  70]\n",
      " [769   0 154]\n",
      " [157   0 775]]\n",
      "Average_Loss:  0.8912996514776723\n",
      "Average_Accuracy:  0.5678316422397595\n",
      "Validation\n",
      "\n",
      "[[202   0  97]\n",
      " [216   0  65]\n",
      " [ 38   0 148]]\n",
      "1.044528019870427\n",
      "Accuracy:  0.45691906005221933\n",
      "Training Epoch:  17 \n",
      "\n"
     ]
    },
    {
     "data": {
      "application/vnd.jupyter.widget-view+json": {
       "model_id": "4292f686eb2741eab561b488eb787ef0",
       "version_major": 2,
       "version_minor": 0
      },
      "text/plain": [
       "HBox(children=(FloatProgress(value=1.0, bar_style='info', max=1.0), HTML(value='')))"
      ]
     },
     "metadata": {},
     "output_type": "display_data"
    },
    {
     "name": "stdout",
     "output_type": "stream",
     "text": [
      "Batch:  1 / 84\n",
      "Batch Recognition loss:  0.8740529587545992\n",
      "Batch:  21 / 84\n",
      "Batch Recognition loss:  0.8642028071888389\n",
      "Batch:  41 / 84\n",
      "Batch Recognition loss:  0.8787183792430536\n",
      "Batch:  61 / 84\n",
      "Batch Recognition loss:  0.8117245431285859\n",
      "Batch:  81 / 84\n",
      "Batch Recognition loss:  0.907729001485513\n",
      "\n",
      "[[729   0  77]\n",
      " [767   0 156]\n",
      " [148   0 784]]\n",
      "Average_Loss:  0.8868151376683278\n",
      "Average_Accuracy:  0.5685832393836904\n",
      "Validation\n",
      "\n",
      "[[268   0  31]\n",
      " [245   0  36]\n",
      " [108   0  78]]\n",
      "1.0280959923742787\n",
      "Accuracy:  0.4516971279373368\n",
      "Training Epoch:  18 \n",
      "\n"
     ]
    },
    {
     "data": {
      "application/vnd.jupyter.widget-view+json": {
       "model_id": "30bc86702d9e46bbafa6bcb69c0ff307",
       "version_major": 2,
       "version_minor": 0
      },
      "text/plain": [
       "HBox(children=(FloatProgress(value=1.0, bar_style='info', max=1.0), HTML(value='')))"
      ]
     },
     "metadata": {},
     "output_type": "display_data"
    },
    {
     "name": "stdout",
     "output_type": "stream",
     "text": [
      "Batch:  1 / 84\n",
      "Batch Recognition loss:  0.8677951430144694\n",
      "Batch:  21 / 84\n",
      "Batch Recognition loss:  0.9526891079699809\n",
      "Batch:  41 / 84\n",
      "Batch Recognition loss:  0.8627462554980646\n",
      "Batch:  61 / 84\n",
      "Batch Recognition loss:  0.8919870511363921\n",
      "Batch:  81 / 84\n",
      "Batch Recognition loss:  0.8967352408009495\n",
      "\n",
      "[[739   0  67]\n",
      " [747   0 176]\n",
      " [150   0 782]]\n",
      "Average_Loss:  0.8843209835608251\n",
      "Average_Accuracy:  0.5715896279594137\n",
      "Validation\n",
      "\n",
      "[[286   0  13]\n",
      " [267   0  14]\n",
      " [165   0  21]]\n",
      "1.0962828389083992\n",
      "Accuracy:  0.4007832898172324\n",
      "Training Epoch:  19 \n",
      "\n"
     ]
    },
    {
     "data": {
      "application/vnd.jupyter.widget-view+json": {
       "model_id": "cd77432b69c74cd9b169eee6f8de9707",
       "version_major": 2,
       "version_minor": 0
      },
      "text/plain": [
       "HBox(children=(FloatProgress(value=1.0, bar_style='info', max=1.0), HTML(value='')))"
      ]
     },
     "metadata": {},
     "output_type": "display_data"
    },
    {
     "name": "stdout",
     "output_type": "stream",
     "text": [
      "Batch:  1 / 84\n",
      "Batch Recognition loss:  0.8959200067212423\n",
      "Batch:  21 / 84\n",
      "Batch Recognition loss:  0.8515954335167202\n",
      "Batch:  41 / 84\n",
      "Batch Recognition loss:  0.8779243493614618\n",
      "Batch:  61 / 84\n",
      "Batch Recognition loss:  0.886039388651647\n",
      "Batch:  81 / 84\n",
      "Batch Recognition loss:  0.9125868570708777\n",
      "\n",
      "[[711   0  95]\n",
      " [748   0 175]\n",
      " [229   0 703]]\n",
      "Average_Loss:  0.9355518378775081\n",
      "Average_Accuracy:  0.5313791807591132\n",
      "Validation\n",
      "\n",
      "[[233   0  66]\n",
      " [228   0  53]\n",
      " [101   0  85]]\n",
      "1.0609189060803834\n",
      "Accuracy:  0.4151436031331593\n",
      "Training Epoch:  20 \n",
      "\n"
     ]
    },
    {
     "data": {
      "application/vnd.jupyter.widget-view+json": {
       "model_id": "0ad4296d8a734cb181dd81b0f763f1d5",
       "version_major": 2,
       "version_minor": 0
      },
      "text/plain": [
       "HBox(children=(FloatProgress(value=1.0, bar_style='info', max=1.0), HTML(value='')))"
      ]
     },
     "metadata": {},
     "output_type": "display_data"
    },
    {
     "name": "stdout",
     "output_type": "stream",
     "text": [
      "Batch:  1 / 84\n",
      "Batch Recognition loss:  0.9936416735892304\n",
      "Batch:  21 / 84\n",
      "Batch Recognition loss:  0.909139766019582\n",
      "Batch:  41 / 84\n",
      "Batch Recognition loss:  1.0144843973342754\n",
      "Batch:  61 / 84\n",
      "Batch Recognition loss:  0.8928965056549255\n",
      "Batch:  81 / 84\n",
      "Batch Recognition loss:  0.9447122266107026\n",
      "\n",
      "[[719   0  87]\n",
      " [742   0 181]\n",
      " [208   0 724]]\n",
      "Average_Loss:  0.9232164562231922\n",
      "Average_Accuracy:  0.5422773393461104\n",
      "Validation\n",
      "\n",
      "[[242   0  57]\n",
      " [233   0  48]\n",
      " [ 63   0 123]]\n",
      "1.0407181983358358\n",
      "Accuracy:  0.4765013054830287\n"
     ]
    }
   ],
   "source": [
    "model_name=\"pre_embedded_5_frames\"\n",
    "train(20,model_name,model)"
   ]
  },
  {
   "cell_type": "code",
   "execution_count": null,
   "metadata": {},
   "outputs": [],
   "source": []
  },
  {
   "cell_type": "code",
   "execution_count": null,
   "metadata": {},
   "outputs": [],
   "source": [
    "    model.eval()   \n",
    "    correct=0\n",
    "    total_samples=0\n",
    "    avg_vloss=0\n",
    "    first=True\n",
    "    for i_batch, (sample_batched,_,label) in enumerate(valid_dataloader):\n",
    "        batch_size=sample_batched.size(0)\n",
    "        sample_batched=sample_batched.to(device)\n",
    "        output=model(sample_batched)\n",
    "        loss=criterion(output,label.to(device))\n",
    "      #  loss=loss_func(output,label.float().to(device))\n",
    "        avg_vloss+=loss.item()\n",
    "        predicted = torch.max(output, 1)\n",
    "        prediction=predicted.indices.detach().cpu()\n",
    "        correct +=num_correct(prediction,label)\n",
    "        total_samples+=batch_size\n",
    "        \n",
    "        true_label=label.detach().cpu()\n",
    "        if first:\n",
    "            first=False\n",
    "            conf_mat=confusion_matrix( true_label,prediction,labels=[0,1,2])\n",
    "        else:\n",
    "            conf_mat+=confusion_matrix(true_label,prediction,labels=[0,1,2])\n",
    "    print(conf_mat)\n",
    "    avg_vloss=avg_vloss/len(valid_dataloader)\n",
    "    print(avg_vloss)\n",
    "    avg_vaccuracy=correct/(total_samples)\n",
    "    print(\"Accuracy: \", avg_vaccuracy)\n",
    "    \n",
    "    data = \" %d,%d,%d,%d \\n\" % (avg_tloss,avg_taccuracy,avg_vloss,avg_vaccuracy)\n"
   ]
  },
  {
   "cell_type": "code",
   "execution_count": null,
   "metadata": {},
   "outputs": [],
   "source": [
    "valid_data1=dataload.Video_Frame_Data(Val_labels,base_path_v=Val_video,strict_num=26)\n",
    "\n",
    "valid_dataloader1 = DataLoader(valid_data1, batch_size=32\n",
    "                       , num_workers=0)"
   ]
  },
  {
   "cell_type": "code",
   "execution_count": null,
   "metadata": {},
   "outputs": [],
   "source": [
    "    model.eval()   \n",
    "    correct=0\n",
    "    total_samples=0\n",
    "    avg_vloss=0\n",
    "    first=True\n",
    "    model=model.float()\n",
    "    for i_batch, (sample_batched,_,label) in enumerate(valid_dataloader1):\n",
    "        batch_size=sample_batched.size(0)\n",
    "        sample_batched=sample_batched.to(device)\n",
    "        sample_batched=model.posencoding(model.stack_frame(sample_batched))\n",
    "        output=model(sample_batched)\n",
    "        loss=criterion(output,label.to(device))\n",
    "      #  loss=loss_func(output,label.float().to(device))\n",
    "        avg_vloss+=loss.item()\n",
    "        predicted = torch.max(output, 1)\n",
    "        prediction=predicted.indices.detach().cpu()\n",
    "        correct +=num_correct(prediction,label)\n",
    "        total_samples+=batch_size\n",
    "        \n",
    "        true_label=label.detach().cpu()\n",
    "        if first:\n",
    "            first=False\n",
    "            conf_mat=confusion_matrix( true_label,prediction,labels=[0,1,2])\n",
    "        else:\n",
    "            conf_mat+=confusion_matrix(true_label,prediction,labels=[0,1,2])\n",
    "    print(conf_mat)\n",
    "    avg_vloss=avg_vloss/len(valid_dataloader)\n",
    "    print(avg_vloss)\n",
    "    avg_vaccuracy=correct/(total_samples)\n",
    "    print(\"Accuracy: \", avg_vaccuracy)\n",
    "    \n",
    "   # data = \" %d,%d,%d,%d \\n\" % (avg_tloss,avg_taccuracy,avg_vloss,avg_vaccuracy)\n"
   ]
  },
  {
   "cell_type": "code",
   "execution_count": null,
   "metadata": {},
   "outputs": [],
   "source": [
    "sample_batched"
   ]
  },
  {
   "cell_type": "code",
   "execution_count": null,
   "metadata": {},
   "outputs": [],
   "source": [
    "for i_batch, (sample_batched,label) in enumerate(valid_dataloader):\n",
    "    debug=sample_batched\n",
    "    break"
   ]
  },
  {
   "cell_type": "code",
   "execution_count": null,
   "metadata": {},
   "outputs": [],
   "source": []
  },
  {
   "cell_type": "code",
   "execution_count": null,
   "metadata": {},
   "outputs": [],
   "source": [
    "debug"
   ]
  },
  {
   "cell_type": "code",
   "execution_count": null,
   "metadata": {},
   "outputs": [],
   "source": [
    "\n",
    "        output=model(sample_batched)\n",
    "                                         \n",
    "        loss=criterion(output,label.to(device))\n",
    "      #  loss=loss_func(output,label.float().to(device))\n",
    "        avg_vloss+=loss.item()\n",
    "        predicted = torch.max(output, 1)\n",
    "        prediction=predicted.indices.detach().cpu()\n",
    "        correct +=num_correct(prediction,label)\n",
    "        total_samples+=batch_size\n",
    "        \n",
    "        true_label=label.detach().cpu()\n",
    "        if first:\n",
    "            first=False\n",
    "            conf_mat=confusion_matrix( true_label,prediction,labels=[0,1,2])\n",
    "        else:\n",
    "            conf_mat+=confusion_matrix(true_label,prediction,labels=[0,1,2])\n",
    "    print(conf_mat)\n",
    "    avg_vloss=avg_vloss/len(valid_dataloader)\n",
    "    print(avg_vloss)\n",
    "    avg_vaccuracy=correct/(total_samples)\n",
    "    print(\"Accuracy: \", avg_vaccuracy)"
   ]
  },
  {
   "cell_type": "code",
   "execution_count": null,
   "metadata": {},
   "outputs": [],
   "source": []
  },
  {
   "cell_type": "code",
   "execution_count": null,
   "metadata": {},
   "outputs": [],
   "source": [
    "train(1)"
   ]
  },
  {
   "cell_type": "code",
   "execution_count": null,
   "metadata": {},
   "outputs": [],
   "source": []
  }
 ],
 "metadata": {
  "kernelspec": {
   "display_name": "Python 3",
   "language": "python",
   "name": "python3"
  },
  "language_info": {
   "codemirror_mode": {
    "name": "ipython",
    "version": 3
   },
   "file_extension": ".py",
   "mimetype": "text/x-python",
   "name": "python",
   "nbconvert_exporter": "python",
   "pygments_lexer": "ipython3",
   "version": "3.7.5"
  }
 },
 "nbformat": 4,
 "nbformat_minor": 4
}
