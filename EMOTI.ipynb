{
 "cells": [
  {
   "cell_type": "code",
   "execution_count": null,
   "metadata": {},
   "outputs": [],
   "source": [
    "from Dataload import dataload\n",
    "\n",
    "from module import transformer,video_model,resnet_o,densenet\n",
    "\n",
    "import torch\n",
    "import torch.nn as nn\n",
    "from torchsummary import summary\n",
    "from sklearn.metrics import confusion_matrix\n",
    "from torch.utils.data import Dataset, DataLoader\n",
    "import matplotlib.pylab as plt\n",
    "from torchvision import  utils\n",
    "import os\n",
    "from constant import EMOTIPATH,EMOTIFACEPATH\n",
    "import time\n",
    "from tqdm.notebook import tqdm\n",
    "Train_label=os.path.join(EMOTIPATH,\"Train_labels.txt\")\n",
    "Train_video=os.path.join(EMOTIPATH,\"Train\")\n",
    "Train_video_pt=os.path.join(EMOTIPATH,\"pt\",\"Train\")\n",
    "Train_face_pt=os.path.join(EMOTIFACEPATH,\"pt_stacked\",\"Train\")\n",
    "Val_labels=os.path.join(EMOTIPATH,\"Val_labels.txt\")\n",
    "Val_video=os.path.join(EMOTIPATH,\"Val\")\n",
    "Val_video_pt=os.path.join(EMOTIPATH,\"pt\",\"Valid\")\n",
    "Val_face_pt=os.path.join(EMOTIFACEPATH,\"pt_stacked\",\"Valid\")\n",
    "\n",
    "device = torch.device(\"cuda:0\" if torch.cuda.is_available() else \"cpu\")\n",
    "torch.set_default_tensor_type(torch.cuda.FloatTensor)\n",
    "\n",
    "\n",
    "\n",
    "frame_num=25\n",
    "train_data_pt=dataload.Video_Frame_Data(Train_label,base_path_v=Train_video_pt,face_path=Train_face_pt,frame_num=frame_num,direct=True)\n",
    "valid_data_pt=dataload.Video_Frame_Data(Val_labels,base_path_v=Val_video_pt,face_path=Val_face_pt,frame_num=frame_num,direct=True)\n",
    "def num_correct(prediction,labels):\n",
    "    correct=0\n",
    "    for i,(pred_label,label) in enumerate(zip(prediction,labels)):\n",
    "        if (pred_label.item()==label.item()):\n",
    "            correct +=1\n",
    "    return correct\n",
    "\n",
    "def load_pretrained_model():\n",
    "    frame_model=densenet.densenet121(pretrained=True)\n",
    "\n",
    "    import torchvision.models as models\n",
    "    face_model=models.resnet50()\n",
    "    filepath_mdl=\"module/fn_affectnet50k_full.mdl\"\n",
    "    snapshot = torch.load(filepath_mdl)\n",
    "    try:\n",
    "        face_model.load_state_dict(snapshot, strict=False)\n",
    "    except RuntimeError as e:\n",
    "        print(e)\n",
    "        \n",
    "    return(frame_model,face_model)\n",
    "\n",
    "frame_model,face_model=load_pretrained_model()\n",
    "\n"
   ]
  },
  {
   "cell_type": "code",
   "execution_count": 2,
   "metadata": {},
   "outputs": [],
   "source": [
    "train_data_pt[0][0].shape"
   ]
  },
  {
   "cell_type": "code",
   "execution_count": 3,
   "metadata": {},
   "outputs": [
    {
     "data": {
      "text/plain": [
       "torch.Size([25, 5, 3, 64, 64])"
      ]
     },
     "execution_count": 3,
     "metadata": {},
     "output_type": "execute_result"
    }
   ],
   "source": [
    "train_data_pt[0][1].shape"
   ]
  },
  {
   "cell_type": "code",
   "execution_count": 4,
   "metadata": {},
   "outputs": [
    {
     "data": {
      "text/plain": [
       "<All keys matched successfully>"
      ]
     },
     "execution_count": 4,
     "metadata": {},
     "output_type": "execute_result"
    }
   ],
   "source": [
    "import torchvision.models as models\n",
    "\n",
    "face_pretrained=models.resnet50(pretrained=False)\n",
    "data=torch.rand(1,3,64,64)\n",
    "#print(face_pretrained(data))\n",
    "face_pretrained.load_state_dict(torch.load(\"pretrained_state_dict\"))"
   ]
  },
  {
   "cell_type": "code",
   "execution_count": 5,
   "metadata": {},
   "outputs": [],
   "source": [
    "#face_pretrained(data)"
   ]
  },
  {
   "cell_type": "code",
   "execution_count": 6,
   "metadata": {},
   "outputs": [],
   "source": [
    "final_model=video_model.Video_modeller(25,face_pretrained,frame_model)\n",
    "final_model=final_model.to(device)"
   ]
  },
  {
   "cell_type": "code",
   "execution_count": 7,
   "metadata": {},
   "outputs": [
    {
     "name": "stdout",
     "output_type": "stream",
     "text": [
      "en1 is unfrozen\n",
      "en2 is unfrozen\n",
      "embedder is unfrozen\n",
      "frame_model is frozen\n",
      "face_model is frozen\n",
      "fc1 is unfrozen\n",
      "fc2 is unfrozen\n",
      "fc3 is unfrozen\n"
     ]
    }
   ],
   "source": [
    "for name, child in final_model.named_children():\n",
    "    if not name in ['face_model','frame_model' ]:\n",
    "        print(name + ' is unfrozen')\n",
    "        for param in child.parameters():\n",
    "            param.requires_grad = True\n",
    "    else:\n",
    "        print(name + ' is frozen')\n",
    "        for param in child.parameters():\n",
    "               param.requires_grad = False\n",
    "                \n",
    "def train(num_epochs,name,model,train_dataloader,valid_dataloader,optimizer,criterion):\n",
    "    f = open(name+\".txt\",'a')\n",
    "    start = time.time()\n",
    "    #Triaining\n",
    "    train_loss=[]\n",
    "    valid_accuracy=[]\n",
    "    model.train()\n",
    "    for epochs in range(0,num_epochs):\n",
    "        first=True\n",
    "        model.train()\n",
    "        correct=0\n",
    "        total_samples=0\n",
    "        avg_tloss=0\n",
    "        print(\"Training Epoch: \", epochs+1,\"\\n\")\n",
    "        for i_batch, (frame_batch,face_batch,label) in tqdm(enumerate(train_dataloader)):\n",
    "         \n",
    "            batch_size=face_batch.size(0)\n",
    "            optimizer.zero_grad()\n",
    "            face_batch=face_batch.to(device)\n",
    "            frame_batch=frame_batch.to(device)\n",
    "            output=model(frame_batch,face_batch)\n",
    "            loss=criterion(output,label.to(device))\n",
    "            loss.backward()\n",
    "            predicted = torch.max(output, 1)\n",
    "            prediction=predicted.indices.detach().cpu()\n",
    "            correct +=num_correct(prediction,label)\n",
    "            total_samples+=batch_size\n",
    "            accuracy=correct/(total_samples)\n",
    "            optimizer.step()\n",
    "            true_label=label.detach().cpu()\n",
    "            avg_tloss+=loss.item()\n",
    "            if first:\n",
    "                first=False\n",
    "                conf_mat=confusion_matrix( true_label,prediction,labels=[0,1,2])\n",
    "            else:\n",
    "                conf_mat+=confusion_matrix(true_label,prediction,labels=[0,1,2])\n",
    "            if (i_batch+1)%40==0:\n",
    "               # print(label)\n",
    "                print(\"Batch: \",i_batch+1,\"/\",len(train_dataloader))\n",
    "                print(\"Batch Recognition loss: \", loss.item())\n",
    "\n",
    "        print(conf_mat)\n",
    "        avg_tloss=avg_tloss/len(train_dataloader)\n",
    "        avg_taccuracy=correct/total_samples\n",
    "        print(\"Average_Loss: \",avg_tloss)\n",
    "        print(\"Average_Accuracy: \",avg_taccuracy)\n",
    "\n",
    "        torch.save(model.state_dict(),name+\".pth\")\n",
    "        print(\"Validation\\n\")\n",
    "        model.eval()   \n",
    "        correct=0\n",
    "        total_samples=0\n",
    "        avg_vloss=0\n",
    "        first=True\n",
    "\n",
    "        for i_batch, (frame_batch,face_batch,label) in enumerate(valid_dataloader):\n",
    "            batch_size=face_batch.size(0)\n",
    "            face_batch=face_batch.to(device)\n",
    "            face_batch=face_batch.to(device)\n",
    "            frame_batch=frame_batch.to(device)\n",
    "            output=model(frame_batch,face_batch)\n",
    "            loss=criterion(output,label.to(device))\n",
    "            avg_vloss+=loss.item()\n",
    "            predicted = torch.max(output, 1)\n",
    "            prediction=predicted.indices.detach().cpu()\n",
    "            correct +=num_correct(prediction,label)\n",
    "            total_samples+=batch_size\n",
    "\n",
    "            true_label=label.detach().cpu()\n",
    "            if first:\n",
    "                first=False\n",
    "                conf_mat=confusion_matrix( true_label,prediction,labels=[0,1,2])\n",
    "            else:\n",
    "                conf_mat+=confusion_matrix(true_label,prediction,labels=[0,1,2])\n",
    "        print(conf_mat)\n",
    "        avg_vloss=avg_vloss/len(valid_dataloader)\n",
    "        print(avg_vloss)\n",
    "        avg_vaccuracy=correct/(total_samples)\n",
    "        print(\"Accuracy: \", avg_vaccuracy)\n",
    "\n",
    "        data = \" %f,%f,%f,%f \\n\" % (avg_tloss,avg_taccuracy,avg_vloss,avg_vaccuracy)\n",
    "        f.write(data)\n",
    "\n",
    "\n",
    "\n",
    "    f.close()\n"
   ]
  },
  {
   "cell_type": "code",
   "execution_count": null,
   "metadata": {},
   "outputs": [],
   "source": [
    "train_dataloader = DataLoader(train_data_pt, batch_size=32\n",
    "                       , num_workers=0,shuffle=True)\n",
    "valid_dataloader = DataLoader(valid_data_pt, batch_size=32\n",
    "                   , num_workers=0)\n",
    "\n",
    "\n",
    "optimizer = torch.optim.Adam(filter(lambda p: p.requires_grad, final_model.parameters()), lr=0.0005, betas=(0.5, 0.999))\n",
    "num_epochs=30\n",
    "criterion = nn.CrossEntropyLoss()  \n",
    "\n",
    "model_name=\"pre_embedded_\"+str(25)+\"_faces\"\n",
    "\n",
    "\n",
    "print(model_name)\n",
    "\n",
    "#train(num_epochs,model_name,final_model,train_dataloader,valid_dataloader,optimizer,criterion)\n"
   ]
  },
  {
   "cell_type": "code",
   "execution_count": null,
   "metadata": {},
   "outputs": [],
   "source": []
  },
  {
   "cell_type": "code",
   "execution_count": null,
   "metadata": {},
   "outputs": [],
   "source": []
  },
  {
   "cell_type": "code",
   "execution_count": null,
   "metadata": {},
   "outputs": [],
   "source": [
    "train_f(1)\n",
    "train_f(3)\n",
    "train_f(5)\n",
    "train_f(7)\n",
    "train_f(9)\n",
    "train_f(11)\n",
    "train_f(13)\n",
    "train_f(15)\n",
    "train_f(17)\n"
   ]
  },
  {
   "cell_type": "code",
   "execution_count": null,
   "metadata": {},
   "outputs": [],
   "source": [
    "valid_data1=dataload.Video_Frame_Data(Val_labels,base_path_v=Val_video,strict_num=26)\n",
    "\n",
    "valid_dataloader1 = DataLoader(valid_data1, batch_size=32\n",
    "                       , num_workers=0)"
   ]
  },
  {
   "cell_type": "code",
   "execution_count": null,
   "metadata": {},
   "outputs": [],
   "source": []
  },
  {
   "cell_type": "code",
   "execution_count": null,
   "metadata": {},
   "outputs": [],
   "source": [
    "debug"
   ]
  },
  {
   "cell_type": "code",
   "execution_count": null,
   "metadata": {},
   "outputs": [],
   "source": []
  },
  {
   "cell_type": "code",
   "execution_count": null,
   "metadata": {},
   "outputs": [],
   "source": [
    "train(1)"
   ]
  },
  {
   "cell_type": "code",
   "execution_count": null,
   "metadata": {},
   "outputs": [],
   "source": []
  }
 ],
 "metadata": {
  "kernelspec": {
   "display_name": "Python 3",
   "language": "python",
   "name": "python3"
  },
  "language_info": {
   "codemirror_mode": {
    "name": "ipython",
    "version": 3
   },
   "file_extension": ".py",
   "mimetype": "text/x-python",
   "name": "python",
   "nbconvert_exporter": "python",
   "pygments_lexer": "ipython3",
   "version": "3.7.5"
  }
 },
 "nbformat": 4,
 "nbformat_minor": 4
}
