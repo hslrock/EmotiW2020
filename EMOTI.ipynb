{
 "cells": [
  {
   "cell_type": "code",
   "execution_count": null,
   "metadata": {},
   "outputs": [],
   "source": [
    "from Dataload import dataload\n",
    "\n",
    "from module import transformer,video_model,invres\n",
    "\n",
    "import torch\n",
    "import torch.nn as nn\n",
    "from torchsummary import summary\n",
    "from sklearn.metrics import confusion_matrix\n",
    "from torch.utils.data import Dataset, DataLoader\n",
    "import matplotlib.pylab as plt\n",
    "from torchvision import  utils\n",
    "import os\n",
    "from constant import EMOTIPATH\n",
    "import time\n",
    "\n",
    "#Batchfy\n",
    "#Counts number of correct label\n",
    "def num_correct(prediction,labels):\n",
    "    correct=0\n",
    "    for i,(pred_label,label) in enumerate(zip(prediction,labels)):\n",
    "        if (pred_label.item()==label.item()):\n",
    "            correct +=1\n",
    "    return correct\n",
    "\n",
    "Train_label=os.path.join(EMOTIPATH,\"Train_labels.txt\")\n",
    "Train_video=os.path.join(EMOTIPATH,\"Train\")\n",
    "Val_labels=os.path.join(EMOTIPATH,\"Val_labels.txt\")\n",
    "Val_video=os.path.join(EMOTIPATH,\"Val\")\n",
    "\n",
    "\n",
    "train_data=dataload.Video_Frame_Data(Train_label,base_path_v=Train_video,strict_num=26)\n",
    "valid_data=dataload.Video_Frame_Data(Val_labels,base_path_v=Val_video,strict_num=26)\n",
    "\n",
    "#train_data=dataload.Video_Embedding_Data(\"train.csv\",Train_label)\n",
    "#valid_data=dataload.Video_Embedding_Data(\"valid.csv\",Val_labels)\n",
    "            \n",
    "train_dataloader = DataLoader(train_data, batch_size=32\n",
    "                       , num_workers=0,shuffle=True)\n",
    "#valid_data=dataload.Video_Frame_Data(Val_labels,base_path_v=Val_video,strict_num=26)\n",
    "\n",
    "valid_dataloader = DataLoader(valid_data, batch_size=32\n",
    "                       , num_workers=0)\n",
    "\n"
   ]
  },
  {
   "cell_type": "code",
   "execution_count": 2,
   "metadata": {},
   "outputs": [
    {
     "data": {
      "text/plain": [
       "2661"
      ]
     },
     "execution_count": 2,
     "metadata": {},
     "output_type": "execute_result"
    }
   ],
   "source": [
    "len(train_data)"
   ]
  },
  {
   "cell_type": "code",
   "execution_count": 3,
   "metadata": {},
   "outputs": [
    {
     "data": {
      "text/plain": [
       "torch.Size([24, 3, 256, 256])"
      ]
     },
     "execution_count": 3,
     "metadata": {},
     "output_type": "execute_result"
    }
   ],
   "source": [
    "train_data[0][0].shape"
   ]
  },
  {
   "cell_type": "code",
   "execution_count": 4,
   "metadata": {},
   "outputs": [
    {
     "name": "stdout",
     "output_type": "stream",
     "text": [
      "densenet is frozen\n",
      "fc2 is unfrozen\n",
      "fc3 is unfrozen\n",
      "posencoding is unfrozen\n",
      "transformer is unfrozen\n"
     ]
    }
   ],
   "source": [
    "device = torch.device(\"cuda:0\" if torch.cuda.is_available() else \"cpu\")\n",
    "#torch.set_default_tensor_type(torch.cuda.FloatTensor)\n",
    "model=video_model.Video_Feature(joint=False,grayscale=False,classfication=True,frame=24,skip_process=False)\n",
    "for name, child in model.named_children():\n",
    "   if not name in ['densenet']:\n",
    "       print(name + ' is unfrozen')\n",
    "       for param in child.parameters():\n",
    "           param.requires_grad = True\n",
    "   else:\n",
    "       print(name + ' is frozen')\n",
    "       for param in child.parameters():\n",
    "           param.requires_grad = False\n",
    "model=model.to(device)  \n",
    "#model=model.double().to(device)\n",
    "\n",
    "criterion = nn.CrossEntropyLoss()  \n",
    "loss_func = torch.nn.MSELoss()\n",
    "\n",
    "optimizer = torch.optim.Adam(filter(lambda p: p.requires_grad, model.parameters()), lr=0.0002, betas=(0.5, 0.999))\n"
   ]
  },
  {
   "cell_type": "code",
   "execution_count": 5,
   "metadata": {},
   "outputs": [],
   "source": [
    "output=model(train_data[60][0].unsqueeze(0).to(device))\n",
    "#loss=criterion(output,(train_data[60][1].unsqueeze(0).to(device)))\n"
   ]
  },
  {
   "cell_type": "code",
   "execution_count": 6,
   "metadata": {},
   "outputs": [
    {
     "data": {
      "text/plain": [
       "tensor([[0.3496, 0.3252, 0.3252]], device='cuda:0', grad_fn=<SoftmaxBackward>)"
      ]
     },
     "execution_count": 6,
     "metadata": {},
     "output_type": "execute_result"
    }
   ],
   "source": [
    "output"
   ]
  },
  {
   "cell_type": "code",
   "execution_count": null,
   "metadata": {},
   "outputs": [],
   "source": [
    "import time"
   ]
  },
  {
   "cell_type": "code",
   "execution_count": null,
   "metadata": {},
   "outputs": [],
   "source": [
    "start = time.time()\n",
    "print(\"hello\")\n",
    "end = time.time()\n",
    "print(end - start)"
   ]
  },
  {
   "cell_type": "code",
   "execution_count": null,
   "metadata": {},
   "outputs": [],
   "source": [
    "def train(num_epochs):\n",
    "    f = open(\"data.txt\",'a')\n",
    "    start = time.time()\n",
    "    #Triaining\n",
    "    train_loss=[]\n",
    "    valid_accuracy=[]\n",
    "    num_epochs=50\n",
    "\n",
    "    model.train()\n",
    "    for epochs in range(0,num_epochs):\n",
    "        first=True\n",
    "        model.train()\n",
    "        correct=0\n",
    "        total_samples=0\n",
    "        avg_tloss=0\n",
    "        print(\"Training Epoch: \", epochs+1,\"\\n\")\n",
    "        for i_batch, (sample_batched,label) in enumerate(train_dataloader):\n",
    "\n",
    "            batch_size=sample_batched.size(0)\n",
    "            optimizer.zero_grad()\n",
    "            sample_batched=sample_batched.to(device)\n",
    "            output=model(sample_batched)\n",
    "            loss=criterion(output,label.to(device))\n",
    "            #loss=loss_func(output,label.float().to(device))\n",
    "            loss.backward()\n",
    "            predicted = torch.max(output, 1)\n",
    "            prediction=predicted.indices.detach().cpu()\n",
    "            correct +=num_correct(prediction,label)\n",
    "            total_samples+=batch_size\n",
    "            accuracy=correct/(total_samples)\n",
    "            optimizer.step()\n",
    "            true_label=label.detach().cpu()\n",
    "            avg_tloss+=loss.item()\n",
    "            if first:\n",
    "                first=False\n",
    "                conf_mat=confusion_matrix( true_label,prediction,labels=[0,1,2])\n",
    "            else:\n",
    "                conf_mat+=confusion_matrix(true_label,prediction,labels=[0,1,2])\n",
    "            if i_batch%20==0:\n",
    "               # print(label)\n",
    "                print(\"Batch: \",i_batch+1,\"/\",len(train_dataloader))\n",
    "                print(\"Batch Recognition loss: \", loss.item())\n",
    "\n",
    "        print(conf_mat)\n",
    "        avg_tloss=avg_tloss/len(train_dataloader)\n",
    "        avg_taccuracy=correct/total_samples\n",
    "        print(\"Average_Loss: \",avg_tloss)\n",
    "        print(\"Average_Accuracy: \",avg_taccuracy)\n",
    "\n",
    "        torch.save(model,\"pre_embedded_model.h\")\n",
    "        print(\"Validation\\n\")\n",
    "\n",
    "        model.eval()   \n",
    "        correct=0\n",
    "        total_samples=0\n",
    "        avg_vloss=0\n",
    "        first=True\n",
    "        for i_batch, (sample_batched,label) in enumerate(valid_dataloader):\n",
    "            batch_size=sample_batched.size(0)\n",
    "            sample_batched=sample_batched.to(device)\n",
    "            output=model(sample_batched)\n",
    "            loss=criterion(output,label.to(device))\n",
    "          #  loss=loss_func(output,label.float().to(device))\n",
    "            avg_vloss+=loss.item()\n",
    "            predicted = torch.max(output, 1)\n",
    "            prediction=predicted.indices.detach().cpu()\n",
    "            correct +=num_correct(prediction,label)\n",
    "            total_samples+=batch_size\n",
    "\n",
    "            true_label=label.detach().cpu()\n",
    "            if first:\n",
    "                first=False\n",
    "                conf_mat=confusion_matrix( true_label,prediction,labels=[0,1,2])\n",
    "            else:\n",
    "                conf_mat+=confusion_matrix(true_label,prediction,labels=[0,1,2])\n",
    "        print(conf_mat)\n",
    "        avg_vloss=avg_vloss/len(valid_dataloader)\n",
    "        print(avg_vloss)\n",
    "        avg_vaccuracy=correct/(total_samples)\n",
    "        print(\"Accuracy: \", avg_vaccuracy)\n",
    "\n",
    "        data = \" %d,%d,%d,%d \\n\" % (avg_tloss,avg_taccuracy,avg_vloss,avg_vaccuracy)\n",
    "        f.write(data)\n",
    "\n",
    "    f.close()\n"
   ]
  },
  {
   "cell_type": "code",
   "execution_count": null,
   "metadata": {},
   "outputs": [],
   "source": [
    "train(50)"
   ]
  },
  {
   "cell_type": "code",
   "execution_count": null,
   "metadata": {},
   "outputs": [],
   "source": [
    "    model.eval()   \n",
    "    correct=0\n",
    "    total_samples=0\n",
    "    avg_vloss=0\n",
    "    first=True\n",
    "    for i_batch, (sample_batched,label) in enumerate(valid_dataloader):\n",
    "        batch_size=sample_batched.size(0)\n",
    "        sample_batched=sample_batched.to(device)\n",
    "        output=model(sample_batched)\n",
    "        loss=criterion(output,label.to(device))\n",
    "      #  loss=loss_func(output,label.float().to(device))\n",
    "        avg_vloss+=loss.item()\n",
    "        predicted = torch.max(output, 1)\n",
    "        prediction=predicted.indices.detach().cpu()\n",
    "        correct +=num_correct(prediction,label)\n",
    "        total_samples+=batch_size\n",
    "        \n",
    "        true_label=label.detach().cpu()\n",
    "        if first:\n",
    "            first=False\n",
    "            conf_mat=confusion_matrix( true_label,prediction,labels=[0,1,2])\n",
    "        else:\n",
    "            conf_mat+=confusion_matrix(true_label,prediction,labels=[0,1,2])\n",
    "    print(conf_mat)\n",
    "    avg_vloss=avg_vloss/len(valid_dataloader)\n",
    "    print(avg_vloss)\n",
    "    avg_vaccuracy=correct/(total_samples)\n",
    "    print(\"Accuracy: \", avg_vaccuracy)\n",
    "    \n",
    "   # data = \" %d,%d,%d,%d \\n\" % (avg_tloss,avg_taccuracy,avg_vloss,avg_vaccuracy)\n"
   ]
  },
  {
   "cell_type": "code",
   "execution_count": null,
   "metadata": {},
   "outputs": [],
   "source": [
    "valid_data1=dataload.Video_Frame_Data(Val_labels,base_path_v=Val_video,strict_num=26)\n",
    "\n",
    "valid_dataloader1 = DataLoader(valid_data1, batch_size=32\n",
    "                       , num_workers=0)"
   ]
  },
  {
   "cell_type": "code",
   "execution_count": null,
   "metadata": {},
   "outputs": [],
   "source": [
    "    model.eval()   \n",
    "    correct=0\n",
    "    total_samples=0\n",
    "    avg_vloss=0\n",
    "    first=True\n",
    "    model=model.float()\n",
    "    for i_batch, (sample_batched,_,label) in enumerate(valid_dataloader1):\n",
    "        batch_size=sample_batched.size(0)\n",
    "        sample_batched=sample_batched.to(device)\n",
    "        sample_batched=model.posencoding(model.stack_frame(sample_batched))\n",
    "        break"
   ]
  },
  {
   "cell_type": "code",
   "execution_count": null,
   "metadata": {},
   "outputs": [],
   "source": [
    "sample_batched"
   ]
  },
  {
   "cell_type": "code",
   "execution_count": null,
   "metadata": {},
   "outputs": [],
   "source": [
    "for i_batch, (sample_batched,label) in enumerate(valid_dataloader):\n",
    "    debug=sample_batched\n",
    "    break"
   ]
  },
  {
   "cell_type": "code",
   "execution_count": null,
   "metadata": {},
   "outputs": [],
   "source": [
    "debug"
   ]
  },
  {
   "cell_type": "code",
   "execution_count": null,
   "metadata": {},
   "outputs": [],
   "source": [
    "\n",
    "        output=model(sample_batched)\n",
    "                                         \n",
    "        loss=criterion(output,label.to(device))\n",
    "      #  loss=loss_func(output,label.float().to(device))\n",
    "        avg_vloss+=loss.item()\n",
    "        predicted = torch.max(output, 1)\n",
    "        prediction=predicted.indices.detach().cpu()\n",
    "        correct +=num_correct(prediction,label)\n",
    "        total_samples+=batch_size\n",
    "        \n",
    "        true_label=label.detach().cpu()\n",
    "        if first:\n",
    "            first=False\n",
    "            conf_mat=confusion_matrix( true_label,prediction,labels=[0,1,2])\n",
    "        else:\n",
    "            conf_mat+=confusion_matrix(true_label,prediction,labels=[0,1,2])\n",
    "    print(conf_mat)\n",
    "    avg_vloss=avg_vloss/len(valid_dataloader)\n",
    "    print(avg_vloss)\n",
    "    avg_vaccuracy=correct/(total_samples)\n",
    "    print(\"Accuracy: \", avg_vaccuracy)"
   ]
  },
  {
   "cell_type": "code",
   "execution_count": 7,
   "metadata": {},
   "outputs": [],
   "source": [
    "def train(num_epochs):\n",
    "#f = open(\"result.txt\",'a')\n",
    "    start = time.time()\n",
    "    #Triaining\n",
    "    train_loss=[]\n",
    "    valid_accuracy=[]\n",
    "\n",
    "    model.train()\n",
    "    for epochs in range(0,1):\n",
    "        first=True\n",
    "        model.train()\n",
    "        correct=0\n",
    "        total_samples=0\n",
    "        avg_tloss=0\n",
    "        print(\"Training Epoch: \", epochs+1,\"\\n\")\n",
    "        for i_batch, (sample_batched,_,label) in enumerate(train_dataloader):\n",
    "\n",
    "            batch_size=sample_batched.size(0)\n",
    "            optimizer.zero_grad()\n",
    "            sample_batched=sample_batched.to(device)\n",
    "            output=model(sample_batched)\n",
    "            loss=criterion(output,label.to(device))\n",
    "            #loss=loss_func(output,label.float().to(device))\n",
    "            loss.backward()\n",
    "            predicted = torch.max(output, 1)\n",
    "            prediction=predicted.indices.cpu()\n",
    "            correct +=num_correct(prediction,label)\n",
    "            total_samples+=batch_size\n",
    "            accuracy=correct/(total_samples)\n",
    "            optimizer.step()\n",
    "            label=label.cpu()\n",
    "            avg_tloss+=loss.item()\n",
    "            if first:\n",
    "                first=False\n",
    "                conf_mat=confusion_matrix( label,prediction,labels=[0,1,2])\n",
    "            else:\n",
    "                conf_mat+=confusion_matrix(label,prediction,labels=[0,1,2])\n",
    "            if i_batch%20==0:\n",
    "                #print(label)\n",
    "                print(\"Batch: \",i_batch+1,\"/\",len(train_dataloader))\n",
    "                print(\"Batch Recognition loss: \", loss.item())\n",
    "\n",
    "        print(conf_mat)\n",
    "        avg_tloss=avg_tloss/len(train_dataloader)\n",
    "        avg_taccuracy=correct/total_samples\n",
    "        print(\"Average_Loss: \",avg_tloss)\n",
    "        print(\"Average_Accuracy: \",avg_taccuracy)\n",
    "    end=time.time()\n",
    "    \n",
    "    print(end - start)"
   ]
  },
  {
   "cell_type": "code",
   "execution_count": 8,
   "metadata": {},
   "outputs": [
    {
     "name": "stdout",
     "output_type": "stream",
     "text": [
      "Training Epoch:  1 \n",
      "\n",
      "Batch:  1 / 84\n",
      "Batch Recognition loss:  1.1029760837554932\n",
      "Batch:  21 / 84\n",
      "Batch Recognition loss:  0.9834776520729065\n",
      "Batch:  41 / 84\n",
      "Batch Recognition loss:  1.006861686706543\n",
      "Batch:  61 / 84\n",
      "Batch Recognition loss:  1.0549951791763306\n",
      "Batch:  81 / 84\n",
      "Batch Recognition loss:  1.0818843841552734\n",
      "[[137 391 278]\n",
      " [ 77 614 232]\n",
      " [ 72 218 642]]\n",
      "Average_Loss:  1.0028007952939897\n",
      "Average_Accuracy:  0.5234874107478391\n",
      "2053.7786338329315\n"
     ]
    }
   ],
   "source": [
    "train(1)"
   ]
  },
  {
   "cell_type": "code",
   "execution_count": null,
   "metadata": {},
   "outputs": [],
   "source": []
  }
 ],
 "metadata": {
  "kernelspec": {
   "display_name": "Python 3",
   "language": "python",
   "name": "python3"
  },
  "language_info": {
   "codemirror_mode": {
    "name": "ipython",
    "version": 3
   },
   "file_extension": ".py",
   "mimetype": "text/x-python",
   "name": "python",
   "nbconvert_exporter": "python",
   "pygments_lexer": "ipython3",
   "version": "3.7.5"
  }
 },
 "nbformat": 4,
 "nbformat_minor": 4
}
