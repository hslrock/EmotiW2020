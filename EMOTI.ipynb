{
 "cells": [
  {
   "cell_type": "code",
   "execution_count": 1,
   "metadata": {},
   "outputs": [],
   "source": [
    "from Dataload import dataload\n",
    "\n",
    "from module import transformer,video_model,invres\n",
    "\n",
    "import torch\n",
    "import torch.nn as nn\n",
    "from torchsummary import summary\n",
    "from sklearn.metrics import confusion_matrix\n",
    "from torch.utils.data import Dataset, DataLoader\n",
    "import matplotlib.pylab as plt\n",
    "from torchvision import  utils\n",
    "import os\n",
    "from constant import EMOTIPATH\n",
    "import time\n",
    "from tqdm.notebook import tqdm\n"
   ]
  },
  {
   "cell_type": "code",
   "execution_count": 2,
   "metadata": {},
   "outputs": [],
   "source": [
    "Train_label=os.path.join(EMOTIPATH,\"Train_labels.txt\")\n",
    "Train_video=os.path.join(EMOTIPATH,\"Train\")\n",
    "Val_labels=os.path.join(EMOTIPATH,\"Val_labels.txt\")\n",
    "Val_video=os.path.join(EMOTIPATH,\"Val\")\n",
    "\n",
    "frame_num=1\n",
    "train_data=dataload.Video_Frame_Data(Train_label,\"train_new.csv\",base_path_v=Train_video,frame_num=frame_num)\n",
    "\n"
   ]
  },
  {
   "cell_type": "code",
   "execution_count": 5,
   "metadata": {},
   "outputs": [
    {
     "data": {
      "text/plain": [
       "torch.Size([1, 1000])"
      ]
     },
     "execution_count": 5,
     "metadata": {},
     "output_type": "execute_result"
    }
   ],
   "source": [
    "train_data[0][0].shape"
   ]
  },
  {
   "cell_type": "code",
   "execution_count": 6,
   "metadata": {},
   "outputs": [
    {
     "name": "stdout",
     "output_type": "stream",
     "text": [
      "embedder is unfrozen\n",
      "fc1 is unfrozen\n",
      "fc2 is unfrozen\n",
      "posencoding is unfrozen\n",
      "transformer is unfrozen\n"
     ]
    },
    {
     "data": {
      "text/plain": [
       "2661"
      ]
     },
     "execution_count": 6,
     "metadata": {},
     "output_type": "execute_result"
    }
   ],
   "source": [
    "#Batchfy\n",
    "#Counts number of correct label\n",
    "def num_correct(prediction,labels):\n",
    "    correct=0\n",
    "    for i,(pred_label,label) in enumerate(zip(prediction,labels)):\n",
    "        if (pred_label.item()==label.item()):\n",
    "            correct +=1\n",
    "    return correct\n",
    "\n",
    "\n",
    "valid_data=dataload.Video_Frame_Data(Val_labels,\"train_new.csv\",base_path_v=Val_video,frame_num=frame_num)\n",
    "\n",
    "#train_data1=dataload.Video_Embedding_Data(\"train.csv\",Train_label)\n",
    "#valid_data=dataload.Video_Embedding_Data(\"valid.csv\",Val_labels)\n",
    "            \n",
    "train_dataloader = DataLoader(train_data, batch_size=32\n",
    "                       , num_workers=0,shuffle=True)\n",
    "#valid_data=dataload.Video_Frame_Data(Val_labels,base_path_v=Val_video,strict_num=26)\n",
    "\n",
    "valid_dataloader = DataLoader(valid_data, batch_size=32\n",
    "                       , num_workers=0)\n",
    "\n",
    "device = torch.device(\"cuda:0\" if torch.cuda.is_available() else \"cpu\")\n",
    "torch.set_default_tensor_type(torch.cuda.FloatTensor)\n",
    "model=video_model.Encoder(num_frame=frame_num,isframe=1)\n",
    "for name, child in model.named_children():\n",
    "   if not name in ['densenet']:\n",
    "       print(name + ' is unfrozen')\n",
    "       for param in child.parameters():\n",
    "           param.requires_grad = True\n",
    "   else:\n",
    "       print(name + ' is frozen')\n",
    "       for param in child.parameters():\n",
    "           param.requires_grad = False\n",
    "#model=model.to(device)  \n",
    "model=model.double().to(device)\n",
    "#model=model.float()\n",
    "criterion = nn.CrossEntropyLoss()  \n",
    "loss_func = torch.nn.MSELoss()\n",
    "\n",
    "optimizer = torch.optim.Adam(filter(lambda p: p.requires_grad, model.parameters()), lr=0.0002, betas=(0.5, 0.999))\n",
    "\n",
    "len(train_data)"
   ]
  },
  {
   "cell_type": "code",
   "execution_count": 7,
   "metadata": {},
   "outputs": [],
   "source": [
    "def train(num_epochs,name,model):\n",
    "    f = open(name+\".txt\",'a')\n",
    "    start = time.time()\n",
    "    #Triaining\n",
    "    train_loss=[]\n",
    "    valid_accuracy=[]\n",
    "    model.train()\n",
    "    for epochs in range(0,num_epochs):\n",
    "        first=True\n",
    "        model.train()\n",
    "        correct=0\n",
    "        total_samples=0\n",
    "        avg_tloss=0\n",
    "        print(\"Training Epoch: \", epochs+1,\"\\n\")\n",
    "        for i_batch, (sample_batched,_,label) in tqdm(enumerate(train_dataloader)):\n",
    "           # sample_batched=sample_batched.frames\n",
    "            batch_size=sample_batched.size(0)\n",
    "            optimizer.zero_grad()\n",
    "            sample_batched=sample_batched.to(device)\n",
    "            output=model(sample_batched)\n",
    "            loss=criterion(output,label.to(device))\n",
    "            loss.backward()\n",
    "            predicted = torch.max(output, 1)\n",
    "            prediction=predicted.indices.detach().cpu()\n",
    "            correct +=num_correct(prediction,label)\n",
    "            total_samples+=batch_size\n",
    "            accuracy=correct/(total_samples)\n",
    "            optimizer.step()\n",
    "            true_label=label.detach().cpu()\n",
    "            avg_tloss+=loss.item()\n",
    "            if first:\n",
    "                first=False\n",
    "                conf_mat=confusion_matrix( true_label,prediction,labels=[0,1,2])\n",
    "            else:\n",
    "                conf_mat+=confusion_matrix(true_label,prediction,labels=[0,1,2])\n",
    "            if i_batch%20==0:\n",
    "               # print(label)\n",
    "                print(\"Batch: \",i_batch+1,\"/\",len(train_dataloader))\n",
    "                print(\"Batch Recognition loss: \", loss.item())\n",
    "\n",
    "        print(conf_mat)\n",
    "        avg_tloss=avg_tloss/len(train_dataloader)\n",
    "        avg_taccuracy=correct/total_samples\n",
    "        print(\"Average_Loss: \",avg_tloss)\n",
    "        print(\"Average_Accuracy: \",avg_taccuracy)\n",
    "\n",
    "        torch.save(model.state_dict(),name+\".pth\")\n",
    "        print(\"Validation\\n\")\n",
    "        model.eval()   \n",
    "        correct=0\n",
    "        total_samples=0\n",
    "        avg_vloss=0\n",
    "        first=True\n",
    "\n",
    "        for i_batch, (sample_batched,_,label) in enumerate(valid_dataloader):\n",
    "            batch_size=sample_batched.size(0)\n",
    "            sample_batched=sample_batched.to(device)\n",
    "            output=model(sample_batched)\n",
    "            loss=criterion(output,label.to(device))\n",
    "            avg_vloss+=loss.item()\n",
    "            predicted = torch.max(output, 1)\n",
    "            prediction=predicted.indices.detach().cpu()\n",
    "            correct +=num_correct(prediction,label)\n",
    "            total_samples+=batch_size\n",
    "\n",
    "            true_label=label.detach().cpu()\n",
    "            if first:\n",
    "                first=False\n",
    "                conf_mat=confusion_matrix( true_label,prediction,labels=[0,1,2])\n",
    "            else:\n",
    "                conf_mat+=confusion_matrix(true_label,prediction,labels=[0,1,2])\n",
    "        print(conf_mat)\n",
    "        avg_vloss=avg_vloss/len(valid_dataloader)\n",
    "        print(avg_vloss)\n",
    "        avg_vaccuracy=correct/(total_samples)\n",
    "        print(\"Accuracy: \", avg_vaccuracy)\n",
    "\n",
    "        data = \" %f,%f,%f,%f \\n\" % (avg_tloss,avg_taccuracy,avg_vloss,avg_vaccuracy)\n",
    "        f.write(data)\n",
    "\n",
    "\n",
    "\n",
    "    f.close()\n"
   ]
  },
  {
   "cell_type": "code",
   "execution_count": 8,
   "metadata": {},
   "outputs": [
    {
     "name": "stdout",
     "output_type": "stream",
     "text": [
      "Training Epoch:  1 \n",
      "\n"
     ]
    },
    {
     "data": {
      "application/vnd.jupyter.widget-view+json": {
       "model_id": "7fcb3ddf252b4e70abc9a17190d27494",
       "version_major": 2,
       "version_minor": 0
      },
      "text/plain": [
       "HBox(children=(FloatProgress(value=1.0, bar_style='info', max=1.0), HTML(value='')))"
      ]
     },
     "metadata": {},
     "output_type": "display_data"
    },
    {
     "name": "stdout",
     "output_type": "stream",
     "text": [
      "Batch:  1 / 84\n",
      "Batch Recognition loss:  1.102019359660783\n",
      "Batch:  21 / 84\n",
      "Batch Recognition loss:  1.0067424240337943\n",
      "Batch:  41 / 84\n",
      "Batch Recognition loss:  0.8891175967320328\n",
      "Batch:  61 / 84\n",
      "Batch Recognition loss:  1.084498578127521\n",
      "Batch:  81 / 84\n",
      "Batch Recognition loss:  1.0271528711184057\n",
      "\n",
      "[[255 278 273]\n",
      " [174 476 273]\n",
      " [115 189 628]]\n",
      "Average_Loss:  1.010583182093453\n",
      "Average_Accuracy:  0.5107102593010147\n",
      "Validation\n",
      "\n",
      "[[158  68  73]\n",
      " [188  64  29]\n",
      " [154  17  15]]\n",
      "1.1787222578954624\n",
      "Accuracy:  0.3093994778067885\n",
      "Training Epoch:  2 \n",
      "\n"
     ]
    },
    {
     "data": {
      "application/vnd.jupyter.widget-view+json": {
       "model_id": "55bd6925498749a3b4a54f51a970e9d4",
       "version_major": 2,
       "version_minor": 0
      },
      "text/plain": [
       "HBox(children=(FloatProgress(value=1.0, bar_style='info', max=1.0), HTML(value='')))"
      ]
     },
     "metadata": {},
     "output_type": "display_data"
    },
    {
     "name": "stdout",
     "output_type": "stream",
     "text": [
      "Batch:  1 / 84\n",
      "Batch Recognition loss:  0.9630548682869428\n",
      "Batch:  21 / 84\n",
      "Batch Recognition loss:  0.9699716250431251\n",
      "Batch:  41 / 84\n",
      "Batch Recognition loss:  0.943315333444924\n",
      "Batch:  61 / 84\n",
      "Batch Recognition loss:  0.9354708185384353\n",
      "Batch:  81 / 84\n",
      "Batch Recognition loss:  0.9208720461929907\n",
      "\n",
      "[[390 223 193]\n",
      " [229 481 213]\n",
      " [113 132 687]]\n",
      "Average_Loss:  0.9489865723194912\n",
      "Average_Accuracy:  0.5854941751221345\n",
      "Validation\n",
      "\n",
      "[[ 74 218   7]\n",
      " [ 75 201   5]\n",
      " [ 58 123   5]]\n",
      "1.1353248146008197\n",
      "Accuracy:  0.36553524804177545\n",
      "Training Epoch:  3 \n",
      "\n"
     ]
    },
    {
     "data": {
      "application/vnd.jupyter.widget-view+json": {
       "model_id": "84c2dd484e8f4e7a8678174f1cdbdd3b",
       "version_major": 2,
       "version_minor": 0
      },
      "text/plain": [
       "HBox(children=(FloatProgress(value=1.0, bar_style='info', max=1.0), HTML(value='')))"
      ]
     },
     "metadata": {},
     "output_type": "display_data"
    },
    {
     "name": "stdout",
     "output_type": "stream",
     "text": [
      "Batch:  1 / 84\n",
      "Batch Recognition loss:  0.9580147096886342\n",
      "Batch:  21 / 84\n",
      "Batch Recognition loss:  0.8499259133099203\n",
      "Batch:  41 / 84\n",
      "Batch Recognition loss:  0.9296086452449996\n",
      "Batch:  61 / 84\n",
      "Batch Recognition loss:  0.9235689916120381\n",
      "Batch:  81 / 84\n",
      "Batch Recognition loss:  0.8529874102105642\n",
      "\n",
      "[[441 205 160]\n",
      " [191 543 189]\n",
      " [106 143 683]]\n",
      "Average_Loss:  0.9170601550995069\n",
      "Average_Accuracy:  0.626456219466366\n",
      "Validation\n",
      "\n",
      "[[108 144  47]\n",
      " [109 160  12]\n",
      " [ 83  95   8]]\n",
      "1.153292243618014\n",
      "Accuracy:  0.360313315926893\n",
      "Training Epoch:  4 \n",
      "\n"
     ]
    },
    {
     "data": {
      "application/vnd.jupyter.widget-view+json": {
       "model_id": "9ae80af495b14662a9eb1fd81dab2b76",
       "version_major": 2,
       "version_minor": 0
      },
      "text/plain": [
       "HBox(children=(FloatProgress(value=1.0, bar_style='info', max=1.0), HTML(value='')))"
      ]
     },
     "metadata": {},
     "output_type": "display_data"
    },
    {
     "name": "stdout",
     "output_type": "stream",
     "text": [
      "Batch:  1 / 84\n",
      "Batch Recognition loss:  0.8307077192832759\n",
      "Batch:  21 / 84\n",
      "Batch Recognition loss:  0.884094779300902\n",
      "Batch:  41 / 84\n",
      "Batch Recognition loss:  0.9959029580354364\n",
      "Batch:  61 / 84\n",
      "Batch Recognition loss:  0.9027526457112484\n",
      "Batch:  81 / 84\n",
      "Batch Recognition loss:  0.8338239693460834\n",
      "\n",
      "[[468 188 150]\n",
      " [195 534 194]\n",
      " [ 97 133 702]]\n",
      "Average_Loss:  0.8985577687981801\n",
      "Average_Accuracy:  0.6403607666290868\n",
      "Validation\n",
      "\n",
      "[[123 131  45]\n",
      " [126 137  18]\n",
      " [ 92  87   7]]\n",
      "1.153132828978449\n",
      "Accuracy:  0.34856396866840733\n",
      "Training Epoch:  5 \n",
      "\n"
     ]
    },
    {
     "data": {
      "application/vnd.jupyter.widget-view+json": {
       "model_id": "4395e4aaaac749aa8c28f0352dc93a5b",
       "version_major": 2,
       "version_minor": 0
      },
      "text/plain": [
       "HBox(children=(FloatProgress(value=1.0, bar_style='info', max=1.0), HTML(value='')))"
      ]
     },
     "metadata": {},
     "output_type": "display_data"
    },
    {
     "name": "stdout",
     "output_type": "stream",
     "text": [
      "Batch:  1 / 84\n",
      "Batch Recognition loss:  0.8698647687310017\n",
      "Batch:  21 / 84\n",
      "Batch Recognition loss:  0.9155906438554537\n",
      "Batch:  41 / 84\n",
      "Batch Recognition loss:  0.982152722619686\n",
      "Batch:  61 / 84\n",
      "Batch Recognition loss:  0.8416379705252567\n",
      "Batch:  81 / 84\n",
      "Batch Recognition loss:  1.1844478178147584\n",
      "\n",
      "[[485 172 149]\n",
      " [198 540 185]\n",
      " [ 85 125 722]]\n",
      "Average_Loss:  0.8882932645583701\n",
      "Average_Accuracy:  0.6565201052236002\n",
      "Validation\n",
      "\n",
      "[[110 150  39]\n",
      " [108 162  11]\n",
      " [ 63 116   7]]\n",
      "1.1465836000002396\n",
      "Accuracy:  0.3642297650130548\n",
      "Training Epoch:  6 \n",
      "\n"
     ]
    },
    {
     "data": {
      "application/vnd.jupyter.widget-view+json": {
       "model_id": "6ba0daaf589c47eda9dfb1a9c8d9fdea",
       "version_major": 2,
       "version_minor": 0
      },
      "text/plain": [
       "HBox(children=(FloatProgress(value=1.0, bar_style='info', max=1.0), HTML(value='')))"
      ]
     },
     "metadata": {},
     "output_type": "display_data"
    },
    {
     "name": "stdout",
     "output_type": "stream",
     "text": [
      "Batch:  1 / 84\n",
      "Batch Recognition loss:  0.9022249372463831\n",
      "Batch:  21 / 84\n",
      "Batch Recognition loss:  0.8875897792697705\n",
      "Batch:  41 / 84\n",
      "Batch Recognition loss:  0.8193115741832251\n",
      "Batch:  61 / 84\n",
      "Batch Recognition loss:  0.8011401852420278\n",
      "Batch:  81 / 84\n",
      "Batch Recognition loss:  0.8314394821079641\n",
      "\n",
      "[[485 177 144]\n",
      " [172 577 174]\n",
      " [ 73 120 739]]\n",
      "Average_Loss:  0.8754389493192113\n",
      "Average_Accuracy:  0.6768132281097332\n",
      "Validation\n",
      "\n",
      "[[130  86  83]\n",
      " [151  92  38]\n",
      " [118  48  20]]\n",
      "1.1992653081403086\n",
      "Accuracy:  0.31592689295039167\n",
      "Training Epoch:  7 \n",
      "\n"
     ]
    },
    {
     "data": {
      "application/vnd.jupyter.widget-view+json": {
       "model_id": "4ebcc3df64ad40e3a00c4bd1f8fc3bba",
       "version_major": 2,
       "version_minor": 0
      },
      "text/plain": [
       "HBox(children=(FloatProgress(value=1.0, bar_style='info', max=1.0), HTML(value='')))"
      ]
     },
     "metadata": {},
     "output_type": "display_data"
    },
    {
     "name": "stdout",
     "output_type": "stream",
     "text": [
      "Batch:  1 / 84\n",
      "Batch Recognition loss:  0.9479680832243395\n",
      "Batch:  21 / 84\n",
      "Batch Recognition loss:  0.9083805052273999\n",
      "Batch:  41 / 84\n",
      "Batch Recognition loss:  0.8469902453686623\n",
      "Batch:  61 / 84\n",
      "Batch Recognition loss:  0.8799813333802347\n",
      "Batch:  81 / 84\n",
      "Batch Recognition loss:  1.0115277800928248\n",
      "\n",
      "[[509 162 135]\n",
      " [176 574 173]\n",
      " [ 80 113 739]]\n",
      "Average_Loss:  0.8691945976684585\n",
      "Average_Accuracy:  0.6847049981210072\n",
      "Validation\n",
      "\n",
      "[[118 141  40]\n",
      " [123 148  10]\n",
      " [ 92  88   6]]\n",
      "1.157589450183556\n",
      "Accuracy:  0.35509138381201044\n",
      "Training Epoch:  8 \n",
      "\n"
     ]
    },
    {
     "data": {
      "application/vnd.jupyter.widget-view+json": {
       "model_id": "13443fadd37244218b36516d604b73a2",
       "version_major": 2,
       "version_minor": 0
      },
      "text/plain": [
       "HBox(children=(FloatProgress(value=1.0, bar_style='info', max=1.0), HTML(value='')))"
      ]
     },
     "metadata": {},
     "output_type": "display_data"
    },
    {
     "name": "stdout",
     "output_type": "stream",
     "text": [
      "Batch:  1 / 84\n",
      "Batch Recognition loss:  0.7696234399493519\n",
      "Batch:  21 / 84\n",
      "Batch Recognition loss:  0.8597094637272826\n",
      "Batch:  41 / 84\n",
      "Batch Recognition loss:  0.872724740249655\n",
      "Batch:  61 / 84\n",
      "Batch Recognition loss:  0.8392528733939828\n",
      "Batch:  81 / 84\n",
      "Batch Recognition loss:  0.8359438345949027\n",
      "\n",
      "[[524 160 122]\n",
      " [171 587 165]\n",
      " [ 80 110 742]]\n",
      "Average_Loss:  0.8509450007675203\n",
      "Average_Accuracy:  0.6963547538519353\n",
      "Validation\n",
      "\n",
      "[[125 135  39]\n",
      " [117 154  10]\n",
      " [ 91  91   4]]\n",
      "1.1581343293798434\n",
      "Accuracy:  0.36945169712793735\n",
      "Training Epoch:  9 \n",
      "\n"
     ]
    },
    {
     "data": {
      "application/vnd.jupyter.widget-view+json": {
       "model_id": "706677c53a1f4ce0a472040ede33a58c",
       "version_major": 2,
       "version_minor": 0
      },
      "text/plain": [
       "HBox(children=(FloatProgress(value=1.0, bar_style='info', max=1.0), HTML(value='')))"
      ]
     },
     "metadata": {},
     "output_type": "display_data"
    },
    {
     "name": "stdout",
     "output_type": "stream",
     "text": [
      "Batch:  1 / 84\n",
      "Batch Recognition loss:  0.7860588609355991\n",
      "Batch:  21 / 84\n",
      "Batch Recognition loss:  0.728346938919969\n",
      "Batch:  41 / 84\n",
      "Batch Recognition loss:  0.7623434362274669\n",
      "Batch:  61 / 84\n",
      "Batch Recognition loss:  0.8290374450825305\n",
      "Batch:  81 / 84\n",
      "Batch Recognition loss:  0.8167161104240429\n",
      "\n",
      "[[529 165 112]\n",
      " [169 599 155]\n",
      " [ 80 105 747]]\n",
      "Average_Loss:  0.8453204507997223\n",
      "Average_Accuracy:  0.7046223224351748\n",
      "Validation\n",
      "\n",
      "[[159  98  42]\n",
      " [161 109  11]\n",
      " [124  58   4]]\n",
      "1.1635335622808596\n",
      "Accuracy:  0.35509138381201044\n",
      "Training Epoch:  10 \n",
      "\n"
     ]
    },
    {
     "data": {
      "application/vnd.jupyter.widget-view+json": {
       "model_id": "8df824fd51984447abda1099ea79ae3b",
       "version_major": 2,
       "version_minor": 0
      },
      "text/plain": [
       "HBox(children=(FloatProgress(value=1.0, bar_style='info', max=1.0), HTML(value='')))"
      ]
     },
     "metadata": {},
     "output_type": "display_data"
    },
    {
     "name": "stdout",
     "output_type": "stream",
     "text": [
      "Batch:  1 / 84\n",
      "Batch Recognition loss:  0.9629850934776212\n",
      "Batch:  21 / 84\n",
      "Batch Recognition loss:  0.7785448758787524\n",
      "Batch:  41 / 84\n",
      "Batch Recognition loss:  0.9011026926553913\n",
      "Batch:  61 / 84\n",
      "Batch Recognition loss:  0.8686745544632568\n",
      "Batch:  81 / 84\n",
      "Batch Recognition loss:  0.8586864164085429\n",
      "\n",
      "[[537 162 107]\n",
      " [168 601 154]\n",
      " [ 61 116 755]]\n",
      "Average_Loss:  0.8398076066422069\n",
      "Average_Accuracy:  0.7113866967305524\n",
      "Validation\n",
      "\n",
      "[[ 81 180  38]\n",
      " [ 52 219  10]\n",
      " [ 31 149   6]]\n",
      "1.1362539149153692\n",
      "Accuracy:  0.39947780678851175\n",
      "Training Epoch:  11 \n",
      "\n"
     ]
    },
    {
     "data": {
      "application/vnd.jupyter.widget-view+json": {
       "model_id": "636fbe95e21949a385f269aa43279cf2",
       "version_major": 2,
       "version_minor": 0
      },
      "text/plain": [
       "HBox(children=(FloatProgress(value=1.0, bar_style='info', max=1.0), HTML(value='')))"
      ]
     },
     "metadata": {},
     "output_type": "display_data"
    },
    {
     "name": "stdout",
     "output_type": "stream",
     "text": [
      "Batch:  1 / 84\n",
      "Batch Recognition loss:  0.884381735834413\n",
      "Batch:  21 / 84\n",
      "Batch Recognition loss:  0.9050165750655834\n",
      "Batch:  41 / 84\n",
      "Batch Recognition loss:  0.9087417368336574\n",
      "Batch:  61 / 84\n",
      "Batch Recognition loss:  0.7726574548452557\n",
      "Batch:  81 / 84\n",
      "Batch Recognition loss:  0.696515245953739\n",
      "\n",
      "[[539 148 119]\n",
      " [152 631 140]\n",
      " [ 63 111 758]]\n",
      "Average_Loss:  0.8265490315632038\n",
      "Average_Accuracy:  0.7245396467493423\n",
      "Validation\n",
      "\n",
      "[[129 133  37]\n",
      " [123 148  10]\n",
      " [ 88  93   5]]\n",
      "1.152943249097227\n",
      "Accuracy:  0.3681462140992167\n",
      "Training Epoch:  12 \n",
      "\n"
     ]
    },
    {
     "data": {
      "application/vnd.jupyter.widget-view+json": {
       "model_id": "5fa5d72b70aa40be82a0447ee1518544",
       "version_major": 2,
       "version_minor": 0
      },
      "text/plain": [
       "HBox(children=(FloatProgress(value=1.0, bar_style='info', max=1.0), HTML(value='')))"
      ]
     },
     "metadata": {},
     "output_type": "display_data"
    },
    {
     "name": "stdout",
     "output_type": "stream",
     "text": [
      "Batch:  1 / 84\n",
      "Batch Recognition loss:  0.8468395280915741\n",
      "Batch:  21 / 84\n",
      "Batch Recognition loss:  0.8481870520063087\n",
      "Batch:  41 / 84\n",
      "Batch Recognition loss:  0.9232785612315514\n",
      "Batch:  61 / 84\n",
      "Batch Recognition loss:  0.7828435490772243\n",
      "Batch:  81 / 84\n",
      "Batch Recognition loss:  0.851039387024745\n",
      "\n",
      "[[547 151 108]\n",
      " [163 619 141]\n",
      " [ 60 106 766]]\n",
      "Average_Loss:  0.8225919486053411\n",
      "Average_Accuracy:  0.7260428410372041\n",
      "Validation\n",
      "\n",
      "[[123 138  38]\n",
      " [105 165  11]\n",
      " [ 91  89   6]]\n",
      "1.1522255356156041\n",
      "Accuracy:  0.3838120104438642\n",
      "Training Epoch:  13 \n",
      "\n"
     ]
    },
    {
     "data": {
      "application/vnd.jupyter.widget-view+json": {
       "model_id": "a2ae9875edc143e28d3eb2e90fa962e1",
       "version_major": 2,
       "version_minor": 0
      },
      "text/plain": [
       "HBox(children=(FloatProgress(value=1.0, bar_style='info', max=1.0), HTML(value='')))"
      ]
     },
     "metadata": {},
     "output_type": "display_data"
    },
    {
     "name": "stdout",
     "output_type": "stream",
     "text": [
      "Batch:  1 / 84\n",
      "Batch Recognition loss:  0.8036756453990918\n",
      "Batch:  21 / 84\n",
      "Batch Recognition loss:  0.7784854853814853\n",
      "Batch:  41 / 84\n",
      "Batch Recognition loss:  0.9264868305773087\n",
      "Batch:  61 / 84\n",
      "Batch Recognition loss:  0.6694955472300685\n",
      "Batch:  81 / 84\n",
      "Batch Recognition loss:  0.7400235346196886\n",
      "\n",
      "[[574 133  99]\n",
      " [154 636 133]\n",
      " [ 57 106 769]]\n",
      "Average_Loss:  0.8078725614904007\n",
      "Average_Accuracy:  0.7437053739195791\n",
      "Validation\n",
      "\n",
      "[[119 139  41]\n",
      " [110 160  11]\n",
      " [ 86  94   6]]\n",
      "1.1544192607000128\n",
      "Accuracy:  0.3720626631853786\n",
      "Training Epoch:  14 \n",
      "\n"
     ]
    },
    {
     "data": {
      "application/vnd.jupyter.widget-view+json": {
       "model_id": "1b877b0189394fa1a8fa158a1d428944",
       "version_major": 2,
       "version_minor": 0
      },
      "text/plain": [
       "HBox(children=(FloatProgress(value=1.0, bar_style='info', max=1.0), HTML(value='')))"
      ]
     },
     "metadata": {},
     "output_type": "display_data"
    },
    {
     "name": "stdout",
     "output_type": "stream",
     "text": [
      "Batch:  1 / 84\n",
      "Batch Recognition loss:  0.8537587298027365\n",
      "Batch:  21 / 84\n",
      "Batch Recognition loss:  0.8154127964651077\n",
      "Batch:  41 / 84\n",
      "Batch Recognition loss:  0.8135075704903808\n",
      "Batch:  61 / 84\n",
      "Batch Recognition loss:  0.8600400189550857\n",
      "Batch:  81 / 84\n",
      "Batch Recognition loss:  0.7910470393932014\n",
      "\n",
      "[[581 131  94]\n",
      " [156 643 124]\n",
      " [ 46 106 780]]\n",
      "Average_Loss:  0.8044316204789997\n",
      "Average_Accuracy:  0.7531003382187148\n",
      "Validation\n",
      "\n",
      "[[128 129  42]\n",
      " [113 155  13]\n",
      " [ 80 101   5]]\n",
      "1.151878387148192\n",
      "Accuracy:  0.37597911227154046\n",
      "Training Epoch:  15 \n",
      "\n"
     ]
    },
    {
     "data": {
      "application/vnd.jupyter.widget-view+json": {
       "model_id": "69c8fdeed06140eca90b224302165a1b",
       "version_major": 2,
       "version_minor": 0
      },
      "text/plain": [
       "HBox(children=(FloatProgress(value=1.0, bar_style='info', max=1.0), HTML(value='')))"
      ]
     },
     "metadata": {},
     "output_type": "display_data"
    },
    {
     "name": "stdout",
     "output_type": "stream",
     "text": [
      "Batch:  1 / 84\n",
      "Batch Recognition loss:  0.8511985914080176\n",
      "Batch:  21 / 84\n",
      "Batch Recognition loss:  0.8258279198913775\n",
      "Batch:  41 / 84\n",
      "Batch Recognition loss:  0.844342303905578\n",
      "Batch:  61 / 84\n",
      "Batch Recognition loss:  0.8060759298418986\n",
      "Batch:  81 / 84\n",
      "Batch Recognition loss:  0.7624425456787224\n",
      "\n",
      "[[589 120  97]\n",
      " [139 651 133]\n",
      " [ 54 101 777]]\n",
      "Average_Loss:  0.7984783419720162\n",
      "Average_Accuracy:  0.7579857196542653\n",
      "Validation\n",
      "\n",
      "[[129 133  37]\n",
      " [127 145   9]\n",
      " [ 96  85   5]]\n",
      "1.1683039074469226\n",
      "Accuracy:  0.3642297650130548\n",
      "Training Epoch:  16 \n",
      "\n"
     ]
    },
    {
     "data": {
      "application/vnd.jupyter.widget-view+json": {
       "model_id": "2c66048049a34b37b7e42acb9188cb2c",
       "version_major": 2,
       "version_minor": 0
      },
      "text/plain": [
       "HBox(children=(FloatProgress(value=1.0, bar_style='info', max=1.0), HTML(value='')))"
      ]
     },
     "metadata": {},
     "output_type": "display_data"
    },
    {
     "name": "stdout",
     "output_type": "stream",
     "text": [
      "Batch:  1 / 84\n",
      "Batch Recognition loss:  0.7112684880786044\n",
      "Batch:  21 / 84\n",
      "Batch Recognition loss:  0.8350842836684247\n",
      "Batch:  41 / 84\n",
      "Batch Recognition loss:  0.8232997270800467\n",
      "Batch:  61 / 84\n",
      "Batch Recognition loss:  0.8136152017928022\n",
      "Batch:  81 / 84\n",
      "Batch Recognition loss:  0.859063415796094\n",
      "\n",
      "[[579 131  96]\n",
      " [150 656 117]\n",
      " [ 49 100 783]]\n",
      "Average_Loss:  0.7973656691213006\n",
      "Average_Accuracy:  0.7583615182262308\n",
      "Validation\n",
      "\n",
      "[[108 127  64]\n",
      " [ 98 156  27]\n",
      " [ 79  93  14]]\n",
      "1.1693151059427194\n",
      "Accuracy:  0.3629242819843342\n",
      "Training Epoch:  17 \n",
      "\n"
     ]
    },
    {
     "data": {
      "application/vnd.jupyter.widget-view+json": {
       "model_id": "26c428f8e5fb45538e122c7e37c72fde",
       "version_major": 2,
       "version_minor": 0
      },
      "text/plain": [
       "HBox(children=(FloatProgress(value=1.0, bar_style='info', max=1.0), HTML(value='')))"
      ]
     },
     "metadata": {},
     "output_type": "display_data"
    },
    {
     "name": "stdout",
     "output_type": "stream",
     "text": [
      "Batch:  1 / 84\n",
      "Batch Recognition loss:  0.8373484170337316\n",
      "Batch:  21 / 84\n",
      "Batch Recognition loss:  0.7774899667292885\n",
      "Batch:  41 / 84\n",
      "Batch Recognition loss:  0.8716312595260252\n",
      "Batch:  61 / 84\n",
      "Batch Recognition loss:  0.7367976135068652\n",
      "Batch:  81 / 84\n",
      "Batch Recognition loss:  0.8547476956633675\n",
      "\n",
      "[[579 132  95]\n",
      " [125 671 127]\n",
      " [ 48 102 782]]\n",
      "Average_Loss:  0.7897025164129834\n",
      "Average_Accuracy:  0.7636226982337467\n",
      "Validation\n",
      "\n",
      "[[138 117  44]\n",
      " [136 133  12]\n",
      " [109  70   7]]\n",
      "1.1672317785061777\n",
      "Accuracy:  0.3629242819843342\n",
      "Training Epoch:  18 \n",
      "\n"
     ]
    },
    {
     "data": {
      "application/vnd.jupyter.widget-view+json": {
       "model_id": "7c3ac438dcf24404b4bf2a7ea199957c",
       "version_major": 2,
       "version_minor": 0
      },
      "text/plain": [
       "HBox(children=(FloatProgress(value=1.0, bar_style='info', max=1.0), HTML(value='')))"
      ]
     },
     "metadata": {},
     "output_type": "display_data"
    },
    {
     "name": "stdout",
     "output_type": "stream",
     "text": [
      "Batch:  1 / 84\n",
      "Batch Recognition loss:  0.6984263319886894\n",
      "Batch:  21 / 84\n",
      "Batch Recognition loss:  0.8186335166896438\n",
      "Batch:  41 / 84\n",
      "Batch Recognition loss:  0.8490359118710014\n",
      "Batch:  61 / 84\n",
      "Batch Recognition loss:  0.7996109364446272\n",
      "Batch:  81 / 84\n",
      "Batch Recognition loss:  0.7963192593666464\n",
      "\n",
      "[[597 121  88]\n",
      " [134 667 122]\n",
      " [ 52  95 785]]\n",
      "Average_Loss:  0.7838567907075222\n",
      "Average_Accuracy:  0.770011273957159\n",
      "Validation\n",
      "\n",
      "[[136  97  66]\n",
      " [127 123  31]\n",
      " [101  71  14]]\n",
      "1.1705148228326572\n",
      "Accuracy:  0.3563968668407311\n",
      "Training Epoch:  19 \n",
      "\n"
     ]
    },
    {
     "data": {
      "application/vnd.jupyter.widget-view+json": {
       "model_id": "9bf9762de0de4fc38f4ee40231aa71e6",
       "version_major": 2,
       "version_minor": 0
      },
      "text/plain": [
       "HBox(children=(FloatProgress(value=1.0, bar_style='info', max=1.0), HTML(value='')))"
      ]
     },
     "metadata": {},
     "output_type": "display_data"
    },
    {
     "name": "stdout",
     "output_type": "stream",
     "text": [
      "Batch:  1 / 84\n",
      "Batch Recognition loss:  0.7796689905538109\n",
      "Batch:  21 / 84\n",
      "Batch Recognition loss:  0.7220358807107771\n",
      "Batch:  41 / 84\n",
      "Batch Recognition loss:  0.777804916979323\n",
      "Batch:  61 / 84\n",
      "Batch Recognition loss:  0.7931002050852936\n",
      "Batch:  81 / 84\n",
      "Batch Recognition loss:  0.8157377013315962\n",
      "\n",
      "[[600 117  89]\n",
      " [133 661 129]\n",
      " [ 50  97 785]]\n",
      "Average_Loss:  0.7873943366567879\n",
      "Average_Accuracy:  0.7688838782412627\n",
      "Validation\n",
      "\n",
      "[[144 120  35]\n",
      " [129 145   7]\n",
      " [103  79   4]]\n",
      "1.147574156259897\n",
      "Accuracy:  0.3825065274151436\n",
      "Training Epoch:  20 \n",
      "\n"
     ]
    },
    {
     "data": {
      "application/vnd.jupyter.widget-view+json": {
       "model_id": "a8c667f0c09e4e8eb53405bdb8bf97b3",
       "version_major": 2,
       "version_minor": 0
      },
      "text/plain": [
       "HBox(children=(FloatProgress(value=1.0, bar_style='info', max=1.0), HTML(value='')))"
      ]
     },
     "metadata": {},
     "output_type": "display_data"
    },
    {
     "name": "stdout",
     "output_type": "stream",
     "text": [
      "Batch:  1 / 84\n",
      "Batch Recognition loss:  0.7885921683776084\n",
      "Batch:  21 / 84\n",
      "Batch Recognition loss:  0.812432181204799\n",
      "Batch:  41 / 84\n",
      "Batch Recognition loss:  0.7980728745366531\n",
      "Batch:  61 / 84\n",
      "Batch Recognition loss:  0.8278675745058263\n",
      "Batch:  81 / 84\n",
      "Batch Recognition loss:  0.7536954537934001\n",
      "\n",
      "[[607 117  82]\n",
      " [114 694 115]\n",
      " [ 41  94 797]]\n",
      "Average_Loss:  0.7733446067830165\n",
      "Average_Accuracy:  0.7884254039834648\n",
      "Validation\n",
      "\n",
      "[[155 110  34]\n",
      " [141 133   7]\n",
      " [103  77   6]]\n",
      "1.1471737572203533\n",
      "Accuracy:  0.3838120104438642\n"
     ]
    }
   ],
   "source": [
    "model_name=\"pre_embedded_1_frames\"\n",
    "train(20,model_name,model)"
   ]
  },
  {
   "cell_type": "code",
   "execution_count": null,
   "metadata": {},
   "outputs": [],
   "source": [
    "print(\"finished\")"
   ]
  },
  {
   "cell_type": "code",
   "execution_count": null,
   "metadata": {},
   "outputs": [],
   "source": [
    "valid_data1=dataload.Video_Frame_Data(Val_labels,base_path_v=Val_video,strict_num=26)\n",
    "\n",
    "valid_dataloader1 = DataLoader(valid_data1, batch_size=32\n",
    "                       , num_workers=0)"
   ]
  },
  {
   "cell_type": "code",
   "execution_count": null,
   "metadata": {},
   "outputs": [],
   "source": []
  },
  {
   "cell_type": "code",
   "execution_count": null,
   "metadata": {},
   "outputs": [],
   "source": [
    "debug"
   ]
  },
  {
   "cell_type": "code",
   "execution_count": null,
   "metadata": {},
   "outputs": [],
   "source": []
  },
  {
   "cell_type": "code",
   "execution_count": null,
   "metadata": {},
   "outputs": [],
   "source": [
    "train(1)"
   ]
  },
  {
   "cell_type": "code",
   "execution_count": null,
   "metadata": {},
   "outputs": [],
   "source": []
  }
 ],
 "metadata": {
  "kernelspec": {
   "display_name": "Python 3",
   "language": "python",
   "name": "python3"
  },
  "language_info": {
   "codemirror_mode": {
    "name": "ipython",
    "version": 3
   },
   "file_extension": ".py",
   "mimetype": "text/x-python",
   "name": "python",
   "nbconvert_exporter": "python",
   "pygments_lexer": "ipython3",
   "version": "3.7.5"
  }
 },
 "nbformat": 4,
 "nbformat_minor": 4
}
