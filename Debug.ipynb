{
 "cells": [
  {
   "cell_type": "code",
   "execution_count": 192,
   "metadata": {},
   "outputs": [],
   "source": [
    "from Dataload import dataload\n",
    "\n",
    "import torch\n",
    "import torch.nn as nn\n",
    "from torchsummary import summary\n",
    "from sklearn.metrics import confusion_matrix\n",
    "from torch.utils.data import Dataset, DataLoader\n",
    "import matplotlib.pylab as plt\n",
    "from torchvision import  utils\n",
    "\n",
    "from src import detect_faces, show_bboxes\n",
    "from PIL import Image\n",
    "import numpy as np\n",
    "\n",
    "from torchvision import transforms\n",
    "\n",
    "import pandas as pd\n",
    "from module import densenet\n",
    "\n",
    "from tqdm.notebook import tqdm"
   ]
  },
  {
   "cell_type": "code",
   "execution_count": 459,
   "metadata": {},
   "outputs": [],
   "source": [
    "#device = torch.device(\"cuda:0\" if torch.cuda.is_available() else \"cpu\")\n",
    "device = torch.device(\"cpu\")\n",
    "\n",
    "\n",
    "    "
   ]
  },
  {
   "cell_type": "code",
   "execution_count": 460,
   "metadata": {},
   "outputs": [],
   "source": [
    "class multi_frames():\n",
    "    def __init__(self,frame_list,channel=3,img_width=256,img_length=256,embed_dim=1000,frame_embedding=None):\n",
    "        self.frame_list=frame_list\n",
    "        \n",
    "        if frame_embedding is None: \n",
    "            self.frames = torch.empty(size=(len(frame_list), channel, img_width,img_length)) \n",
    "            for index,element in enumerate(frame_list):\n",
    "                self.frames[index]=element.frame_img\n",
    "        else:\n",
    "            self.frames=frame_embedding\n",
    "    def __len__(self):\n",
    "        return len(self.frame_list)\n",
    "\n",
    "        \n",
    "\n",
    "class frame():\n",
    "    def __init__(self,frame_img,frame_name,max_face=5):\n",
    "        self.frame_img=frame_img\n",
    "        self._file_name=frame_name\n",
    "        self.transform_face=transforms.Compose([\n",
    "                                 transforms.Resize((32,32)), \n",
    "                                 transforms.ToTensor(),\n",
    "                                 transforms.Normalize((0.5,0.5,0.5 ), (0.5, 0.5,0.5))])\n",
    "        \n",
    "        self.transform_frame=transforms.Compose([\n",
    "                     transforms.Resize((256,256)),\n",
    "                     transforms.ToTensor(),   \n",
    "                     transforms.Normalize((0.5,0.5,0.5 ), (0.5, 0.5,0.5))])\n",
    "\n",
    "        \n",
    "        def face_extraction(img,max_face):\n",
    "            bounding_boxes, landmarks = detect_faces(img)\n",
    "            img_list=[]\n",
    "            for box_index,(left,right,up,bottom,_) in enumerate(bounding_boxes):\n",
    "                cropped_img=img.crop((left,right,up,bottom))\n",
    "                img_list.append(self.transform_face(cropped_img))\n",
    "                if len(img_list)==max_face:\n",
    "                    break\n",
    "            while len(img_list) !=max_face:\n",
    "                END_PAD= Image.new(mode = \"RGB\", size = (256, 256), color =(0, 0, 0))\n",
    "                img_list.append(self.transform_face(END_PAD))\n",
    "            img_list=torch.stack(img_list)\n",
    "\n",
    "            return img_list\n",
    "        self.faces=face_extraction(self.frame_img,max_face)\n",
    "\n",
    "\n",
    "        \n",
    "        self.frame_img=self.transform_frame(frame_img)\n",
    "\n",
    "        \n",
    "        \n",
    "    \n",
    "        \n",
    "        "
   ]
  },
  {
   "cell_type": "code",
   "execution_count": 464,
   "metadata": {},
   "outputs": [],
   "source": [
    "import os\n",
    "from constant import EMOTIPATH\n",
    "\n",
    "\n",
    "Train_label=os.path.join(EMOTIPATH,\"Train_labels.txt\")\n",
    "Train_video=os.path.join(EMOTIPATH,\"Train\")\n",
    "Val_labels=os.path.join(EMOTIPATH,\"Val_labels.txt\")\n",
    "Val_video=os.path.join(EMOTIPATH,\"Val\")\n",
    "\n",
    "\n",
    "train_data=Video_Frame_Data(Train_label,\"train.csv\",base_path_v=Train_video,frame_num=5,embedding=False)\n",
    "#valid_data=Video_Frame_Data(Val_labels,base_path_v=Val_video,strict_num=5)"
   ]
  },
  {
   "cell_type": "code",
   "execution_count": 465,
   "metadata": {},
   "outputs": [
    {
     "name": "stdout",
     "output_type": "stream",
     "text": [
      "[ 0  5 11 17 23]\n"
     ]
    }
   ],
   "source": [
    "test=train_data[0][0]"
   ]
  },
  {
   "cell_type": "code",
   "execution_count": 466,
   "metadata": {},
   "outputs": [
    {
     "data": {
      "text/plain": [
       "torch.Size([5, 1000])"
      ]
     },
     "execution_count": 466,
     "metadata": {},
     "output_type": "execute_result"
    }
   ],
   "source": [
    "test.frames.shape"
   ]
  },
  {
   "cell_type": "code",
   "execution_count": 478,
   "metadata": {},
   "outputs": [],
   "source": [
    "class Test(nn.Module):\n",
    "    \n",
    "    def __init__(self):\n",
    "        super(Test, self).__init__()\n",
    "\n",
    "        self.densenet=densenet.densenet121(pretrained=True)\n",
    "        self.dim_face=100\n",
    "        self.dim_frame=1000\n",
    "        \n",
    "        self.fc1=nn.Linear(1000,1)\n",
    "\n",
    "    def check_raw(self,x,dim):\n",
    "        if x.shape[-1]==dim\n",
    "            return True\n",
    "        return False\n",
    "    \n",
    "    def forward(self,x):\n",
    "        print(self.check_embedding(x))\n",
    "        \n",
    "        return self.fc1(x)\n",
    "        "
   ]
  },
  {
   "cell_type": "code",
   "execution_count": 479,
   "metadata": {},
   "outputs": [],
   "source": [
    "model=Test()"
   ]
  },
  {
   "cell_type": "code",
   "execution_count": 483,
   "metadata": {},
   "outputs": [
    {
     "name": "stdout",
     "output_type": "stream",
     "text": [
      "False\n"
     ]
    },
    {
     "data": {
      "text/plain": [
       "tensor([[-0.9991]], grad_fn=<AddmmBackward>)"
      ]
     },
     "execution_count": 483,
     "metadata": {},
     "output_type": "execute_result"
    }
   ],
   "source": [
    "model(torch.rand(1,1000))"
   ]
  },
  {
   "cell_type": "code",
   "execution_count": 484,
   "metadata": {},
   "outputs": [],
   "source": [
    "x=torch.rand(4,2,3)"
   ]
  },
  {
   "cell_type": "code",
   "execution_count": 486,
   "metadata": {},
   "outputs": [
    {
     "data": {
      "text/plain": [
       "3"
      ]
     },
     "execution_count": 486,
     "metadata": {},
     "output_type": "execute_result"
    }
   ],
   "source": [
    "x.shape[-1]"
   ]
  },
  {
   "cell_type": "code",
   "execution_count": null,
   "metadata": {},
   "outputs": [],
   "source": []
  }
 ],
 "metadata": {
  "kernelspec": {
   "display_name": "Python 3",
   "language": "python",
   "name": "python3"
  },
  "language_info": {
   "codemirror_mode": {
    "name": "ipython",
    "version": 3
   },
   "file_extension": ".py",
   "mimetype": "text/x-python",
   "name": "python",
   "nbconvert_exporter": "python",
   "pygments_lexer": "ipython3",
   "version": "3.7.5"
  }
 },
 "nbformat": 4,
 "nbformat_minor": 4
}
