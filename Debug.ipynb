{
 "cells": [
  {
   "cell_type": "code",
   "execution_count": 99,
   "metadata": {},
   "outputs": [],
   "source": [
    "from Dataload import dataload\n",
    "import torch.nn.functional as F\n",
    "\n",
    "import torch\n",
    "import torch.nn as nn\n",
    "from torchsummary import summary\n",
    "from sklearn.metrics import confusion_matrix\n",
    "from torch.utils.data import Dataset, DataLoader\n",
    "import matplotlib.pylab as plt\n",
    "from torchvision import  utils\n",
    "\n",
    "from src import detect_faces, show_bboxes\n",
    "from PIL import Image\n",
    "import numpy as np\n",
    "from module import video_model\n",
    "from constant import EMOTIPATH\n",
    "import os\n",
    "import pandas as pd\n",
    "import time\n",
    "from tqdm.notebook import tqdm\n",
    "import cv2\n",
    "from torchvision import transforms\n"
   ]
  },
  {
   "cell_type": "code",
   "execution_count": null,
   "metadata": {},
   "outputs": [],
   "source": [
    "#device = torch.device(\"cuda:0\" if torch.cuda.is_available() else \"cpu\")\n",
    "device = torch.device(\"cpu\")\n",
    "\n",
    "\n",
    "dense_pre=densenet.densenet121(pretrained=True)"
   ]
  },
  {
   "cell_type": "code",
   "execution_count": null,
   "metadata": {},
   "outputs": [],
   "source": []
  },
  {
   "cell_type": "code",
   "execution_count": null,
   "metadata": {},
   "outputs": [],
   "source": [
    "output=frame_model(img_frames.unsqueeze(0))"
   ]
  },
  {
   "cell_type": "code",
   "execution_count": null,
   "metadata": {},
   "outputs": [],
   "source": [
    "output.shape"
   ]
  },
  {
   "cell_type": "code",
   "execution_count": null,
   "metadata": {},
   "outputs": [],
   "source": [
    "output"
   ]
  },
  {
   "cell_type": "code",
   "execution_count": null,
   "metadata": {},
   "outputs": [],
   "source": [
    "\n",
    "#model=video_model.Video_Feature(joint=False,grayscale=False,classfication=True,frame=10)\n"
   ]
  },
  {
   "cell_type": "code",
   "execution_count": 100,
   "metadata": {},
   "outputs": [],
   "source": [
    "Train_label=os.path.join(EMOTIPATH,\"Train_labels.txt\")\n",
    "Train_video=os.path.join(EMOTIPATH,\"Train\")\n",
    "frame_num=24\n",
    "train_data=Raw_Data(Train_label,base_path_v=Train_video)\n"
   ]
  },
  {
   "cell_type": "code",
   "execution_count": 98,
   "metadata": {},
   "outputs": [],
   "source": [
    "class Raw_Data():\n",
    "    def __init__(self,csv_file,base_path_v=None,):\n",
    "        \n",
    "        self.max_frame_num=24\n",
    "        self._table = pd.read_csv(csv_file,delimiter=' ')\n",
    "\n",
    "        self._base_path_v=base_path_v\n",
    "  \n",
    "\n",
    "            \n",
    "\n",
    "        self.transform=transforms.Compose([\n",
    "                     transforms.Resize((256,256)),\n",
    "                     transforms.ToTensor(),   \n",
    "                     transforms.Normalize((0.5,0.5,0.5 ), (0.5, 0.5,0.5))])\n",
    "    def __len__(self):\n",
    "        return len(self._table)\n",
    "\n",
    "    def __getitem__(self, idx):\n",
    "        folder_name = os.path.join(self._base_path_v,self._table.Vid_name[idx])\n",
    "        frame_list=os.listdir(folder_name)\n",
    "\n",
    "\n",
    "        return folder_name,frame_list"
   ]
  },
  {
   "cell_type": "code",
   "execution_count": 102,
   "metadata": {},
   "outputs": [
    {
     "data": {
      "text/plain": [
       "('../../../hdd/Dataset/Dataset/Train/57_13',\n",
       " ['000011.png',\n",
       "  '000008.png',\n",
       "  '000004.png',\n",
       "  '000003.png',\n",
       "  '000016.png',\n",
       "  '000005.png',\n",
       "  '000002.png',\n",
       "  '000017.png',\n",
       "  '000014.png',\n",
       "  '000010.png',\n",
       "  '000001.png',\n",
       "  '000021.png',\n",
       "  '000013.png',\n",
       "  '000007.png',\n",
       "  '000019.png',\n",
       "  '000009.png',\n",
       "  '000022.png',\n",
       "  '000006.png',\n",
       "  '000020.png',\n",
       "  '000015.png',\n",
       "  '000012.png',\n",
       "  '000024.png',\n",
       "  '000018.png',\n",
       "  '000023.png'])"
      ]
     },
     "execution_count": 102,
     "metadata": {},
     "output_type": "execute_result"
    }
   ],
   "source": [
    "train_data[566]"
   ]
  },
  {
   "cell_type": "code",
   "execution_count": null,
   "metadata": {},
   "outputs": [],
   "source": [
    "from operator import itemgetter, attrgetter"
   ]
  },
  {
   "cell_type": "code",
   "execution_count": null,
   "metadata": {},
   "outputs": [],
   "source": [
    "def extract_best(num_frame,data):\n",
    "\n",
    "for index,(base_path,imglist) in enumerate(train_data):\n",
    "    confidence_score_list=[]\n",
    "    for img_frame in imglist:\n",
    "        \n",
    "        img=Image.open(os.path.join(base_path,img_frame))\n",
    "        total_confidence_score=sum(detect_faces(img)[0][0:5,-1])\n",
    "        confidence_score_list.append((total_confidence_score,img_frame))\n",
    "    confidence_score_list=sorted(confidence_score_list, key=itemgetter(0),reverse=True)\n",
    "    sorted(confidence_score_list[0:num_frame]\n",
    "    break\n"
   ]
  },
  {
   "cell_type": "code",
   "execution_count": null,
   "metadata": {},
   "outputs": [],
   "source": [
    "confidence_score_list[0:5]"
   ]
  },
  {
   "cell_type": "code",
   "execution_count": null,
   "metadata": {},
   "outputs": [],
   "source": [
    "confidence_score_list=sorted(confidence_score_list, key=itemgetter(0),reverse=True)"
   ]
  },
  {
   "cell_type": "code",
   "execution_count": null,
   "metadata": {},
   "outputs": [],
   "source": [
    "confidence_score_list[0:5]"
   ]
  },
  {
   "cell_type": "code",
   "execution_count": null,
   "metadata": {},
   "outputs": [],
   "source": [
    "sorted(confidence_score_list[0:5],key=itemgetter(0))"
   ]
  },
  {
   "cell_type": "code",
   "execution_count": null,
   "metadata": {},
   "outputs": [],
   "source": [
    "img=Image.open(os.path.join(train_data[0][0],train_data[0][1][1]))"
   ]
  },
  {
   "cell_type": "code",
   "execution_count": null,
   "metadata": {},
   "outputs": [],
   "source": [
    "img"
   ]
  },
  {
   "cell_type": "code",
   "execution_count": null,
   "metadata": {},
   "outputs": [],
   "source": [
    "confidence_score=sum(detect_faces(img)[0][0:5,-1])"
   ]
  },
  {
   "cell_type": "code",
   "execution_count": null,
   "metadata": {},
   "outputs": [],
   "source": [
    "sum(confidence_score)"
   ]
  },
  {
   "cell_type": "code",
   "execution_count": null,
   "metadata": {},
   "outputs": [],
   "source": [
    "faces[0][0:5,-1]"
   ]
  },
  {
   "cell_type": "code",
   "execution_count": 68,
   "metadata": {},
   "outputs": [],
   "source": [
    "    \n",
    "class cv_data(Dataset):\n",
    "    def __init__(self,csv_file,sub_csv_file=None,\n",
    "                 base_path_v=None,base_path_a=None,frame_num=16,strict_name=True,name_format=9,embedding=False):\n",
    "        \n",
    "        self.max_frame_num=24\n",
    "        self._table = pd.read_csv(csv_file,delimiter=' ')\n",
    "        if sub_csv_file is None:\n",
    "            self._table_embedding=None\n",
    "        else:\n",
    "            self._table_embedding=pd.read_csv(sub_csv_file)\n",
    "        self.frame_num = frame_num\n",
    "        self._base_path_v=base_path_v\n",
    "        self._base_path_a=base_path_a\n",
    "        self.embedding=embedding\n",
    "        if strict_name:\n",
    "            self.name_format=name_format\n",
    "            \n",
    "\n",
    "        self.transform=transforms.Compose([\n",
    "                     transforms.ToTensor(),   \n",
    "                     transforms.Normalize((0.5,0.5,0.5 ), (0.5, 0.5,0.5))])\n",
    "    def __len__(self):\n",
    "        return len(self._table)\n",
    "\n",
    "    def __getitem__(self, idx):\n",
    "        folder_name = os.path.join(self._base_path_v,self._table.Vid_name[idx])\n",
    "        first=True\n",
    "        audio_img=np.zeros((1,1))\n",
    "        labels = torch.from_numpy(np.array(self._table.Label[idx]))-1\n",
    "            \n",
    "        if self._table_embedding is not None:\n",
    "            temp_frame_embedding=torch.from_numpy(np.array(self._table_embedding.Embedding[idx].split(),dtype=float)).reshape((self.max_frame_num,-1))\n",
    "            frame_data=torch.empty(size=(self.frame_num,1000),dtype=torch.double)\n",
    "            if self.frame_num<25:\n",
    "                index=np.linspace(0,23,self.frame_num,dtype=int)\n",
    " \n",
    "                for i,copy in enumerate(index):\n",
    "                    frame_data[i]=temp_frame_embedding[copy]\n",
    "            return (frame_data,audio_img,labels)\n",
    "    \n",
    "\n",
    "            \n",
    "        frame_raw_list=os.listdir(folder_name)\n",
    "        frame_len=len(frame_raw_list)\n",
    "\n",
    "        frame_raw_list=sorted(frame_raw_list)\n",
    "\n",
    "        frame_list=[]\n",
    "        if frame_len<self.frame_num:\n",
    "            for index_0 in range(frame_len):\n",
    "                frame_path=os.path.join(folder_name,frame_raw_list[index_0])\n",
    "                \n",
    "                tempimg=cv2.imread(frame_path,cv2.IMREAD_COLOR)  \n",
    "                tempimg=cv2.resize(tempimg, (256,256), interpolation = cv2.INTER_AREA)\n",
    "               # frame_class=frame(tempimg,frame_path)\n",
    "                frame_list.append(self.transform(tempimg))\n",
    "        else:    \n",
    "            frame_index=(np.linspace(0,frame_len-1,self.frame_num,dtype=int))\n",
    "\n",
    "            for index_2 in frame_index:\n",
    "                frame_path=os.path.join(folder_name,frame_raw_list[index_2])\n",
    "                tempimg=cv2.imread(frame_path,cv2.IMREAD_COLOR)\n",
    "                tempimg=cv2.resize(tempimg, (256,256), interpolation = cv2.INTER_AREA)\n",
    "\n",
    "                #frame_class=frame(tempimg,frame_path)\n",
    "                frame_list.append(self.transform(tempimg))\n",
    "        frame_data=torch.stack(frame_list,dim=0)\n",
    "        return (frame_data,audio_img,labels)"
   ]
  },
  {
   "cell_type": "code",
   "execution_count": 94,
   "metadata": {},
   "outputs": [],
   "source": [
    "    \n",
    "class pil_data(Dataset):\n",
    "    def __init__(self,csv_file,sub_csv_file=None,\n",
    "                 base_path_v=None,base_path_a=None,frame_num=16,strict_name=True,name_format=9,embedding=False):\n",
    "        \n",
    "        self.max_frame_num=24\n",
    "        self._table = pd.read_csv(csv_file,delimiter=' ')\n",
    "        if sub_csv_file is None:\n",
    "            self._table_embedding=None\n",
    "        else:\n",
    "            self._table_embedding=pd.read_csv(sub_csv_file)\n",
    "        self.frame_num = frame_num\n",
    "        self._base_path_v=base_path_v\n",
    "        self._base_path_a=base_path_a\n",
    "        self.embedding=embedding\n",
    "        if strict_name:\n",
    "            self.name_format=name_format\n",
    "            \n",
    "\n",
    "        self.transform=transforms.Compose([\n",
    "                     transforms.Resize((256,256)),\n",
    "                     transforms.ToTensor(),   \n",
    "                     transforms.Normalize((0.5,0.5,0.5 ), (0.5, 0.5,0.5))])\n",
    "    def __len__(self):\n",
    "        return len(self._table)\n",
    "\n",
    "    def __getitem__(self, idx):\n",
    "        folder_name = os.path.join(self._base_path_v,self._table.Vid_name[idx])\n",
    "        first=True\n",
    "        audio_img=np.zeros((1,1))\n",
    "        labels = torch.from_numpy(np.array(self._table.Label[idx]))-1\n",
    "            \n",
    "        if self._table_embedding is not None:\n",
    "            temp_frame_embedding=torch.from_numpy(np.array(self._table_embedding.Embedding[idx].split(),dtype=float)).reshape((self.max_frame_num,-1))\n",
    "            frame_data=torch.empty(size=(self.frame_num,1000),dtype=torch.double)\n",
    "            if self.frame_num<25:\n",
    "                index=np.linspace(0,23,self.frame_num,dtype=int)\n",
    " \n",
    "                for i,copy in enumerate(index):\n",
    "                    frame_data[i]=temp_frame_embedding[copy]\n",
    "            return (frame_data,audio_img,labels)\n",
    "    \n",
    "        \n",
    "            \n",
    "        frame_raw_list=os.listdir(folder_name)\n",
    "        frame_len=len(frame_raw_list)\n",
    "\n",
    "        frame_raw_list=sorted(frame_raw_list)\n",
    "\n",
    "        frame_list=[]\n",
    "        if frame_len<self.frame_num:\n",
    "            for index_0 in range(frame_len):\n",
    "                frame_path=os.path.join(folder_name,frame_raw_list[index_0])\n",
    "                \n",
    "                tempimg=Image.open(frame_path)       \n",
    "               # frame_class=frame(tempimg,frame_path)\n",
    "                frame_list.append(self.transform(tempimg))\n",
    "        else:    \n",
    "            frame_index=(np.linspace(0,frame_len-1,self.frame_num,dtype=int))\n",
    "\n",
    "            for index_2 in frame_index:\n",
    "                frame_path=os.path.join(folder_name,frame_raw_list[index_2])\n",
    "                tempimg=Image.open(frame_path)\n",
    "                #frame_class=frame(tempimg,frame_path)\n",
    "                frame_list.append(self.transform(tempimg))\n",
    "        frame_data=torch.stack(frame_list,dim=0)\n",
    "        return (frame_data,audio_img,labels)"
   ]
  },
  {
   "cell_type": "code",
   "execution_count": 95,
   "metadata": {},
   "outputs": [],
   "source": [
    "Train_label=os.path.join(EMOTIPATH,\"Train_labels.txt\")\n",
    "Train_video=os.path.join(EMOTIPATH,\"Train\")\n",
    "Val_labels=os.path.join(EMOTIPATH,\"Val_labels.txt\")\n",
    "Val_video=os.path.join(EMOTIPATH,\"Val\")\n",
    "train_data_pil=pil_data(Train_label,base_path_v=Train_video,frame_num=24)\n",
    "train_dataloader_pil = DataLoader(train_data_pil, batch_size=24\n",
    "                       , num_workers=0,shuffle=False)                    \n",
    "                    "
   ]
  },
  {
   "cell_type": "code",
   "execution_count": 96,
   "metadata": {},
   "outputs": [],
   "source": [
    "train_data_cv=cv_data(Train_label,base_path_v=Train_video,frame_num=24)\n",
    "train_dataloader_cv = DataLoader(train_data_cv, batch_size=24\n",
    "                       , num_workers=0,shuffle=False)       "
   ]
  },
  {
   "cell_type": "code",
   "execution_count": null,
   "metadata": {},
   "outputs": [],
   "source": []
  },
  {
   "cell_type": "code",
   "execution_count": 97,
   "metadata": {},
   "outputs": [
    {
     "name": "stdout",
     "output_type": "stream",
     "text": [
      "3.520815849304199\n"
     ]
    }
   ],
   "source": [
    "start=time.time()\n",
    "for i in enumerate(train_dataloader_pil):\n",
    "    break\n",
    "\n",
    "end=time.time()\n",
    "print(end-start)"
   ]
  },
  {
   "cell_type": "code",
   "execution_count": 80,
   "metadata": {},
   "outputs": [
    {
     "name": "stdout",
     "output_type": "stream",
     "text": [
      "3.878101348876953\n"
     ]
    }
   ],
   "source": [
    "start=time.time()\n",
    "for i in enumerate(train_dataloader_cv):\n",
    "    break\n",
    "\n",
    "end=time.time()\n",
    "print(end-start)"
   ]
  },
  {
   "cell_type": "code",
   "execution_count": 227,
   "metadata": {},
   "outputs": [],
   "source": [
    "class Frame_Face_Data(Dataset):\n",
    "    def __init__(self,csv_file,sub_csv_file=None,base_path_v=None):\n",
    "        \n",
    "        self.max_frame_num=5\n",
    "        self._table = pd.read_csv(csv_file,delimiter=' ')\n",
    "        self._table_embedding=None\n",
    "        self.transform=transforms.Compose([\n",
    "                 #    transforms.Resize((256,256)),\n",
    "                     transforms.ToTensor(),   \n",
    "                    transforms.Normalize((0.5,0.5,0.5 ), (0.5, 0.5,0.5))\n",
    "        ])\n",
    "        self.endPad=self.transform(Image.new(mode='RGB', size=(64,64), color=0))\n",
    "        self._base_path_v=base_path_v\n",
    "        \n",
    "    def __len__(self):\n",
    "        return len(self._table)\n",
    "    def _stacking_face(self,face_num,faces):\n",
    "\n",
    "        face_v=torch.zeros((face_num,3,64,64))\n",
    "        for i in range(face_num):\n",
    "            face_v[i]=faces[:,:,i*64:i*64+64]\n",
    "        return face_v\n",
    "\n",
    "    def __getitem__(self, idx):\n",
    "        folder_name = os.path.join(self._base_path_v,self._table.Vid_name[idx])\n",
    "\n",
    "        labels = torch.from_numpy(np.array(self._table.Label[idx]))-1\n",
    "            \n",
    "        if self._table_embedding is not None:\n",
    "            temp_frame_embedding=torch.from_numpy(np.array(self._table_embedding.Embedding[idx].split(),dtype=float)).reshape((self.max_frame_num,-1))\n",
    "            frame_data=torch.empty(size=(self.frame_num,1000),dtype=torch.double)\n",
    "            if self.frame_num<25:\n",
    "                index=np.linspace(0,23,self.frame_num,dtype=int)\n",
    " \n",
    "                for i,copy in enumerate(index):\n",
    "                    frame_data[i]=temp_frame_embedding[copy]\n",
    "            return (frame_data,audio_img,labels)\n",
    "    \n",
    "\n",
    "        face_len=5\n",
    "        face_raw_list=os.listdir(folder_name)\n",
    "        face_raw_list=sorted(face_raw_list)\n",
    "\n",
    "        face_list=[]\n",
    "        for index_0 in range(face_len):\n",
    "                face_path=os.path.join(folder_name,face_raw_list[index_0])               \n",
    "                tempimg=Image.open(face_path)       \n",
    "                face_list.append(self._stacking_face(face_len,self.transform(tempimg)))\n",
    "            \n",
    "\n",
    "        face_data=torch.stack(face_list,dim=0)\n",
    "            \n",
    "        return (face_data)"
   ]
  },
  {
   "cell_type": "code",
   "execution_count": 228,
   "metadata": {},
   "outputs": [],
   "source": [
    "Train_label=os.path.join(EMOTIPATH,\"Train_labels.txt\")\n",
    "Train_face=os.path.join(EMOTIPATH,\"Face_Cropped\",\"Train\")\n",
    "Val_labels=os.path.join(EMOTIPATH,\"Val_labels.txt\")\n",
    "Val_face=os.path.join(EMOTIPATH,\"Face_Cropped\",\"Val\")"
   ]
  },
  {
   "cell_type": "code",
   "execution_count": 229,
   "metadata": {},
   "outputs": [],
   "source": [
    "test=Frame_Face_Data(Train_label,Train_face,base_path_v=Train_face)"
   ]
  },
  {
   "cell_type": "code",
   "execution_count": 233,
   "metadata": {},
   "outputs": [
    {
     "data": {
      "text/plain": [
       "torch.Size([5, 5, 3, 64, 64])"
      ]
     },
     "execution_count": 233,
     "metadata": {},
     "output_type": "execute_result"
    }
   ],
   "source": [
    "test[0].shape"
   ]
  },
  {
   "cell_type": "code",
   "execution_count": 234,
   "metadata": {},
   "outputs": [],
   "source": [
    "trans = transforms.ToPILImage()"
   ]
  },
  {
   "cell_type": "code",
   "execution_count": 199,
   "metadata": {},
   "outputs": [],
   "source": [
    "data=test[0][0]*0.5+0.5"
   ]
  },
  {
   "cell_type": "code",
   "execution_count": 200,
   "metadata": {},
   "outputs": [
    {
     "data": {
      "text/plain": [
       "torch.Size([3, 64, 320])"
      ]
     },
     "execution_count": 200,
     "metadata": {},
     "output_type": "execute_result"
    }
   ],
   "source": [
    "data.shape"
   ]
  },
  {
   "cell_type": "code",
   "execution_count": 208,
   "metadata": {},
   "outputs": [],
   "source": [
    "def stacking_face(face_num,faces):\n",
    "\n",
    "    face_v=torch.zeros((face_num,3,64,64))\n",
    "    for i in range(face_num):\n",
    "        face_v[i]=faces[:,:,i*64:i*64+64]\n",
    "    return face_v\n"
   ]
  },
  {
   "cell_type": "code",
   "execution_count": 221,
   "metadata": {},
   "outputs": [
    {
     "data": {
      "image/png": "[encoded data removed]",
      "text/plain": [
       "<Figure size 432x288 with 5 Axes>"
      ]
     },
     "metadata": {
      "needs_background": "light"
     },
     "output_type": "display_data"
    }
   ],
   "source": [
    "for i in range(5):\n",
    "    \n",
    "    plt.subplot(5,1,i+1)\n",
    "    plt.imshow((trans((face_v[i]).squeeze(0))))"
   ]
  },
  {
   "cell_type": "code",
   "execution_count": 220,
   "metadata": {},
   "outputs": [
    {
     "data": {
      "text/plain": [
       "torch.Size([3, 64, 64])"
      ]
     },
     "execution_count": 220,
     "metadata": {},
     "output_type": "execute_result"
    }
   ],
   "source": [
    "face_v[4].shape"
   ]
  },
  {
   "cell_type": "code",
   "execution_count": null,
   "metadata": {},
   "outputs": [],
   "source": []
  }
 ],
 "metadata": {
  "kernelspec": {
   "display_name": "Python 3",
   "language": "python",
   "name": "python3"
  },
  "language_info": {
   "codemirror_mode": {
    "name": "ipython",
    "version": 3
   },
   "file_extension": ".py",
   "mimetype": "text/x-python",
   "name": "python",
   "nbconvert_exporter": "python",
   "pygments_lexer": "ipython3",
   "version": "3.7.5"
  }
 },
 "nbformat": 4,
 "nbformat_minor": 4
}
