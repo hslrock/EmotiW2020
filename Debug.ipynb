{
 "cells": [
  {
   "cell_type": "code",
   "execution_count": 1,
   "metadata": {},
   "outputs": [],
   "source": [
    "from Dataload import dataload\n",
    "import torch.nn.functional as F\n",
    "\n",
    "import torch\n",
    "import torch.nn as nn\n",
    "from torchsummary import summary\n",
    "from sklearn.metrics import confusion_matrix\n",
    "from torch.utils.data import Dataset, DataLoader\n",
    "import matplotlib.pylab as plt\n",
    "from torchvision import  utils\n",
    "\n",
    "from src import detect_faces, show_bboxes\n",
    "from PIL import Image\n",
    "import numpy as np\n",
    "from module import video_model\n",
    "from constant import EMOTIPATH,EMOTIFACEPATH,EMOTIAUDIOPATH\n",
    "import os\n",
    "import pandas as pd\n",
    "import time\n",
    "from tqdm.notebook import tqdm\n",
    "import cv2\n",
    "from torchvision import transforms\n"
   ]
  },
  {
   "cell_type": "code",
   "execution_count": 2,
   "metadata": {},
   "outputs": [],
   "source": [
    "Train_label=os.path.join(EMOTIPATH,\"Train_labels.txt\")\n",
    "Val_labels=os.path.join(EMOTIPATH,\"Val_labels.txt\")\n",
    "Audio_Train=os.path.join(EMOTIAUDIOPATH,\"Train_audio.csv\")\n",
    "Audio_Valid=os.path.join(EMOTIAUDIOPATH,\"Val_audio.csv\")\n",
    "\n"
   ]
  },
  {
   "cell_type": "code",
   "execution_count": 11,
   "metadata": {},
   "outputs": [],
   "source": [
    "def num_correct(prediction,labels):\n",
    "    correct=0\n",
    "    for i,(pred_label,label) in enumerate(zip(prediction,labels)):\n",
    "        if (pred_label.item()==label.item()):\n",
    "            correct +=1\n",
    "    return correct\n",
    "\n",
    "class Audio_Data(Dataset):\n",
    "    def __init__(self,csv_file,audio_path=None):\n",
    "        self._table = pd.read_csv(csv_file,delimiter=' ')\n",
    "        self._audio_table=pd.read_csv(audio_path)\n",
    "    def __len__(self):\n",
    "        return len(self._table)\n",
    "    def __getitem__(self, idx):\n",
    "        audio_feature=self._audio_table.loc[self._audio_table.file_name ==self._table.Vid_name[idx]+'.arff']\n",
    "        audio_feature=pd.to_numeric(audio_feature.values[0][2:])\n",
    "        labels = torch.from_numpy(np.array(self._table.Label[idx]))-1\n",
    "        return (audio_feature,labels)\n",
    "        \n",
    "\n",
    "class AudioRecognition(nn.Module):\n",
    "    \n",
    "    def __init__(self,softmax=True,label=3):\n",
    "        super(AudioRecognition, self).__init__()\n",
    "        self.label=label\n",
    "        self.fc1=nn.Linear(988,512)\n",
    "        self.fc2=nn.Linear(512,128)\n",
    "        self.fc3=nn.Linear(128,self.label)\n",
    "        self.bn1 = nn.BatchNorm1d(num_features=512)\n",
    "        self.bn2=nn.BatchNorm1d(num_features=128)\n",
    "        self.relu = nn.ReLU()\n",
    "        self.softmax=softmax\n",
    "        \n",
    "    def forward(self,x):\n",
    "        x=self.relu(self.bn1(self.fc1(x)))\n",
    "        x=self.relu(self.bn2((self.fc2(x))))\n",
    "        x=(self.fc3(x))\n",
    "        \n",
    "        if self.softmax:\n",
    "            return F.softmax(x,1)\n",
    "        else:\n",
    "            return self.relu(x)\n"
   ]
  },
  {
   "cell_type": "code",
   "execution_count": 12,
   "metadata": {},
   "outputs": [],
   "source": [
    "def train(num_epochs,name,model,train_dataloader,valid_dataloader,optimizer,criterion):\n",
    "    f = open(name+\".txt\",'a')\n",
    "    start = time.time()\n",
    "    #Triaining\n",
    "    train_loss=[]\n",
    "    valid_accuracy=[]\n",
    "    model.train()\n",
    "    for epochs in range(0,num_epochs):\n",
    "        first=True\n",
    "        model.train()\n",
    "        correct=0\n",
    "        total_samples=0\n",
    "        avg_tloss=0\n",
    "        print(\"Training Epoch: \", epochs+1,\"\\n\")\n",
    "        for i_batch, (audio_file,label) in tqdm(enumerate(train_dataloader)):\n",
    "         \n",
    "            batch_size=audio_file.size(0)\n",
    "            optimizer.zero_grad()\n",
    "            audio_file=audio_file.float().to(device)\n",
    "            output=model(audio_file)\n",
    "            loss=criterion(output,label.to(device))\n",
    "            loss.backward()\n",
    "            predicted = torch.max(output, 1)\n",
    "            prediction=predicted.indices.detach().cpu()\n",
    "            correct +=num_correct(prediction,label)\n",
    "            total_samples+=batch_size\n",
    "            accuracy=correct/(total_samples)\n",
    "            optimizer.step()\n",
    "            true_label=label.detach().cpu()\n",
    "            avg_tloss+=loss.item()\n",
    "            if first:\n",
    "                first=False\n",
    "                conf_mat=confusion_matrix( true_label,prediction,labels=[0,1,2])\n",
    "            else:\n",
    "                conf_mat+=confusion_matrix(true_label,prediction,labels=[0,1,2])\n",
    "            if (i_batch+1)%84==0:\n",
    "               # print(label)\n",
    "                print(\"Batch: \",i_batch+1,\"/\",len(train_dataloader))\n",
    "                print(\"Batch Recognition loss: \", loss.item())\n",
    "\n",
    "        print(conf_mat)\n",
    "        avg_tloss=avg_tloss/len(train_dataloader)\n",
    "        avg_taccuracy=correct/total_samples\n",
    "        print(\"Average_Loss: \",avg_tloss)\n",
    "        print(\"Average_Accuracy: \",avg_taccuracy)\n",
    "\n",
    "        torch.save(model.state_dict(),name+\".pth\")\n",
    "        print(\"Validation\\n\")\n",
    "        model.eval()   \n",
    "        correct=0\n",
    "        total_samples=0\n",
    "        avg_vloss=0\n",
    "        first=True\n",
    "\n",
    "        for i_batch, (audio_file,label) in (enumerate(valid_dataloader)):\n",
    "         \n",
    "            batch_size=audio_file.size(0)\n",
    "            optimizer.zero_grad()\n",
    "            audio_file=audio_file.float().to(device)\n",
    "            \n",
    "            output=model(audio_file)\n",
    "            loss=criterion(output,label.to(device))\n",
    "            avg_vloss+=loss.item()\n",
    "            predicted = torch.max(output, 1)\n",
    "            prediction=predicted.indices.detach().cpu()\n",
    "            correct +=num_correct(prediction,label)\n",
    "            total_samples+=batch_size\n",
    "\n",
    "            true_label=label.detach().cpu()\n",
    "            if first:\n",
    "                first=False\n",
    "                conf_mat=confusion_matrix( true_label,prediction,labels=[0,1,2])\n",
    "            else:\n",
    "                conf_mat+=confusion_matrix(true_label,prediction,labels=[0,1,2])\n",
    "        print(conf_mat)\n",
    "        avg_vloss=avg_vloss/len(valid_dataloader)\n",
    "        print(avg_vloss)\n",
    "        avg_vaccuracy=correct/(total_samples)\n",
    "        print(\"Accuracy: \", avg_vaccuracy)\n",
    "\n",
    "        data = \" %f,%f,%f,%f \\n\" % (avg_tloss,avg_taccuracy,avg_vloss,avg_vaccuracy)\n",
    "        f.write(data)\n",
    "\n",
    "\n",
    "\n",
    "    f.close()"
   ]
  },
  {
   "cell_type": "code",
   "execution_count": 13,
   "metadata": {},
   "outputs": [
    {
     "data": {
      "text/plain": [
       "AudioRecognition(\n",
       "  (fc1): Linear(in_features=988, out_features=512, bias=True)\n",
       "  (fc2): Linear(in_features=512, out_features=128, bias=True)\n",
       "  (fc3): Linear(in_features=128, out_features=3, bias=True)\n",
       "  (bn1): BatchNorm1d(512, eps=1e-05, momentum=0.1, affine=True, track_running_stats=True)\n",
       "  (bn2): BatchNorm1d(128, eps=1e-05, momentum=0.1, affine=True, track_running_stats=True)\n",
       "  (relu): ReLU()\n",
       ")"
      ]
     },
     "execution_count": 13,
     "metadata": {},
     "output_type": "execute_result"
    }
   ],
   "source": [
    "model=AudioRecognition()\n",
    "\n",
    "device = torch.device(\"cuda:0\" if torch.cuda.is_available() else \"cpu\")\n",
    "torch.set_default_tensor_type(torch.cuda.FloatTensor)\n",
    "model.to(device)"
   ]
  },
  {
   "cell_type": "code",
   "execution_count": 14,
   "metadata": {},
   "outputs": [
    {
     "data": {
      "text/plain": [
       "tensor([[0.4899, 0.1863, 0.3238],\n",
       "        [0.3550, 0.2067, 0.4383],\n",
       "        [0.2335, 0.3245, 0.4420]], grad_fn=<SoftmaxBackward>)"
      ]
     },
     "execution_count": 14,
     "metadata": {},
     "output_type": "execute_result"
    }
   ],
   "source": [
    "model(torch.rand(3,988))"
   ]
  },
  {
   "cell_type": "code",
   "execution_count": 15,
   "metadata": {},
   "outputs": [],
   "source": [
    "train_set=Audio_Data(Train_label,Audio_Train)\n",
    "valid_set=Audio_Data(Val_labels,Audio_Valid)\n"
   ]
  },
  {
   "cell_type": "code",
   "execution_count": 16,
   "metadata": {},
   "outputs": [],
   "source": [
    "train_dataloader = DataLoader(train_set, batch_size=32\n",
    "                       , num_workers=0,shuffle=True)\n",
    "\n",
    "valid_dataloader = DataLoader(valid_set, batch_size=32\n",
    "                       , num_workers=0,shuffle=False)"
   ]
  },
  {
   "cell_type": "code",
   "execution_count": 19,
   "metadata": {},
   "outputs": [],
   "source": [
    "optimizer = torch.optim.Adam(filter(lambda p: p.requires_grad, model.parameters()), lr=0.0005, betas=(0.5, 0.999))\n",
    "num_epochs=50\n",
    "criterion = nn.CrossEntropyLoss()  \n",
    "\n",
    "model_name=\"pre_embedded_audio\""
   ]
  },
  {
   "cell_type": "code",
   "execution_count": 20,
   "metadata": {},
   "outputs": [
    {
     "name": "stdout",
     "output_type": "stream",
     "text": [
      "Training Epoch:  1 \n",
      "\n"
     ]
    },
    {
     "data": {
      "application/vnd.jupyter.widget-view+json": {
       "model_id": "94ea33460fa044e38ceb43447446ee43",
       "version_major": 2,
       "version_minor": 0
      },
      "text/plain": [
       "HBox(children=(FloatProgress(value=1.0, bar_style='info', max=1.0), HTML(value='')))"
      ]
     },
     "metadata": {},
     "output_type": "display_data"
    },
    {
     "name": "stdout",
     "output_type": "stream",
     "text": [
      "Batch:  84 / 84\n",
      "Batch Recognition loss:  1.1238806247711182\n",
      "\n",
      "[[643  94  69]\n",
      " [ 46 807  70]\n",
      " [ 51  88 793]]\n",
      "Average_Loss:  0.7128347931873231\n",
      "Average_Accuracy:  0.8429161969184517\n",
      "Validation\n",
      "\n",
      "[[ 92 123  84]\n",
      " [ 66 155  60]\n",
      " [ 34  63  89]]\n",
      "1.1055021459857624\n",
      "Accuracy:  0.4386422976501306\n",
      "Training Epoch:  2 \n",
      "\n"
     ]
    },
    {
     "data": {
      "application/vnd.jupyter.widget-view+json": {
       "model_id": "b510944c068b4c0fba33813cff304bab",
       "version_major": 2,
       "version_minor": 0
      },
      "text/plain": [
       "HBox(children=(FloatProgress(value=1.0, bar_style='info', max=1.0), HTML(value='')))"
      ]
     },
     "metadata": {},
     "output_type": "display_data"
    },
    {
     "name": "stdout",
     "output_type": "stream",
     "text": [
      "Batch:  84 / 84\n",
      "Batch Recognition loss:  0.5625830888748169\n",
      "\n",
      "[[647  84  75]\n",
      " [ 52 817  54]\n",
      " [ 40  74 818]]\n",
      "Average_Loss:  0.6934683521588644\n",
      "Average_Accuracy:  0.8575723412251034\n",
      "Validation\n",
      "\n",
      "[[ 94 125  80]\n",
      " [ 78 150  53]\n",
      " [ 38  62  86]]\n",
      "1.1054153442382812\n",
      "Accuracy:  0.4308093994778068\n",
      "Training Epoch:  3 \n",
      "\n"
     ]
    },
    {
     "data": {
      "application/vnd.jupyter.widget-view+json": {
       "model_id": "f196402863c3499b9346523b8f29d0a6",
       "version_major": 2,
       "version_minor": 0
      },
      "text/plain": [
       "HBox(children=(FloatProgress(value=1.0, bar_style='info', max=1.0), HTML(value='')))"
      ]
     },
     "metadata": {},
     "output_type": "display_data"
    },
    {
     "name": "stdout",
     "output_type": "stream",
     "text": [
      "Batch:  84 / 84\n",
      "Batch Recognition loss:  0.5566364526748657\n",
      "\n",
      "[[651  82  73]\n",
      " [ 56 797  70]\n",
      " [ 39  76 817]]\n",
      "Average_Loss:  0.6956836637996492\n",
      "Average_Accuracy:  0.8511837655016911\n",
      "Validation\n",
      "\n",
      "[[ 99 106  94]\n",
      " [ 88 132  61]\n",
      " [ 37  51  98]]\n",
      "1.1041720484693844\n",
      "Accuracy:  0.42950391644908614\n",
      "Training Epoch:  4 \n",
      "\n"
     ]
    },
    {
     "data": {
      "application/vnd.jupyter.widget-view+json": {
       "model_id": "d30bf05ca492443da4969684ca9295d5",
       "version_major": 2,
       "version_minor": 0
      },
      "text/plain": [
       "HBox(children=(FloatProgress(value=1.0, bar_style='info', max=1.0), HTML(value='')))"
      ]
     },
     "metadata": {},
     "output_type": "display_data"
    },
    {
     "name": "stdout",
     "output_type": "stream",
     "text": [
      "Batch:  84 / 84\n",
      "Batch Recognition loss:  1.134116530418396\n",
      "\n",
      "[[652  84  70]\n",
      " [ 41 825  57]\n",
      " [ 36  66 830]]\n",
      "Average_Loss:  0.6885307232538859\n",
      "Average_Accuracy:  0.8669673055242391\n",
      "Validation\n",
      "\n",
      "[[ 95 111  93]\n",
      " [ 72 149  60]\n",
      " [ 35  54  97]]\n",
      "1.0970219522714615\n",
      "Accuracy:  0.4451697127937337\n",
      "Training Epoch:  5 \n",
      "\n"
     ]
    },
    {
     "data": {
      "application/vnd.jupyter.widget-view+json": {
       "model_id": "f7b867ad816f4c7d9549fd94c9626128",
       "version_major": 2,
       "version_minor": 0
      },
      "text/plain": [
       "HBox(children=(FloatProgress(value=1.0, bar_style='info', max=1.0), HTML(value='')))"
      ]
     },
     "metadata": {},
     "output_type": "display_data"
    },
    {
     "name": "stdout",
     "output_type": "stream",
     "text": [
      "Batch:  84 / 84\n",
      "Batch Recognition loss:  0.7455648183822632\n",
      "\n",
      "[[668  75  63]\n",
      " [ 45 812  66]\n",
      " [ 31  65 836]]\n",
      "Average_Loss:  0.6815271760736193\n",
      "Average_Accuracy:  0.8703494926719278\n",
      "Validation\n",
      "\n",
      "[[104 104  91]\n",
      " [ 91 133  57]\n",
      " [ 38  50  98]]\n",
      "1.1003450552622478\n",
      "Accuracy:  0.43733681462140994\n",
      "Training Epoch:  6 \n",
      "\n"
     ]
    },
    {
     "data": {
      "application/vnd.jupyter.widget-view+json": {
       "model_id": "afc0ad19d48748bb963883822900bf62",
       "version_major": 2,
       "version_minor": 0
      },
      "text/plain": [
       "HBox(children=(FloatProgress(value=1.0, bar_style='info', max=1.0), HTML(value='')))"
      ]
     },
     "metadata": {},
     "output_type": "display_data"
    },
    {
     "name": "stdout",
     "output_type": "stream",
     "text": [
      "Batch:  84 / 84\n",
      "Batch Recognition loss:  1.1348888874053955\n",
      "\n",
      "[[672  68  66]\n",
      " [ 45 817  61]\n",
      " [ 23  57 852]]\n",
      "Average_Loss:  0.6764037147873924\n",
      "Average_Accuracy:  0.8797444569710635\n",
      "Validation\n",
      "\n",
      "[[ 92 105 102]\n",
      " [ 75 136  70]\n",
      " [ 32  49 105]]\n",
      "1.100900727013747\n",
      "Accuracy:  0.4347258485639687\n",
      "Training Epoch:  7 \n",
      "\n"
     ]
    },
    {
     "data": {
      "application/vnd.jupyter.widget-view+json": {
       "model_id": "3370223625f142fe8cae7d1ade210c12",
       "version_major": 2,
       "version_minor": 0
      },
      "text/plain": [
       "HBox(children=(FloatProgress(value=1.0, bar_style='info', max=1.0), HTML(value='')))"
      ]
     },
     "metadata": {},
     "output_type": "display_data"
    },
    {
     "name": "stdout",
     "output_type": "stream",
     "text": [
      "Batch:  84 / 84\n",
      "Batch Recognition loss:  0.5514690279960632\n",
      "\n",
      "[[667  72  67]\n",
      " [ 48 827  48]\n",
      " [ 26  67 839]]\n",
      "Average_Loss:  0.6729070671967098\n",
      "Average_Accuracy:  0.8767380683953401\n",
      "Validation\n",
      "\n",
      "[[106 105  88]\n",
      " [ 82 140  59]\n",
      " [ 43  50  93]]\n",
      "1.0953230286637943\n",
      "Accuracy:  0.4425587467362924\n",
      "Training Epoch:  8 \n",
      "\n"
     ]
    },
    {
     "data": {
      "application/vnd.jupyter.widget-view+json": {
       "model_id": "6c2e7585d86942fcb1f8646a922e290a",
       "version_major": 2,
       "version_minor": 0
      },
      "text/plain": [
       "HBox(children=(FloatProgress(value=1.0, bar_style='info', max=1.0), HTML(value='')))"
      ]
     },
     "metadata": {},
     "output_type": "display_data"
    },
    {
     "name": "stdout",
     "output_type": "stream",
     "text": [
      "Batch:  84 / 84\n",
      "Batch Recognition loss:  0.8877596855163574\n",
      "\n",
      "[[668  74  64]\n",
      " [ 41 829  53]\n",
      " [ 23  66 843]]\n",
      "Average_Loss:  0.672974638286091\n",
      "Average_Accuracy:  0.8793686583990981\n",
      "Validation\n",
      "\n",
      "[[110 101  88]\n",
      " [ 87 135  59]\n",
      " [ 37  52  97]]\n",
      "1.0928774053851764\n",
      "Accuracy:  0.4464751958224543\n",
      "Training Epoch:  9 \n",
      "\n"
     ]
    },
    {
     "data": {
      "application/vnd.jupyter.widget-view+json": {
       "model_id": "9dbd12e5637e4ae8a4391a390d789695",
       "version_major": 2,
       "version_minor": 0
      },
      "text/plain": [
       "HBox(children=(FloatProgress(value=1.0, bar_style='info', max=1.0), HTML(value='')))"
      ]
     },
     "metadata": {},
     "output_type": "display_data"
    },
    {
     "name": "stdout",
     "output_type": "stream",
     "text": [
      "Batch:  84 / 84\n",
      "Batch Recognition loss:  0.9474565386772156\n",
      "\n",
      "[[670  74  62]\n",
      " [ 46 833  44]\n",
      " [ 28  56 848]]\n",
      "Average_Loss:  0.6705474221990222\n",
      "Average_Accuracy:  0.8835024426907178\n",
      "Validation\n",
      "\n",
      "[[101 113  85]\n",
      " [ 79 148  54]\n",
      " [ 36  55  95]]\n",
      "1.0914180527130763\n",
      "Accuracy:  0.4490861618798956\n",
      "Training Epoch:  10 \n",
      "\n"
     ]
    },
    {
     "data": {
      "application/vnd.jupyter.widget-view+json": {
       "model_id": "4cf564540ad64f1e87daca55c97c4f3b",
       "version_major": 2,
       "version_minor": 0
      },
      "text/plain": [
       "HBox(children=(FloatProgress(value=1.0, bar_style='info', max=1.0), HTML(value='')))"
      ]
     },
     "metadata": {},
     "output_type": "display_data"
    },
    {
     "name": "stdout",
     "output_type": "stream",
     "text": [
      "Batch:  84 / 84\n",
      "Batch Recognition loss:  0.9493656158447266\n",
      "\n",
      "[[666  78  62]\n",
      " [ 48 828  47]\n",
      " [ 27  66 839]]\n",
      "Average_Loss:  0.6766406283492133\n",
      "Average_Accuracy:  0.8767380683953401\n",
      "Validation\n",
      "\n",
      "[[ 82 124  93]\n",
      " [ 68 151  62]\n",
      " [ 30  58  98]]\n",
      "1.1011107042431831\n",
      "Accuracy:  0.4321148825065274\n",
      "Training Epoch:  11 \n",
      "\n"
     ]
    },
    {
     "data": {
      "application/vnd.jupyter.widget-view+json": {
       "model_id": "8ff7a16dcc4747cd9ff435b9718533ee",
       "version_major": 2,
       "version_minor": 0
      },
      "text/plain": [
       "HBox(children=(FloatProgress(value=1.0, bar_style='info', max=1.0), HTML(value='')))"
      ]
     },
     "metadata": {},
     "output_type": "display_data"
    },
    {
     "name": "stdout",
     "output_type": "stream",
     "text": [
      "Batch:  84 / 84\n",
      "Batch Recognition loss:  0.7891084551811218\n",
      "\n",
      "[[673  72  61]\n",
      " [ 42 832  49]\n",
      " [ 26  59 847]]\n",
      "Average_Loss:  0.6684051681132543\n",
      "Average_Accuracy:  0.8838782412626832\n",
      "Validation\n",
      "\n",
      "[[ 89  98 112]\n",
      " [ 68 144  69]\n",
      " [ 33  50 103]]\n",
      "1.0956494212150574\n",
      "Accuracy:  0.4386422976501306\n",
      "Training Epoch:  12 \n",
      "\n"
     ]
    },
    {
     "data": {
      "application/vnd.jupyter.widget-view+json": {
       "model_id": "10b1287696434adebbdda841880fa4d8",
       "version_major": 2,
       "version_minor": 0
      },
      "text/plain": [
       "HBox(children=(FloatProgress(value=1.0, bar_style='info', max=1.0), HTML(value='')))"
      ]
     },
     "metadata": {},
     "output_type": "display_data"
    },
    {
     "name": "stdout",
     "output_type": "stream",
     "text": [
      "Batch:  84 / 84\n",
      "Batch Recognition loss:  0.5549255609512329\n",
      "\n",
      "[[676  71  59]\n",
      " [ 41 836  46]\n",
      " [ 22  60 850]]\n",
      "Average_Loss:  0.6627018607798076\n",
      "Average_Accuracy:  0.8876362269823375\n",
      "Validation\n",
      "\n",
      "[[ 99 118  82]\n",
      " [ 72 158  51]\n",
      " [ 36  59  91]]\n",
      "1.089629848798116\n",
      "Accuracy:  0.45430809399477806\n",
      "Training Epoch:  13 \n",
      "\n"
     ]
    },
    {
     "data": {
      "application/vnd.jupyter.widget-view+json": {
       "model_id": "7c88ac941a914f8ebce2adc1891ffa61",
       "version_major": 2,
       "version_minor": 0
      },
      "text/plain": [
       "HBox(children=(FloatProgress(value=1.0, bar_style='info', max=1.0), HTML(value='')))"
      ]
     },
     "metadata": {},
     "output_type": "display_data"
    },
    {
     "name": "stdout",
     "output_type": "stream",
     "text": [
      "Batch:  84 / 84\n",
      "Batch Recognition loss:  0.5898122787475586\n",
      "\n",
      "[[680  70  56]\n",
      " [ 44 837  42]\n",
      " [ 28  60 844]]\n",
      "Average_Loss:  0.6621244280111223\n",
      "Average_Accuracy:  0.887260428410372\n",
      "Validation\n",
      "\n",
      "[[ 91 134  74]\n",
      " [ 65 171  45]\n",
      " [ 33  69  84]]\n",
      "1.0856571247180302\n",
      "Accuracy:  0.4516971279373368\n",
      "Training Epoch:  14 \n",
      "\n"
     ]
    },
    {
     "data": {
      "application/vnd.jupyter.widget-view+json": {
       "model_id": "b1fc3dbea8384eb1a400dae79f2b0fa1",
       "version_major": 2,
       "version_minor": 0
      },
      "text/plain": [
       "HBox(children=(FloatProgress(value=1.0, bar_style='info', max=1.0), HTML(value='')))"
      ]
     },
     "metadata": {},
     "output_type": "display_data"
    },
    {
     "name": "stdout",
     "output_type": "stream",
     "text": [
      "Batch:  84 / 84\n",
      "Batch Recognition loss:  1.1409661769866943\n",
      "\n",
      "[[686  70  50]\n",
      " [ 46 834  43]\n",
      " [ 22  58 852]]\n",
      "Average_Loss:  0.6651817361513773\n",
      "Average_Accuracy:  0.8913942127019917\n",
      "Validation\n",
      "\n",
      "[[102 113  84]\n",
      " [ 74 156  51]\n",
      " [ 39  59  88]]\n",
      "1.0838041255871456\n",
      "Accuracy:  0.4516971279373368\n",
      "Training Epoch:  15 \n",
      "\n"
     ]
    },
    {
     "data": {
      "application/vnd.jupyter.widget-view+json": {
       "model_id": "1ccedf386e62435397a9e3db6e0840aa",
       "version_major": 2,
       "version_minor": 0
      },
      "text/plain": [
       "HBox(children=(FloatProgress(value=1.0, bar_style='info', max=1.0), HTML(value='')))"
      ]
     },
     "metadata": {},
     "output_type": "display_data"
    },
    {
     "name": "stdout",
     "output_type": "stream",
     "text": [
      "Batch:  84 / 84\n",
      "Batch Recognition loss:  0.7115412354469299\n",
      "\n",
      "[[684  65  57]\n",
      " [ 40 843  40]\n",
      " [ 27  58 847]]\n",
      "Average_Loss:  0.6599428802728653\n",
      "Average_Accuracy:  0.8921458098459226\n",
      "Validation\n",
      "\n",
      "[[ 94 110  95]\n",
      " [ 67 153  61]\n",
      " [ 33  57  96]]\n",
      "1.08980576445659\n",
      "Accuracy:  0.44778067885117495\n",
      "Training Epoch:  16 \n",
      "\n"
     ]
    },
    {
     "data": {
      "application/vnd.jupyter.widget-view+json": {
       "model_id": "b3acc877acd4413a89514ea984387804",
       "version_major": 2,
       "version_minor": 0
      },
      "text/plain": [
       "HBox(children=(FloatProgress(value=1.0, bar_style='info', max=1.0), HTML(value='')))"
      ]
     },
     "metadata": {},
     "output_type": "display_data"
    },
    {
     "name": "stdout",
     "output_type": "stream",
     "text": [
      "Batch:  84 / 84\n",
      "Batch Recognition loss:  1.2483878135681152\n",
      "\n",
      "[[681  70  55]\n",
      " [ 43 839  41]\n",
      " [ 22  56 854]]\n",
      "Average_Loss:  0.6642555076451528\n",
      "Average_Accuracy:  0.8921458098459226\n",
      "Validation\n",
      "\n",
      "[[ 94 115  90]\n",
      " [ 73 156  52]\n",
      " [ 35  60  91]]\n",
      "1.0944855486353238\n",
      "Accuracy:  0.4451697127937337\n",
      "Training Epoch:  17 \n",
      "\n"
     ]
    },
    {
     "data": {
      "application/vnd.jupyter.widget-view+json": {
       "model_id": "fba10d94cdcd4de4a5af1ac014f219d6",
       "version_major": 2,
       "version_minor": 0
      },
      "text/plain": [
       "HBox(children=(FloatProgress(value=1.0, bar_style='info', max=1.0), HTML(value='')))"
      ]
     },
     "metadata": {},
     "output_type": "display_data"
    },
    {
     "name": "stdout",
     "output_type": "stream",
     "text": [
      "Batch:  84 / 84\n",
      "Batch Recognition loss:  0.7517698407173157\n",
      "\n",
      "[[685  69  52]\n",
      " [ 36 847  40]\n",
      " [ 22  55 855]]\n",
      "Average_Loss:  0.6573313680433092\n",
      "Average_Accuracy:  0.8970311912814731\n",
      "Validation\n",
      "\n",
      "[[ 94 119  86]\n",
      " [ 71 158  52]\n",
      " [ 36  62  88]]\n",
      "1.0912190948923428\n",
      "Accuracy:  0.44386422976501305\n",
      "Training Epoch:  18 \n",
      "\n"
     ]
    },
    {
     "data": {
      "application/vnd.jupyter.widget-view+json": {
       "model_id": "56b5a64766dd4974995909ef78282710",
       "version_major": 2,
       "version_minor": 0
      },
      "text/plain": [
       "HBox(children=(FloatProgress(value=1.0, bar_style='info', max=1.0), HTML(value='')))"
      ]
     },
     "metadata": {},
     "output_type": "display_data"
    },
    {
     "name": "stdout",
     "output_type": "stream",
     "text": [
      "Batch:  84 / 84\n",
      "Batch Recognition loss:  0.7275443077087402\n",
      "\n",
      "[[685  69  52]\n",
      " [ 39 842  42]\n",
      " [ 20  55 857]]\n",
      "Average_Loss:  0.6561502686568669\n",
      "Average_Accuracy:  0.8959037955655769\n",
      "Validation\n",
      "\n",
      "[[109 109  81]\n",
      " [ 80 152  49]\n",
      " [ 39  56  91]]\n",
      "1.084112862745921\n",
      "Accuracy:  0.4595300261096606\n",
      "Training Epoch:  19 \n",
      "\n"
     ]
    },
    {
     "data": {
      "application/vnd.jupyter.widget-view+json": {
       "model_id": "d47804610aee4cabbe297d506c057b27",
       "version_major": 2,
       "version_minor": 0
      },
      "text/plain": [
       "HBox(children=(FloatProgress(value=1.0, bar_style='info', max=1.0), HTML(value='')))"
      ]
     },
     "metadata": {},
     "output_type": "display_data"
    },
    {
     "name": "stdout",
     "output_type": "stream",
     "text": [
      "Batch:  84 / 84\n",
      "Batch Recognition loss:  0.7536333203315735\n",
      "\n",
      "[[685  66  55]\n",
      " [ 42 839  42]\n",
      " [ 21  52 859]]\n",
      "Average_Loss:  0.6570201842557817\n",
      "Average_Accuracy:  0.8955279969936114\n",
      "Validation\n",
      "\n",
      "[[108 114  77]\n",
      " [ 82 151  48]\n",
      " [ 44  56  86]]\n",
      "1.0818242952227592\n",
      "Accuracy:  0.45039164490861616\n",
      "Training Epoch:  20 \n",
      "\n"
     ]
    },
    {
     "data": {
      "application/vnd.jupyter.widget-view+json": {
       "model_id": "f6485a9979a34b5abb0483be22421e02",
       "version_major": 2,
       "version_minor": 0
      },
      "text/plain": [
       "HBox(children=(FloatProgress(value=1.0, bar_style='info', max=1.0), HTML(value='')))"
      ]
     },
     "metadata": {},
     "output_type": "display_data"
    },
    {
     "name": "stdout",
     "output_type": "stream",
     "text": [
      "Batch:  84 / 84\n",
      "Batch Recognition loss:  0.5514816045761108\n",
      "\n",
      "[[688  71  47]\n",
      " [ 33 846  44]\n",
      " [ 26  52 854]]\n",
      "Average_Loss:  0.6522525761808667\n",
      "Average_Accuracy:  0.8974069898534386\n",
      "Validation\n",
      "\n",
      "[[ 92 117  90]\n",
      " [ 69 156  56]\n",
      " [ 34  56  96]]\n",
      "1.0900884096821148\n",
      "Accuracy:  0.4490861618798956\n",
      "Training Epoch:  21 \n",
      "\n"
     ]
    },
    {
     "data": {
      "application/vnd.jupyter.widget-view+json": {
       "model_id": "3a676eff5e9c4de792ec7a87a3e108ae",
       "version_major": 2,
       "version_minor": 0
      },
      "text/plain": [
       "HBox(children=(FloatProgress(value=1.0, bar_style='info', max=1.0), HTML(value='')))"
      ]
     },
     "metadata": {},
     "output_type": "display_data"
    },
    {
     "name": "stdout",
     "output_type": "stream",
     "text": [
      "Batch:  84 / 84\n",
      "Batch Recognition loss:  1.1427202224731445\n",
      "\n",
      "[[690  65  51]\n",
      " [ 40 847  36]\n",
      " [ 21  55 856]]\n",
      "Average_Loss:  0.6578244914611181\n",
      "Average_Accuracy:  0.8992859827132657\n",
      "Validation\n",
      "\n",
      "[[102 106  91]\n",
      " [ 77 148  56]\n",
      " [ 32  53 101]]\n",
      "1.0858579998215039\n",
      "Accuracy:  0.45822454308093996\n",
      "Training Epoch:  22 \n",
      "\n"
     ]
    },
    {
     "data": {
      "application/vnd.jupyter.widget-view+json": {
       "model_id": "03f194c1a57146d89b5cf561fc6dce04",
       "version_major": 2,
       "version_minor": 0
      },
      "text/plain": [
       "HBox(children=(FloatProgress(value=1.0, bar_style='info', max=1.0), HTML(value='')))"
      ]
     },
     "metadata": {},
     "output_type": "display_data"
    },
    {
     "name": "stdout",
     "output_type": "stream",
     "text": [
      "Batch:  84 / 84\n",
      "Batch Recognition loss:  1.1130073070526123\n",
      "\n",
      "[[693  69  44]\n",
      " [ 40 841  42]\n",
      " [ 23  52 857]]\n",
      "Average_Loss:  0.6579862102156594\n",
      "Average_Accuracy:  0.8985343855693348\n",
      "Validation\n",
      "\n",
      "[[ 85 119  95]\n",
      " [ 64 161  56]\n",
      " [ 31  54 101]]\n",
      "1.085332341492176\n",
      "Accuracy:  0.45300261096605743\n",
      "Training Epoch:  23 \n",
      "\n"
     ]
    },
    {
     "data": {
      "application/vnd.jupyter.widget-view+json": {
       "model_id": "64800e19e2c748ddb128b08c89933d8c",
       "version_major": 2,
       "version_minor": 0
      },
      "text/plain": [
       "HBox(children=(FloatProgress(value=1.0, bar_style='info', max=1.0), HTML(value='')))"
      ]
     },
     "metadata": {},
     "output_type": "display_data"
    },
    {
     "name": "stdout",
     "output_type": "stream",
     "text": [
      "Batch:  84 / 84\n",
      "Batch Recognition loss:  0.9503990411758423\n",
      "\n",
      "[[691  67  48]\n",
      " [ 32 853  38]\n",
      " [ 21  56 855]]\n",
      "Average_Loss:  0.6531304348082769\n",
      "Average_Accuracy:  0.9015407741450583\n",
      "Validation\n",
      "\n",
      "[[ 91 126  82]\n",
      " [ 65 165  51]\n",
      " [ 36  61  89]]\n",
      "1.0876308555404346\n",
      "Accuracy:  0.45039164490861616\n",
      "Training Epoch:  24 \n",
      "\n"
     ]
    },
    {
     "data": {
      "application/vnd.jupyter.widget-view+json": {
       "model_id": "933b72a4e7d6485ba39466a3c52056f4",
       "version_major": 2,
       "version_minor": 0
      },
      "text/plain": [
       "HBox(children=(FloatProgress(value=1.0, bar_style='info', max=1.0), HTML(value='')))"
      ]
     },
     "metadata": {},
     "output_type": "display_data"
    },
    {
     "name": "stdout",
     "output_type": "stream",
     "text": [
      "Batch:  84 / 84\n",
      "Batch Recognition loss:  0.7618972659111023\n",
      "\n",
      "[[690  66  50]\n",
      " [ 36 847  40]\n",
      " [ 23  48 861]]\n",
      "Average_Loss:  0.6506433799153283\n",
      "Average_Accuracy:  0.9011649755730928\n",
      "Validation\n",
      "\n",
      "[[ 97 112  90]\n",
      " [ 73 148  60]\n",
      " [ 35  52  99]]\n",
      "1.0860060825943947\n",
      "Accuracy:  0.4490861618798956\n",
      "Training Epoch:  25 \n",
      "\n"
     ]
    },
    {
     "data": {
      "application/vnd.jupyter.widget-view+json": {
       "model_id": "b976d37a09964cfea113322e24768f8f",
       "version_major": 2,
       "version_minor": 0
      },
      "text/plain": [
       "HBox(children=(FloatProgress(value=1.0, bar_style='info', max=1.0), HTML(value='')))"
      ]
     },
     "metadata": {},
     "output_type": "display_data"
    },
    {
     "name": "stdout",
     "output_type": "stream",
     "text": [
      "Batch:  84 / 84\n",
      "Batch Recognition loss:  1.349638819694519\n",
      "\n",
      "[[695  64  47]\n",
      " [ 34 852  37]\n",
      " [ 25  48 859]]\n",
      "Average_Loss:  0.6559319794178009\n",
      "Average_Accuracy:  0.9041713641488163\n",
      "Validation\n",
      "\n",
      "[[ 86 119  94]\n",
      " [ 55 163  63]\n",
      " [ 29  56 101]]\n",
      "1.0842033649484317\n",
      "Accuracy:  0.45691906005221933\n",
      "Training Epoch:  26 \n",
      "\n"
     ]
    },
    {
     "data": {
      "application/vnd.jupyter.widget-view+json": {
       "model_id": "54750ca3b29c42bb97d0d75965578097",
       "version_major": 2,
       "version_minor": 0
      },
      "text/plain": [
       "HBox(children=(FloatProgress(value=1.0, bar_style='info', max=1.0), HTML(value='')))"
      ]
     },
     "metadata": {},
     "output_type": "display_data"
    },
    {
     "name": "stdout",
     "output_type": "stream",
     "text": [
      "Batch:  84 / 84\n",
      "Batch Recognition loss:  1.1980102062225342\n",
      "\n",
      "[[697  60  49]\n",
      " [ 31 852  40]\n",
      " [ 21  47 864]]\n",
      "Average_Loss:  0.6510539821216038\n",
      "Average_Accuracy:  0.9068019541525743\n",
      "Validation\n",
      "\n",
      "[[112 101  86]\n",
      " [ 83 142  56]\n",
      " [ 42  51  93]]\n",
      "1.0857562348246574\n",
      "Accuracy:  0.45300261096605743\n",
      "Training Epoch:  27 \n",
      "\n"
     ]
    },
    {
     "data": {
      "application/vnd.jupyter.widget-view+json": {
       "model_id": "7a519687980e408098349163176e9f75",
       "version_major": 2,
       "version_minor": 0
      },
      "text/plain": [
       "HBox(children=(FloatProgress(value=1.0, bar_style='info', max=1.0), HTML(value='')))"
      ]
     },
     "metadata": {},
     "output_type": "display_data"
    },
    {
     "name": "stdout",
     "output_type": "stream",
     "text": [
      "Batch:  84 / 84\n",
      "Batch Recognition loss:  0.8355226516723633\n",
      "\n",
      "[[691  66  49]\n",
      " [ 34 848  41]\n",
      " [ 14  51 867]]\n",
      "Average_Loss:  0.6486576149861017\n",
      "Average_Accuracy:  0.9041713641488163\n",
      "Validation\n",
      "\n",
      "[[ 91 133  75]\n",
      " [ 58 169  54]\n",
      " [ 35  64  87]]\n",
      "1.0841910714904468\n",
      "Accuracy:  0.45300261096605743\n",
      "Training Epoch:  28 \n",
      "\n"
     ]
    },
    {
     "data": {
      "application/vnd.jupyter.widget-view+json": {
       "model_id": "060ee2e570e748efbe9008c2ac8c9d58",
       "version_major": 2,
       "version_minor": 0
      },
      "text/plain": [
       "HBox(children=(FloatProgress(value=1.0, bar_style='info', max=1.0), HTML(value='')))"
      ]
     },
     "metadata": {},
     "output_type": "display_data"
    },
    {
     "name": "stdout",
     "output_type": "stream",
     "text": [
      "Batch:  84 / 84\n",
      "Batch Recognition loss:  0.6928857564926147\n",
      "\n",
      "[[698  60  48]\n",
      " [ 33 852  38]\n",
      " [ 22  47 863]]\n",
      "Average_Loss:  0.6459374981267112\n",
      "Average_Accuracy:  0.9068019541525743\n",
      "Validation\n",
      "\n",
      "[[ 94  99 106]\n",
      " [ 66 145  70]\n",
      " [ 29  45 112]]\n",
      "1.0826053495208423\n",
      "Accuracy:  0.45822454308093996\n",
      "Training Epoch:  29 \n",
      "\n"
     ]
    },
    {
     "data": {
      "application/vnd.jupyter.widget-view+json": {
       "model_id": "2afbaa868e404d3ba22aefa6882ebabb",
       "version_major": 2,
       "version_minor": 0
      },
      "text/plain": [
       "HBox(children=(FloatProgress(value=1.0, bar_style='info', max=1.0), HTML(value='')))"
      ]
     },
     "metadata": {},
     "output_type": "display_data"
    },
    {
     "name": "stdout",
     "output_type": "stream",
     "text": [
      "Batch:  84 / 84\n",
      "Batch Recognition loss:  0.9517587423324585\n",
      "\n",
      "[[696  68  42]\n",
      " [ 35 853  35]\n",
      " [ 20  55 857]]\n",
      "Average_Loss:  0.6512588454144341\n",
      "Average_Accuracy:  0.9041713641488163\n",
      "Validation\n",
      "\n",
      "[[ 90 117  92]\n",
      " [ 60 164  57]\n",
      " [ 33  58  95]]\n",
      "1.0841849620143573\n",
      "Accuracy:  0.4556135770234987\n",
      "Training Epoch:  30 \n",
      "\n"
     ]
    },
    {
     "data": {
      "application/vnd.jupyter.widget-view+json": {
       "model_id": "4d448da34f774733906458dd186682da",
       "version_major": 2,
       "version_minor": 0
      },
      "text/plain": [
       "HBox(children=(FloatProgress(value=1.0, bar_style='info', max=1.0), HTML(value='')))"
      ]
     },
     "metadata": {},
     "output_type": "display_data"
    },
    {
     "name": "stdout",
     "output_type": "stream",
     "text": [
      "Batch:  84 / 84\n",
      "Batch Recognition loss:  0.7544621229171753\n",
      "\n",
      "[[697  60  49]\n",
      " [ 31 851  41]\n",
      " [ 15  52 865]]\n",
      "Average_Loss:  0.6459449848958424\n",
      "Average_Accuracy:  0.9068019541525743\n",
      "Validation\n",
      "\n",
      "[[103 115  81]\n",
      " [ 67 162  52]\n",
      " [ 37  61  88]]\n",
      "1.0839128742615383\n",
      "Accuracy:  0.4608355091383812\n",
      "Training Epoch:  31 \n",
      "\n"
     ]
    },
    {
     "data": {
      "application/vnd.jupyter.widget-view+json": {
       "model_id": "16e2d5551509412d90bd3c1733013eb5",
       "version_major": 2,
       "version_minor": 0
      },
      "text/plain": [
       "HBox(children=(FloatProgress(value=1.0, bar_style='info', max=1.0), HTML(value='')))"
      ]
     },
     "metadata": {},
     "output_type": "display_data"
    },
    {
     "name": "stdout",
     "output_type": "stream",
     "text": [
      "Batch:  84 / 84\n",
      "Batch Recognition loss:  0.6289607882499695\n",
      "\n",
      "[[697  69  40]\n",
      " [ 35 856  32]\n",
      " [ 13  50 869]]\n",
      "Average_Loss:  0.6424506249881926\n",
      "Average_Accuracy:  0.910184141300263\n",
      "Validation\n",
      "\n",
      "[[113 100  86]\n",
      " [ 91 136  54]\n",
      " [ 43  49  94]]\n",
      "1.0873697027564049\n",
      "Accuracy:  0.44778067885117495\n",
      "Training Epoch:  32 \n",
      "\n"
     ]
    },
    {
     "data": {
      "application/vnd.jupyter.widget-view+json": {
       "model_id": "c668c8252c314d758ce949c57d78abb6",
       "version_major": 2,
       "version_minor": 0
      },
      "text/plain": [
       "HBox(children=(FloatProgress(value=1.0, bar_style='info', max=1.0), HTML(value='')))"
      ]
     },
     "metadata": {},
     "output_type": "display_data"
    },
    {
     "name": "stdout",
     "output_type": "stream",
     "text": [
      "Batch:  84 / 84\n",
      "Batch Recognition loss:  0.7547442317008972\n",
      "\n",
      "[[700  63  43]\n",
      " [ 42 842  39]\n",
      " [ 17  49 866]]\n",
      "Average_Loss:  0.6469498773415884\n",
      "Average_Accuracy:  0.9049229612927471\n",
      "Validation\n",
      "\n",
      "[[ 81 115 103]\n",
      " [ 57 157  67]\n",
      " [ 26  57 103]]\n",
      "1.0910065670808156\n",
      "Accuracy:  0.4451697127937337\n",
      "Training Epoch:  33 \n",
      "\n"
     ]
    },
    {
     "data": {
      "application/vnd.jupyter.widget-view+json": {
       "model_id": "1d8ca3dd6ee644d68e4547acb7305d39",
       "version_major": 2,
       "version_minor": 0
      },
      "text/plain": [
       "HBox(children=(FloatProgress(value=1.0, bar_style='info', max=1.0), HTML(value='')))"
      ]
     },
     "metadata": {},
     "output_type": "display_data"
    },
    {
     "name": "stdout",
     "output_type": "stream",
     "text": [
      "Batch:  84 / 84\n",
      "Batch Recognition loss:  0.7985727190971375\n",
      "\n",
      "[[695  68  43]\n",
      " [ 30 856  37]\n",
      " [ 18  50 864]]\n",
      "Average_Loss:  0.6454310878401711\n",
      "Average_Accuracy:  0.9075535512965051\n",
      "Validation\n",
      "\n",
      "[[ 87 110 102]\n",
      " [ 55 159  67]\n",
      " [ 24  61 101]]\n",
      "1.0954814131061237\n",
      "Accuracy:  0.45300261096605743\n",
      "Training Epoch:  34 \n",
      "\n"
     ]
    },
    {
     "data": {
      "application/vnd.jupyter.widget-view+json": {
       "model_id": "0232ad5cfc9d48eba8109a239ad4a369",
       "version_major": 2,
       "version_minor": 0
      },
      "text/plain": [
       "HBox(children=(FloatProgress(value=1.0, bar_style='info', max=1.0), HTML(value='')))"
      ]
     },
     "metadata": {},
     "output_type": "display_data"
    },
    {
     "name": "stdout",
     "output_type": "stream",
     "text": [
      "Batch:  84 / 84\n",
      "Batch Recognition loss:  1.0562629699707031\n",
      "\n",
      "[[700  66  40]\n",
      " [ 35 850  38]\n",
      " [ 18  45 869]]\n",
      "Average_Loss:  0.6463387182780674\n",
      "Average_Accuracy:  0.9090567455843668\n",
      "Validation\n",
      "\n",
      "[[ 99  98 102]\n",
      " [ 77 140  64]\n",
      " [ 31  49 106]]\n",
      "1.0905448098977406\n",
      "Accuracy:  0.45039164490861616\n",
      "Training Epoch:  35 \n",
      "\n"
     ]
    },
    {
     "data": {
      "application/vnd.jupyter.widget-view+json": {
       "model_id": "067cd50c419d477183da059ebccb17bd",
       "version_major": 2,
       "version_minor": 0
      },
      "text/plain": [
       "HBox(children=(FloatProgress(value=1.0, bar_style='info', max=1.0), HTML(value='')))"
      ]
     },
     "metadata": {},
     "output_type": "display_data"
    },
    {
     "name": "stdout",
     "output_type": "stream",
     "text": [
      "Batch:  84 / 84\n",
      "Batch Recognition loss:  1.136529564857483\n",
      "\n",
      "[[697  72  37]\n",
      " [ 37 852  34]\n",
      " [ 18  45 869]]\n",
      "Average_Loss:  0.6474345667021615\n",
      "Average_Accuracy:  0.9086809470124013\n",
      "Validation\n",
      "\n",
      "[[ 84 113 102]\n",
      " [ 61 155  65]\n",
      " [ 25  57 104]]\n",
      "1.0916463434696198\n",
      "Accuracy:  0.44778067885117495\n",
      "Training Epoch:  36 \n",
      "\n"
     ]
    },
    {
     "data": {
      "application/vnd.jupyter.widget-view+json": {
       "model_id": "35452d6da238499db8901cdd81617490",
       "version_major": 2,
       "version_minor": 0
      },
      "text/plain": [
       "HBox(children=(FloatProgress(value=1.0, bar_style='info', max=1.0), HTML(value='')))"
      ]
     },
     "metadata": {},
     "output_type": "display_data"
    },
    {
     "name": "stdout",
     "output_type": "stream",
     "text": [
      "Batch:  84 / 84\n",
      "Batch Recognition loss:  0.5514488220214844\n",
      "\n",
      "[[700  66  40]\n",
      " [ 38 857  28]\n",
      " [ 14  46 872]]\n",
      "Average_Loss:  0.6386719026735851\n",
      "Average_Accuracy:  0.912814731304021\n",
      "Validation\n",
      "\n",
      "[[115 101  83]\n",
      " [ 79 146  56]\n",
      " [ 39  52  95]]\n",
      "1.079857014119625\n",
      "Accuracy:  0.46475195822454307\n",
      "Training Epoch:  37 \n",
      "\n"
     ]
    },
    {
     "data": {
      "application/vnd.jupyter.widget-view+json": {
       "model_id": "bb335cb8393b40ac86474bee00c7741d",
       "version_major": 2,
       "version_minor": 0
      },
      "text/plain": [
       "HBox(children=(FloatProgress(value=1.0, bar_style='info', max=1.0), HTML(value='')))"
      ]
     },
     "metadata": {},
     "output_type": "display_data"
    },
    {
     "name": "stdout",
     "output_type": "stream",
     "text": [
      "Batch:  84 / 84\n",
      "Batch Recognition loss:  0.8181740641593933\n",
      "\n",
      "[[708  58  40]\n",
      " [ 34 851  38]\n",
      " [ 17  51 864]]\n",
      "Average_Loss:  0.6426132151058742\n",
      "Average_Accuracy:  0.9105599398722285\n",
      "Validation\n",
      "\n",
      "[[111 119  69]\n",
      " [ 79 156  46]\n",
      " [ 41  63  82]]\n",
      "1.086092360317707\n",
      "Accuracy:  0.4556135770234987\n",
      "Training Epoch:  38 \n",
      "\n"
     ]
    },
    {
     "data": {
      "application/vnd.jupyter.widget-view+json": {
       "model_id": "fa0f0e60ff0745a0b167dd74f332ada2",
       "version_major": 2,
       "version_minor": 0
      },
      "text/plain": [
       "HBox(children=(FloatProgress(value=1.0, bar_style='info', max=1.0), HTML(value='')))"
      ]
     },
     "metadata": {},
     "output_type": "display_data"
    },
    {
     "name": "stdout",
     "output_type": "stream",
     "text": [
      "Batch:  84 / 84\n",
      "Batch Recognition loss:  0.7008112668991089\n",
      "\n",
      "[[703  63  40]\n",
      " [ 26 856  41]\n",
      " [ 17  42 873]]\n",
      "Average_Loss:  0.6383902338289079\n",
      "Average_Accuracy:  0.9139421270199173\n",
      "Validation\n",
      "\n",
      "[[ 93 127  79]\n",
      " [ 63 172  46]\n",
      " [ 32  64  90]]\n",
      "1.0858153079946835\n",
      "Accuracy:  0.46344647519582244\n",
      "Training Epoch:  39 \n",
      "\n"
     ]
    },
    {
     "data": {
      "application/vnd.jupyter.widget-view+json": {
       "model_id": "5b60e6a6d1f24e7198f1e233df76f01b",
       "version_major": 2,
       "version_minor": 0
      },
      "text/plain": [
       "HBox(children=(FloatProgress(value=1.0, bar_style='info', max=1.0), HTML(value='')))"
      ]
     },
     "metadata": {},
     "output_type": "display_data"
    },
    {
     "name": "stdout",
     "output_type": "stream",
     "text": [
      "Batch:  84 / 84\n",
      "Batch Recognition loss:  0.7478008270263672\n",
      "\n",
      "[[699  59  48]\n",
      " [ 30 857  36]\n",
      " [ 15  45 872]]\n",
      "Average_Loss:  0.6402747765893028\n",
      "Average_Accuracy:  0.9124389327320556\n",
      "Validation\n",
      "\n",
      "[[ 76 124  99]\n",
      " [ 54 161  66]\n",
      " [ 24  58 104]]\n",
      "1.0932973846793175\n",
      "Accuracy:  0.4451697127937337\n",
      "Training Epoch:  40 \n",
      "\n"
     ]
    },
    {
     "data": {
      "application/vnd.jupyter.widget-view+json": {
       "model_id": "3223bef5f01e4ea09505c29c5316c421",
       "version_major": 2,
       "version_minor": 0
      },
      "text/plain": [
       "HBox(children=(FloatProgress(value=1.0, bar_style='info', max=1.0), HTML(value='')))"
      ]
     },
     "metadata": {},
     "output_type": "display_data"
    },
    {
     "name": "stdout",
     "output_type": "stream",
     "text": [
      "Batch:  84 / 84\n",
      "Batch Recognition loss:  0.7539480328559875\n",
      "\n",
      "[[699  66  41]\n",
      " [ 37 848  38]\n",
      " [ 13  47 872]]\n",
      "Average_Loss:  0.6438483326208024\n",
      "Average_Accuracy:  0.9090567455843668\n",
      "Validation\n",
      "\n",
      "[[ 95 118  86]\n",
      " [ 68 164  49]\n",
      " [ 34  63  89]]\n",
      "1.0857866058746974\n",
      "Accuracy:  0.45430809399477806\n",
      "Training Epoch:  41 \n",
      "\n"
     ]
    },
    {
     "data": {
      "application/vnd.jupyter.widget-view+json": {
       "model_id": "f0c3a0f84245485d9a556d99a1d05545",
       "version_major": 2,
       "version_minor": 0
      },
      "text/plain": [
       "HBox(children=(FloatProgress(value=1.0, bar_style='info', max=1.0), HTML(value='')))"
      ]
     },
     "metadata": {},
     "output_type": "display_data"
    },
    {
     "name": "stdout",
     "output_type": "stream",
     "text": [
      "Batch:  84 / 84\n",
      "Batch Recognition loss:  0.8727031946182251\n",
      "\n",
      "[[706  59  41]\n",
      " [ 31 860  32]\n",
      " [ 16  45 871]]\n",
      "Average_Loss:  0.6388452493009114\n",
      "Average_Accuracy:  0.9158211198797445\n",
      "Validation\n",
      "\n",
      "[[102 116  81]\n",
      " [ 81 147  53]\n",
      " [ 38  59  89]]\n",
      "1.0902423411607742\n",
      "Accuracy:  0.4412532637075718\n",
      "Training Epoch:  42 \n",
      "\n"
     ]
    },
    {
     "data": {
      "application/vnd.jupyter.widget-view+json": {
       "model_id": "98ff523d1c924d8689b0b9d8a660f686",
       "version_major": 2,
       "version_minor": 0
      },
      "text/plain": [
       "HBox(children=(FloatProgress(value=1.0, bar_style='info', max=1.0), HTML(value='')))"
      ]
     },
     "metadata": {},
     "output_type": "display_data"
    },
    {
     "name": "stdout",
     "output_type": "stream",
     "text": [
      "Batch:  84 / 84\n",
      "Batch Recognition loss:  0.7514444589614868\n",
      "\n",
      "[[705  59  42]\n",
      " [ 28 852  43]\n",
      " [ 12  48 872]]\n",
      "Average_Loss:  0.6406829137177694\n",
      "Average_Accuracy:  0.912814731304021\n",
      "Validation\n",
      "\n",
      "[[105 100  94]\n",
      " [ 79 140  62]\n",
      " [ 38  49  99]]\n",
      "1.0842025975386302\n",
      "Accuracy:  0.4490861618798956\n",
      "Training Epoch:  43 \n",
      "\n"
     ]
    },
    {
     "data": {
      "application/vnd.jupyter.widget-view+json": {
       "model_id": "98c42a674dc746ffb3d7c30e8649dd1d",
       "version_major": 2,
       "version_minor": 0
      },
      "text/plain": [
       "HBox(children=(FloatProgress(value=1.0, bar_style='info', max=1.0), HTML(value='')))"
      ]
     },
     "metadata": {},
     "output_type": "display_data"
    },
    {
     "name": "stdout",
     "output_type": "stream",
     "text": [
      "Batch:  84 / 84\n",
      "Batch Recognition loss:  0.9531394839286804\n",
      "\n",
      "[[698  61  47]\n",
      " [ 25 857  41]\n",
      " [ 19  46 867]]\n",
      "Average_Loss:  0.6426020214955012\n",
      "Average_Accuracy:  0.910184141300263\n",
      "Validation\n",
      "\n",
      "[[110 118  71]\n",
      " [ 80 155  46]\n",
      " [ 40  60  86]]\n",
      "1.0772419596711795\n",
      "Accuracy:  0.45822454308093996\n",
      "Training Epoch:  44 \n",
      "\n"
     ]
    },
    {
     "data": {
      "application/vnd.jupyter.widget-view+json": {
       "model_id": "3b6f9cf246874bdf8b66839f2906bdcf",
       "version_major": 2,
       "version_minor": 0
      },
      "text/plain": [
       "HBox(children=(FloatProgress(value=1.0, bar_style='info', max=1.0), HTML(value='')))"
      ]
     },
     "metadata": {},
     "output_type": "display_data"
    },
    {
     "name": "stdout",
     "output_type": "stream",
     "text": [
      "Batch:  84 / 84\n",
      "Batch Recognition loss:  1.1496820449829102\n",
      "\n",
      "[[706  62  38]\n",
      " [ 28 860  35]\n",
      " [ 13  42 877]]\n",
      "Average_Loss:  0.6389732375031426\n",
      "Average_Accuracy:  0.918075911311537\n",
      "Validation\n",
      "\n",
      "[[109  90 100]\n",
      " [ 85 135  61]\n",
      " [ 35  48 103]]\n",
      "1.08848524838686\n",
      "Accuracy:  0.45300261096605743\n",
      "Training Epoch:  45 \n",
      "\n"
     ]
    },
    {
     "data": {
      "application/vnd.jupyter.widget-view+json": {
       "model_id": "d9727d4dc8314839a56eb7663e9ca2e1",
       "version_major": 2,
       "version_minor": 0
      },
      "text/plain": [
       "HBox(children=(FloatProgress(value=1.0, bar_style='info', max=1.0), HTML(value='')))"
      ]
     },
     "metadata": {},
     "output_type": "display_data"
    },
    {
     "name": "stdout",
     "output_type": "stream",
     "text": [
      "Batch:  84 / 84\n",
      "Batch Recognition loss:  0.9513075947761536\n",
      "\n",
      "[[703  59  44]\n",
      " [ 35 862  26]\n",
      " [ 16  42 874]]\n",
      "Average_Loss:  0.6391655958834148\n",
      "Average_Accuracy:  0.9165727170236753\n",
      "Validation\n",
      "\n",
      "[[105 112  82]\n",
      " [ 78 148  55]\n",
      " [ 39  53  94]]\n",
      "1.0843202223380406\n",
      "Accuracy:  0.45300261096605743\n",
      "Training Epoch:  46 \n",
      "\n"
     ]
    },
    {
     "data": {
      "application/vnd.jupyter.widget-view+json": {
       "model_id": "0b111554f1444102ab835e8522d958e5",
       "version_major": 2,
       "version_minor": 0
      },
      "text/plain": [
       "HBox(children=(FloatProgress(value=1.0, bar_style='info', max=1.0), HTML(value='')))"
      ]
     },
     "metadata": {},
     "output_type": "display_data"
    },
    {
     "name": "stdout",
     "output_type": "stream",
     "text": [
      "Batch:  84 / 84\n",
      "Batch Recognition loss:  0.9139281511306763\n",
      "\n",
      "[[706  61  39]\n",
      " [ 30 858  35]\n",
      " [ 14  44 874]]\n",
      "Average_Loss:  0.6390823381287711\n",
      "Average_Accuracy:  0.9161969184517099\n",
      "Validation\n",
      "\n",
      "[[ 95 126  78]\n",
      " [ 65 167  49]\n",
      " [ 34  64  88]]\n",
      "1.084600495795409\n",
      "Accuracy:  0.45691906005221933\n",
      "Training Epoch:  47 \n",
      "\n"
     ]
    },
    {
     "data": {
      "application/vnd.jupyter.widget-view+json": {
       "model_id": "de70fa852e444a56af7253040290849a",
       "version_major": 2,
       "version_minor": 0
      },
      "text/plain": [
       "HBox(children=(FloatProgress(value=1.0, bar_style='info', max=1.0), HTML(value='')))"
      ]
     },
     "metadata": {},
     "output_type": "display_data"
    },
    {
     "name": "stdout",
     "output_type": "stream",
     "text": [
      "Batch:  84 / 84\n",
      "Batch Recognition loss:  0.687264621257782\n",
      "\n",
      "[[699  62  45]\n",
      " [ 33 854  36]\n",
      " [ 15  43 874]]\n",
      "Average_Loss:  0.6385915847051711\n",
      "Average_Accuracy:  0.9120631341600902\n",
      "Validation\n",
      "\n",
      "[[112 106  81]\n",
      " [ 84 151  46]\n",
      " [ 42  56  88]]\n",
      "1.0792651325464249\n",
      "Accuracy:  0.45822454308093996\n",
      "Training Epoch:  48 \n",
      "\n"
     ]
    },
    {
     "data": {
      "application/vnd.jupyter.widget-view+json": {
       "model_id": "11e2717abd06460ba044d90e24d3c2b2",
       "version_major": 2,
       "version_minor": 0
      },
      "text/plain": [
       "HBox(children=(FloatProgress(value=1.0, bar_style='info', max=1.0), HTML(value='')))"
      ]
     },
     "metadata": {},
     "output_type": "display_data"
    },
    {
     "name": "stdout",
     "output_type": "stream",
     "text": [
      "Batch:  84 / 84\n",
      "Batch Recognition loss:  0.7931199073791504\n",
      "\n",
      "[[706  64  36]\n",
      " [ 31 866  26]\n",
      " [ 17  42 873]]\n",
      "Average_Loss:  0.6349866709538868\n",
      "Average_Accuracy:  0.9188275084554679\n",
      "Validation\n",
      "\n",
      "[[103 128  68]\n",
      " [ 74 161  46]\n",
      " [ 38  66  82]]\n",
      "1.0848595102628071\n",
      "Accuracy:  0.4516971279373368\n",
      "Training Epoch:  49 \n",
      "\n"
     ]
    },
    {
     "data": {
      "application/vnd.jupyter.widget-view+json": {
       "model_id": "41ff1466940c4e05b990d87428e3afb3",
       "version_major": 2,
       "version_minor": 0
      },
      "text/plain": [
       "HBox(children=(FloatProgress(value=1.0, bar_style='info', max=1.0), HTML(value='')))"
      ]
     },
     "metadata": {},
     "output_type": "display_data"
    },
    {
     "name": "stdout",
     "output_type": "stream",
     "text": [
      "Batch:  84 / 84\n",
      "Batch Recognition loss:  0.9103434681892395\n",
      "\n",
      "[[707  57  42]\n",
      " [ 35 858  30]\n",
      " [ 16  38 878]]\n",
      "Average_Loss:  0.6367891182502111\n",
      "Average_Accuracy:  0.918075911311537\n",
      "Validation\n",
      "\n",
      "[[ 93 118  88]\n",
      " [ 63 158  60]\n",
      " [ 34  56  96]]\n",
      "1.08849951873223\n",
      "Accuracy:  0.45300261096605743\n",
      "Training Epoch:  50 \n",
      "\n"
     ]
    },
    {
     "data": {
      "application/vnd.jupyter.widget-view+json": {
       "model_id": "88e0f6e12f8d4f6992a3736d943b3e92",
       "version_major": 2,
       "version_minor": 0
      },
      "text/plain": [
       "HBox(children=(FloatProgress(value=1.0, bar_style='info', max=1.0), HTML(value='')))"
      ]
     },
     "metadata": {},
     "output_type": "display_data"
    },
    {
     "name": "stdout",
     "output_type": "stream",
     "text": [
      "Batch:  84 / 84\n",
      "Batch Recognition loss:  1.2133604288101196\n",
      "\n",
      "[[700  64  42]\n",
      " [ 34 852  37]\n",
      " [ 12  46 874]]\n",
      "Average_Loss:  0.6449994288739704\n",
      "Average_Accuracy:  0.9116873355881248\n",
      "Validation\n",
      "\n",
      "[[ 80 142  77]\n",
      " [ 50 184  47]\n",
      " [ 28  75  83]]\n",
      "1.0875975464781125\n",
      "Accuracy:  0.45300261096605743\n"
     ]
    }
   ],
   "source": [
    "train(num_epochs,model_name,model,train_dataloader,valid_dataloader,optimizer,criterion)"
   ]
  },
  {
   "cell_type": "code",
   "execution_count": null,
   "metadata": {},
   "outputs": [],
   "source": []
  }
 ],
 "metadata": {
  "kernelspec": {
   "display_name": "Python 3",
   "language": "python",
   "name": "python3"
  },
  "language_info": {
   "codemirror_mode": {
    "name": "ipython",
    "version": 3
   },
   "file_extension": ".py",
   "mimetype": "text/x-python",
   "name": "python",
   "nbconvert_exporter": "python",
   "pygments_lexer": "ipython3",
   "version": "3.7.5"
  }
 },
 "nbformat": 4,
 "nbformat_minor": 4
}
