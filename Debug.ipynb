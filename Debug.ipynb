{
 "cells": [
  {
   "cell_type": "code",
   "execution_count": 1,
   "metadata": {},
   "outputs": [],
   "source": [
    "from Dataload import dataload\n",
    "import torch.nn.functional as F\n",
    "\n",
    "import torch\n",
    "import torch.nn as nn\n",
    "from torchsummary import summary\n",
    "from sklearn.metrics import confusion_matrix\n",
    "from torch.utils.data import Dataset, DataLoader\n",
    "import matplotlib.pylab as plt\n",
    "from torchvision import  utils\n",
    "\n",
    "from src import detect_faces, show_bboxes\n",
    "from PIL import Image\n",
    "import numpy as np\n",
    "from module import video_model\n",
    "from constant import EMOTIPATH,EMOTIFACEPATH,EMOTIAUDIOPATH\n",
    "import os\n",
    "import pandas as pd\n",
    "import time\n",
    "from tqdm.notebook import tqdm\n",
    "import cv2\n",
    "\n",
    "from torchvision import transforms\n"
   ]
  },
  {
   "cell_type": "code",
   "execution_count": 2,
   "metadata": {},
   "outputs": [],
   "source": [
    "Train_label=os.path.join(EMOTIPATH,\"Train_labels.txt\")\n",
    "Val_labels=os.path.join(EMOTIPATH,\"Val_labels.txt\")\n",
    "Audio_Train=os.path.join(EMOTIAUDIOPATH,\"Train_audio.csv\")\n",
    "Audio_Valid=os.path.join(EMOTIAUDIOPATH,\"Val_audio.csv\")\n",
    "\n"
   ]
  },
  {
   "cell_type": "code",
   "execution_count": 3,
   "metadata": {},
   "outputs": [],
   "source": [
    "def num_correct(prediction,labels):\n",
    "    correct=0\n",
    "    for i,(pred_label,label) in enumerate(zip(prediction,labels)):\n",
    "        if (pred_label.item()==label.item()):\n",
    "            correct +=1\n",
    "    return correct\n",
    "\n",
    "class Audio_Data(Dataset):\n",
    "    def __init__(self,csv_file,audio_path=None):\n",
    "        self._table = pd.read_csv(csv_file,delimiter=' ')\n",
    "        self._audio_table=pd.read_csv(audio_path)\n",
    "    def __len__(self):\n",
    "        return len(self._table)\n",
    "    def __getitem__(self, idx):\n",
    "        audio_feature=self._audio_table.loc[self._audio_table.file_name ==self._table.Vid_name[idx]+'.arff']\n",
    "        audio_feature=pd.to_numeric(audio_feature.values[0][2:])\n",
    "        labels = torch.from_numpy(np.array(self._table.Label[idx]))-1\n",
    "        return (audio_feature,labels)\n",
    "        \n",
    "\n"
   ]
  },
  {
   "cell_type": "code",
   "execution_count": 4,
   "metadata": {},
   "outputs": [],
   "source": [
    "def train(num_epochs,name,model,train_dataloader,valid_dataloader,optimizer,criterion):\n",
    "    f = open(name+\".txt\",'a')\n",
    "    start = time.time()\n",
    "    #Triaining\n",
    "    train_loss=[]\n",
    "    valid_accuracy=[]\n",
    "    model.train()\n",
    "    for epochs in range(0,num_epochs):\n",
    "        first=True\n",
    "        model.train()\n",
    "        correct=0\n",
    "        total_samples=0\n",
    "        avg_tloss=0\n",
    "        print(\"Training Epoch: \", epochs+1,\"\\n\")\n",
    "        for i_batch, (audio_file,label) in tqdm(enumerate(train_dataloader)):\n",
    "         \n",
    "            batch_size=audio_file.size(0)\n",
    "            optimizer.zero_grad()\n",
    "            audio_file=audio_file.float().to(device)\n",
    "            output=model(audio_file)\n",
    "            loss=criterion(output,label.to(device))\n",
    "            loss.backward()\n",
    "            predicted = torch.max(output, 1)\n",
    "            prediction=predicted.indices.detach().cpu()\n",
    "            correct +=num_correct(prediction,label)\n",
    "            total_samples+=batch_size\n",
    "            accuracy=correct/(total_samples)\n",
    "            optimizer.step()\n",
    "            true_label=label.detach().cpu()\n",
    "            avg_tloss+=loss.item()\n",
    "            if first:\n",
    "                first=False\n",
    "                conf_mat=confusion_matrix( true_label,prediction,labels=[0,1,2])\n",
    "            else:\n",
    "                conf_mat+=confusion_matrix(true_label,prediction,labels=[0,1,2])\n",
    "            if (i_batch+1)%84==0:\n",
    "               # print(label)\n",
    "                print(\"Batch: \",i_batch+1,\"/\",len(train_dataloader))\n",
    "                print(\"Batch Recognition loss: \", loss.item())\n",
    "\n",
    "        print(conf_mat)\n",
    "        avg_tloss=avg_tloss/len(train_dataloader)\n",
    "        avg_taccuracy=correct/total_samples\n",
    "        print(\"Average_Loss: \",avg_tloss)\n",
    "        print(\"Average_Accuracy: \",avg_taccuracy)\n",
    "\n",
    "        torch.save(model.state_dict(),name+\".pth\")\n",
    "        print(\"Validation\\n\")\n",
    "        model.eval()   \n",
    "        correct=0\n",
    "        total_samples=0\n",
    "        avg_vloss=0\n",
    "        first=True\n",
    "\n",
    "        for i_batch, (audio_file,label) in (enumerate(valid_dataloader)):\n",
    "         \n",
    "            batch_size=audio_file.size(0)\n",
    "            optimizer.zero_grad()\n",
    "            audio_file=audio_file.float().to(device)\n",
    "            \n",
    "            output=model(audio_file)\n",
    "            loss=criterion(output,label.to(device))\n",
    "            avg_vloss+=loss.item()\n",
    "            predicted = torch.max(output, 1)\n",
    "            prediction=predicted.indices.detach().cpu()\n",
    "            correct +=num_correct(prediction,label)\n",
    "            total_samples+=batch_size\n",
    "\n",
    "            true_label=label.detach().cpu()\n",
    "            if first:\n",
    "                first=False\n",
    "                conf_mat=confusion_matrix( true_label,prediction,labels=[0,1,2])\n",
    "            else:\n",
    "                conf_mat+=confusion_matrix(true_label,prediction,labels=[0,1,2])\n",
    "        print(conf_mat)\n",
    "        avg_vloss=avg_vloss/len(valid_dataloader)\n",
    "        print(avg_vloss)\n",
    "        avg_vaccuracy=correct/(total_samples)\n",
    "        print(\"Accuracy: \", avg_vaccuracy)\n",
    "\n",
    "        data = \" %f,%f,%f,%f \\n\" % (avg_tloss,avg_taccuracy,avg_vloss,avg_vaccuracy)\n",
    "        f.write(data)\n",
    "\n",
    "\n",
    "\n",
    "    f.close()"
   ]
  },
  {
   "cell_type": "code",
   "execution_count": 5,
   "metadata": {},
   "outputs": [
    {
     "data": {
      "text/plain": [
       "AudioRecognition(\n",
       "  (fc1): Linear(in_features=988, out_features=512, bias=True)\n",
       "  (fc2): Linear(in_features=512, out_features=128, bias=True)\n",
       "  (fc3): Linear(in_features=128, out_features=3, bias=True)\n",
       "  (bn1): BatchNorm1d(512, eps=1e-05, momentum=0.1, affine=True, track_running_stats=True)\n",
       "  (bn2): BatchNorm1d(128, eps=1e-05, momentum=0.1, affine=True, track_running_stats=True)\n",
       "  (relu): ReLU()\n",
       ")"
      ]
     },
     "execution_count": 5,
     "metadata": {},
     "output_type": "execute_result"
    }
   ],
   "source": [
    "model=video_model.AudioRecognition()\n",
    "\n",
    "device = torch.device(\"cuda:0\" if torch.cuda.is_available() else \"cpu\")\n",
    "torch.set_default_tensor_type(torch.\n",
    "                              cuda.FloatTensor)\n",
    "model.to(device)"
   ]
  },
  {
   "cell_type": "code",
   "execution_count": 6,
   "metadata": {},
   "outputs": [
    {
     "data": {
      "text/plain": [
       "tensor([[0.2450, 0.4796, 0.2753],\n",
       "        [0.4802, 0.2599, 0.2599],\n",
       "        [0.3152, 0.2651, 0.4197]], grad_fn=<SoftmaxBackward>)"
      ]
     },
     "execution_count": 6,
     "metadata": {},
     "output_type": "execute_result"
    }
   ],
   "source": [
    "model(torch.rand(3,988))"
   ]
  },
  {
   "cell_type": "code",
   "execution_count": 7,
   "metadata": {},
   "outputs": [],
   "source": [
    "train_set=Audio_Data(Train_label,Audio_Train)\n",
    "valid_set=Audio_Data(Val_labels,Audio_Valid)\n"
   ]
  },
  {
   "cell_type": "code",
   "execution_count": 8,
   "metadata": {},
   "outputs": [],
   "source": [
    "train_dataloader = DataLoader(train_set, batch_size=32\n",
    "                       , num_workers=0,shuffle=True)\n",
    "\n",
    "valid_dataloader = DataLoader(valid_set, batch_size=32\n",
    "                       , num_workers=0,shuffle=False)"
   ]
  },
  {
   "cell_type": "code",
   "execution_count": 9,
   "metadata": {},
   "outputs": [],
   "source": [
    "optimizer = torch.optim.Adam(filter(lambda p: p.requires_grad, model.parameters()), lr=0.005, betas=(0.5, 0.999))\n",
    "num_epochs=50\n",
    "criterion = nn.CrossEntropyLoss()  \n",
    "\n",
    "model_name=\"pre_embedded_audio\""
   ]
  },
  {
   "cell_type": "code",
   "execution_count": 10,
   "metadata": {},
   "outputs": [
    {
     "name": "stdout",
     "output_type": "stream",
     "text": [
      "Training Epoch:  1 \n",
      "\n"
     ]
    },
    {
     "data": {
      "application/vnd.jupyter.widget-view+json": {
       "model_id": "8bf4dcaea0724a5aa867540f741f908d",
       "version_major": 2,
       "version_minor": 0
      },
      "text/plain": [
       "HBox(children=(FloatProgress(value=1.0, bar_style='info', max=1.0), HTML(value='')))"
      ]
     },
     "metadata": {},
     "output_type": "display_data"
    },
    {
     "name": "stdout",
     "output_type": "stream",
     "text": [
      "Batch:  84 / 84\n",
      "Batch Recognition loss:  0.981432318687439\n",
      "\n",
      "[[327 271 208]\n",
      " [238 511 174]\n",
      " [358 283 291]]\n",
      "Average_Loss:  1.0768274828082038\n",
      "Average_Accuracy:  0.42427658774896654\n",
      "Validation\n",
      "\n",
      "[[ 38 119 142]\n",
      " [ 11 177  93]\n",
      " [ 18  90  78]]\n",
      "1.116650549074014\n",
      "Accuracy:  0.3825065274151436\n",
      "Training Epoch:  2 \n",
      "\n"
     ]
    },
    {
     "data": {
      "application/vnd.jupyter.widget-view+json": {
       "model_id": "37e3cb4efc2c4727ae62841d27412f96",
       "version_major": 2,
       "version_minor": 0
      },
      "text/plain": [
       "HBox(children=(FloatProgress(value=1.0, bar_style='info', max=1.0), HTML(value='')))"
      ]
     },
     "metadata": {},
     "output_type": "display_data"
    },
    {
     "name": "stdout",
     "output_type": "stream",
     "text": [
      "Batch:  84 / 84\n",
      "Batch Recognition loss:  1.1166741847991943\n",
      "\n",
      "[[198 304 304]\n",
      " [106 613 204]\n",
      " [159 280 493]]\n",
      "Average_Loss:  1.0389756915115176\n",
      "Average_Accuracy:  0.4900413378429162\n",
      "Validation\n",
      "\n",
      "[[ 96 176  27]\n",
      " [ 73 198  10]\n",
      " [ 81  78  27]]\n",
      "1.0904515733321507\n",
      "Accuracy:  0.41906005221932113\n",
      "Training Epoch:  3 \n",
      "\n"
     ]
    },
    {
     "data": {
      "application/vnd.jupyter.widget-view+json": {
       "model_id": "eb66f585a45044dea7747ec988479ef6",
       "version_major": 2,
       "version_minor": 0
      },
      "text/plain": [
       "HBox(children=(FloatProgress(value=1.0, bar_style='info', max=1.0), HTML(value='')))"
      ]
     },
     "metadata": {},
     "output_type": "display_data"
    },
    {
     "name": "stdout",
     "output_type": "stream",
     "text": [
      "Batch:  84 / 84\n",
      "Batch Recognition loss:  1.1042845249176025\n",
      "\n",
      "[[284 266 256]\n",
      " [166 579 178]\n",
      " [205 242 485]]\n",
      "Average_Loss:  1.0168754302320027\n",
      "Average_Accuracy:  0.506576475009395\n",
      "Validation\n",
      "\n",
      "[[ 46 141 112]\n",
      " [ 24 165  92]\n",
      " [ 21  48 117]]\n",
      "1.0869081318378448\n",
      "Accuracy:  0.4281984334203655\n",
      "Training Epoch:  4 \n",
      "\n"
     ]
    },
    {
     "data": {
      "application/vnd.jupyter.widget-view+json": {
       "model_id": "942ed1a3a42242d6b4244efe940e5fb7",
       "version_major": 2,
       "version_minor": 0
      },
      "text/plain": [
       "HBox(children=(FloatProgress(value=1.0, bar_style='info', max=1.0), HTML(value='')))"
      ]
     },
     "metadata": {},
     "output_type": "display_data"
    },
    {
     "name": "stdout",
     "output_type": "stream",
     "text": [
      "Batch:  84 / 84\n",
      "Batch Recognition loss:  1.1947815418243408\n",
      "\n",
      "[[312 228 266]\n",
      " [152 544 227]\n",
      " [212 192 528]]\n",
      "Average_Loss:  1.0126755656231017\n",
      "Average_Accuracy:  0.5201052236001503\n",
      "Validation\n",
      "\n",
      "[[ 90  26 183]\n",
      " [ 61  56 164]\n",
      " [ 32  20 134]]\n",
      "1.146715223789215\n",
      "Accuracy:  0.36553524804177545\n",
      "Training Epoch:  5 \n",
      "\n"
     ]
    },
    {
     "data": {
      "application/vnd.jupyter.widget-view+json": {
       "model_id": "d816226d993940b48458129a0222ed9f",
       "version_major": 2,
       "version_minor": 0
      },
      "text/plain": [
       "HBox(children=(FloatProgress(value=1.0, bar_style='info', max=1.0), HTML(value='')))"
      ]
     },
     "metadata": {},
     "output_type": "display_data"
    },
    {
     "name": "stdout",
     "output_type": "stream",
     "text": [
      "Batch:  84 / 84\n",
      "Batch Recognition loss:  1.0180652141571045\n",
      "\n",
      "[[328 242 236]\n",
      " [160 593 170]\n",
      " [211 203 518]]\n",
      "Average_Loss:  0.9881099356072289\n",
      "Average_Accuracy:  0.5407741450582488\n",
      "Validation\n",
      "\n",
      "[[ 52 168  79]\n",
      " [ 36 195  50]\n",
      " [ 24  63  99]]\n",
      "1.0712328776717186\n",
      "Accuracy:  0.4516971279373368\n",
      "Training Epoch:  6 \n",
      "\n"
     ]
    },
    {
     "data": {
      "application/vnd.jupyter.widget-view+json": {
       "model_id": "323f70d0dd05474689291e76193b1b71",
       "version_major": 2,
       "version_minor": 0
      },
      "text/plain": [
       "HBox(children=(FloatProgress(value=1.0, bar_style='info', max=1.0), HTML(value='')))"
      ]
     },
     "metadata": {},
     "output_type": "display_data"
    },
    {
     "name": "stdout",
     "output_type": "stream",
     "text": [
      "Batch:  84 / 84\n",
      "Batch Recognition loss:  0.872695803642273\n",
      "\n",
      "[[355 204 247]\n",
      " [150 587 186]\n",
      " [192 195 545]]\n",
      "Average_Loss:  0.9733750820159912\n",
      "Average_Accuracy:  0.5588124765125893\n",
      "Validation\n",
      "\n",
      "[[ 20 208  71]\n",
      " [  5 225  51]\n",
      " [  8  95  83]]\n",
      "1.1034438883264859\n",
      "Accuracy:  0.4281984334203655\n",
      "Training Epoch:  7 \n",
      "\n"
     ]
    },
    {
     "data": {
      "application/vnd.jupyter.widget-view+json": {
       "model_id": "2ff83d7ff20042689296a90031683b65",
       "version_major": 2,
       "version_minor": 0
      },
      "text/plain": [
       "HBox(children=(FloatProgress(value=1.0, bar_style='info', max=1.0), HTML(value='')))"
      ]
     },
     "metadata": {},
     "output_type": "display_data"
    },
    {
     "name": "stdout",
     "output_type": "stream",
     "text": [
      "Batch:  84 / 84\n",
      "Batch Recognition loss:  0.9687120318412781\n",
      "\n",
      "[[382 203 221]\n",
      " [190 558 175]\n",
      " [208 171 553]]\n",
      "Average_Loss:  0.9728625076157706\n",
      "Average_Accuracy:  0.5610672679443818\n",
      "Validation\n",
      "\n",
      "[[253  29  17]\n",
      " [208  50  23]\n",
      " [142  10  34]]\n",
      "1.0821392759680748\n",
      "Accuracy:  0.43994778067885115\n",
      "Training Epoch:  8 \n",
      "\n"
     ]
    },
    {
     "data": {
      "application/vnd.jupyter.widget-view+json": {
       "model_id": "73c41ce374524f49a4c15be8f9784b83",
       "version_major": 2,
       "version_minor": 0
      },
      "text/plain": [
       "HBox(children=(FloatProgress(value=1.0, bar_style='info', max=1.0), HTML(value='')))"
      ]
     },
     "metadata": {},
     "output_type": "display_data"
    },
    {
     "name": "stdout",
     "output_type": "stream",
     "text": [
      "Batch:  84 / 84\n",
      "Batch Recognition loss:  1.0839375257492065\n",
      "\n",
      "[[365 219 222]\n",
      " [165 598 160]\n",
      " [202 194 536]]\n",
      "Average_Loss:  0.9681469847758611\n",
      "Average_Accuracy:  0.5633220593761744\n",
      "Validation\n",
      "\n",
      "[[128  76  95]\n",
      " [ 96 131  54]\n",
      " [ 57  27 102]]\n",
      "1.0565344368418057\n",
      "Accuracy:  0.47127937336814624\n",
      "Training Epoch:  9 \n",
      "\n"
     ]
    },
    {
     "data": {
      "application/vnd.jupyter.widget-view+json": {
       "model_id": "ad5f8aed32504f74854d11b95bbc422c",
       "version_major": 2,
       "version_minor": 0
      },
      "text/plain": [
       "HBox(children=(FloatProgress(value=1.0, bar_style='info', max=1.0), HTML(value='')))"
      ]
     },
     "metadata": {},
     "output_type": "display_data"
    },
    {
     "name": "stdout",
     "output_type": "stream",
     "text": [
      "Batch:  84 / 84\n",
      "Batch Recognition loss:  1.2847785949707031\n",
      "\n",
      "[[395 212 199]\n",
      " [161 613 149]\n",
      " [228 186 518]]\n",
      "Average_Loss:  0.9709659247171312\n",
      "Average_Accuracy:  0.5734686208192409\n",
      "Validation\n",
      "\n",
      "[[105  53 141]\n",
      " [ 83 102  96]\n",
      " [ 57  18 111]]\n",
      "1.1019033913811047\n",
      "Accuracy:  0.4151436031331593\n",
      "Training Epoch:  10 \n",
      "\n"
     ]
    },
    {
     "data": {
      "application/vnd.jupyter.widget-view+json": {
       "model_id": "58b8f447cf7f417bbcb613c63d509a53",
       "version_major": 2,
       "version_minor": 0
      },
      "text/plain": [
       "HBox(children=(FloatProgress(value=1.0, bar_style='info', max=1.0), HTML(value='')))"
      ]
     },
     "metadata": {},
     "output_type": "display_data"
    },
    {
     "name": "stdout",
     "output_type": "stream",
     "text": [
      "Batch:  84 / 84\n",
      "Batch Recognition loss:  1.00698721408844\n",
      "\n",
      "[[390 207 209]\n",
      " [152 619 152]\n",
      " [190 189 553]]\n",
      "Average_Loss:  0.9542756492183322\n",
      "Average_Accuracy:  0.5869973694099963\n",
      "Validation\n",
      "\n",
      "[[132  38 129]\n",
      " [ 87  89 105]\n",
      " [ 55   9 122]]\n",
      "1.0792318632205327\n",
      "Accuracy:  0.44778067885117495\n",
      "Training Epoch:  11 \n",
      "\n"
     ]
    },
    {
     "data": {
      "application/vnd.jupyter.widget-view+json": {
       "model_id": "e2a42ca708ad48dab00d8c15e05ee0e7",
       "version_major": 2,
       "version_minor": 0
      },
      "text/plain": [
       "HBox(children=(FloatProgress(value=1.0, bar_style='info', max=1.0), HTML(value='')))"
      ]
     },
     "metadata": {},
     "output_type": "display_data"
    },
    {
     "name": "stdout",
     "output_type": "stream",
     "text": [
      "Batch:  84 / 84\n",
      "Batch Recognition loss:  0.8015205264091492\n",
      "\n",
      "[[357 235 214]\n",
      " [127 620 176]\n",
      " [172 202 558]]\n",
      "Average_Loss:  0.9560149212678274\n",
      "Average_Accuracy:  0.5768508079669298\n",
      "Validation\n",
      "\n",
      "[[ 44 150 105]\n",
      " [ 23 189  69]\n",
      " [ 23  74  89]]\n",
      "1.103021835287412\n",
      "Accuracy:  0.42036553524804177\n",
      "Training Epoch:  12 \n",
      "\n"
     ]
    },
    {
     "data": {
      "application/vnd.jupyter.widget-view+json": {
       "model_id": "17a05192a2ff4826ad3793ccbe8331b4",
       "version_major": 2,
       "version_minor": 0
      },
      "text/plain": [
       "HBox(children=(FloatProgress(value=1.0, bar_style='info', max=1.0), HTML(value='')))"
      ]
     },
     "metadata": {},
     "output_type": "display_data"
    },
    {
     "name": "stdout",
     "output_type": "stream",
     "text": [
      "Batch:  84 / 84\n",
      "Batch Recognition loss:  0.6603258848190308\n",
      "\n",
      "[[397 193 216]\n",
      " [160 580 183]\n",
      " [182 173 577]]\n",
      "Average_Loss:  0.9555518925189972\n",
      "Average_Accuracy:  0.5839909808342728\n",
      "Validation\n",
      "\n",
      "[[ 42 142 115]\n",
      " [ 17 197  67]\n",
      " [ 12  57 117]]\n",
      "1.071230078736941\n",
      "Accuracy:  0.46475195822454307\n",
      "Training Epoch:  13 \n",
      "\n"
     ]
    },
    {
     "data": {
      "application/vnd.jupyter.widget-view+json": {
       "model_id": "118c50e36b4640efa1d9de386968b8fe",
       "version_major": 2,
       "version_minor": 0
      },
      "text/plain": [
       "HBox(children=(FloatProgress(value=1.0, bar_style='info', max=1.0), HTML(value='')))"
      ]
     },
     "metadata": {},
     "output_type": "display_data"
    },
    {
     "name": "stdout",
     "output_type": "stream",
     "text": [
      "Batch:  84 / 84\n",
      "Batch Recognition loss:  1.3099197149276733\n",
      "\n",
      "[[387 219 200]\n",
      " [146 618 159]\n",
      " [185 194 553]]\n",
      "Average_Loss:  0.9597665951365516\n",
      "Average_Accuracy:  0.5854941751221345\n",
      "Validation\n",
      "\n",
      "[[127 107  65]\n",
      " [ 84 153  44]\n",
      " [ 52  49  85]]\n",
      "1.061305803557237\n",
      "Accuracy:  0.4765013054830287\n",
      "Training Epoch:  14 \n",
      "\n"
     ]
    },
    {
     "data": {
      "application/vnd.jupyter.widget-view+json": {
       "model_id": "68a096d92f4e42428412a81d6d27d6f8",
       "version_major": 2,
       "version_minor": 0
      },
      "text/plain": [
       "HBox(children=(FloatProgress(value=1.0, bar_style='info', max=1.0), HTML(value='')))"
      ]
     },
     "metadata": {},
     "output_type": "display_data"
    },
    {
     "name": "stdout",
     "output_type": "stream",
     "text": [
      "Batch:  84 / 84\n",
      "Batch Recognition loss:  1.089935541152954\n",
      "\n",
      "[[412 206 188]\n",
      " [174 599 150]\n",
      " [213 177 542]]\n",
      "Average_Loss:  0.9569470016729265\n",
      "Average_Accuracy:  0.5836151822623074\n",
      "Validation\n",
      "\n",
      "[[184  87  28]\n",
      " [138 121  22]\n",
      " [ 89  46  51]]\n",
      "1.0723810096581776\n",
      "Accuracy:  0.46475195822454307\n",
      "Training Epoch:  15 \n",
      "\n"
     ]
    },
    {
     "data": {
      "application/vnd.jupyter.widget-view+json": {
       "model_id": "65dbfb4397774350bb595c430920b2ea",
       "version_major": 2,
       "version_minor": 0
      },
      "text/plain": [
       "HBox(children=(FloatProgress(value=1.0, bar_style='info', max=1.0), HTML(value='')))"
      ]
     },
     "metadata": {},
     "output_type": "display_data"
    },
    {
     "name": "stdout",
     "output_type": "stream",
     "text": [
      "Batch:  84 / 84\n",
      "Batch Recognition loss:  1.3957808017730713\n",
      "\n",
      "[[397 202 207]\n",
      " [140 619 164]\n",
      " [168 190 574]]\n",
      "Average_Loss:  0.9499802788098654\n",
      "Average_Accuracy:  0.5975197294250282\n",
      "Validation\n",
      "\n",
      "[[ 27 255  17]\n",
      " [  9 258  14]\n",
      " [ 11 139  36]]\n",
      "1.1208943923314412\n",
      "Accuracy:  0.41906005221932113\n",
      "Training Epoch:  16 \n",
      "\n"
     ]
    },
    {
     "data": {
      "application/vnd.jupyter.widget-view+json": {
       "model_id": "0ae9015cf5674dacab037de8f5c5f693",
       "version_major": 2,
       "version_minor": 0
      },
      "text/plain": [
       "HBox(children=(FloatProgress(value=1.0, bar_style='info', max=1.0), HTML(value='')))"
      ]
     },
     "metadata": {},
     "output_type": "display_data"
    },
    {
     "name": "stdout",
     "output_type": "stream",
     "text": [
      "Batch:  84 / 84\n",
      "Batch Recognition loss:  0.9625029563903809\n",
      "\n",
      "[[431 193 182]\n",
      " [170 596 157]\n",
      " [235 162 535]]\n",
      "Average_Loss:  0.9502502275364739\n",
      "Average_Accuracy:  0.5869973694099963\n",
      "Validation\n",
      "\n",
      "[[129  37 133]\n",
      " [109  76  96]\n",
      " [ 41  13 132]]\n",
      "1.094645989437898\n",
      "Accuracy:  0.43994778067885115\n",
      "Training Epoch:  17 \n",
      "\n"
     ]
    },
    {
     "data": {
      "application/vnd.jupyter.widget-view+json": {
       "model_id": "13c487f138f341ee999b3deb303d8d31",
       "version_major": 2,
       "version_minor": 0
      },
      "text/plain": [
       "HBox(children=(FloatProgress(value=1.0, bar_style='info', max=1.0), HTML(value='')))"
      ]
     },
     "metadata": {},
     "output_type": "display_data"
    },
    {
     "name": "stdout",
     "output_type": "stream",
     "text": [
      "Batch:  84 / 84\n",
      "Batch Recognition loss:  1.3230650424957275\n",
      "\n",
      "[[413 189 204]\n",
      " [158 594 171]\n",
      " [178 173 581]]\n",
      "Average_Loss:  0.9448134913330987\n",
      "Average_Accuracy:  0.5967681322810974\n",
      "Validation\n",
      "\n",
      "[[102 161  36]\n",
      " [ 60 194  27]\n",
      " [ 54  72  60]]\n",
      "1.0636618634064992\n",
      "Accuracy:  0.46475195822454307\n",
      "Training Epoch:  18 \n",
      "\n"
     ]
    },
    {
     "data": {
      "application/vnd.jupyter.widget-view+json": {
       "model_id": "95b6e53f1ea1452397f6d23e286b1b65",
       "version_major": 2,
       "version_minor": 0
      },
      "text/plain": [
       "HBox(children=(FloatProgress(value=1.0, bar_style='info', max=1.0), HTML(value='')))"
      ]
     },
     "metadata": {},
     "output_type": "display_data"
    },
    {
     "name": "stdout",
     "output_type": "stream",
     "text": [
      "Batch:  84 / 84\n",
      "Batch Recognition loss:  0.7499945759773254\n",
      "\n",
      "[[448 185 173]\n",
      " [173 587 163]\n",
      " [199 151 582]]\n",
      "Average_Loss:  0.9337592862901234\n",
      "Average_Accuracy:  0.6076662908680946\n",
      "Validation\n",
      "\n",
      "[[150  92  57]\n",
      " [120 126  35]\n",
      " [ 62  46  78]]\n",
      "1.0695001805822055\n",
      "Accuracy:  0.4621409921671018\n",
      "Training Epoch:  19 \n",
      "\n"
     ]
    },
    {
     "data": {
      "application/vnd.jupyter.widget-view+json": {
       "model_id": "23713d01c3894882a1f60d22bc188846",
       "version_major": 2,
       "version_minor": 0
      },
      "text/plain": [
       "HBox(children=(FloatProgress(value=1.0, bar_style='info', max=1.0), HTML(value='')))"
      ]
     },
     "metadata": {},
     "output_type": "display_data"
    },
    {
     "name": "stdout",
     "output_type": "stream",
     "text": [
      "Batch:  84 / 84\n",
      "Batch Recognition loss:  0.8948522806167603\n",
      "\n",
      "[[414 187 205]\n",
      " [146 613 164]\n",
      " [153 172 607]]\n",
      "Average_Loss:  0.9273331974233899\n",
      "Average_Accuracy:  0.614054866591507\n",
      "Validation\n",
      "\n",
      "[[124 134  41]\n",
      " [ 82 169  30]\n",
      " [ 58  59  69]]\n",
      "1.0613880058129628\n",
      "Accuracy:  0.4725848563968668\n",
      "Training Epoch:  20 \n",
      "\n"
     ]
    },
    {
     "data": {
      "application/vnd.jupyter.widget-view+json": {
       "model_id": "152d8723f8e04d23b9107048143018df",
       "version_major": 2,
       "version_minor": 0
      },
      "text/plain": [
       "HBox(children=(FloatProgress(value=1.0, bar_style='info', max=1.0), HTML(value='')))"
      ]
     },
     "metadata": {},
     "output_type": "display_data"
    },
    {
     "name": "stdout",
     "output_type": "stream",
     "text": [
      "Batch:  84 / 84\n",
      "Batch Recognition loss:  1.1072622537612915\n",
      "\n",
      "[[404 200 202]\n",
      " [150 603 170]\n",
      " [142 157 633]]\n",
      "Average_Loss:  0.931149328038806\n",
      "Average_Accuracy:  0.6163096580232995\n",
      "Validation\n",
      "\n",
      "[[ 79  60 160]\n",
      " [ 89 102  90]\n",
      " [ 27  22 137]]\n",
      "1.1162096560001373\n",
      "Accuracy:  0.4151436031331593\n",
      "Training Epoch:  21 \n",
      "\n"
     ]
    },
    {
     "data": {
      "application/vnd.jupyter.widget-view+json": {
       "model_id": "16863b56ca464157a2b15a24452e3638",
       "version_major": 2,
       "version_minor": 0
      },
      "text/plain": [
       "HBox(children=(FloatProgress(value=1.0, bar_style='info', max=1.0), HTML(value='')))"
      ]
     },
     "metadata": {},
     "output_type": "display_data"
    },
    {
     "name": "stdout",
     "output_type": "stream",
     "text": [
      "Batch:  84 / 84\n",
      "Batch Recognition loss:  0.9033355712890625\n",
      "\n",
      "[[402 179 225]\n",
      " [160 604 159]\n",
      " [162 172 598]]\n",
      "Average_Loss:  0.9374025130555743\n",
      "Average_Accuracy:  0.6027809094325441\n",
      "Validation\n",
      "\n",
      "[[ 25 123 151]\n",
      " [ 16 177  88]\n",
      " [  9  49 128]]\n",
      "1.1058128649989765\n",
      "Accuracy:  0.4308093994778068\n",
      "Training Epoch:  22 \n",
      "\n"
     ]
    },
    {
     "data": {
      "application/vnd.jupyter.widget-view+json": {
       "model_id": "ef6c7ec728df4de8ae1eec755478ed5d",
       "version_major": 2,
       "version_minor": 0
      },
      "text/plain": [
       "HBox(children=(FloatProgress(value=1.0, bar_style='info', max=1.0), HTML(value='')))"
      ]
     },
     "metadata": {},
     "output_type": "display_data"
    },
    {
     "name": "stdout",
     "output_type": "stream",
     "text": [
      "Batch:  84 / 84\n",
      "Batch Recognition loss:  0.5524901151657104\n",
      "\n",
      "[[397 192 217]\n",
      " [150 600 173]\n",
      " [175 167 590]]\n",
      "Average_Loss:  0.9359280041285923\n",
      "Average_Accuracy:  0.5963923337091319\n",
      "Validation\n",
      "\n",
      "[[138 102  59]\n",
      " [ 95 146  40]\n",
      " [ 59  44  83]]\n",
      "1.055224244793256\n",
      "Accuracy:  0.47911227154047\n",
      "Training Epoch:  23 \n",
      "\n"
     ]
    },
    {
     "data": {
      "application/vnd.jupyter.widget-view+json": {
       "model_id": "6b4e06faf2e343b6acda73ee4afd2a9b",
       "version_major": 2,
       "version_minor": 0
      },
      "text/plain": [
       "HBox(children=(FloatProgress(value=1.0, bar_style='info', max=1.0), HTML(value='')))"
      ]
     },
     "metadata": {},
     "output_type": "display_data"
    },
    {
     "name": "stdout",
     "output_type": "stream",
     "text": [
      "Batch:  84 / 84\n",
      "Batch Recognition loss:  0.9489097595214844\n",
      "\n",
      "[[417 209 180]\n",
      " [145 619 159]\n",
      " [171 172 589]]\n",
      "Average_Loss:  0.9270131311246327\n",
      "Average_Accuracy:  0.6106726794438181\n",
      "Validation\n",
      "\n",
      "[[109  96  94]\n",
      " [ 82 140  59]\n",
      " [ 39  48  99]]\n",
      "1.0754555687308311\n",
      "Accuracy:  0.45430809399477806\n",
      "Training Epoch:  24 \n",
      "\n"
     ]
    },
    {
     "data": {
      "application/vnd.jupyter.widget-view+json": {
       "model_id": "8d81fff4c8b7461784d936b7517a57a1",
       "version_major": 2,
       "version_minor": 0
      },
      "text/plain": [
       "HBox(children=(FloatProgress(value=1.0, bar_style='info', max=1.0), HTML(value='')))"
      ]
     },
     "metadata": {},
     "output_type": "display_data"
    },
    {
     "name": "stdout",
     "output_type": "stream",
     "text": [
      "Batch:  84 / 84\n",
      "Batch Recognition loss:  0.656262218952179\n",
      "\n",
      "[[412 183 211]\n",
      " [139 629 155]\n",
      " [160 161 611]]\n",
      "Average_Loss:  0.9200001713775453\n",
      "Average_Accuracy:  0.6208192408868847\n",
      "Validation\n",
      "\n",
      "[[ 79 135  85]\n",
      " [ 52 178  51]\n",
      " [ 31  52 103]]\n",
      "1.0601689120133717\n",
      "Accuracy:  0.4699738903394256\n",
      "Training Epoch:  25 \n",
      "\n"
     ]
    },
    {
     "data": {
      "application/vnd.jupyter.widget-view+json": {
       "model_id": "79972abf2b4741e6af45d1e6d668ec5f",
       "version_major": 2,
       "version_minor": 0
      },
      "text/plain": [
       "HBox(children=(FloatProgress(value=1.0, bar_style='info', max=1.0), HTML(value='')))"
      ]
     },
     "metadata": {},
     "output_type": "display_data"
    },
    {
     "name": "stdout",
     "output_type": "stream",
     "text": [
      "Batch:  84 / 84\n",
      "Batch Recognition loss:  0.8475887179374695\n",
      "\n",
      "[[439 169 198]\n",
      " [156 607 160]\n",
      " [165 154 613]]\n",
      "Average_Loss:  0.9189734835000265\n",
      "Average_Accuracy:  0.6234498308906427\n",
      "Validation\n",
      "\n",
      "[[ 49  69 181]\n",
      " [ 38 121 122]\n",
      " [ 12  23 151]]\n",
      "1.1125524391730626\n",
      "Accuracy:  0.41906005221932113\n",
      "Training Epoch:  26 \n",
      "\n"
     ]
    },
    {
     "data": {
      "application/vnd.jupyter.widget-view+json": {
       "model_id": "c8b1bcfa92fd48979ee6f8e602374952",
       "version_major": 2,
       "version_minor": 0
      },
      "text/plain": [
       "HBox(children=(FloatProgress(value=1.0, bar_style='info', max=1.0), HTML(value='')))"
      ]
     },
     "metadata": {},
     "output_type": "display_data"
    },
    {
     "name": "stdout",
     "output_type": "stream",
     "text": [
      "Batch:  84 / 84\n",
      "Batch Recognition loss:  0.7580892443656921\n",
      "\n",
      "[[418 190 198]\n",
      " [141 615 167]\n",
      " [161 173 598]]\n",
      "Average_Loss:  0.9266704760846638\n",
      "Average_Accuracy:  0.6129274708756107\n",
      "Validation\n",
      "\n",
      "[[ 71 143  85]\n",
      " [ 51 186  44]\n",
      " [ 25  69  92]]\n",
      "1.0835453247030575\n",
      "Accuracy:  0.4556135770234987\n",
      "Training Epoch:  27 \n",
      "\n"
     ]
    },
    {
     "data": {
      "application/vnd.jupyter.widget-view+json": {
       "model_id": "4eafb821cdcd4d3d8fd1fa0a9dc0ee94",
       "version_major": 2,
       "version_minor": 0
      },
      "text/plain": [
       "HBox(children=(FloatProgress(value=1.0, bar_style='info', max=1.0), HTML(value='')))"
      ]
     },
     "metadata": {},
     "output_type": "display_data"
    },
    {
     "name": "stdout",
     "output_type": "stream",
     "text": [
      "Batch:  84 / 84\n",
      "Batch Recognition loss:  1.0325334072113037\n",
      "\n",
      "[[426 180 200]\n",
      " [158 595 170]\n",
      " [159 156 617]]\n",
      "Average_Loss:  0.9258241908890861\n",
      "Average_Accuracy:  0.6155580608793687\n",
      "Validation\n",
      "\n",
      "[[109 132  58]\n",
      " [ 67 176  38]\n",
      " [ 38  57  91]]\n",
      "1.046100877225399\n",
      "Accuracy:  0.4908616187989556\n",
      "Training Epoch:  28 \n",
      "\n"
     ]
    },
    {
     "data": {
      "application/vnd.jupyter.widget-view+json": {
       "model_id": "eddbd2d8cdd5478896055084a6eb88fe",
       "version_major": 2,
       "version_minor": 0
      },
      "text/plain": [
       "HBox(children=(FloatProgress(value=1.0, bar_style='info', max=1.0), HTML(value='')))"
      ]
     },
     "metadata": {},
     "output_type": "display_data"
    },
    {
     "name": "stdout",
     "output_type": "stream",
     "text": [
      "Batch:  84 / 84\n",
      "Batch Recognition loss:  0.7436423897743225\n",
      "\n",
      "[[406 185 215]\n",
      " [129 626 168]\n",
      " [142 158 632]]\n",
      "Average_Loss:  0.9196997100398654\n",
      "Average_Accuracy:  0.6253288237504697\n",
      "Validation\n",
      "\n",
      "[[ 83 141  75]\n",
      " [ 36 192  53]\n",
      " [ 28  54 104]]\n",
      "1.0419126749038696\n",
      "Accuracy:  0.49477806788511747\n",
      "Training Epoch:  29 \n",
      "\n"
     ]
    },
    {
     "data": {
      "application/vnd.jupyter.widget-view+json": {
       "model_id": "8411baf717eb41aeaa5db4247ddec7da",
       "version_major": 2,
       "version_minor": 0
      },
      "text/plain": [
       "HBox(children=(FloatProgress(value=1.0, bar_style='info', max=1.0), HTML(value='')))"
      ]
     },
     "metadata": {},
     "output_type": "display_data"
    },
    {
     "name": "stdout",
     "output_type": "stream",
     "text": [
      "Batch:  84 / 84\n",
      "Batch Recognition loss:  1.4697967767715454\n",
      "\n",
      "[[438 176 192]\n",
      " [155 603 165]\n",
      " [169 155 608]]\n",
      "Average_Loss:  0.9291174241474697\n",
      "Average_Accuracy:  0.6196918451709883\n",
      "Validation\n",
      "\n",
      "[[ 31  48 220]\n",
      " [ 30 107 144]\n",
      " [  6  20 160]]\n",
      "1.1490844587484996\n",
      "Accuracy:  0.38903394255874674\n",
      "Training Epoch:  30 \n",
      "\n"
     ]
    },
    {
     "data": {
      "application/vnd.jupyter.widget-view+json": {
       "model_id": "d859dd4fc7ef4506b739dfeb1c1dcd32",
       "version_major": 2,
       "version_minor": 0
      },
      "text/plain": [
       "HBox(children=(FloatProgress(value=1.0, bar_style='info', max=1.0), HTML(value='')))"
      ]
     },
     "metadata": {},
     "output_type": "display_data"
    },
    {
     "name": "stdout",
     "output_type": "stream",
     "text": [
      "Batch:  84 / 84\n",
      "Batch Recognition loss:  0.5515448451042175\n",
      "\n",
      "[[438 181 187]\n",
      " [156 606 161]\n",
      " [172 156 604]]\n",
      "Average_Loss:  0.9180275634640739\n",
      "Average_Accuracy:  0.619316046599023\n",
      "Validation\n",
      "\n",
      "[[ 73  74 152]\n",
      " [ 73 114  94]\n",
      " [ 24  31 131]]\n",
      "1.1160198623935382\n",
      "Accuracy:  0.4151436031331593\n",
      "Training Epoch:  31 \n",
      "\n"
     ]
    },
    {
     "data": {
      "application/vnd.jupyter.widget-view+json": {
       "model_id": "e5da375ed87f4278bd26c35e4f2de923",
       "version_major": 2,
       "version_minor": 0
      },
      "text/plain": [
       "HBox(children=(FloatProgress(value=1.0, bar_style='info', max=1.0), HTML(value='')))"
      ]
     },
     "metadata": {},
     "output_type": "display_data"
    },
    {
     "name": "stdout",
     "output_type": "stream",
     "text": [
      "Batch:  84 / 84\n",
      "Batch Recognition loss:  0.9761459231376648\n",
      "\n",
      "[[424 181 201]\n",
      " [152 612 159]\n",
      " [148 154 630]]\n",
      "Average_Loss:  0.915322523031916\n",
      "Average_Accuracy:  0.6260804208944006\n",
      "Validation\n",
      "\n",
      "[[113 111  75]\n",
      " [ 81 155  45]\n",
      " [ 41  51  94]]\n",
      "1.0612604121367137\n",
      "Accuracy:  0.4725848563968668\n",
      "Training Epoch:  32 \n",
      "\n"
     ]
    },
    {
     "data": {
      "application/vnd.jupyter.widget-view+json": {
       "model_id": "5a5c1c7a9a5d43c5813eb031d3d0f3ee",
       "version_major": 2,
       "version_minor": 0
      },
      "text/plain": [
       "HBox(children=(FloatProgress(value=1.0, bar_style='info', max=1.0), HTML(value='')))"
      ]
     },
     "metadata": {},
     "output_type": "display_data"
    },
    {
     "name": "stdout",
     "output_type": "stream",
     "text": [
      "Batch:  84 / 84\n",
      "Batch Recognition loss:  1.1418120861053467\n",
      "\n",
      "[[435 181 190]\n",
      " [151 618 154]\n",
      " [177 162 593]]\n",
      "Average_Loss:  0.9247676212163198\n",
      "Average_Accuracy:  0.618564449455092\n",
      "Validation\n",
      "\n",
      "[[128 102  69]\n",
      " [ 92 143  46]\n",
      " [ 49  49  88]]\n",
      "1.0692483286062877\n",
      "Accuracy:  0.46866840731070497\n",
      "Training Epoch:  33 \n",
      "\n"
     ]
    },
    {
     "data": {
      "application/vnd.jupyter.widget-view+json": {
       "model_id": "1c73b30364a84b099da7fd345bb93bcf",
       "version_major": 2,
       "version_minor": 0
      },
      "text/plain": [
       "HBox(children=(FloatProgress(value=1.0, bar_style='info', max=1.0), HTML(value='')))"
      ]
     },
     "metadata": {},
     "output_type": "display_data"
    },
    {
     "name": "stdout",
     "output_type": "stream",
     "text": [
      "Batch:  84 / 84\n",
      "Batch Recognition loss:  0.9543994665145874\n",
      "\n",
      "[[442 194 170]\n",
      " [168 612 143]\n",
      " [169 152 611]]\n",
      "Average_Loss:  0.9111343033256984\n",
      "Average_Accuracy:  0.6257046223224352\n",
      "Validation\n",
      "\n",
      "[[130 107  62]\n",
      " [100 134  47]\n",
      " [ 50  45  91]]\n",
      "1.069165197511514\n",
      "Accuracy:  0.46344647519582244\n",
      "Training Epoch:  34 \n",
      "\n"
     ]
    },
    {
     "data": {
      "application/vnd.jupyter.widget-view+json": {
       "model_id": "406aaabb004440c19a7614d284f2b3da",
       "version_major": 2,
       "version_minor": 0
      },
      "text/plain": [
       "HBox(children=(FloatProgress(value=1.0, bar_style='info', max=1.0), HTML(value='')))"
      ]
     },
     "metadata": {},
     "output_type": "display_data"
    },
    {
     "name": "stdout",
     "output_type": "stream",
     "text": [
      "Batch:  84 / 84\n",
      "Batch Recognition loss:  0.7521608471870422\n",
      "\n",
      "[[447 177 182]\n",
      " [176 601 146]\n",
      " [191 143 598]]\n",
      "Average_Loss:  0.9170045980385372\n",
      "Average_Accuracy:  0.618564449455092\n",
      "Validation\n",
      "\n",
      "[[ 78  63 158]\n",
      " [ 61 123  97]\n",
      " [ 21  21 144]]\n",
      "1.0865351830919583\n",
      "Accuracy:  0.45039164490861616\n",
      "Training Epoch:  35 \n",
      "\n"
     ]
    },
    {
     "data": {
      "application/vnd.jupyter.widget-view+json": {
       "model_id": "4665970703d14bbfb141e5c14ae4181c",
       "version_major": 2,
       "version_minor": 0
      },
      "text/plain": [
       "HBox(children=(FloatProgress(value=1.0, bar_style='info', max=1.0), HTML(value='')))"
      ]
     },
     "metadata": {},
     "output_type": "display_data"
    },
    {
     "name": "stdout",
     "output_type": "stream",
     "text": [
      "Batch:  84 / 84\n",
      "Batch Recognition loss:  0.7307841181755066\n",
      "\n",
      "[[439 179 188]\n",
      " [152 629 142]\n",
      " [164 152 616]]\n",
      "Average_Loss:  0.9090168419338408\n",
      "Average_Accuracy:  0.6328447951897783\n",
      "Validation\n",
      "\n",
      "[[114  79 106]\n",
      " [ 94 126  61]\n",
      " [ 38  39 109]]\n",
      "1.0806487301985424\n",
      "Accuracy:  0.4556135770234987\n",
      "Training Epoch:  36 \n",
      "\n"
     ]
    },
    {
     "data": {
      "application/vnd.jupyter.widget-view+json": {
       "model_id": "9d21077da2184d6e97fa1084f1767753",
       "version_major": 2,
       "version_minor": 0
      },
      "text/plain": [
       "HBox(children=(FloatProgress(value=1.0, bar_style='info', max=1.0), HTML(value='')))"
      ]
     },
     "metadata": {},
     "output_type": "display_data"
    },
    {
     "name": "stdout",
     "output_type": "stream",
     "text": [
      "Batch:  84 / 84\n",
      "Batch Recognition loss:  0.8639874458312988\n",
      "\n",
      "[[442 178 186]\n",
      " [151 612 160]\n",
      " [180 144 608]]\n",
      "Average_Loss:  0.9153238953579039\n",
      "Average_Accuracy:  0.6245772266065389\n",
      "Validation\n",
      "\n",
      "[[110 117  72]\n",
      " [ 76 159  46]\n",
      " [ 41  50  95]]\n",
      "1.0646743178367615\n",
      "Accuracy:  0.4751958224543081\n",
      "Training Epoch:  37 \n",
      "\n"
     ]
    },
    {
     "data": {
      "application/vnd.jupyter.widget-view+json": {
       "model_id": "2d3b78f3ba61473dbc5ba0c1c61516fa",
       "version_major": 2,
       "version_minor": 0
      },
      "text/plain": [
       "HBox(children=(FloatProgress(value=1.0, bar_style='info', max=1.0), HTML(value='')))"
      ]
     },
     "metadata": {},
     "output_type": "display_data"
    },
    {
     "name": "stdout",
     "output_type": "stream",
     "text": [
      "Batch:  84 / 84\n",
      "Batch Recognition loss:  0.9589599370956421\n",
      "\n",
      "[[419 190 197]\n",
      " [134 618 171]\n",
      " [143 158 631]]\n",
      "Average_Loss:  0.9148342233328592\n",
      "Average_Accuracy:  0.6268320180383314\n",
      "Validation\n",
      "\n",
      "[[113 150  36]\n",
      " [ 72 184  25]\n",
      " [ 43  89  54]]\n",
      "1.0706234474976857\n",
      "Accuracy:  0.45822454308093996\n",
      "Training Epoch:  38 \n",
      "\n"
     ]
    },
    {
     "data": {
      "application/vnd.jupyter.widget-view+json": {
       "model_id": "2f01c39ecfe14f5a8112214faeb50b1c",
       "version_major": 2,
       "version_minor": 0
      },
      "text/plain": [
       "HBox(children=(FloatProgress(value=1.0, bar_style='info', max=1.0), HTML(value='')))"
      ]
     },
     "metadata": {},
     "output_type": "display_data"
    },
    {
     "name": "stdout",
     "output_type": "stream",
     "text": [
      "Batch:  84 / 84\n",
      "Batch Recognition loss:  1.097383737564087\n",
      "\n",
      "[[427 182 197]\n",
      " [149 636 138]\n",
      " [158 169 605]]\n",
      "Average_Loss:  0.9144129696346465\n",
      "Average_Accuracy:  0.6268320180383314\n",
      "Validation\n",
      "\n",
      "[[ 90  66 143]\n",
      " [ 83 124  74]\n",
      " [ 35  27 124]]\n",
      "1.0932238822182019\n",
      "Accuracy:  0.4412532637075718\n",
      "Training Epoch:  39 \n",
      "\n"
     ]
    },
    {
     "data": {
      "application/vnd.jupyter.widget-view+json": {
       "model_id": "f3b307412d294ce999d0ad2de836a212",
       "version_major": 2,
       "version_minor": 0
      },
      "text/plain": [
       "HBox(children=(FloatProgress(value=1.0, bar_style='info', max=1.0), HTML(value='')))"
      ]
     },
     "metadata": {},
     "output_type": "display_data"
    },
    {
     "name": "stdout",
     "output_type": "stream",
     "text": [
      "Batch:  84 / 84\n",
      "Batch Recognition loss:  0.7934736013412476\n",
      "\n",
      "[[432 169 205]\n",
      " [155 616 152]\n",
      " [156 150 626]]\n",
      "Average_Loss:  0.9130279173453649\n",
      "Average_Accuracy:  0.629086809470124\n",
      "Validation\n",
      "\n",
      "[[ 84  93 122]\n",
      " [ 54 160  67]\n",
      " [ 28  40 118]]\n",
      "1.063140645623207\n",
      "Accuracy:  0.4725848563968668\n",
      "Training Epoch:  40 \n",
      "\n"
     ]
    },
    {
     "data": {
      "application/vnd.jupyter.widget-view+json": {
       "model_id": "3a5f304976d44326ac65d11f83c862bd",
       "version_major": 2,
       "version_minor": 0
      },
      "text/plain": [
       "HBox(children=(FloatProgress(value=1.0, bar_style='info', max=1.0), HTML(value='')))"
      ]
     },
     "metadata": {},
     "output_type": "display_data"
    },
    {
     "name": "stdout",
     "output_type": "stream",
     "text": [
      "Batch:  84 / 84\n",
      "Batch Recognition loss:  1.124290943145752\n",
      "\n",
      "[[441 183 182]\n",
      " [140 633 150]\n",
      " [187 157 588]]\n",
      "Average_Loss:  0.9143206072705132\n",
      "Average_Accuracy:  0.6245772266065389\n",
      "Validation\n",
      "\n",
      "[[ 97 141  61]\n",
      " [ 70 173  38]\n",
      " [ 38  66  82]]\n",
      "1.0670715818802516\n",
      "Accuracy:  0.4595300261096606\n",
      "Training Epoch:  41 \n",
      "\n"
     ]
    },
    {
     "data": {
      "application/vnd.jupyter.widget-view+json": {
       "model_id": "a5cdca085011497da62829beaa2d17d8",
       "version_major": 2,
       "version_minor": 0
      },
      "text/plain": [
       "HBox(children=(FloatProgress(value=1.0, bar_style='info', max=1.0), HTML(value='')))"
      ]
     },
     "metadata": {},
     "output_type": "display_data"
    },
    {
     "name": "stdout",
     "output_type": "stream",
     "text": [
      "Batch:  84 / 84\n",
      "Batch Recognition loss:  0.9760416746139526\n",
      "\n",
      "[[439 183 184]\n",
      " [146 613 164]\n",
      " [140 154 638]]\n",
      "Average_Loss:  0.9094083976177942\n",
      "Average_Accuracy:  0.6350995866215708\n",
      "Validation\n",
      "\n",
      "[[ 15  46 238]\n",
      " [ 19 101 161]\n",
      " [  3  17 166]]\n",
      "1.1789298430085182\n",
      "Accuracy:  0.3681462140992167\n",
      "Training Epoch:  42 \n",
      "\n"
     ]
    },
    {
     "data": {
      "application/vnd.jupyter.widget-view+json": {
       "model_id": "b0a3d517129e4a0d8b6c01a0528bd1c9",
       "version_major": 2,
       "version_minor": 0
      },
      "text/plain": [
       "HBox(children=(FloatProgress(value=1.0, bar_style='info', max=1.0), HTML(value='')))"
      ]
     },
     "metadata": {},
     "output_type": "display_data"
    },
    {
     "name": "stdout",
     "output_type": "stream",
     "text": [
      "Batch:  84 / 84\n",
      "Batch Recognition loss:  0.9466579556465149\n",
      "\n",
      "[[452 168 186]\n",
      " [166 602 155]\n",
      " [162 142 628]]\n",
      "Average_Loss:  0.9084251125653585\n",
      "Average_Accuracy:  0.6320931980458474\n",
      "Validation\n",
      "\n",
      "[[116 131  52]\n",
      " [ 71 173  37]\n",
      " [ 45  65  76]]\n",
      "1.0536655510465305\n",
      "Accuracy:  0.4765013054830287\n",
      "Training Epoch:  43 \n",
      "\n"
     ]
    },
    {
     "data": {
      "application/vnd.jupyter.widget-view+json": {
       "model_id": "11a36d8d75ed43559a166a635181746d",
       "version_major": 2,
       "version_minor": 0
      },
      "text/plain": [
       "HBox(children=(FloatProgress(value=1.0, bar_style='info', max=1.0), HTML(value='')))"
      ]
     },
     "metadata": {},
     "output_type": "display_data"
    },
    {
     "name": "stdout",
     "output_type": "stream",
     "text": [
      "Batch:  84 / 84\n",
      "Batch Recognition loss:  0.5614979863166809\n",
      "\n",
      "[[442 165 199]\n",
      " [159 623 141]\n",
      " [159 144 629]]\n",
      "Average_Loss:  0.9003271794035321\n",
      "Average_Accuracy:  0.6366027809094326\n",
      "Validation\n",
      "\n",
      "[[ 54 107 138]\n",
      " [ 46 164  71]\n",
      " [ 14  65 107]]\n",
      "1.1079149146874745\n",
      "Accuracy:  0.42428198433420367\n",
      "Training Epoch:  44 \n",
      "\n"
     ]
    },
    {
     "data": {
      "application/vnd.jupyter.widget-view+json": {
       "model_id": "0707e0493e864f21a6b525f781d2904d",
       "version_major": 2,
       "version_minor": 0
      },
      "text/plain": [
       "HBox(children=(FloatProgress(value=1.0, bar_style='info', max=1.0), HTML(value='')))"
      ]
     },
     "metadata": {},
     "output_type": "display_data"
    },
    {
     "name": "stdout",
     "output_type": "stream",
     "text": [
      "Batch:  84 / 84\n",
      "Batch Recognition loss:  1.1522204875946045\n",
      "\n",
      "[[444 175 187]\n",
      " [142 626 155]\n",
      " [147 157 628]]\n",
      "Average_Loss:  0.9073406649487359\n",
      "Average_Accuracy:  0.6381059751972943\n",
      "Validation\n",
      "\n",
      "[[ 79 126  94]\n",
      " [ 63 172  46]\n",
      " [ 32  65  89]]\n",
      "1.085034725566705\n",
      "Accuracy:  0.44386422976501305\n",
      "Training Epoch:  45 \n",
      "\n"
     ]
    },
    {
     "data": {
      "application/vnd.jupyter.widget-view+json": {
       "model_id": "c1124c79732e4b9da33e17e4d8d3362e",
       "version_major": 2,
       "version_minor": 0
      },
      "text/plain": [
       "HBox(children=(FloatProgress(value=1.0, bar_style='info', max=1.0), HTML(value='')))"
      ]
     },
     "metadata": {},
     "output_type": "display_data"
    },
    {
     "name": "stdout",
     "output_type": "stream",
     "text": [
      "Batch:  84 / 84\n",
      "Batch Recognition loss:  1.0213801860809326\n",
      "\n",
      "[[449 170 187]\n",
      " [151 629 143]\n",
      " [152 155 625]]\n",
      "Average_Loss:  0.9034951953660875\n",
      "Average_Accuracy:  0.6399849680571214\n",
      "Validation\n",
      "\n",
      "[[ 74  74 151]\n",
      " [ 62 112 107]\n",
      " [ 17  28 141]]\n",
      "1.1106947486599286\n",
      "Accuracy:  0.42689295039164493\n",
      "Training Epoch:  46 \n",
      "\n"
     ]
    },
    {
     "data": {
      "application/vnd.jupyter.widget-view+json": {
       "model_id": "c8ba25a88bd54f1ba9da27b47cb0ed44",
       "version_major": 2,
       "version_minor": 0
      },
      "text/plain": [
       "HBox(children=(FloatProgress(value=1.0, bar_style='info', max=1.0), HTML(value='')))"
      ]
     },
     "metadata": {},
     "output_type": "display_data"
    },
    {
     "name": "stdout",
     "output_type": "stream",
     "text": [
      "Batch:  84 / 84\n",
      "Batch Recognition loss:  0.9859333038330078\n",
      "\n",
      "[[468 179 159]\n",
      " [178 626 119]\n",
      " [190 182 560]]\n",
      "Average_Loss:  0.9139190238146555\n",
      "Average_Accuracy:  0.6215708380308155\n",
      "Validation\n",
      "\n",
      "[[ 40 115 144]\n",
      " [ 35 163  83]\n",
      " [ 12  55 119]]\n",
      "1.1115562270085018\n",
      "Accuracy:  0.42036553524804177\n",
      "Training Epoch:  47 \n",
      "\n"
     ]
    },
    {
     "data": {
      "application/vnd.jupyter.widget-view+json": {
       "model_id": "1324a26c63014c799737bc59db8279dd",
       "version_major": 2,
       "version_minor": 0
      },
      "text/plain": [
       "HBox(children=(FloatProgress(value=1.0, bar_style='info', max=1.0), HTML(value='')))"
      ]
     },
     "metadata": {},
     "output_type": "display_data"
    },
    {
     "name": "stdout",
     "output_type": "stream",
     "text": [
      "Batch:  84 / 84\n",
      "Batch Recognition loss:  1.2052825689315796\n",
      "\n",
      "[[463 168 175]\n",
      " [181 605 137]\n",
      " [190 149 593]]\n",
      "Average_Loss:  0.9176195703801655\n",
      "Average_Accuracy:  0.6242014280345735\n",
      "Validation\n",
      "\n",
      "[[106  70 123]\n",
      " [ 88 117  76]\n",
      " [ 40  28 118]]\n",
      "1.0886364777882893\n",
      "Accuracy:  0.4451697127937337\n",
      "Training Epoch:  48 \n",
      "\n"
     ]
    },
    {
     "data": {
      "application/vnd.jupyter.widget-view+json": {
       "model_id": "48844f242f8a4a90957b7e2c4d67e76a",
       "version_major": 2,
       "version_minor": 0
      },
      "text/plain": [
       "HBox(children=(FloatProgress(value=1.0, bar_style='info', max=1.0), HTML(value='')))"
      ]
     },
     "metadata": {},
     "output_type": "display_data"
    },
    {
     "name": "stdout",
     "output_type": "stream",
     "text": [
      "Batch:  84 / 84\n",
      "Batch Recognition loss:  1.1668592691421509\n",
      "\n",
      "[[441 170 195]\n",
      " [165 610 148]\n",
      " [174 137 621]]\n",
      "Average_Loss:  0.9138705340169725\n",
      "Average_Accuracy:  0.6283352123261932\n",
      "Validation\n",
      "\n",
      "[[145 124  30]\n",
      " [100 160  21]\n",
      " [ 64  65  57]]\n",
      "1.0673949991663296\n",
      "Accuracy:  0.4725848563968668\n",
      "Training Epoch:  49 \n",
      "\n"
     ]
    },
    {
     "data": {
      "application/vnd.jupyter.widget-view+json": {
       "model_id": "1e35c5a9795e4bedbf3906f0f2524e35",
       "version_major": 2,
       "version_minor": 0
      },
      "text/plain": [
       "HBox(children=(FloatProgress(value=1.0, bar_style='info', max=1.0), HTML(value='')))"
      ]
     },
     "metadata": {},
     "output_type": "display_data"
    },
    {
     "name": "stdout",
     "output_type": "stream",
     "text": [
      "Batch:  84 / 84\n",
      "Batch Recognition loss:  1.2483855485916138\n",
      "\n",
      "[[435 168 203]\n",
      " [159 615 149]\n",
      " [174 153 605]]\n",
      "Average_Loss:  0.9177954324654171\n",
      "Average_Accuracy:  0.6219466366027809\n",
      "Validation\n",
      "\n",
      "[[123 107  69]\n",
      " [ 88 143  50]\n",
      " [ 45  55  86]]\n",
      "1.0716205537319183\n",
      "Accuracy:  0.4595300261096606\n",
      "Training Epoch:  50 \n",
      "\n"
     ]
    },
    {
     "data": {
      "application/vnd.jupyter.widget-view+json": {
       "model_id": "38c252aaa9374de1b31b04bbb173b6b7",
       "version_major": 2,
       "version_minor": 0
      },
      "text/plain": [
       "HBox(children=(FloatProgress(value=1.0, bar_style='info', max=1.0), HTML(value='')))"
      ]
     },
     "metadata": {},
     "output_type": "display_data"
    },
    {
     "name": "stdout",
     "output_type": "stream",
     "text": [
      "Batch:  84 / 84\n",
      "Batch Recognition loss:  1.1458749771118164\n",
      "\n",
      "[[461 172 173]\n",
      " [173 606 144]\n",
      " [170 152 610]]\n",
      "Average_Loss:  0.9074547035353524\n",
      "Average_Accuracy:  0.6302142051860203\n",
      "Validation\n",
      "\n",
      "[[123  87  89]\n",
      " [ 88 137  56]\n",
      " [ 49  46  91]]\n",
      "1.0774105166395505\n",
      "Accuracy:  0.45822454308093996\n"
     ]
    }
   ],
   "source": [
    "train(num_epochs,model_name,model,train_dataloader,valid_dataloader,optimizer,criterion)"
   ]
  },
  {
   "cell_type": "code",
   "execution_count": null,
   "metadata": {},
   "outputs": [],
   "source": []
  }
 ],
 "metadata": {
  "kernelspec": {
   "display_name": "Python 3",
   "language": "python",
   "name": "python3"
  },
  "language_info": {
   "codemirror_mode": {
    "name": "ipython",
    "version": 3
   },
   "file_extension": ".py",
   "mimetype": "text/x-python",
   "name": "python",
   "nbconvert_exporter": "python",
   "pygments_lexer": "ipython3",
   "version": "3.7.5"
  }
 },
 "nbformat": 4,
 "nbformat_minor": 4
}
