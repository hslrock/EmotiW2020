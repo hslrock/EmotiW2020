{
 "cells": [
  {
   "cell_type": "code",
   "execution_count": 1,
   "metadata": {},
   "outputs": [],
   "source": [
    "from Dataload import dataload\n",
    "\n",
    "from module import transformer,video_model,invres\n",
    "\n",
    "import torch\n",
    "import torch.nn as nn\n",
    "from torchsummary import summary\n",
    "from sklearn.metrics import confusion_matrix\n",
    "from torch.utils.data import Dataset, DataLoader\n",
    "import matplotlib.pylab as plt\n",
    "from torchvision import  utils\n",
    "#Batchfy\n",
    "\n",
    "from constant import EMOTIPATH\n",
    "#Counts number of correct label\n",
    "def num_correct(prediction,labels):\n",
    "    correct=0\n",
    "    for i,(pred_label,label) in enumerate(zip(prediction,labels)):\n",
    "        if (pred_label.item()==label.item()):\n",
    "            correct +=1\n",
    "    return correct\n",
    "\n",
    "import os\n",
    "\n",
    "Train_label=os.path.join(EMOTIPATH,\"Train_labels.txt\")\n",
    "Train_video=os.path.join(EMOTIPATH,\"Train\")\n",
    "Val_labels=os.path.join(EMOTIPATH,\"Val_labels.txt\")\n",
    "Val_video=os.path.join(EMOTIPATH,\"Val\")\n",
    "train_data=dataload.Video_Frame_Data(Train_label,base_path_v=Train_video,strict_num=26)\n",
    "valid_data=dataload.Video_Frame_Data(Val_labels,base_path_v=Val_video,strict_num=26)\n",
    "\n",
    "\n",
    "\n",
    "            \n",
    "train_dataloader = DataLoader(train_data, batch_size=64\n",
    "                       , num_workers=0,shuffle=False)\n",
    "\n",
    "valid_dataloader = DataLoader(valid_data, batch_size=64\n",
    "                       , num_workers=0,shuffle=False)"
   ]
  },
  {
   "cell_type": "code",
   "execution_count": 2,
   "metadata": {},
   "outputs": [],
   "source": [
    "device = torch.device(\"cuda:0\" if torch.cuda.is_available() else \"cpu\")\n",
    "torch.set_default_tensor_type(torch.cuda.FloatTensor)"
   ]
  },
  {
   "cell_type": "code",
   "execution_count": 3,
   "metadata": {},
   "outputs": [
    {
     "name": "stdout",
     "output_type": "stream",
     "text": [
      "densenet is frozen\n",
      "fc2 is unfrozen\n",
      "fc3 is unfrozen\n",
      "posencoding is unfrozen\n",
      "transformer is unfrozen\n",
      "ready\n"
     ]
    }
   ],
   "source": [
    "model=video_model.Video_Feature(joint=False,grayscale=False,classfication=True,frame=24,skip_process=False)\n",
    "\n",
    "model=model.to(device)\n",
    "\n",
    "for name, child in model.named_children():\n",
    "   if not name in ['densenet']:\n",
    "       print(name + ' is unfrozen')\n",
    "       for param in child.parameters():\n",
    "           param.requires_grad = True\n",
    "   else:\n",
    "       print(name + ' is frozen')\n",
    "       for param in child.parameters():\n",
    "           param.requires_grad = False\n",
    "model.eval()           \n",
    "print(\"ready\")"
   ]
  },
  {
   "cell_type": "code",
   "execution_count": 4,
   "metadata": {},
   "outputs": [
    {
     "data": {
      "text/plain": [
       "2661"
      ]
     },
     "execution_count": 4,
     "metadata": {},
     "output_type": "execute_result"
    }
   ],
   "source": [
    "len(train_data)"
   ]
  },
  {
   "cell_type": "code",
   "execution_count": 5,
   "metadata": {},
   "outputs": [],
   "source": [
    "def preprocess(): \n",
    "    data=\"Embedding\\n\"\n",
    "    import numpy as np        \n",
    "    f=open('train.csv','ab')\n",
    "    f.write(data.encode())\n",
    "    model.eval()\n",
    "    for i_batch, (sample_batched,_,label) in enumerate(train_dataloader):\n",
    "        batch_size=sample_batched.size(0)\n",
    "        sample_batched=sample_batched.to(device)\n",
    "        sample_output=model(sample_batched)\n",
    "        np.savetxt(f,(sample_output.reshape(batch_size,-1).float().cpu().numpy()),fmt=\"%f\")\n",
    "\n",
    "    f.close()"
   ]
  },
  {
   "cell_type": "code",
   "execution_count": 6,
   "metadata": {},
   "outputs": [],
   "source": [
    "preprocess()"
   ]
  },
  {
   "cell_type": "code",
   "execution_count": null,
   "metadata": {},
   "outputs": [],
   "source": [
    "import pandas as pd\n",
    "import numpy as np\n",
    "class Video_Embedding_Data(Dataset):\n",
    "    def __init__(self, embed_file,label_file,frame=24):\n",
    "        self._table_embedding = pd.read_csv(embed_file)\n",
    "        self._table_label = pd.read_csv(label_file,delimiter=' ')\n",
    "        self.frame=frame\n",
    "    def __len__(self):\n",
    "        return len(self._table_embedding)\n",
    "\n",
    "    def __getitem__(self, idx):\n",
    "        embedding=torch.from_numpy(np.array(debug._table_embedding.Embedding[idx].split(),dtype=float)).reshape((self.frame,-1))\n",
    "        labels = torch.from_numpy(np.array(self._table_label.Label[idx]))-1\n",
    "        \n",
    "        return (embedding,labels)\n",
    "    "
   ]
  },
  {
   "cell_type": "code",
   "execution_count": null,
   "metadata": {},
   "outputs": [],
   "source": [
    "debug=Video_Embedding_Data(\"valid.csv\",Val_labels)"
   ]
  },
  {
   "cell_type": "code",
   "execution_count": null,
   "metadata": {},
   "outputs": [],
   "source": [
    "real_output=model(train_data[0][0].unsqueeze(0).to(device))"
   ]
  },
  {
   "cell_type": "code",
   "execution_count": null,
   "metadata": {},
   "outputs": [],
   "source": [
    "debug[0]"
   ]
  },
  {
   "cell_type": "code",
   "execution_count": null,
   "metadata": {},
   "outputs": [],
   "source": [
    "real_output[0]"
   ]
  },
  {
   "cell_type": "code",
   "execution_count": null,
   "metadata": {},
   "outputs": [],
   "source": [
    "len(debug)"
   ]
  },
  {
   "cell_type": "code",
   "execution_count": 7,
   "metadata": {},
   "outputs": [],
   "source": [
    "def preprocess(): \n",
    "    data=\"Embedding\\n\"\n",
    "    import numpy as np        \n",
    "    f=open('valid.csv','ab')\n",
    "    f.write(data.encode())\n",
    "    model.eval()\n",
    "    for i_batch, (sample_batched,_,label) in enumerate(valid_dataloader):\n",
    "        batch_size=sample_batched.size(0)\n",
    "        sample_batched=sample_batched.to(device)\n",
    "        sample_output=model(sample_batched)\n",
    "        np.savetxt(f,(sample_output.reshape(batch_size,-1).float().cpu().numpy()),fmt=\"%f\")\n",
    "\n",
    "    f.close()"
   ]
  },
  {
   "cell_type": "code",
   "execution_count": 8,
   "metadata": {},
   "outputs": [],
   "source": [
    "\n",
    "\n",
    "preprocess()"
   ]
  },
  {
   "cell_type": "code",
   "execution_count": null,
   "metadata": {},
   "outputs": [],
   "source": []
  }
 ],
 "metadata": {
  "kernelspec": {
   "display_name": "Python 3",
   "language": "python",
   "name": "python3"
  },
  "language_info": {
   "codemirror_mode": {
    "name": "ipython",
    "version": 3
   },
   "file_extension": ".py",
   "mimetype": "text/x-python",
   "name": "python",
   "nbconvert_exporter": "python",
   "pygments_lexer": "ipython3",
   "version": "3.7.5"
  }
 },
 "nbformat": 4,
 "nbformat_minor": 4
}
