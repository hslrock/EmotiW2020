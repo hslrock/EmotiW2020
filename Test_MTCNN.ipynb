{
 "cells": [
  {
   "cell_type": "markdown",
   "metadata": {},
   "source": [
    "# Import Modules"
   ]
  },
  {
   "cell_type": "code",
   "execution_count": 3,
   "metadata": {},
   "outputs": [],
   "source": [
    "from Dataload import dataload\n",
    "\n",
    "from module import resnet,transformer,video_model,invres\n",
    "\n",
    "import torch\n",
    "import torch.nn as nn\n",
    "from torchsummary import summary\n",
    "from sklearn.metrics import confusion_matrix\n",
    "from torch.utils.data import Dataset, DataLoader\n",
    "import matplotlib.pylab as plt\n",
    "from torchvision import  utils\n",
    "\n",
    "from src import detect_faces, show_bboxes\n",
    "from PIL import Image\n",
    "import numpy as np\n",
    "from torchvision import transforms"
   ]
  },
  {
   "cell_type": "code",
   "execution_count": 4,
   "metadata": {},
   "outputs": [],
   "source": [
    "\n",
    "\n",
    "np_load_old = np.load\n",
    "np.load = lambda *a,**k: np_load_old(*a, allow_pickle=True, **k)\n"
   ]
  },
  {
   "cell_type": "markdown",
   "metadata": {},
   "source": [
    "# Test Image #1"
   ]
  },
  {
   "cell_type": "code",
   "execution_count": 15,
   "metadata": {},
   "outputs": [],
   "source": [
    "train_data=dataload.Video_Frame_Data('Dataset/Train_labels.txt',base_path_v='Dataset/Train',strict_num=26)\n",
    "img=train_data[2556][0][4]\n",
    "\n",
    "\n",
    "from torch.utils.data import Dataset\n",
    "class Facial(Dataset):\n",
    "    def __init__(self,image,max_number):\n",
    "        self.img=img\n",
    "        self.max_number=max_number\n",
    "        self.transform1=transforms.Compose([\n",
    "                                 transforms.Resize((64,64)), \n",
    "                                 transforms.ToTensor(),\n",
    "                                 transforms.Normalize((0.5,0.5,0.5 ), (0.5, 0.5,0.5))])\n",
    "        self.face=self.face_extraction(img)\n",
    "\n",
    "    def face_extraction(self,img):\n",
    "        bounding_boxes, landmarks = detect_faces(img)\n",
    "        img_list=[]\n",
    "        for box_index,(left,right,up,bottom,_) in enumerate(bounding_boxes):\n",
    "            cropped_img=img.crop((left,right,up,bottom))\n",
    "            img_list.append(self.transform1(cropped_img))\n",
    "            if len(img_list)==max_face:\n",
    "                break\n",
    "        while len(img_list) !=max_face:\n",
    "            END_PAD= Image.new(mode = \"RGB\", size = (256, 256), color =(0, 0, 0))\n",
    "            img_list.append(self.transform1(END_PAD))\n",
    "        img_list=torch.stack(img_list)\n",
    "        \n",
    "        return img_list\n",
    "    \n",
    "max_face=5\n",
    "img=transforms.ToPILImage()(img*0.5+0.5)\n",
    "data=Facial(img,max_face)"
   ]
  },
  {
   "cell_type": "code",
   "execution_count": 17,
   "metadata": {},
   "outputs": [
    {
     "data": {
      "image/png": "[encoded data removed]",
      "text/plain": [
       "<Figure size 432x288 with 1 Axes>"
      ]
     },
     "metadata": {
      "needs_background": "light"
     },
     "output_type": "display_data"
    }
   ],
   "source": [
    "#plt.figure(figsize=(, 16))\n",
    "grid_border_size = 2\n",
    "grid = utils.make_grid(data.face)\n",
    "\n",
    "plt.imshow((((grid.numpy()*0.5)+0.5).transpose((1, 2, 0))))\n",
    "plt.axis('off')\n",
    "plt.ioff()\n",
    "plt.show()"
   ]
  },
  {
   "cell_type": "code",
   "execution_count": 19,
   "metadata": {},
   "outputs": [],
   "source": [
    "from module.resnet_o import resnet18"
   ]
  },
  {
   "cell_type": "code",
   "execution_count": 20,
   "metadata": {},
   "outputs": [],
   "source": [
    "test_model=resnet18()"
   ]
  },
  {
   "cell_type": "code",
   "execution_count": 25,
   "metadata": {},
   "outputs": [
    {
     "data": {
      "text/plain": [
       "torch.Size([1, 1000])"
      ]
     },
     "execution_count": 25,
     "metadata": {},
     "output_type": "execute_result"
    }
   ],
   "source": [
    "test_model(img_list[1].unsqueeze(0)).shape"
   ]
  },
  {
   "cell_type": "code",
   "execution_count": 32,
   "metadata": {},
   "outputs": [],
   "source": [
    "class Face_Feature(nn.Module):\n",
    "    \n",
    "    def __init__(self):\n",
    "        super(Face_Feature, self).__init__()\n",
    "        \n",
    "        self.resnet=resnet18()\n",
    "        self.fc1=nn.Linear(1000,2)\n",
    "        \n",
    "    def forward(self,x):\n",
    "        \n",
    "        return self.fc1(self.resnet(x))"
   ]
  },
  {
   "cell_type": "code",
   "execution_count": 33,
   "metadata": {},
   "outputs": [],
   "source": [
    "test_model=Face_Feature()"
   ]
  },
  {
   "cell_type": "code",
   "execution_count": 35,
   "metadata": {},
   "outputs": [],
   "source": [
    "a=test_model(img_list[1].unsqueeze(0))"
   ]
  },
  {
   "cell_type": "code",
   "execution_count": 37,
   "metadata": {},
   "outputs": [],
   "source": [
    "loss_func = torch.nn.MSELoss()\n"
   ]
  },
  {
   "cell_type": "code",
   "execution_count": 44,
   "metadata": {},
   "outputs": [],
   "source": [
    "import pandas as pd\n",
    "training_data=pd.read_csv(\"training.csv\")\n",
    "\n",
    "from torch.utils.data import Dataset, DataLoader\n"
   ]
  },
  {
   "cell_type": "code",
   "execution_count": 114,
   "metadata": {},
   "outputs": [],
   "source": [
    "class AffectNetData(Dataset):\n",
    "    def __init__(self, csv_file,base_path):\n",
    "        self._base_path=base_path\n",
    "        self._table = pd.read_csv(csv_file)\n",
    "        self.transform=transforms.Compose([\n",
    "                     transforms.Resize((64,64)),\n",
    "                     transforms.ToTensor(),   \n",
    "                     transforms.Normalize((0.5,0.5,0.5 ), (0.5, 0.5,0.5))])\n",
    "    def __len__(self):\n",
    "        return len(self._table)\n",
    "\n",
    "    def __getitem__(self, idx):\n",
    "        img_path = os.path.join(self._base_path_v,self._table.subDirectory_filepath[idx])\n",
    "        arousal=torch.from_numpy(np.array(self._table.arousal[idx]))\n",
    "        valence=torch.from_numpy(np.array(self._table.valence[idx]))\n",
    "        labels=torch.stack(arousal,valence).float()\n",
    "        img=Image.open(img_path)\n",
    "        img=self.transform(img)\n",
    "        return (img,labels)"
   ]
  },
  {
   "cell_type": "code",
   "execution_count": 115,
   "metadata": {},
   "outputs": [],
   "source": [
    "data_transform=transforms.Compose([\n",
    "                     transforms.Resize((64,64)),\n",
    "                     transforms.ToTensor(),   \n",
    "                     transforms.Normalize((0.5,0.5,0.5 ), (0.5, 0.5,0.5))])"
   ]
  },
  {
   "cell_type": "code",
   "execution_count": null,
   "metadata": {},
   "outputs": [],
   "source": [
    "#\n",
    "#train_set=AffectNetData(\"training.csv\",\"AffectNet\")\n",
    "#valid_set=AffectNetData(\"validation.csv\",\"AffectNet\")"
   ]
  },
  {
   "cell_type": "code",
   "execution_count": 150,
   "metadata": {},
   "outputs": [],
   "source": [
    "#train_dataloader = DataLoader(train_data, batch_size=256\n",
    "#                       , num_workers=0,shuffle=True)\n",
    "\n",
    "#valid_dataloader = DataLoader(valid_data, batch_size=256\n",
    "#                       , num_workers=0)"
   ]
  },
  {
   "cell_type": "code",
   "execution_count": 140,
   "metadata": {},
   "outputs": [],
   "source": [
    "#da"
   ]
  },
  {
   "cell_type": "code",
   "execution_count": 141,
   "metadata": {},
   "outputs": [],
   "source": []
  },
  {
   "cell_type": "code",
   "execution_count": 142,
   "metadata": {},
   "outputs": [],
   "source": []
  },
  {
   "cell_type": "code",
   "execution_count": 143,
   "metadata": {},
   "outputs": [
    {
     "data": {
      "text/plain": [
       "tensor([[ 0.1981, -0.0413],\n",
       "        [-0.1359, -0.1691]], grad_fn=<AddmmBackward>)"
      ]
     },
     "execution_count": 143,
     "metadata": {},
     "output_type": "execute_result"
    }
   ],
   "source": []
  },
  {
   "cell_type": "code",
   "execution_count": 144,
   "metadata": {},
   "outputs": [],
   "source": []
  },
  {
   "cell_type": "code",
   "execution_count": 145,
   "metadata": {},
   "outputs": [
    {
     "data": {
      "text/plain": [
       "tensor(1.1452, grad_fn=<MseLossBackward>)"
      ]
     },
     "execution_count": 145,
     "metadata": {},
     "output_type": "execute_result"
    }
   ],
   "source": []
  },
  {
   "cell_type": "code",
   "execution_count": null,
   "metadata": {},
   "outputs": [],
   "source": []
  }
 ],
 "metadata": {
  "kernelspec": {
   "display_name": "Python 3",
   "language": "python",
   "name": "python3"
  },
  "language_info": {
   "codemirror_mode": {
    "name": "ipython",
    "version": 3
   },
   "file_extension": ".py",
   "mimetype": "text/x-python",
   "name": "python",
   "nbconvert_exporter": "python",
   "pygments_lexer": "ipython3",
   "version": "3.7.5"
  }
 },
 "nbformat": 4,
 "nbformat_minor": 4
}
