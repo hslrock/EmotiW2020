{
 "cells": [
  {
   "cell_type": "markdown",
   "metadata": {},
   "source": [
    "# Import Modules"
   ]
  },
  {
   "cell_type": "code",
   "execution_count": 1,
   "metadata": {},
   "outputs": [],
   "source": [
    "from Dataload import dataload\n",
    "\n",
    "from module import transformer,video_model,invres\n",
    "\n",
    "import torch\n",
    "import torch.nn as nn\n",
    "from torchsummary import summary\n",
    "from sklearn.metrics import confusion_matrix\n",
    "from torch.utils.data import Dataset, DataLoader\n",
    "import matplotlib.pylab as plt\n",
    "from torchvision import  utils\n",
    "from constant import EMOTIPATH\n",
    "from src import detect_faces, show_bboxes\n",
    "from PIL import Image\n",
    "import numpy as np\n",
    "from torchvision import transforms"
   ]
  },
  {
   "cell_type": "code",
   "execution_count": null,
   "metadata": {},
   "outputs": [],
   "source": [
    "\n",
    "\n",
    "#np_load_old = np.load\n",
    "#np.load = lambda *a,**k: np_load_old(*a, allow_pickle=True, **k)\n"
   ]
  },
  {
   "cell_type": "markdown",
   "metadata": {},
   "source": [
    "# Test Image #1"
   ]
  },
  {
   "cell_type": "code",
   "execution_count": 26,
   "metadata": {},
   "outputs": [],
   "source": [
    "import os\n",
    "Train_label=os.path.join(EMOTIPATH,\"Train_labels.txt\")\n",
    "Train_video=os.path.join(EMOTIPATH,\"Train\")\n",
    "Val_labels=os.path.join(EMOTIPATH,\"Val_labels.txt\")\n",
    "Val_video=os.path.join(EMOTIPATH,\"Val\")\n",
    "train_data=dataload.Video_Frame_Data(Train_label,base_path_v=Train_video,frame_num=24)\n",
    "\n",
    "img=train_data[2556][0][4]\n",
    "\n",
    "\n",
    "\n",
    "\n",
    "class Facial(Dataset):\n",
    "    def __init__(self,image,max_number):\n",
    "        self.img=img\n",
    "        self.max_number=max_number\n",
    "        self.transform1=transforms.Resize((64,64))\n",
    "        self.face=self.face_extraction(img)\n",
    "        self.pil=self.toonePIL(self.face)\n",
    "    def face_extraction(self,img):\n",
    "        bounding_boxes, landmarks = detect_faces(img)\n",
    "        img_list=[]\n",
    "        \n",
    "        for box_index,(left,right,up,bottom,_) in enumerate(bounding_boxes):\n",
    "            cropped_img=img.crop((left,right,up,bottom))\n",
    "            img_list.append(self.transform1(cropped_img))\n",
    "            \n",
    "            if len(img_list)==max_face:\n",
    "                break\n",
    "        while len(img_list) !=max_face:\n",
    "            END_PAD= Image.new(mode = \"RGB\", size = (256, 256), color =(0, 0, 0))\n",
    "            img_list.append(self.transform1(END_PAD))   \n",
    "        return img_list\n",
    "    \n",
    "    def toonePIL(self,x):\n",
    "        new_im = Image.new('RGB', (64*self.max_number,64))\n",
    "\n",
    "        x_offset = 0\n",
    "        for im in x:\n",
    "            new_im.paste(im, (x_offset,0))\n",
    "            x_offset += im.size[0]\n",
    "        return new_im\n",
    "    \n",
    "max_face=5\n",
    "img=transforms.ToPILImage()(img*0.5+0.5)\n",
    "data=Facial(img,max_face)"
   ]
  },
  {
   "cell_type": "code",
   "execution_count": 27,
   "metadata": {},
   "outputs": [
    {
     "data": {
      "image/png": "[encoded data removed]",
      "text/plain": [
       "<PIL.Image.Image image mode=RGB size=320x64 at 0x7F2714E1AE90>"
      ]
     },
     "execution_count": 27,
     "metadata": {},
     "output_type": "execute_result"
    }
   ],
   "source": [
    "data.pil"
   ]
  },
  {
   "cell_type": "code",
   "execution_count": null,
   "metadata": {},
   "outputs": [],
   "source": [
    "for train_video in :\n",
    "    for train_frame in train_video"
   ]
  },
  {
   "cell_type": "code",
   "execution_count": null,
   "metadata": {},
   "outputs": [],
   "source": [
    "test_model(img_list[1].unsqueeze(0)).shape"
   ]
  },
  {
   "cell_type": "code",
   "execution_count": null,
   "metadata": {},
   "outputs": [],
   "source": [
    "class Face_Feature(nn.Module):\n",
    "    \n",
    "    def __init__(self):\n",
    "        super(Face_Feature, self).__init__()\n",
    "        \n",
    "        self.resnet=resnet18()\n",
    "        self.fc1=nn.Linear(1000,2)\n",
    "        \n",
    "    def forward(self,x):\n",
    "        \n",
    "        return self.fc1(self.resnet(x))"
   ]
  },
  {
   "cell_type": "code",
   "execution_count": null,
   "metadata": {},
   "outputs": [],
   "source": [
    "test_model=Face_Feature()"
   ]
  },
  {
   "cell_type": "code",
   "execution_count": null,
   "metadata": {},
   "outputs": [],
   "source": [
    "a=test_model(img_list[1].unsqueeze(0))"
   ]
  },
  {
   "cell_type": "code",
   "execution_count": null,
   "metadata": {},
   "outputs": [],
   "source": [
    "loss_func = torch.nn.MSELoss()\n"
   ]
  },
  {
   "cell_type": "code",
   "execution_count": null,
   "metadata": {},
   "outputs": [],
   "source": [
    "import pandas as pd\n",
    "training_data=pd.read_csv(\"training.csv\")\n",
    "\n",
    "from torch.utils.data import Dataset, DataLoader\n"
   ]
  },
  {
   "cell_type": "code",
   "execution_count": null,
   "metadata": {},
   "outputs": [],
   "source": [
    "class AffectNetData(Dataset):\n",
    "    def __init__(self, csv_file,base_path):\n",
    "        self._base_path=base_path\n",
    "        self._table = pd.read_csv(csv_file)\n",
    "        self.transform=transforms.Compose([\n",
    "                     transforms.Resize((64,64)),\n",
    "                     transforms.ToTensor(),   \n",
    "                     transforms.Normalize((0.5,0.5,0.5 ), (0.5, 0.5,0.5))])\n",
    "    def __len__(self):\n",
    "        return len(self._table)\n",
    "\n",
    "    def __getitem__(self, idx):\n",
    "        img_path = os.path.join(self._base_path_v,self._table.subDirectory_filepath[idx])\n",
    "        arousal=torch.from_numpy(np.array(self._table.arousal[idx]))\n",
    "        valence=torch.from_numpy(np.array(self._table.valence[idx]))\n",
    "        labels=torch.stack(arousal,valence).float()\n",
    "        img=Image.open(img_path)\n",
    "        img=self.transform(img)\n",
    "        return (img,labels)"
   ]
  },
  {
   "cell_type": "code",
   "execution_count": null,
   "metadata": {},
   "outputs": [],
   "source": [
    "data_transform=transforms.Compose([\n",
    "                     transforms.Resize((64,64)),\n",
    "                     transforms.ToTensor(),   \n",
    "                     transforms.Normalize((0.5,0.5,0.5 ), (0.5, 0.5,0.5))])"
   ]
  },
  {
   "cell_type": "code",
   "execution_count": null,
   "metadata": {},
   "outputs": [],
   "source": [
    "#\n",
    "#train_set=AffectNetData(\"training.csv\",\"AffectNet\")\n",
    "#valid_set=AffectNetData(\"validation.csv\",\"AffectNet\")"
   ]
  },
  {
   "cell_type": "code",
   "execution_count": null,
   "metadata": {},
   "outputs": [],
   "source": [
    "#train_dataloader = DataLoader(train_data, batch_size=256\n",
    "#                       , num_workers=0,shuffle=True)\n",
    "\n",
    "#valid_dataloader = DataLoader(valid_data, batch_size=256\n",
    "#                       , num_workers=0)"
   ]
  },
  {
   "cell_type": "code",
   "execution_count": null,
   "metadata": {},
   "outputs": [],
   "source": [
    "#da"
   ]
  },
  {
   "cell_type": "code",
   "execution_count": null,
   "metadata": {},
   "outputs": [],
   "source": []
  },
  {
   "cell_type": "code",
   "execution_count": null,
   "metadata": {},
   "outputs": [],
   "source": []
  },
  {
   "cell_type": "code",
   "execution_count": null,
   "metadata": {},
   "outputs": [],
   "source": []
  },
  {
   "cell_type": "code",
   "execution_count": null,
   "metadata": {},
   "outputs": [],
   "source": []
  },
  {
   "cell_type": "code",
   "execution_count": null,
   "metadata": {},
   "outputs": [],
   "source": []
  },
  {
   "cell_type": "code",
   "execution_count": null,
   "metadata": {},
   "outputs": [],
   "source": []
  }
 ],
 "metadata": {
  "kernelspec": {
   "display_name": "Python 3",
   "language": "python",
   "name": "python3"
  },
  "language_info": {
   "codemirror_mode": {
    "name": "ipython",
    "version": 3
   },
   "file_extension": ".py",
   "mimetype": "text/x-python",
   "name": "python",
   "nbconvert_exporter": "python",
   "pygments_lexer": "ipython3",
   "version": "3.7.5"
  }
 },
 "nbformat": 4,
 "nbformat_minor": 4
}
