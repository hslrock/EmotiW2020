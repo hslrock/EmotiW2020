{
 "cells": [
  {
   "cell_type": "code",
   "execution_count": 3,
   "metadata": {},
   "outputs": [
    {
     "name": "stdout",
     "output_type": "stream",
     "text": [
      "3    932\n",
      "2    923\n",
      "1    806\n",
      "Name: Label, dtype: int64\n",
      "1    299\n",
      "2    281\n",
      "3    186\n",
      "Name: Label, dtype: int64\n"
     ]
    }
   ],
   "source": [
    "#Slef-made Function\n",
    "from Dataload import dataload\n",
    "from module import transformer,video_model\n",
    "from constant import EMOTIPATH,EMOTIFACEPATH,EMOTIAUDIOPATH\n",
    "from train import methods\n",
    "\n",
    "\n",
    "#Torch Library\n",
    "\n",
    "import torch\n",
    "import torch.nn as nn\n",
    "from torchsummary import summary\n",
    "from torch.utils.data import Dataset, DataLoader\n",
    "from torchvision import  utils\n",
    "\n",
    "#Sub tools\n",
    "import pandas as pd\n",
    "\n",
    "import os\n",
    "import matplotlib.pylab as plt\n",
    "\n",
    "#Util Library\n",
    "import time\n",
    "from tqdm.notebook import tqdm\n",
    "from mpl_toolkits.axes_grid1 import ImageGrid  \n",
    "\n",
    "Train_label=os.path.join(EMOTIPATH,\"Train_labels.txt\")\n",
    "Train_video_pt=os.path.join(EMOTIPATH,\"pt\",\"Train\")\n",
    "Train_face_pt=os.path.join(EMOTIFACEPATH,\"pt_stacked\",\"Train\")\n",
    "Audio_Train=os.path.join(EMOTIAUDIOPATH,\"Train_audio.csv\")\n",
    "\n",
    "Val_labels=os.path.join(EMOTIPATH,\"Val_labels.txt\")\n",
    "Val_video_pt=os.path.join(EMOTIPATH,\"pt\",\"Valid\")\n",
    "Val_face_pt=os.path.join(EMOTIFACEPATH,\"pt_stacked\",\"Valid\")\n",
    "Audio_Valid=os.path.join(EMOTIAUDIOPATH,\"Val_audio.csv\")\n",
    "\n",
    "\n",
    "train_table = pd.read_csv(Train_label,delimiter=' ')\n",
    "val_table = pd.read_csv(Val_labels,delimiter=' ')\n",
    "print(train_table['Label'].value_counts())\n",
    "print(val_table['Label'].value_counts())\n",
    "\n",
    "\n",
    "\n",
    "device = torch.device(\"cuda:0\" if torch.cuda.is_available() else \"cpu\")\n",
    "torch.set_default_tensor_type(torch.cuda.FloatTensor)\n",
    "\n",
    "\n",
    "\n",
    "frame_num=10\n",
    "\n",
    "train_data_pt=dataload.Video_Frame_Data(Train_label,base_path_v=Train_video_pt,face_path=Train_face_pt,frame_num=frame_num,direct=True,audio_csv=Audio_Train)\n",
    "valid_data_pt=dataload.Video_Frame_Data(Val_labels,base_path_v=Val_video_pt,face_path=Val_face_pt,frame_num=frame_num,direct=True,audio_csv=Audio_Valid)\n",
    "\n",
    "\n",
    "\n",
    "\n",
    "\n",
    "def load_pretrained_model(pre_train):\n",
    "    \n",
    "    face_model=torch.load(\"pre_trained_model/\" +\"pre_trained_resnet18_face.h\")\n",
    "    audio_model=video_model.AudioRecognition(softmax=pre_train)\n",
    "    audio_model.load_state_dict(torch.load(\"pre_trained_model/pre_embedded_audio.pth\"),strict=False)\n",
    "    image_model=video_model.Video_modeller(frame_num,face_model=face_model,pre_train=pre_train)\n",
    "    image_model.load_state_dict(torch.load(\"pre_trained_model/img_global_5.pth\"),strict=False)\n",
    "    return(image_model,audio_model)\n",
    "\n",
    "\n",
    "\n",
    "def show_img(dataset,index,frame):\n",
    "    x=dataset[index][0][frame].cpu().numpy()\n",
    "    plt.figure(1,(15,15))\n",
    "    plt.axis('off')\n",
    "    image = (x*0.5+0.5).transpose((1, 2, 0)).squeeze()\n",
    "    plt.imshow(image)\n",
    "    \n",
    "    fig = plt.figure(2,(15,15))\n",
    "   # plt.axis('off')\n",
    "    grid = ImageGrid(fig, 111,\n",
    "                     nrows_ncols=(1,5),\n",
    "                     axes_pad=0.1,\n",
    "                     )\n",
    "    for i in range(5):\n",
    "        face=dataset[index][1][frame].cpu().numpy()\n",
    "        image = (face[i,:]*0.5+0.5).transpose((1, 2, 0)).squeeze()\n",
    "        grid[i].imshow(image,cmap='gray',interpolation='none')\n",
    "        \n",
    "img_model,audio_model=load_pretrained_model(False)\n",
    "\n"
   ]
  },
  {
   "cell_type": "code",
   "execution_count": 5,
   "metadata": {},
   "outputs": [],
   "source": [
    "face_model=torch.load(\"pre_trained_model/\" +\"pre_trained_resnet18_face.h\")"
   ]
  },
  {
   "cell_type": "code",
   "execution_count": null,
   "metadata": {},
   "outputs": [],
   "source": []
  },
  {
   "cell_type": "code",
   "execution_count": 6,
   "metadata": {},
   "outputs": [
    {
     "data": {
      "text/plain": [
       "ResNet(\n",
       "  (conv1): Conv2d(3, 64, kernel_size=(7, 7), stride=(2, 2), padding=(3, 3), bias=False)\n",
       "  (bn1): BatchNorm2d(64, eps=1e-05, momentum=0.1, affine=True, track_running_stats=True)\n",
       "  (relu): ReLU(inplace=True)\n",
       "  (maxpool): MaxPool2d(kernel_size=3, stride=2, padding=1, dilation=1, ceil_mode=False)\n",
       "  (layer1): Sequential(\n",
       "    (0): BasicBlock(\n",
       "      (conv1): Conv2d(64, 64, kernel_size=(3, 3), stride=(1, 1), padding=(1, 1), bias=False)\n",
       "      (bn1): BatchNorm2d(64, eps=1e-05, momentum=0.1, affine=True, track_running_stats=True)\n",
       "      (relu): ReLU(inplace=True)\n",
       "      (conv2): Conv2d(64, 64, kernel_size=(3, 3), stride=(1, 1), padding=(1, 1), bias=False)\n",
       "      (bn2): BatchNorm2d(64, eps=1e-05, momentum=0.1, affine=True, track_running_stats=True)\n",
       "    )\n",
       "    (1): BasicBlock(\n",
       "      (conv1): Conv2d(64, 64, kernel_size=(3, 3), stride=(1, 1), padding=(1, 1), bias=False)\n",
       "      (bn1): BatchNorm2d(64, eps=1e-05, momentum=0.1, affine=True, track_running_stats=True)\n",
       "      (relu): ReLU(inplace=True)\n",
       "      (conv2): Conv2d(64, 64, kernel_size=(3, 3), stride=(1, 1), padding=(1, 1), bias=False)\n",
       "      (bn2): BatchNorm2d(64, eps=1e-05, momentum=0.1, affine=True, track_running_stats=True)\n",
       "    )\n",
       "  )\n",
       "  (layer2): Sequential(\n",
       "    (0): BasicBlock(\n",
       "      (conv1): Conv2d(64, 128, kernel_size=(3, 3), stride=(2, 2), padding=(1, 1), bias=False)\n",
       "      (bn1): BatchNorm2d(128, eps=1e-05, momentum=0.1, affine=True, track_running_stats=True)\n",
       "      (relu): ReLU(inplace=True)\n",
       "      (conv2): Conv2d(128, 128, kernel_size=(3, 3), stride=(1, 1), padding=(1, 1), bias=False)\n",
       "      (bn2): BatchNorm2d(128, eps=1e-05, momentum=0.1, affine=True, track_running_stats=True)\n",
       "      (downsample): Sequential(\n",
       "        (0): Conv2d(64, 128, kernel_size=(1, 1), stride=(2, 2), bias=False)\n",
       "        (1): BatchNorm2d(128, eps=1e-05, momentum=0.1, affine=True, track_running_stats=True)\n",
       "      )\n",
       "    )\n",
       "    (1): BasicBlock(\n",
       "      (conv1): Conv2d(128, 128, kernel_size=(3, 3), stride=(1, 1), padding=(1, 1), bias=False)\n",
       "      (bn1): BatchNorm2d(128, eps=1e-05, momentum=0.1, affine=True, track_running_stats=True)\n",
       "      (relu): ReLU(inplace=True)\n",
       "      (conv2): Conv2d(128, 128, kernel_size=(3, 3), stride=(1, 1), padding=(1, 1), bias=False)\n",
       "      (bn2): BatchNorm2d(128, eps=1e-05, momentum=0.1, affine=True, track_running_stats=True)\n",
       "    )\n",
       "  )\n",
       "  (layer3): Sequential(\n",
       "    (0): BasicBlock(\n",
       "      (conv1): Conv2d(128, 256, kernel_size=(3, 3), stride=(2, 2), padding=(1, 1), bias=False)\n",
       "      (bn1): BatchNorm2d(256, eps=1e-05, momentum=0.1, affine=True, track_running_stats=True)\n",
       "      (relu): ReLU(inplace=True)\n",
       "      (conv2): Conv2d(256, 256, kernel_size=(3, 3), stride=(1, 1), padding=(1, 1), bias=False)\n",
       "      (bn2): BatchNorm2d(256, eps=1e-05, momentum=0.1, affine=True, track_running_stats=True)\n",
       "      (downsample): Sequential(\n",
       "        (0): Conv2d(128, 256, kernel_size=(1, 1), stride=(2, 2), bias=False)\n",
       "        (1): BatchNorm2d(256, eps=1e-05, momentum=0.1, affine=True, track_running_stats=True)\n",
       "      )\n",
       "    )\n",
       "    (1): BasicBlock(\n",
       "      (conv1): Conv2d(256, 256, kernel_size=(3, 3), stride=(1, 1), padding=(1, 1), bias=False)\n",
       "      (bn1): BatchNorm2d(256, eps=1e-05, momentum=0.1, affine=True, track_running_stats=True)\n",
       "      (relu): ReLU(inplace=True)\n",
       "      (conv2): Conv2d(256, 256, kernel_size=(3, 3), stride=(1, 1), padding=(1, 1), bias=False)\n",
       "      (bn2): BatchNorm2d(256, eps=1e-05, momentum=0.1, affine=True, track_running_stats=True)\n",
       "    )\n",
       "  )\n",
       "  (layer4): Sequential(\n",
       "    (0): BasicBlock(\n",
       "      (conv1): Conv2d(256, 512, kernel_size=(3, 3), stride=(2, 2), padding=(1, 1), bias=False)\n",
       "      (bn1): BatchNorm2d(512, eps=1e-05, momentum=0.1, affine=True, track_running_stats=True)\n",
       "      (relu): ReLU(inplace=True)\n",
       "      (conv2): Conv2d(512, 512, kernel_size=(3, 3), stride=(1, 1), padding=(1, 1), bias=False)\n",
       "      (bn2): BatchNorm2d(512, eps=1e-05, momentum=0.1, affine=True, track_running_stats=True)\n",
       "      (downsample): Sequential(\n",
       "        (0): Conv2d(256, 512, kernel_size=(1, 1), stride=(2, 2), bias=False)\n",
       "        (1): BatchNorm2d(512, eps=1e-05, momentum=0.1, affine=True, track_running_stats=True)\n",
       "      )\n",
       "    )\n",
       "    (1): BasicBlock(\n",
       "      (conv1): Conv2d(512, 512, kernel_size=(3, 3), stride=(1, 1), padding=(1, 1), bias=False)\n",
       "      (bn1): BatchNorm2d(512, eps=1e-05, momentum=0.1, affine=True, track_running_stats=True)\n",
       "      (relu): ReLU(inplace=True)\n",
       "      (conv2): Conv2d(512, 512, kernel_size=(3, 3), stride=(1, 1), padding=(1, 1), bias=False)\n",
       "      (bn2): BatchNorm2d(512, eps=1e-05, momentum=0.1, affine=True, track_running_stats=True)\n",
       "    )\n",
       "  )\n",
       "  (avgpool): AdaptiveAvgPool2d(output_size=(1, 1))\n",
       "  (fc): Linear(in_features=512, out_features=1000, bias=True)\n",
       ")"
      ]
     },
     "execution_count": 6,
     "metadata": {},
     "output_type": "execute_result"
    }
   ],
   "source": [
    "face_model"
   ]
  },
  {
   "cell_type": "code",
   "execution_count": null,
   "metadata": {},
   "outputs": [],
   "source": [
    "\n",
    "\n",
    "weights=[932/932,2,932/806]\n",
    "class_weights = torch.FloatTensor(weights).to(device)\n",
    "\n",
    "train_dataloader = DataLoader(train_data_pt, batch_size=32\n",
    "                       , num_workers=0,shuffle=True)\n",
    "valid_dataloader = DataLoader(valid_data_pt, batch_size=32\n",
    "                   , num_workers=0)\n",
    "model=video_model.video_transformer(img_model,audio_model)\n",
    "model=model.to(device)\n",
    "\n",
    "num_epochs=50\n",
    "criterion = nn.CrossEntropyLoss(weight=class_weights)\n",
    "\n",
    "for name, child in model.named_children():\n",
    "    if not name in ['face_model','frame_model' ]:\n",
    "        print(name + ' is unfrozen')\n",
    "        for param in child.parameters():\n",
    "            param.requires_grad = True\n",
    "    else:\n",
    "        print(name + ' is frozen')\n",
    "        for param in child.parameters():\n",
    "               param.requires_grad = False"
   ]
  },
  {
   "cell_type": "code",
   "execution_count": 3,
   "metadata": {},
   "outputs": [
    {
     "name": "stdout",
     "output_type": "stream",
     "text": [
      "v7\n",
      "Epoch:  1 \n",
      "\n",
      "Validation \n",
      "\n",
      "Validation Loss:  1.0793790618578594\n",
      "Validation Accuracy:  0.3838120104438642\n",
      "Confusion Matrix: \n",
      " [[140  47 112]\n",
      " [187  33  61]\n",
      " [ 60   5 121]]\n",
      "Train \n",
      "\n"
     ]
    },
    {
     "data": {
      "application/vnd.jupyter.widget-view+json": {
       "model_id": "2766173304d74df0a3e6087c5eece755",
       "version_major": 2,
       "version_minor": 0
      },
      "text/plain": [
       "HBox(children=(FloatProgress(value=1.0, bar_style='info', max=1.0), HTML(value='')))"
      ]
     },
     "metadata": {},
     "output_type": "display_data"
    },
    {
     "name": "stdout",
     "output_type": "stream",
     "text": [
      "Batch:  40 / 84\n",
      "Batch Recognition loss:  0.9089927673339844\n",
      "Batch:  80 / 84\n",
      "Batch Recognition loss:  0.9783446192741394\n",
      "\n",
      "Average_Loss:  0.8549933163892656\n",
      "Average_Accuracy:  0.6816986095452837\n",
      "Confusion Matrix: \n",
      " [[423 267 116]\n",
      " [ 91 714 118]\n",
      " [ 70 185 677]]\n",
      "Epoch:  2 \n",
      "\n",
      "Validation \n",
      "\n",
      "Validation Loss:  1.0159535308678944\n",
      "Validation Accuracy:  0.5378590078328982\n",
      "Confusion Matrix: \n",
      " [[213  51  35]\n",
      " [138 123  20]\n",
      " [ 59  51  76]]\n",
      "Train \n",
      "\n"
     ]
    },
    {
     "data": {
      "application/vnd.jupyter.widget-view+json": {
       "model_id": "3bf118959ec54d00b5066b85c3f51d09",
       "version_major": 2,
       "version_minor": 0
      },
      "text/plain": [
       "HBox(children=(FloatProgress(value=1.0, bar_style='info', max=1.0), HTML(value='')))"
      ]
     },
     "metadata": {},
     "output_type": "display_data"
    },
    {
     "name": "stdout",
     "output_type": "stream",
     "text": [
      "Batch:  40 / 84\n",
      "Batch Recognition loss:  0.8722290396690369\n",
      "Batch:  80 / 84\n",
      "Batch Recognition loss:  0.9121275544166565\n",
      "\n",
      "Average_Loss:  0.8329844155481884\n",
      "Average_Accuracy:  0.6952273581360391\n",
      "Confusion Matrix: \n",
      " [[446 252 108]\n",
      " [ 86 726 111]\n",
      " [ 78 176 678]]\n",
      "Epoch:  3 \n",
      "\n",
      "Validation \n",
      "\n",
      "Validation Loss:  1.0291012525558472\n",
      "Validation Accuracy:  0.5143603133159269\n",
      "Confusion Matrix: \n",
      " [[210  66  23]\n",
      " [124 132  25]\n",
      " [ 57  77  52]]\n",
      "Train \n",
      "\n"
     ]
    },
    {
     "data": {
      "application/vnd.jupyter.widget-view+json": {
       "model_id": "99d6eb3cbfd541e2a3dd62a3e0775547",
       "version_major": 2,
       "version_minor": 0
      },
      "text/plain": [
       "HBox(children=(FloatProgress(value=1.0, bar_style='info', max=1.0), HTML(value='')))"
      ]
     },
     "metadata": {},
     "output_type": "display_data"
    },
    {
     "name": "stdout",
     "output_type": "stream",
     "text": [
      "Batch:  40 / 84\n",
      "Batch Recognition loss:  0.795126736164093\n",
      "Batch:  80 / 84\n",
      "Batch Recognition loss:  0.9640493392944336\n",
      "\n",
      "Average_Loss:  0.8147768427928289\n",
      "Average_Accuracy:  0.7095077038707253\n",
      "Confusion Matrix: \n",
      " [[465 235 106]\n",
      " [ 86 753  84]\n",
      " [ 79 183 670]]\n",
      "Epoch:  4 \n",
      "\n",
      "Validation \n",
      "\n",
      "Validation Loss:  0.9975238665938377\n",
      "Validation Accuracy:  0.49738903394255873\n",
      "Confusion Matrix: \n",
      " [[ 77 155  67]\n",
      " [ 40 207  34]\n",
      " [ 13  76  97]]\n",
      "Train \n",
      "\n"
     ]
    },
    {
     "data": {
      "application/vnd.jupyter.widget-view+json": {
       "model_id": "6d3bdc5e2f454143afffac7a3a0d78f8",
       "version_major": 2,
       "version_minor": 0
      },
      "text/plain": [
       "HBox(children=(FloatProgress(value=1.0, bar_style='info', max=1.0), HTML(value='')))"
      ]
     },
     "metadata": {},
     "output_type": "display_data"
    },
    {
     "name": "stdout",
     "output_type": "stream",
     "text": [
      "Batch:  40 / 84\n",
      "Batch Recognition loss:  0.7508949041366577\n",
      "Batch:  80 / 84\n",
      "Batch Recognition loss:  0.8474494814872742\n",
      "\n",
      "Average_Loss:  0.8087333731708073\n",
      "Average_Accuracy:  0.7158962795941376\n",
      "Confusion Matrix: \n",
      " [[467 245  94]\n",
      " [ 94 741  88]\n",
      " [ 64 171 697]]\n",
      "Epoch:  5 \n",
      "\n",
      "Validation \n",
      "\n",
      "Validation Loss:  1.0026092330614726\n",
      "Validation Accuracy:  0.4960835509138381\n",
      "Confusion Matrix: \n",
      " [[107 155  37]\n",
      " [ 53 205  23]\n",
      " [ 36  82  68]]\n",
      "Train \n",
      "\n"
     ]
    },
    {
     "data": {
      "application/vnd.jupyter.widget-view+json": {
       "model_id": "783b292a578549619d84474a8272599c",
       "version_major": 2,
       "version_minor": 0
      },
      "text/plain": [
       "HBox(children=(FloatProgress(value=1.0, bar_style='info', max=1.0), HTML(value='')))"
      ]
     },
     "metadata": {},
     "output_type": "display_data"
    },
    {
     "name": "stdout",
     "output_type": "stream",
     "text": [
      "Batch:  40 / 84\n",
      "Batch Recognition loss:  0.8556380867958069\n",
      "Batch:  80 / 84\n",
      "Batch Recognition loss:  0.805025041103363\n",
      "\n",
      "Average_Loss:  0.8080718588261377\n",
      "Average_Accuracy:  0.7211574596016536\n",
      "Confusion Matrix: \n",
      " [[485 229  92]\n",
      " [ 93 738  92]\n",
      " [ 72 164 696]]\n",
      "Epoch:  6 \n",
      "\n",
      "Validation \n",
      "\n",
      "Validation Loss:  0.999812347193559\n",
      "Validation Accuracy:  0.5156657963446475\n",
      "Confusion Matrix: \n",
      " [[130 140  29]\n",
      " [ 69 185  27]\n",
      " [ 42  64  80]]\n",
      "Train \n",
      "\n"
     ]
    },
    {
     "data": {
      "application/vnd.jupyter.widget-view+json": {
       "model_id": "a69b100dac96434495d8779597867c17",
       "version_major": 2,
       "version_minor": 0
      },
      "text/plain": [
       "HBox(children=(FloatProgress(value=1.0, bar_style='info', max=1.0), HTML(value='')))"
      ]
     },
     "metadata": {},
     "output_type": "display_data"
    },
    {
     "name": "stdout",
     "output_type": "stream",
     "text": [
      "Batch:  40 / 84\n",
      "Batch Recognition loss:  0.9034478068351746\n",
      "Batch:  80 / 84\n",
      "Batch Recognition loss:  0.8347861766815186\n",
      "\n",
      "Average_Loss:  0.8130562631856828\n",
      "Average_Accuracy:  0.7158962795941376\n",
      "Confusion Matrix: \n",
      " [[480 230  96]\n",
      " [ 83 745  95]\n",
      " [ 75 177 680]]\n",
      "Epoch:  7 \n",
      "\n",
      "Validation \n",
      "\n",
      "Validation Loss:  1.0147909397880237\n",
      "Validation Accuracy:  0.5078328981723238\n",
      "Confusion Matrix: \n",
      " [[172 116  11]\n",
      " [ 89 177  15]\n",
      " [ 66  80  40]]\n",
      "Train \n",
      "\n"
     ]
    },
    {
     "data": {
      "application/vnd.jupyter.widget-view+json": {
       "model_id": "18cce26dab9646c2950e968595e33503",
       "version_major": 2,
       "version_minor": 0
      },
      "text/plain": [
       "HBox(children=(FloatProgress(value=1.0, bar_style='info', max=1.0), HTML(value='')))"
      ]
     },
     "metadata": {},
     "output_type": "display_data"
    },
    {
     "name": "stdout",
     "output_type": "stream",
     "text": [
      "Batch:  40 / 84\n",
      "Batch Recognition loss:  0.8203050494194031\n",
      "Batch:  80 / 84\n",
      "Batch Recognition loss:  0.7067427635192871\n",
      "\n",
      "Average_Loss:  0.8000862981591906\n",
      "Average_Accuracy:  0.7298008267568583\n",
      "Confusion Matrix: \n",
      " [[480 231  95]\n",
      " [ 82 762  79]\n",
      " [ 55 177 700]]\n",
      "Epoch:  8 \n",
      "\n",
      "Validation \n",
      "\n",
      "Validation Loss:  1.0235469862818718\n",
      "Validation Accuracy:  0.5013054830287206\n",
      "Confusion Matrix: \n",
      " [[105  96  98]\n",
      " [ 50 158  73]\n",
      " [ 26  39 121]]\n",
      "Train \n",
      "\n"
     ]
    },
    {
     "data": {
      "application/vnd.jupyter.widget-view+json": {
       "model_id": "1f8432e015fe44199a236c9f9613d1d7",
       "version_major": 2,
       "version_minor": 0
      },
      "text/plain": [
       "HBox(children=(FloatProgress(value=1.0, bar_style='info', max=1.0), HTML(value='')))"
      ]
     },
     "metadata": {},
     "output_type": "display_data"
    },
    {
     "name": "stdout",
     "output_type": "stream",
     "text": [
      "Batch:  40 / 84\n",
      "Batch Recognition loss:  0.7950657606124878\n",
      "Batch:  80 / 84\n",
      "Batch Recognition loss:  0.6495224237442017\n",
      "\n",
      "Average_Loss:  0.7910437122696922\n",
      "Average_Accuracy:  0.7346862081924088\n",
      "Confusion Matrix: \n",
      " [[491 232  83]\n",
      " [ 82 762  79]\n",
      " [ 58 172 702]]\n",
      "Epoch:  9 \n",
      "\n",
      "Validation \n",
      "\n",
      "Validation Loss:  0.9831461956103643\n",
      "Validation Accuracy:  0.5274151436031331\n",
      "Confusion Matrix: \n",
      " [[123 143  33]\n",
      " [ 44 202  35]\n",
      " [ 29  78  79]]\n",
      "Train \n",
      "\n"
     ]
    },
    {
     "data": {
      "application/vnd.jupyter.widget-view+json": {
       "model_id": "1100a03fc23b4e4281025fb35443eb6a",
       "version_major": 2,
       "version_minor": 0
      },
      "text/plain": [
       "HBox(children=(FloatProgress(value=1.0, bar_style='info', max=1.0), HTML(value='')))"
      ]
     },
     "metadata": {},
     "output_type": "display_data"
    },
    {
     "name": "stdout",
     "output_type": "stream",
     "text": [
      "Batch:  40 / 84\n",
      "Batch Recognition loss:  0.7595939040184021\n",
      "Batch:  80 / 84\n",
      "Batch Recognition loss:  0.804416298866272\n",
      "\n",
      "Average_Loss:  0.7899383647101266\n",
      "Average_Accuracy:  0.7350620067643743\n",
      "Confusion Matrix: \n",
      " [[492 220  94]\n",
      " [ 76 770  77]\n",
      " [ 70 168 694]]\n",
      "Epoch:  10 \n",
      "\n",
      "Validation \n",
      "\n",
      "Validation Loss:  1.0305903082092602\n",
      "Validation Accuracy:  0.5182767624020888\n",
      "Confusion Matrix: \n",
      " [[150  66  83]\n",
      " [ 94 135  52]\n",
      " [ 46  28 112]]\n",
      "Train \n",
      "\n"
     ]
    },
    {
     "data": {
      "application/vnd.jupyter.widget-view+json": {
       "model_id": "fff0730fb7204ddebd2e1fb824ab09aa",
       "version_major": 2,
       "version_minor": 0
      },
      "text/plain": [
       "HBox(children=(FloatProgress(value=1.0, bar_style='info', max=1.0), HTML(value='')))"
      ]
     },
     "metadata": {},
     "output_type": "display_data"
    },
    {
     "name": "stdout",
     "output_type": "stream",
     "text": [
      "Batch:  40 / 84\n",
      "Batch Recognition loss:  0.7274855375289917\n",
      "Batch:  80 / 84\n",
      "Batch Recognition loss:  0.8101998567581177\n",
      "\n",
      "Average_Loss:  0.7910726609684172\n",
      "Average_Accuracy:  0.7376925967681323\n",
      "Confusion Matrix: \n",
      " [[465 224 117]\n",
      " [ 57 760 106]\n",
      " [ 48 146 738]]\n",
      "Epoch:  11 \n",
      "\n",
      "Validation \n",
      "\n",
      "Validation Loss:  1.018624576429526\n",
      "Validation Accuracy:  0.4830287206266319\n",
      "Confusion Matrix: \n",
      " [[ 71 151  77]\n",
      " [ 40 203  38]\n",
      " [ 29  61  96]]\n",
      "Train \n",
      "\n"
     ]
    },
    {
     "data": {
      "application/vnd.jupyter.widget-view+json": {
       "model_id": "88cf94e85df54c018fcdc0887ec2ac52",
       "version_major": 2,
       "version_minor": 0
      },
      "text/plain": [
       "HBox(children=(FloatProgress(value=1.0, bar_style='info', max=1.0), HTML(value='')))"
      ]
     },
     "metadata": {},
     "output_type": "display_data"
    },
    {
     "name": "stdout",
     "output_type": "stream",
     "text": [
      "Batch:  40 / 84\n",
      "Batch Recognition loss:  0.8147474527359009\n",
      "Batch:  80 / 84\n",
      "Batch Recognition loss:  0.7237690091133118\n",
      "\n",
      "Average_Loss:  0.7860328249988102\n",
      "Average_Accuracy:  0.7406989853438557\n",
      "Confusion Matrix: \n",
      " [[497 229  80]\n",
      " [ 69 771  83]\n",
      " [ 57 172 703]]\n",
      "Epoch:  12 \n",
      "\n",
      "Validation \n",
      "\n",
      "Validation Loss:  1.0274033099412918\n",
      "Validation Accuracy:  0.47127937336814624\n",
      "Confusion Matrix: \n",
      " [[ 31 161 107]\n",
      " [ 17 203  61]\n",
      " [  8  51 127]]\n",
      "Train \n",
      "\n"
     ]
    },
    {
     "data": {
      "application/vnd.jupyter.widget-view+json": {
       "model_id": "1a16a8b3d5794abea806f4c6c610a139",
       "version_major": 2,
       "version_minor": 0
      },
      "text/plain": [
       "HBox(children=(FloatProgress(value=1.0, bar_style='info', max=1.0), HTML(value='')))"
      ]
     },
     "metadata": {},
     "output_type": "display_data"
    },
    {
     "name": "stdout",
     "output_type": "stream",
     "text": [
      "Batch:  40 / 84\n",
      "Batch Recognition loss:  0.7241376638412476\n",
      "Batch:  80 / 84\n",
      "Batch Recognition loss:  0.7057684659957886\n",
      "\n",
      "Average_Loss:  0.7821141460112163\n",
      "Average_Accuracy:  0.7403231867718902\n",
      "Confusion Matrix: \n",
      " [[467 257  82]\n",
      " [ 57 786  80]\n",
      " [ 50 165 717]]\n",
      "Epoch:  13 \n",
      "\n",
      "Validation \n",
      "\n",
      "Validation Loss:  1.0138817504048347\n",
      "Validation Accuracy:  0.5221932114882507\n",
      "Confusion Matrix: \n",
      " [[151  96  52]\n",
      " [ 79 160  42]\n",
      " [ 49  48  89]]\n",
      "Train \n",
      "\n"
     ]
    },
    {
     "data": {
      "application/vnd.jupyter.widget-view+json": {
       "model_id": "d548bb2eb25b45c4869003621b985884",
       "version_major": 2,
       "version_minor": 0
      },
      "text/plain": [
       "HBox(children=(FloatProgress(value=1.0, bar_style='info', max=1.0), HTML(value='')))"
      ]
     },
     "metadata": {},
     "output_type": "display_data"
    },
    {
     "name": "stdout",
     "output_type": "stream",
     "text": [
      "Batch:  40 / 84\n",
      "Batch Recognition loss:  0.8147661089897156\n",
      "Batch:  80 / 84\n",
      "Batch Recognition loss:  0.8200141191482544\n",
      "\n",
      "Average_Loss:  0.7767146428426107\n",
      "Average_Accuracy:  0.7531003382187148\n",
      "Confusion Matrix: \n",
      " [[503 209  94]\n",
      " [ 62 787  74]\n",
      " [ 58 160 714]]\n",
      "Epoch:  14 \n",
      "\n",
      "Validation \n",
      "\n",
      "Validation Loss:  1.0364924197395642\n",
      "Validation Accuracy:  0.4869451697127937\n",
      "Confusion Matrix: \n",
      " [[ 89 105 105]\n",
      " [ 51 160  70]\n",
      " [ 30  32 124]]\n",
      "Train \n",
      "\n"
     ]
    },
    {
     "data": {
      "application/vnd.jupyter.widget-view+json": {
       "model_id": "f3983d88959c4248886f50b49380fdcb",
       "version_major": 2,
       "version_minor": 0
      },
      "text/plain": [
       "HBox(children=(FloatProgress(value=1.0, bar_style='info', max=1.0), HTML(value='')))"
      ]
     },
     "metadata": {},
     "output_type": "display_data"
    },
    {
     "name": "stdout",
     "output_type": "stream",
     "text": [
      "Batch:  40 / 84\n",
      "Batch Recognition loss:  0.7575408220291138\n",
      "Batch:  80 / 84\n",
      "Batch Recognition loss:  0.7523791193962097\n",
      "\n",
      "Average_Loss:  0.7820002195380983\n",
      "Average_Accuracy:  0.7485907553551296\n",
      "Confusion Matrix: \n",
      " [[494 218  94]\n",
      " [ 74 768  81]\n",
      " [ 48 154 730]]\n",
      "Epoch:  15 \n",
      "\n",
      "Validation \n",
      "\n",
      "Validation Loss:  0.991801547507445\n",
      "Validation Accuracy:  0.5261096605744126\n",
      "Confusion Matrix: \n",
      " [[124 135  40]\n",
      " [ 56 196  29]\n",
      " [ 30  73  83]]\n",
      "Train \n",
      "\n"
     ]
    },
    {
     "data": {
      "application/vnd.jupyter.widget-view+json": {
       "model_id": "8b64ae8c018d4286949f68f013cd6a27",
       "version_major": 2,
       "version_minor": 0
      },
      "text/plain": [
       "HBox(children=(FloatProgress(value=1.0, bar_style='info', max=1.0), HTML(value='')))"
      ]
     },
     "metadata": {},
     "output_type": "display_data"
    },
    {
     "name": "stdout",
     "output_type": "stream",
     "text": [
      "Batch:  40 / 84\n",
      "Batch Recognition loss:  0.7283154129981995\n",
      "Batch:  80 / 84\n",
      "Batch Recognition loss:  0.7883751392364502\n",
      "\n",
      "Average_Loss:  0.764387479140645\n",
      "Average_Accuracy:  0.7636226982337467\n",
      "Confusion Matrix: \n",
      " [[514 212  80]\n",
      " [ 57 795  71]\n",
      " [ 56 153 723]]\n",
      "Epoch:  16 \n",
      "\n",
      "Validation \n",
      "\n",
      "Validation Loss:  1.0269569605588913\n",
      "Validation Accuracy:  0.4830287206266319\n",
      "Confusion Matrix: \n",
      " [[ 70 124 105]\n",
      " [ 35 189  57]\n",
      " [ 16  59 111]]\n",
      "Train \n",
      "\n"
     ]
    },
    {
     "data": {
      "application/vnd.jupyter.widget-view+json": {
       "model_id": "6d9583ed73074e5da633279298c5ac12",
       "version_major": 2,
       "version_minor": 0
      },
      "text/plain": [
       "HBox(children=(FloatProgress(value=1.0, bar_style='info', max=1.0), HTML(value='')))"
      ]
     },
     "metadata": {},
     "output_type": "display_data"
    },
    {
     "name": "stdout",
     "output_type": "stream",
     "text": [
      "Batch:  40 / 84\n",
      "Batch Recognition loss:  0.7251418828964233\n",
      "Batch:  80 / 84\n",
      "Batch Recognition loss:  0.7546694278717041\n",
      "\n",
      "Average_Loss:  0.765158399229958\n",
      "Average_Accuracy:  0.7636226982337467\n",
      "Confusion Matrix: \n",
      " [[505 210  91]\n",
      " [ 52 796  75]\n",
      " [ 48 153 731]]\n",
      "Epoch:  17 \n",
      "\n",
      "Validation \n",
      "\n",
      "Validation Loss:  1.019638458887736\n",
      "Validation Accuracy:  0.5013054830287206\n",
      "Confusion Matrix: \n",
      " [[105 118  76]\n",
      " [ 55 190  36]\n",
      " [ 26  71  89]]\n",
      "Train \n",
      "\n"
     ]
    },
    {
     "data": {
      "application/vnd.jupyter.widget-view+json": {
       "model_id": "240cafc683334053a2a660c8d6a82c44",
       "version_major": 2,
       "version_minor": 0
      },
      "text/plain": [
       "HBox(children=(FloatProgress(value=1.0, bar_style='info', max=1.0), HTML(value='')))"
      ]
     },
     "metadata": {},
     "output_type": "display_data"
    },
    {
     "name": "stdout",
     "output_type": "stream",
     "text": [
      "Batch:  40 / 84\n",
      "Batch Recognition loss:  0.6245071887969971\n",
      "Batch:  80 / 84\n",
      "Batch Recognition loss:  0.7602946758270264\n",
      "\n",
      "Average_Loss:  0.7707491382246926\n",
      "Average_Accuracy:  0.756858323938369\n",
      "Confusion Matrix: \n",
      " [[519 205  82]\n",
      " [ 69 791  63]\n",
      " [ 61 167 704]]\n",
      "Epoch:  18 \n",
      "\n",
      "Validation \n",
      "\n",
      "Validation Loss:  1.042935239772002\n",
      "Validation Accuracy:  0.45039164490861616\n",
      "Confusion Matrix: \n",
      " [[ 36 177  86]\n",
      " [ 13 211  57]\n",
      " [  8  80  98]]\n",
      "Train \n",
      "\n"
     ]
    },
    {
     "data": {
      "application/vnd.jupyter.widget-view+json": {
       "model_id": "6d3a184eff8d426dbfb0a66cdce61504",
       "version_major": 2,
       "version_minor": 0
      },
      "text/plain": [
       "HBox(children=(FloatProgress(value=1.0, bar_style='info', max=1.0), HTML(value='')))"
      ]
     },
     "metadata": {},
     "output_type": "display_data"
    },
    {
     "name": "stdout",
     "output_type": "stream",
     "text": [
      "Batch:  40 / 84\n",
      "Batch Recognition loss:  0.7452152371406555\n",
      "Batch:  80 / 84\n",
      "Batch Recognition loss:  0.766700267791748\n",
      "\n",
      "Average_Loss:  0.7738057339475268\n",
      "Average_Accuracy:  0.7609921082299888\n",
      "Confusion Matrix: \n",
      " [[506 221  79]\n",
      " [ 61 793  69]\n",
      " [ 52 154 726]]\n",
      "Epoch:  19 \n",
      "\n",
      "Validation \n",
      "\n",
      "Validation Loss:  1.0230142027139664\n",
      "Validation Accuracy:  0.48172323759791125\n",
      "Confusion Matrix: \n",
      " [[106 142  51]\n",
      " [ 52 192  37]\n",
      " [ 27  88  71]]\n",
      "Train \n",
      "\n"
     ]
    },
    {
     "data": {
      "application/vnd.jupyter.widget-view+json": {
       "model_id": "1a34d95a61684c238a26208ba797fffb",
       "version_major": 2,
       "version_minor": 0
      },
      "text/plain": [
       "HBox(children=(FloatProgress(value=1.0, bar_style='info', max=1.0), HTML(value='')))"
      ]
     },
     "metadata": {},
     "output_type": "display_data"
    },
    {
     "name": "stdout",
     "output_type": "stream",
     "text": [
      "Batch:  40 / 84\n",
      "Batch Recognition loss:  0.7451520562171936\n",
      "Batch:  80 / 84\n",
      "Batch Recognition loss:  0.8473984003067017\n",
      "\n",
      "Average_Loss:  0.7630582331191926\n",
      "Average_Accuracy:  0.7715144682450207\n",
      "Confusion Matrix: \n",
      " [[531 179  96]\n",
      " [ 62 791  70]\n",
      " [ 52 149 731]]\n",
      "Epoch:  20 \n",
      "\n",
      "Validation \n",
      "\n",
      "Validation Loss:  1.0374426891406376\n",
      "Validation Accuracy:  0.4856396866840731\n",
      "Confusion Matrix: \n",
      " [[110 108  81]\n",
      " [ 65 168  48]\n",
      " [ 23  69  94]]\n",
      "Train \n",
      "\n"
     ]
    },
    {
     "data": {
      "application/vnd.jupyter.widget-view+json": {
       "model_id": "ace791a3c6f944f78484ed9bf9f6dcf0",
       "version_major": 2,
       "version_minor": 0
      },
      "text/plain": [
       "HBox(children=(FloatProgress(value=1.0, bar_style='info', max=1.0), HTML(value='')))"
      ]
     },
     "metadata": {},
     "output_type": "display_data"
    },
    {
     "name": "stdout",
     "output_type": "stream",
     "text": [
      "Batch:  40 / 84\n",
      "Batch Recognition loss:  0.749840259552002\n",
      "Batch:  80 / 84\n",
      "Batch Recognition loss:  0.7627444267272949\n",
      "\n",
      "Average_Loss:  0.7489958767380033\n",
      "Average_Accuracy:  0.7846674182638106\n",
      "Confusion Matrix: \n",
      " [[546 186  74]\n",
      " [ 59 793  71]\n",
      " [ 40 143 749]]\n",
      "Epoch:  21 \n",
      "\n",
      "Validation \n",
      "\n",
      "Validation Loss:  1.0372386972109477\n",
      "Validation Accuracy:  0.47780678851174935\n",
      "Confusion Matrix: \n",
      " [[ 83 120  96]\n",
      " [ 53 165  63]\n",
      " [ 25  43 118]]\n",
      "Train \n",
      "\n"
     ]
    },
    {
     "data": {
      "application/vnd.jupyter.widget-view+json": {
       "model_id": "0c57b8dddb644613a1ba810d751debe5",
       "version_major": 2,
       "version_minor": 0
      },
      "text/plain": [
       "HBox(children=(FloatProgress(value=1.0, bar_style='info', max=1.0), HTML(value='')))"
      ]
     },
     "metadata": {},
     "output_type": "display_data"
    },
    {
     "name": "stdout",
     "output_type": "stream",
     "text": [
      "Batch:  40 / 84\n",
      "Batch Recognition loss:  0.685946524143219\n",
      "Batch:  80 / 84\n",
      "Batch Recognition loss:  0.7981491088867188\n",
      "\n",
      "Average_Loss:  0.7511271493775504\n",
      "Average_Accuracy:  0.7794062382562946\n",
      "Confusion Matrix: \n",
      " [[531 202  73]\n",
      " [ 46 811  66]\n",
      " [ 44 156 732]]\n",
      "Epoch:  22 \n",
      "\n",
      "Validation \n",
      "\n",
      "Validation Loss:  1.0789220879475276\n",
      "Validation Accuracy:  0.4464751958224543\n",
      "Confusion Matrix: \n",
      " [[ 66  95 138]\n",
      " [ 43 140  98]\n",
      " [ 16  34 136]]\n",
      "Train \n",
      "\n"
     ]
    },
    {
     "data": {
      "application/vnd.jupyter.widget-view+json": {
       "model_id": "c96dd892921946b8a4506c065bea2993",
       "version_major": 2,
       "version_minor": 0
      },
      "text/plain": [
       "HBox(children=(FloatProgress(value=1.0, bar_style='info', max=1.0), HTML(value='')))"
      ]
     },
     "metadata": {},
     "output_type": "display_data"
    },
    {
     "name": "stdout",
     "output_type": "stream",
     "text": [
      "Batch:  40 / 84\n",
      "Batch Recognition loss:  0.7422934174537659\n",
      "Batch:  80 / 84\n",
      "Batch Recognition loss:  0.7371442914009094\n",
      "\n",
      "Average_Loss:  0.7560815321547645\n",
      "Average_Accuracy:  0.7763998496805712\n",
      "Confusion Matrix: \n",
      " [[534 185  87]\n",
      " [ 50 799  74]\n",
      " [ 49 150 733]]\n",
      "Epoch:  23 \n",
      "\n",
      "Validation \n",
      "\n",
      "Validation Loss:  1.045349749426047\n",
      "Validation Accuracy:  0.489556135770235\n",
      "Confusion Matrix: \n",
      " [[129  96  74]\n",
      " [ 71 152  58]\n",
      " [ 44  48  94]]\n",
      "Train \n",
      "\n"
     ]
    },
    {
     "data": {
      "application/vnd.jupyter.widget-view+json": {
       "model_id": "4f82e36c308d4fccb581bfe024e25e2f",
       "version_major": 2,
       "version_minor": 0
      },
      "text/plain": [
       "HBox(children=(FloatProgress(value=1.0, bar_style='info', max=1.0), HTML(value='')))"
      ]
     },
     "metadata": {},
     "output_type": "display_data"
    },
    {
     "name": "stdout",
     "output_type": "stream",
     "text": [
      "Batch:  40 / 84\n",
      "Batch Recognition loss:  0.7728130221366882\n",
      "Batch:  80 / 84\n",
      "Batch Recognition loss:  0.8281937837600708\n",
      "\n",
      "Average_Loss:  0.7458418600616001\n",
      "Average_Accuracy:  0.7857948139797069\n",
      "Confusion Matrix: \n",
      " [[537 194  75]\n",
      " [ 53 808  62]\n",
      " [ 43 143 746]]\n",
      "Epoch:  24 \n",
      "\n",
      "Validation \n",
      "\n",
      "Validation Loss:  1.1038818433880806\n",
      "Validation Accuracy:  0.4308093994778068\n",
      "Confusion Matrix: \n",
      " [[ 55  74 170]\n",
      " [ 42 128 111]\n",
      " [ 16  23 147]]\n",
      "Train \n",
      "\n"
     ]
    },
    {
     "data": {
      "application/vnd.jupyter.widget-view+json": {
       "model_id": "d3ec0fa0480a49da856b6a3b99b796d3",
       "version_major": 2,
       "version_minor": 0
      },
      "text/plain": [
       "HBox(children=(FloatProgress(value=1.0, bar_style='info', max=1.0), HTML(value='')))"
      ]
     },
     "metadata": {},
     "output_type": "display_data"
    },
    {
     "name": "stdout",
     "output_type": "stream",
     "text": [
      "Batch:  40 / 84\n",
      "Batch Recognition loss:  0.6329864859580994\n",
      "Batch:  80 / 84\n",
      "Batch Recognition loss:  0.672889769077301\n",
      "\n",
      "Average_Loss:  0.7526279524678275\n",
      "Average_Accuracy:  0.7790304396843292\n",
      "Confusion Matrix: \n",
      " [[520 203  83]\n",
      " [ 53 802  68]\n",
      " [ 39 142 751]]\n",
      "Epoch:  25 \n",
      "\n",
      "Validation \n",
      "\n",
      "Validation Loss:  1.0874717310070992\n",
      "Validation Accuracy:  0.4308093994778068\n",
      "Confusion Matrix: \n",
      " [[ 39 107 153]\n",
      " [ 25 156 100]\n",
      " [  9  42 135]]\n",
      "Train \n",
      "\n"
     ]
    },
    {
     "data": {
      "application/vnd.jupyter.widget-view+json": {
       "model_id": "d6b8f77b58c2498a9a60f575dd3acea6",
       "version_major": 2,
       "version_minor": 0
      },
      "text/plain": [
       "HBox(children=(FloatProgress(value=1.0, bar_style='info', max=1.0), HTML(value='')))"
      ]
     },
     "metadata": {},
     "output_type": "display_data"
    },
    {
     "name": "stdout",
     "output_type": "stream",
     "text": [
      "Batch:  40 / 84\n",
      "Batch Recognition loss:  0.7799332737922668\n",
      "Batch:  80 / 84\n",
      "Batch Recognition loss:  0.7473893165588379\n",
      "\n",
      "Average_Loss:  0.7644882131190527\n",
      "Average_Accuracy:  0.7602405110860578\n",
      "Confusion Matrix: \n",
      " [[485 230  91]\n",
      " [ 54 793  76]\n",
      " [ 40 147 745]]\n",
      "Epoch:  26 \n",
      "\n",
      "Validation \n",
      "\n",
      "Validation Loss:  1.0323115984598796\n",
      "Validation Accuracy:  0.48172323759791125\n",
      "Confusion Matrix: \n",
      " [[ 73 112 114]\n",
      " [ 43 185  53]\n",
      " [ 19  56 111]]\n",
      "Train \n",
      "\n"
     ]
    },
    {
     "data": {
      "application/vnd.jupyter.widget-view+json": {
       "model_id": "be4625d7d76f45089407e6fff6eb7bd1",
       "version_major": 2,
       "version_minor": 0
      },
      "text/plain": [
       "HBox(children=(FloatProgress(value=1.0, bar_style='info', max=1.0), HTML(value='')))"
      ]
     },
     "metadata": {},
     "output_type": "display_data"
    },
    {
     "name": "stdout",
     "output_type": "stream",
     "text": [
      "Batch:  40 / 84\n",
      "Batch Recognition loss:  0.7740389704704285\n",
      "Batch:  80 / 84\n",
      "Batch Recognition loss:  0.774495005607605\n",
      "\n",
      "Average_Loss:  0.7422685970862707\n",
      "Average_Accuracy:  0.7857948139797069\n",
      "Confusion Matrix: \n",
      " [[528 200  78]\n",
      " [ 54 807  62]\n",
      " [ 41 135 756]]\n",
      "Epoch:  27 \n",
      "\n",
      "Validation \n",
      "\n",
      "Validation Loss:  1.047812211016814\n",
      "Validation Accuracy:  0.46475195822454307\n",
      "Confusion Matrix: \n",
      " [[ 70 115 114]\n",
      " [ 45 176  60]\n",
      " [ 18  58 110]]\n",
      "Train \n",
      "\n"
     ]
    },
    {
     "data": {
      "application/vnd.jupyter.widget-view+json": {
       "model_id": "09313d0860804c49a58860e328154cc4",
       "version_major": 2,
       "version_minor": 0
      },
      "text/plain": [
       "HBox(children=(FloatProgress(value=1.0, bar_style='info', max=1.0), HTML(value='')))"
      ]
     },
     "metadata": {},
     "output_type": "display_data"
    },
    {
     "name": "stdout",
     "output_type": "stream",
     "text": [
      "Batch:  40 / 84\n",
      "Batch Recognition loss:  0.8758595585823059\n",
      "Batch:  80 / 84\n",
      "Batch Recognition loss:  0.6925147175788879\n",
      "\n",
      "Average_Loss:  0.7486860681147802\n",
      "Average_Accuracy:  0.7782788425403984\n",
      "Confusion Matrix: \n",
      " [[523 200  83]\n",
      " [ 60 795  68]\n",
      " [ 50 129 753]]\n",
      "Epoch:  28 \n",
      "\n",
      "Validation \n",
      "\n",
      "Validation Loss:  1.0287718698382378\n",
      "Validation Accuracy:  0.49738903394255873\n",
      "Confusion Matrix: \n",
      " [[103 116  80]\n",
      " [ 46 173  62]\n",
      " [ 25  56 105]]\n",
      "Train \n",
      "\n"
     ]
    },
    {
     "data": {
      "application/vnd.jupyter.widget-view+json": {
       "model_id": "c269d77062ab47dca3b3e21c704317c5",
       "version_major": 2,
       "version_minor": 0
      },
      "text/plain": [
       "HBox(children=(FloatProgress(value=1.0, bar_style='info', max=1.0), HTML(value='')))"
      ]
     },
     "metadata": {},
     "output_type": "display_data"
    },
    {
     "name": "stdout",
     "output_type": "stream",
     "text": [
      "Batch:  40 / 84\n",
      "Batch Recognition loss:  0.9694812297821045\n",
      "Batch:  80 / 84\n",
      "Batch Recognition loss:  0.6510097980499268\n",
      "\n",
      "Average_Loss:  0.750499115103767\n",
      "Average_Accuracy:  0.7831642239759489\n",
      "Confusion Matrix: \n",
      " [[535 186  85]\n",
      " [ 59 790  74]\n",
      " [ 44 129 759]]\n",
      "Epoch:  29 \n",
      "\n",
      "Validation \n",
      "\n",
      "Validation Loss:  1.0674322570363681\n",
      "Validation Accuracy:  0.45691906005221933\n",
      "Confusion Matrix: \n",
      " [[ 60  94 145]\n",
      " [ 27 156  98]\n",
      " [  6  46 134]]\n",
      "Train \n",
      "\n"
     ]
    },
    {
     "data": {
      "application/vnd.jupyter.widget-view+json": {
       "model_id": "3e25439a6e18456cb9525af99eca9ade",
       "version_major": 2,
       "version_minor": 0
      },
      "text/plain": [
       "HBox(children=(FloatProgress(value=1.0, bar_style='info', max=1.0), HTML(value='')))"
      ]
     },
     "metadata": {},
     "output_type": "display_data"
    },
    {
     "name": "stdout",
     "output_type": "stream",
     "text": [
      "Batch:  40 / 84\n",
      "Batch Recognition loss:  0.7415968179702759\n",
      "Batch:  80 / 84\n",
      "Batch Recognition loss:  0.7081117033958435\n",
      "\n",
      "Average_Loss:  0.737054467910812\n",
      "Average_Accuracy:  0.7918075911311537\n",
      "Confusion Matrix: \n",
      " [[530 185  91]\n",
      " [ 50 810  63]\n",
      " [ 39 126 767]]\n",
      "Epoch:  30 \n",
      "\n",
      "Validation \n",
      "\n",
      "Validation Loss:  1.022267093261083\n",
      "Validation Accuracy:  0.4908616187989556\n",
      "Confusion Matrix: \n",
      " [[105 134  60]\n",
      " [ 58 188  35]\n",
      " [ 35  68  83]]\n",
      "Train \n",
      "\n"
     ]
    },
    {
     "data": {
      "application/vnd.jupyter.widget-view+json": {
       "model_id": "623bcbc34a0f4aebae25dce8e1266575",
       "version_major": 2,
       "version_minor": 0
      },
      "text/plain": [
       "HBox(children=(FloatProgress(value=1.0, bar_style='info', max=1.0), HTML(value='')))"
      ]
     },
     "metadata": {},
     "output_type": "display_data"
    },
    {
     "name": "stdout",
     "output_type": "stream",
     "text": [
      "Batch:  40 / 84\n",
      "Batch Recognition loss:  0.686148464679718\n",
      "Batch:  80 / 84\n",
      "Batch Recognition loss:  0.9667323231697083\n",
      "\n",
      "Average_Loss:  0.745450999765169\n",
      "Average_Accuracy:  0.7857948139797069\n",
      "Confusion Matrix: \n",
      " [[525 198  83]\n",
      " [ 55 800  68]\n",
      " [ 31 135 766]]\n",
      "Epoch:  31 \n",
      "\n",
      "Validation \n",
      "\n",
      "Validation Loss:  1.0000218078494072\n",
      "Validation Accuracy:  0.5248041775456919\n",
      "Confusion Matrix: \n",
      " [[117 119  63]\n",
      " [ 64 178  39]\n",
      " [ 21  58 107]]\n",
      "Train \n",
      "\n"
     ]
    },
    {
     "data": {
      "application/vnd.jupyter.widget-view+json": {
       "model_id": "4b03242e94e3499bb8fe7a41f562b68b",
       "version_major": 2,
       "version_minor": 0
      },
      "text/plain": [
       "HBox(children=(FloatProgress(value=1.0, bar_style='info', max=1.0), HTML(value='')))"
      ]
     },
     "metadata": {},
     "output_type": "display_data"
    },
    {
     "name": "stdout",
     "output_type": "stream",
     "text": [
      "Batch:  40 / 84\n",
      "Batch Recognition loss:  0.6812223792076111\n",
      "Batch:  80 / 84\n",
      "Batch Recognition loss:  0.8035194277763367\n",
      "\n",
      "Average_Loss:  0.7441324925138837\n",
      "Average_Accuracy:  0.7891770011273957\n",
      "Confusion Matrix: \n",
      " [[546 182  78]\n",
      " [ 50 813  60]\n",
      " [ 50 141 741]]\n",
      "Epoch:  32 \n",
      "\n",
      "Validation \n",
      "\n",
      "Validation Loss:  1.0324652617176373\n",
      "Validation Accuracy:  0.49869451697127937\n",
      "Confusion Matrix: \n",
      " [[126 111  62]\n",
      " [ 69 161  51]\n",
      " [ 35  56  95]]\n",
      "Train \n",
      "\n"
     ]
    },
    {
     "data": {
      "application/vnd.jupyter.widget-view+json": {
       "model_id": "d3b657986792491a917840790d476b3e",
       "version_major": 2,
       "version_minor": 0
      },
      "text/plain": [
       "HBox(children=(FloatProgress(value=1.0, bar_style='info', max=1.0), HTML(value='')))"
      ]
     },
     "metadata": {},
     "output_type": "display_data"
    },
    {
     "name": "stdout",
     "output_type": "stream",
     "text": [
      "Batch:  40 / 84\n",
      "Batch Recognition loss:  0.6398575305938721\n",
      "Batch:  80 / 84\n",
      "Batch Recognition loss:  0.6555256843566895\n",
      "\n",
      "Average_Loss:  0.7424753031560353\n",
      "Average_Accuracy:  0.7884254039834648\n",
      "Confusion Matrix: \n",
      " [[541 188  77]\n",
      " [ 55 802  66]\n",
      " [ 43 134 755]]\n",
      "Epoch:  33 \n",
      "\n",
      "Validation \n",
      "\n",
      "Validation Loss:  1.0280574038624763\n",
      "Validation Accuracy:  0.4699738903394256\n",
      "Confusion Matrix: \n",
      " [[ 71 153  75]\n",
      " [ 36 201  44]\n",
      " [ 22  76  88]]\n",
      "Train \n",
      "\n"
     ]
    },
    {
     "data": {
      "application/vnd.jupyter.widget-view+json": {
       "model_id": "0ca2d4ad001a46588fcc8805490a7a96",
       "version_major": 2,
       "version_minor": 0
      },
      "text/plain": [
       "HBox(children=(FloatProgress(value=1.0, bar_style='info', max=1.0), HTML(value='')))"
      ]
     },
     "metadata": {},
     "output_type": "display_data"
    },
    {
     "name": "stdout",
     "output_type": "stream",
     "text": [
      "Batch:  40 / 84\n",
      "Batch Recognition loss:  0.7808225154876709\n",
      "Batch:  80 / 84\n",
      "Batch Recognition loss:  0.7695072293281555\n",
      "\n",
      "Average_Loss:  0.7387812556255431\n",
      "Average_Accuracy:  0.7899285982713266\n",
      "Confusion Matrix: \n",
      " [[548 182  76]\n",
      " [ 51 807  65]\n",
      " [ 40 145 747]]\n",
      "Epoch:  34 \n",
      "\n",
      "Validation \n",
      "\n",
      "Validation Loss:  1.036445530752341\n",
      "Validation Accuracy:  0.4725848563968668\n",
      "Confusion Matrix: \n",
      " [[ 61 159  79]\n",
      " [ 36 204  41]\n",
      " [ 15  74  97]]\n",
      "Train \n",
      "\n"
     ]
    },
    {
     "data": {
      "application/vnd.jupyter.widget-view+json": {
       "model_id": "7d2f3ce078c54f6fb01c24acdc9e8f8a",
       "version_major": 2,
       "version_minor": 0
      },
      "text/plain": [
       "HBox(children=(FloatProgress(value=1.0, bar_style='info', max=1.0), HTML(value='')))"
      ]
     },
     "metadata": {},
     "output_type": "display_data"
    },
    {
     "name": "stdout",
     "output_type": "stream",
     "text": [
      "Batch:  40 / 84\n",
      "Batch Recognition loss:  0.7314631342887878\n",
      "Batch:  80 / 84\n",
      "Batch Recognition loss:  0.6391487121582031\n",
      "\n",
      "Average_Loss:  0.7461438604763576\n",
      "Average_Accuracy:  0.7842916196918451\n",
      "Confusion Matrix: \n",
      " [[529 197  80]\n",
      " [ 50 809  64]\n",
      " [ 47 136 749]]\n",
      "Epoch:  35 \n",
      "\n",
      "Validation \n",
      "\n",
      "Validation Loss:  0.9977785870432854\n",
      "Validation Accuracy:  0.5248041775456919\n",
      "Confusion Matrix: \n",
      " [[107 107  85]\n",
      " [ 58 180  43]\n",
      " [ 26  45 115]]\n",
      "Train \n",
      "\n"
     ]
    },
    {
     "data": {
      "application/vnd.jupyter.widget-view+json": {
       "model_id": "e6e2de93f5cc49e68138327b34229f3f",
       "version_major": 2,
       "version_minor": 0
      },
      "text/plain": [
       "HBox(children=(FloatProgress(value=1.0, bar_style='info', max=1.0), HTML(value='')))"
      ]
     },
     "metadata": {},
     "output_type": "display_data"
    },
    {
     "name": "stdout",
     "output_type": "stream",
     "text": [
      "Batch:  40 / 84\n",
      "Batch Recognition loss:  0.7201552391052246\n",
      "Batch:  80 / 84\n",
      "Batch Recognition loss:  0.8170602321624756\n",
      "\n",
      "Average_Loss:  0.73641988776979\n",
      "Average_Accuracy:  0.7970687711386697\n",
      "Confusion Matrix: \n",
      " [[557 184  65]\n",
      " [ 38 821  64]\n",
      " [ 47 142 743]]\n",
      "Epoch:  36 \n",
      "\n",
      "Validation \n",
      "\n",
      "Validation Loss:  1.0187197973330815\n",
      "Validation Accuracy:  0.5195822454308094\n",
      "Confusion Matrix: \n",
      " [[111  92  96]\n",
      " [ 69 155  57]\n",
      " [ 34  20 132]]\n",
      "Train \n",
      "\n"
     ]
    },
    {
     "data": {
      "application/vnd.jupyter.widget-view+json": {
       "model_id": "047c5085405c4f23ac9c7e0b9fccc8e2",
       "version_major": 2,
       "version_minor": 0
      },
      "text/plain": [
       "HBox(children=(FloatProgress(value=1.0, bar_style='info', max=1.0), HTML(value='')))"
      ]
     },
     "metadata": {},
     "output_type": "display_data"
    },
    {
     "name": "stdout",
     "output_type": "stream",
     "text": [
      "Batch:  40 / 84\n",
      "Batch Recognition loss:  0.6528623104095459\n",
      "Batch:  80 / 84\n",
      "Batch Recognition loss:  0.6970171928405762\n",
      "\n",
      "Average_Loss:  0.7268188659633908\n",
      "Average_Accuracy:  0.8068395340097707\n",
      "Confusion Matrix: \n",
      " [[571 166  69]\n",
      " [ 40 820  63]\n",
      " [ 39 137 756]]\n",
      "Epoch:  37 \n",
      "\n",
      "Validation \n",
      "\n",
      "Validation Loss:  1.0138715952634811\n",
      "Validation Accuracy:  0.54177545691906\n",
      "Confusion Matrix: \n",
      " [[183  69  47]\n",
      " [104 141  36]\n",
      " [ 64  31  91]]\n",
      "Train \n",
      "\n"
     ]
    },
    {
     "data": {
      "application/vnd.jupyter.widget-view+json": {
       "model_id": "a20684c78a3b4998aba7ba1029b62ffa",
       "version_major": 2,
       "version_minor": 0
      },
      "text/plain": [
       "HBox(children=(FloatProgress(value=1.0, bar_style='info', max=1.0), HTML(value='')))"
      ]
     },
     "metadata": {},
     "output_type": "display_data"
    },
    {
     "name": "stdout",
     "output_type": "stream",
     "text": [
      "Batch:  40 / 84\n",
      "Batch Recognition loss:  0.6443488001823425\n",
      "Batch:  80 / 84\n",
      "Batch Recognition loss:  0.7579065561294556\n",
      "\n",
      "Average_Loss:  0.7271485548643839\n",
      "Average_Accuracy:  0.8038331454340474\n",
      "Confusion Matrix: \n",
      " [[561 165  80]\n",
      " [ 37 818  68]\n",
      " [ 41 131 760]]\n",
      "Epoch:  38 \n",
      "\n",
      "Validation \n",
      "\n",
      "Validation Loss:  0.9910274669528008\n",
      "Validation Accuracy:  0.5509138381201044\n",
      "Confusion Matrix: \n",
      " [[140  99  60]\n",
      " [ 73 169  39]\n",
      " [ 39  34 113]]\n",
      "Train \n",
      "\n"
     ]
    },
    {
     "data": {
      "application/vnd.jupyter.widget-view+json": {
       "model_id": "9c1d6d6cc8fb4dcc8e051db281c04406",
       "version_major": 2,
       "version_minor": 0
      },
      "text/plain": [
       "HBox(children=(FloatProgress(value=1.0, bar_style='info', max=1.0), HTML(value='')))"
      ]
     },
     "metadata": {},
     "output_type": "display_data"
    },
    {
     "name": "stdout",
     "output_type": "stream",
     "text": [
      "Batch:  40 / 84\n",
      "Batch Recognition loss:  0.7895197868347168\n",
      "Batch:  80 / 84\n",
      "Batch Recognition loss:  0.7697907090187073\n",
      "\n",
      "Average_Loss:  0.7334833790858587\n",
      "Average_Accuracy:  0.7989477639984968\n",
      "Confusion Matrix: \n",
      " [[550 169  87]\n",
      " [ 53 808  62]\n",
      " [ 37 127 768]]\n",
      "Epoch:  39 \n",
      "\n",
      "Validation \n",
      "\n",
      "Validation Loss:  1.0508493433396022\n",
      "Validation Accuracy:  0.46475195822454307\n",
      "Confusion Matrix: \n",
      " [[ 59 110 130]\n",
      " [ 40 167  74]\n",
      " [ 26  30 130]]\n",
      "Train \n",
      "\n"
     ]
    },
    {
     "data": {
      "application/vnd.jupyter.widget-view+json": {
       "model_id": "2cc0d2b6177748279673132677a51877",
       "version_major": 2,
       "version_minor": 0
      },
      "text/plain": [
       "HBox(children=(FloatProgress(value=1.0, bar_style='info', max=1.0), HTML(value='')))"
      ]
     },
     "metadata": {},
     "output_type": "display_data"
    },
    {
     "name": "stdout",
     "output_type": "stream",
     "text": [
      "Batch:  40 / 84\n",
      "Batch Recognition loss:  0.8266117572784424\n",
      "Batch:  80 / 84\n",
      "Batch Recognition loss:  0.7099444270133972\n",
      "\n",
      "Average_Loss:  0.7321850352344059\n",
      "Average_Accuracy:  0.7966929725667042\n",
      "Confusion Matrix: \n",
      " [[539 183  84]\n",
      " [ 43 826  54]\n",
      " [ 37 140 755]]\n",
      "Epoch:  40 \n",
      "\n",
      "Validation \n",
      "\n",
      "Validation Loss:  1.0321768249074619\n",
      "Validation Accuracy:  0.4908616187989556\n",
      "Confusion Matrix: \n",
      " [[ 87  91 121]\n",
      " [ 53 154  74]\n",
      " [ 23  28 135]]\n",
      "Train \n",
      "\n"
     ]
    },
    {
     "data": {
      "application/vnd.jupyter.widget-view+json": {
       "model_id": "9b4362dc3e7248f3887ca802af849b3f",
       "version_major": 2,
       "version_minor": 0
      },
      "text/plain": [
       "HBox(children=(FloatProgress(value=1.0, bar_style='info', max=1.0), HTML(value='')))"
      ]
     },
     "metadata": {},
     "output_type": "display_data"
    },
    {
     "name": "stdout",
     "output_type": "stream",
     "text": [
      "Batch:  40 / 84\n",
      "Batch Recognition loss:  0.719455897808075\n",
      "Batch:  80 / 84\n",
      "Batch Recognition loss:  0.7145404815673828\n",
      "\n",
      "Average_Loss:  0.7309763388974326\n",
      "Average_Accuracy:  0.7974445697106352\n",
      "Confusion Matrix: \n",
      " [[556 177  73]\n",
      " [ 54 819  50]\n",
      " [ 44 141 747]]\n",
      "Epoch:  41 \n",
      "\n",
      "Validation \n",
      "\n",
      "Validation Loss:  1.0349264591932297\n",
      "Validation Accuracy:  0.5065274151436031\n",
      "Confusion Matrix: \n",
      " [[154  79  66]\n",
      " [ 87 144  50]\n",
      " [ 41  55  90]]\n",
      "Train \n",
      "\n"
     ]
    },
    {
     "data": {
      "application/vnd.jupyter.widget-view+json": {
       "model_id": "78ae053ccbd64119a7b0233c67465003",
       "version_major": 2,
       "version_minor": 0
      },
      "text/plain": [
       "HBox(children=(FloatProgress(value=1.0, bar_style='info', max=1.0), HTML(value='')))"
      ]
     },
     "metadata": {},
     "output_type": "display_data"
    },
    {
     "name": "stdout",
     "output_type": "stream",
     "text": [
      "Batch:  40 / 84\n",
      "Batch Recognition loss:  0.8404581546783447\n",
      "Batch:  80 / 84\n",
      "Batch Recognition loss:  0.6602910757064819\n",
      "\n",
      "Average_Loss:  0.7267599070356006\n",
      "Average_Accuracy:  0.8079669297256671\n",
      "Confusion Matrix: \n",
      " [[562 173  71]\n",
      " [ 46 821  56]\n",
      " [ 48 117 767]]\n",
      "Epoch:  42 \n",
      "\n",
      "Validation \n",
      "\n",
      "Validation Loss:  1.0168808673818905\n",
      "Validation Accuracy:  0.52088772845953\n",
      "Confusion Matrix: \n",
      " [[110  83 106]\n",
      " [ 46 157  78]\n",
      " [ 29  25 132]]\n",
      "Train \n",
      "\n"
     ]
    },
    {
     "data": {
      "application/vnd.jupyter.widget-view+json": {
       "model_id": "0057c5f777794d569f2221256ca3015e",
       "version_major": 2,
       "version_minor": 0
      },
      "text/plain": [
       "HBox(children=(FloatProgress(value=1.0, bar_style='info', max=1.0), HTML(value='')))"
      ]
     },
     "metadata": {},
     "output_type": "display_data"
    },
    {
     "name": "stdout",
     "output_type": "stream",
     "text": [
      "Batch:  40 / 84\n",
      "Batch Recognition loss:  0.6270672082901001\n",
      "Batch:  80 / 84\n",
      "Batch Recognition loss:  0.7656920552253723\n",
      "\n",
      "Average_Loss:  0.7330234327486583\n",
      "Average_Accuracy:  0.798196166854566\n",
      "Confusion Matrix: \n",
      " [[538 196  72]\n",
      " [ 50 809  64]\n",
      " [ 40 115 777]]\n",
      "Epoch:  43 \n",
      "\n",
      "Validation \n",
      "\n",
      "Validation Loss:  1.0469973782698314\n",
      "Validation Accuracy:  0.4804177545691906\n",
      "Confusion Matrix: \n",
      " [[119 101  79]\n",
      " [ 79 170  32]\n",
      " [ 52  55  79]]\n",
      "Train \n",
      "\n"
     ]
    },
    {
     "data": {
      "application/vnd.jupyter.widget-view+json": {
       "model_id": "01e1a8c247a84e66b65254dcd44e894d",
       "version_major": 2,
       "version_minor": 0
      },
      "text/plain": [
       "HBox(children=(FloatProgress(value=1.0, bar_style='info', max=1.0), HTML(value='')))"
      ]
     },
     "metadata": {},
     "output_type": "display_data"
    },
    {
     "name": "stdout",
     "output_type": "stream",
     "text": [
      "Batch:  40 / 84\n",
      "Batch Recognition loss:  0.705325722694397\n",
      "Batch:  80 / 84\n",
      "Batch Recognition loss:  0.7511523365974426\n",
      "\n",
      "Average_Loss:  0.7326854311284565\n",
      "Average_Accuracy:  0.7951897782788425\n",
      "Confusion Matrix: \n",
      " [[564 171  71]\n",
      " [ 46 827  50]\n",
      " [ 44 163 725]]\n",
      "Epoch:  44 \n",
      "\n",
      "Validation \n",
      "\n",
      "Validation Loss:  1.0323423519730568\n",
      "Validation Accuracy:  0.4934725848563969\n",
      "Confusion Matrix: \n",
      " [[ 86 111 102]\n",
      " [ 47 178  56]\n",
      " [ 34  38 114]]\n",
      "Train \n",
      "\n"
     ]
    },
    {
     "data": {
      "application/vnd.jupyter.widget-view+json": {
       "model_id": "b01ea69743274dfa89b0e3a4ee70fa08",
       "version_major": 2,
       "version_minor": 0
      },
      "text/plain": [
       "HBox(children=(FloatProgress(value=1.0, bar_style='info', max=1.0), HTML(value='')))"
      ]
     },
     "metadata": {},
     "output_type": "display_data"
    },
    {
     "name": "stdout",
     "output_type": "stream",
     "text": [
      "Batch:  40 / 84\n",
      "Batch Recognition loss:  0.7823417782783508\n",
      "Batch:  80 / 84\n",
      "Batch Recognition loss:  0.788884162902832\n",
      "\n",
      "Average_Loss:  0.7291285679453895\n",
      "Average_Accuracy:  0.8045847425779782\n",
      "Confusion Matrix: \n",
      " [[558 181  67]\n",
      " [ 52 820  51]\n",
      " [ 40 129 763]]\n",
      "Epoch:  45 \n",
      "\n",
      "Validation \n",
      "\n",
      "Validation Loss:  1.0683585777878761\n",
      "Validation Accuracy:  0.4830287206266319\n",
      "Confusion Matrix: \n",
      " [[193  80  26]\n",
      " [134 127  20]\n",
      " [ 96  40  50]]\n",
      "Train \n",
      "\n"
     ]
    },
    {
     "data": {
      "application/vnd.jupyter.widget-view+json": {
       "model_id": "9d0271151d944b359c7ca103b9078a2d",
       "version_major": 2,
       "version_minor": 0
      },
      "text/plain": [
       "HBox(children=(FloatProgress(value=1.0, bar_style='info', max=1.0), HTML(value='')))"
      ]
     },
     "metadata": {},
     "output_type": "display_data"
    },
    {
     "name": "stdout",
     "output_type": "stream",
     "text": [
      "Batch:  40 / 84\n",
      "Batch Recognition loss:  0.6977657675743103\n",
      "Batch:  80 / 84\n",
      "Batch Recognition loss:  0.7042420506477356\n",
      "\n",
      "Average_Loss:  0.7333018907478878\n",
      "Average_Accuracy:  0.8019541525742202\n",
      "Confusion Matrix: \n",
      " [[577 159  70]\n",
      " [ 58 808  57]\n",
      " [ 57 126 749]]\n",
      "Epoch:  46 \n",
      "\n",
      "Validation \n",
      "\n",
      "Validation Loss:  1.0459173992276192\n",
      "Validation Accuracy:  0.49477806788511747\n",
      "Confusion Matrix: \n",
      " [[144 100  55]\n",
      " [ 98 140  43]\n",
      " [ 50  41  95]]\n",
      "Train \n",
      "\n"
     ]
    },
    {
     "data": {
      "application/vnd.jupyter.widget-view+json": {
       "model_id": "2ba8a34d9acb4598a299362524dcc82c",
       "version_major": 2,
       "version_minor": 0
      },
      "text/plain": [
       "HBox(children=(FloatProgress(value=1.0, bar_style='info', max=1.0), HTML(value='')))"
      ]
     },
     "metadata": {},
     "output_type": "display_data"
    },
    {
     "name": "stdout",
     "output_type": "stream",
     "text": [
      "Batch:  40 / 84\n",
      "Batch Recognition loss:  0.6563746333122253\n",
      "Batch:  80 / 84\n",
      "Batch Recognition loss:  0.7597068548202515\n",
      "\n",
      "Average_Loss:  0.7299504358144033\n",
      "Average_Accuracy:  0.7996993611424277\n",
      "Confusion Matrix: \n",
      " [[561 175  70]\n",
      " [ 53 820  50]\n",
      " [ 34 151 747]]\n",
      "Epoch:  47 \n",
      "\n",
      "Validation \n",
      "\n",
      "Validation Loss:  1.026978721221288\n",
      "Validation Accuracy:  0.5234986945169713\n",
      "Confusion Matrix: \n",
      " [[150  76  73]\n",
      " [ 88 143  50]\n",
      " [ 50  28 108]]\n",
      "Train \n",
      "\n"
     ]
    },
    {
     "data": {
      "application/vnd.jupyter.widget-view+json": {
       "model_id": "9ab2ac3de6c4409e9a8da71afcca9779",
       "version_major": 2,
       "version_minor": 0
      },
      "text/plain": [
       "HBox(children=(FloatProgress(value=1.0, bar_style='info', max=1.0), HTML(value='')))"
      ]
     },
     "metadata": {},
     "output_type": "display_data"
    },
    {
     "name": "stdout",
     "output_type": "stream",
     "text": [
      "Batch:  40 / 84\n",
      "Batch Recognition loss:  0.7041772603988647\n",
      "Batch:  80 / 84\n",
      "Batch Recognition loss:  0.7278287410736084\n",
      "\n",
      "Average_Loss:  0.7508907743862697\n",
      "Average_Accuracy:  0.7820368282600526\n",
      "Confusion Matrix: \n",
      " [[539 193  74]\n",
      " [ 70 798  55]\n",
      " [ 60 128 744]]\n",
      "Epoch:  48 \n",
      "\n",
      "Validation \n",
      "\n",
      "Validation Loss:  1.0514092420538266\n",
      "Validation Accuracy:  0.46736292428198434\n",
      "Confusion Matrix: \n",
      " [[ 86 116  97]\n",
      " [ 43 161  77]\n",
      " [ 27  48 111]]\n",
      "Train \n",
      "\n"
     ]
    },
    {
     "data": {
      "application/vnd.jupyter.widget-view+json": {
       "model_id": "b88df2b38d9c4f2f876ad869fb354498",
       "version_major": 2,
       "version_minor": 0
      },
      "text/plain": [
       "HBox(children=(FloatProgress(value=1.0, bar_style='info', max=1.0), HTML(value='')))"
      ]
     },
     "metadata": {},
     "output_type": "display_data"
    },
    {
     "name": "stdout",
     "output_type": "stream",
     "text": [
      "Batch:  40 / 84\n",
      "Batch Recognition loss:  0.7148075103759766\n",
      "Batch:  80 / 84\n",
      "Batch Recognition loss:  0.7559669017791748\n",
      "\n",
      "Average_Loss:  0.7314229025727227\n",
      "Average_Accuracy:  0.7978203682826005\n",
      "Confusion Matrix: \n",
      " [[534 188  84]\n",
      " [ 44 818  61]\n",
      " [ 39 122 771]]\n",
      "Epoch:  49 \n",
      "\n",
      "Validation \n",
      "\n",
      "Validation Loss:  1.0628923624753952\n",
      "Validation Accuracy:  0.45691906005221933\n",
      "Confusion Matrix: \n",
      " [[115 116  68]\n",
      " [ 78 165  38]\n",
      " [ 52  64  70]]\n",
      "Train \n",
      "\n"
     ]
    },
    {
     "data": {
      "application/vnd.jupyter.widget-view+json": {
       "model_id": "bf63f30c1c6b46639bbb6edac6a18d8d",
       "version_major": 2,
       "version_minor": 0
      },
      "text/plain": [
       "HBox(children=(FloatProgress(value=1.0, bar_style='info', max=1.0), HTML(value='')))"
      ]
     },
     "metadata": {},
     "output_type": "display_data"
    },
    {
     "name": "stdout",
     "output_type": "stream",
     "text": [
      "Batch:  40 / 84\n",
      "Batch Recognition loss:  0.842606246471405\n",
      "Batch:  80 / 84\n",
      "Batch Recognition loss:  0.6719943284988403\n",
      "\n",
      "Average_Loss:  0.732770534498351\n",
      "Average_Accuracy:  0.7974445697106352\n",
      "Confusion Matrix: \n",
      " [[558 182  66]\n",
      " [ 52 821  50]\n",
      " [ 48 141 743]]\n",
      "Epoch:  50 \n",
      "\n",
      "Validation \n",
      "\n",
      "Validation Loss:  1.0283719102541606\n",
      "Validation Accuracy:  0.47780678851174935\n",
      "Confusion Matrix: \n",
      " [[ 64 146  89]\n",
      " [ 29 197  55]\n",
      " [ 28  53 105]]\n",
      "Train \n",
      "\n"
     ]
    },
    {
     "data": {
      "application/vnd.jupyter.widget-view+json": {
       "model_id": "8a586fd69e5a4cc8ba8dba1dc1c3b782",
       "version_major": 2,
       "version_minor": 0
      },
      "text/plain": [
       "HBox(children=(FloatProgress(value=1.0, bar_style='info', max=1.0), HTML(value='')))"
      ]
     },
     "metadata": {},
     "output_type": "display_data"
    },
    {
     "name": "stdout",
     "output_type": "stream",
     "text": [
      "Batch:  40 / 84\n",
      "Batch Recognition loss:  0.6450212597846985\n",
      "Batch:  80 / 84\n",
      "Batch Recognition loss:  0.7017750144004822\n",
      "\n",
      "Average_Loss:  0.7332355883859453\n",
      "Average_Accuracy:  0.8023299511461857\n",
      "Confusion Matrix: \n",
      " [[565 163  78]\n",
      " [ 54 812  57]\n",
      " [ 44 130 758]]\n"
     ]
    }
   ],
   "source": [
    "\n",
    "optimizer = torch.optim.Adam(filter(lambda p: p.requires_grad, model.parameters()), lr=0.0005, betas=(0.5, 0.999))\n",
    "\n",
    "\n",
    "model_name=\"v7\"\n",
    "\n",
    "print(model_name)\n",
    "\n",
    "methods.full_train(\"v7_model\",num_epochs,model_name,model,train_dataloader,valid_dataloader,optimizer,criterion,device)\n"
   ]
  },
  {
   "cell_type": "code",
   "execution_count": null,
   "metadata": {},
   "outputs": [],
   "source": []
  },
  {
   "cell_type": "code",
   "execution_count": null,
   "metadata": {},
   "outputs": [],
   "source": []
  }
 ],
 "metadata": {
  "kernelspec": {
   "display_name": "Python 3",
   "language": "python",
   "name": "python3"
  },
  "language_info": {
   "codemirror_mode": {
    "name": "ipython",
    "version": 3
   },
   "file_extension": ".py",
   "mimetype": "text/x-python",
   "name": "python",
   "nbconvert_exporter": "python",
   "pygments_lexer": "ipython3",
   "version": "3.7.5"
  }
 },
 "nbformat": 4,
 "nbformat_minor": 4
}
